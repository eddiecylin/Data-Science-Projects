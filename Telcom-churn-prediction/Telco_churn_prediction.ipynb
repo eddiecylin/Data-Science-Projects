{
  "nbformat": 4,
  "nbformat_minor": 0,
  "metadata": {
    "kernelspec": {
      "display_name": "conda_python3",
      "language": "python",
      "name": "conda_python3"
    },
    "language_info": {
      "codemirror_mode": {
        "name": "ipython",
        "version": 3
      },
      "file_extension": ".py",
      "mimetype": "text/x-python",
      "name": "python",
      "nbconvert_exporter": "python",
      "pygments_lexer": "ipython3",
      "version": "3.6.5"
    },
    "colab": {
      "name": "Telco-churn-prediction.ipynb",
      "provenance": [],
      "collapsed_sections": [
        "txTbLZKVvHiF"
      ]
    },
    "accelerator": "GPU"
  },
  "cells": [
    {
      "cell_type": "markdown",
      "metadata": {
        "id": "0nTy2jscvHbE",
        "colab_type": "text"
      },
      "source": [
        "## 1. Set up the basics"
      ]
    },
    {
      "cell_type": "code",
      "metadata": {
        "id": "IP1O1Ly_vHbM",
        "colab_type": "code",
        "colab": {}
      },
      "source": [
        "# import libraries\n",
        "\n",
        "import pandas as pd\n",
        "import numpy as np\n",
        "import seaborn as sns\n",
        "import matplotlib.pyplot as plt\n",
        "import io\n",
        "import os\n",
        "import sys\n",
        "import time\n",
        "import json\n",
        "from IPython.display import display\n",
        "from time import strftime, gmtime\n",
        "from sklearn.model_selection import train_test_split"
      ],
      "execution_count": 0,
      "outputs": []
    },
    {
      "cell_type": "markdown",
      "metadata": {
        "id": "ny2eO7YovHbV",
        "colab_type": "text"
      },
      "source": [
        "## 2. Import data "
      ]
    },
    {
      "cell_type": "code",
      "metadata": {
        "id": "BIo71DCuvHbX",
        "colab_type": "code",
        "outputId": "f5d13a31-0214-40ad-c9d1-c8f2f738ddcd",
        "colab": {
          "base_uri": "https://localhost:8080/",
          "height": 1000
        }
      },
      "source": [
        "df = pd.read_csv('Telco-Customer-Churn.csv')\n",
        "pd.set_option('display.max_columns', 100)\n",
        "df # 7043 row x 21 columns"
      ],
      "execution_count": 0,
      "outputs": [
        {
          "output_type": "execute_result",
          "data": {
            "text/html": [
              "<div>\n",
              "<style scoped>\n",
              "    .dataframe tbody tr th:only-of-type {\n",
              "        vertical-align: middle;\n",
              "    }\n",
              "\n",
              "    .dataframe tbody tr th {\n",
              "        vertical-align: top;\n",
              "    }\n",
              "\n",
              "    .dataframe thead th {\n",
              "        text-align: right;\n",
              "    }\n",
              "</style>\n",
              "<table border=\"1\" class=\"dataframe\">\n",
              "  <thead>\n",
              "    <tr style=\"text-align: right;\">\n",
              "      <th></th>\n",
              "      <th>customerID</th>\n",
              "      <th>gender</th>\n",
              "      <th>SeniorCitizen</th>\n",
              "      <th>Partner</th>\n",
              "      <th>Dependents</th>\n",
              "      <th>tenure</th>\n",
              "      <th>PhoneService</th>\n",
              "      <th>MultipleLines</th>\n",
              "      <th>InternetService</th>\n",
              "      <th>OnlineSecurity</th>\n",
              "      <th>OnlineBackup</th>\n",
              "      <th>DeviceProtection</th>\n",
              "      <th>TechSupport</th>\n",
              "      <th>StreamingTV</th>\n",
              "      <th>StreamingMovies</th>\n",
              "      <th>Contract</th>\n",
              "      <th>PaperlessBilling</th>\n",
              "      <th>PaymentMethod</th>\n",
              "      <th>MonthlyCharges</th>\n",
              "      <th>TotalCharges</th>\n",
              "      <th>Churn</th>\n",
              "    </tr>\n",
              "  </thead>\n",
              "  <tbody>\n",
              "    <tr>\n",
              "      <th>0</th>\n",
              "      <td>7590-VHVEG</td>\n",
              "      <td>Female</td>\n",
              "      <td>0</td>\n",
              "      <td>Yes</td>\n",
              "      <td>No</td>\n",
              "      <td>1</td>\n",
              "      <td>No</td>\n",
              "      <td>No phone service</td>\n",
              "      <td>DSL</td>\n",
              "      <td>No</td>\n",
              "      <td>Yes</td>\n",
              "      <td>No</td>\n",
              "      <td>No</td>\n",
              "      <td>No</td>\n",
              "      <td>No</td>\n",
              "      <td>Month-to-month</td>\n",
              "      <td>Yes</td>\n",
              "      <td>Electronic check</td>\n",
              "      <td>29.85</td>\n",
              "      <td>29.85</td>\n",
              "      <td>No</td>\n",
              "    </tr>\n",
              "    <tr>\n",
              "      <th>1</th>\n",
              "      <td>5575-GNVDE</td>\n",
              "      <td>Male</td>\n",
              "      <td>0</td>\n",
              "      <td>No</td>\n",
              "      <td>No</td>\n",
              "      <td>34</td>\n",
              "      <td>Yes</td>\n",
              "      <td>No</td>\n",
              "      <td>DSL</td>\n",
              "      <td>Yes</td>\n",
              "      <td>No</td>\n",
              "      <td>Yes</td>\n",
              "      <td>No</td>\n",
              "      <td>No</td>\n",
              "      <td>No</td>\n",
              "      <td>One year</td>\n",
              "      <td>No</td>\n",
              "      <td>Mailed check</td>\n",
              "      <td>56.95</td>\n",
              "      <td>1889.5</td>\n",
              "      <td>No</td>\n",
              "    </tr>\n",
              "    <tr>\n",
              "      <th>2</th>\n",
              "      <td>3668-QPYBK</td>\n",
              "      <td>Male</td>\n",
              "      <td>0</td>\n",
              "      <td>No</td>\n",
              "      <td>No</td>\n",
              "      <td>2</td>\n",
              "      <td>Yes</td>\n",
              "      <td>No</td>\n",
              "      <td>DSL</td>\n",
              "      <td>Yes</td>\n",
              "      <td>Yes</td>\n",
              "      <td>No</td>\n",
              "      <td>No</td>\n",
              "      <td>No</td>\n",
              "      <td>No</td>\n",
              "      <td>Month-to-month</td>\n",
              "      <td>Yes</td>\n",
              "      <td>Mailed check</td>\n",
              "      <td>53.85</td>\n",
              "      <td>108.15</td>\n",
              "      <td>Yes</td>\n",
              "    </tr>\n",
              "    <tr>\n",
              "      <th>3</th>\n",
              "      <td>7795-CFOCW</td>\n",
              "      <td>Male</td>\n",
              "      <td>0</td>\n",
              "      <td>No</td>\n",
              "      <td>No</td>\n",
              "      <td>45</td>\n",
              "      <td>No</td>\n",
              "      <td>No phone service</td>\n",
              "      <td>DSL</td>\n",
              "      <td>Yes</td>\n",
              "      <td>No</td>\n",
              "      <td>Yes</td>\n",
              "      <td>Yes</td>\n",
              "      <td>No</td>\n",
              "      <td>No</td>\n",
              "      <td>One year</td>\n",
              "      <td>No</td>\n",
              "      <td>Bank transfer (automatic)</td>\n",
              "      <td>42.30</td>\n",
              "      <td>1840.75</td>\n",
              "      <td>No</td>\n",
              "    </tr>\n",
              "    <tr>\n",
              "      <th>4</th>\n",
              "      <td>9237-HQITU</td>\n",
              "      <td>Female</td>\n",
              "      <td>0</td>\n",
              "      <td>No</td>\n",
              "      <td>No</td>\n",
              "      <td>2</td>\n",
              "      <td>Yes</td>\n",
              "      <td>No</td>\n",
              "      <td>Fiber optic</td>\n",
              "      <td>No</td>\n",
              "      <td>No</td>\n",
              "      <td>No</td>\n",
              "      <td>No</td>\n",
              "      <td>No</td>\n",
              "      <td>No</td>\n",
              "      <td>Month-to-month</td>\n",
              "      <td>Yes</td>\n",
              "      <td>Electronic check</td>\n",
              "      <td>70.70</td>\n",
              "      <td>151.65</td>\n",
              "      <td>Yes</td>\n",
              "    </tr>\n",
              "    <tr>\n",
              "      <th>5</th>\n",
              "      <td>9305-CDSKC</td>\n",
              "      <td>Female</td>\n",
              "      <td>0</td>\n",
              "      <td>No</td>\n",
              "      <td>No</td>\n",
              "      <td>8</td>\n",
              "      <td>Yes</td>\n",
              "      <td>Yes</td>\n",
              "      <td>Fiber optic</td>\n",
              "      <td>No</td>\n",
              "      <td>No</td>\n",
              "      <td>Yes</td>\n",
              "      <td>No</td>\n",
              "      <td>Yes</td>\n",
              "      <td>Yes</td>\n",
              "      <td>Month-to-month</td>\n",
              "      <td>Yes</td>\n",
              "      <td>Electronic check</td>\n",
              "      <td>99.65</td>\n",
              "      <td>820.5</td>\n",
              "      <td>Yes</td>\n",
              "    </tr>\n",
              "    <tr>\n",
              "      <th>6</th>\n",
              "      <td>1452-KIOVK</td>\n",
              "      <td>Male</td>\n",
              "      <td>0</td>\n",
              "      <td>No</td>\n",
              "      <td>Yes</td>\n",
              "      <td>22</td>\n",
              "      <td>Yes</td>\n",
              "      <td>Yes</td>\n",
              "      <td>Fiber optic</td>\n",
              "      <td>No</td>\n",
              "      <td>Yes</td>\n",
              "      <td>No</td>\n",
              "      <td>No</td>\n",
              "      <td>Yes</td>\n",
              "      <td>No</td>\n",
              "      <td>Month-to-month</td>\n",
              "      <td>Yes</td>\n",
              "      <td>Credit card (automatic)</td>\n",
              "      <td>89.10</td>\n",
              "      <td>1949.4</td>\n",
              "      <td>No</td>\n",
              "    </tr>\n",
              "    <tr>\n",
              "      <th>7</th>\n",
              "      <td>6713-OKOMC</td>\n",
              "      <td>Female</td>\n",
              "      <td>0</td>\n",
              "      <td>No</td>\n",
              "      <td>No</td>\n",
              "      <td>10</td>\n",
              "      <td>No</td>\n",
              "      <td>No phone service</td>\n",
              "      <td>DSL</td>\n",
              "      <td>Yes</td>\n",
              "      <td>No</td>\n",
              "      <td>No</td>\n",
              "      <td>No</td>\n",
              "      <td>No</td>\n",
              "      <td>No</td>\n",
              "      <td>Month-to-month</td>\n",
              "      <td>No</td>\n",
              "      <td>Mailed check</td>\n",
              "      <td>29.75</td>\n",
              "      <td>301.9</td>\n",
              "      <td>No</td>\n",
              "    </tr>\n",
              "    <tr>\n",
              "      <th>8</th>\n",
              "      <td>7892-POOKP</td>\n",
              "      <td>Female</td>\n",
              "      <td>0</td>\n",
              "      <td>Yes</td>\n",
              "      <td>No</td>\n",
              "      <td>28</td>\n",
              "      <td>Yes</td>\n",
              "      <td>Yes</td>\n",
              "      <td>Fiber optic</td>\n",
              "      <td>No</td>\n",
              "      <td>No</td>\n",
              "      <td>Yes</td>\n",
              "      <td>Yes</td>\n",
              "      <td>Yes</td>\n",
              "      <td>Yes</td>\n",
              "      <td>Month-to-month</td>\n",
              "      <td>Yes</td>\n",
              "      <td>Electronic check</td>\n",
              "      <td>104.80</td>\n",
              "      <td>3046.05</td>\n",
              "      <td>Yes</td>\n",
              "    </tr>\n",
              "    <tr>\n",
              "      <th>9</th>\n",
              "      <td>6388-TABGU</td>\n",
              "      <td>Male</td>\n",
              "      <td>0</td>\n",
              "      <td>No</td>\n",
              "      <td>Yes</td>\n",
              "      <td>62</td>\n",
              "      <td>Yes</td>\n",
              "      <td>No</td>\n",
              "      <td>DSL</td>\n",
              "      <td>Yes</td>\n",
              "      <td>Yes</td>\n",
              "      <td>No</td>\n",
              "      <td>No</td>\n",
              "      <td>No</td>\n",
              "      <td>No</td>\n",
              "      <td>One year</td>\n",
              "      <td>No</td>\n",
              "      <td>Bank transfer (automatic)</td>\n",
              "      <td>56.15</td>\n",
              "      <td>3487.95</td>\n",
              "      <td>No</td>\n",
              "    </tr>\n",
              "    <tr>\n",
              "      <th>10</th>\n",
              "      <td>9763-GRSKD</td>\n",
              "      <td>Male</td>\n",
              "      <td>0</td>\n",
              "      <td>Yes</td>\n",
              "      <td>Yes</td>\n",
              "      <td>13</td>\n",
              "      <td>Yes</td>\n",
              "      <td>No</td>\n",
              "      <td>DSL</td>\n",
              "      <td>Yes</td>\n",
              "      <td>No</td>\n",
              "      <td>No</td>\n",
              "      <td>No</td>\n",
              "      <td>No</td>\n",
              "      <td>No</td>\n",
              "      <td>Month-to-month</td>\n",
              "      <td>Yes</td>\n",
              "      <td>Mailed check</td>\n",
              "      <td>49.95</td>\n",
              "      <td>587.45</td>\n",
              "      <td>No</td>\n",
              "    </tr>\n",
              "    <tr>\n",
              "      <th>11</th>\n",
              "      <td>7469-LKBCI</td>\n",
              "      <td>Male</td>\n",
              "      <td>0</td>\n",
              "      <td>No</td>\n",
              "      <td>No</td>\n",
              "      <td>16</td>\n",
              "      <td>Yes</td>\n",
              "      <td>No</td>\n",
              "      <td>No</td>\n",
              "      <td>No internet service</td>\n",
              "      <td>No internet service</td>\n",
              "      <td>No internet service</td>\n",
              "      <td>No internet service</td>\n",
              "      <td>No internet service</td>\n",
              "      <td>No internet service</td>\n",
              "      <td>Two year</td>\n",
              "      <td>No</td>\n",
              "      <td>Credit card (automatic)</td>\n",
              "      <td>18.95</td>\n",
              "      <td>326.8</td>\n",
              "      <td>No</td>\n",
              "    </tr>\n",
              "    <tr>\n",
              "      <th>12</th>\n",
              "      <td>8091-TTVAX</td>\n",
              "      <td>Male</td>\n",
              "      <td>0</td>\n",
              "      <td>Yes</td>\n",
              "      <td>No</td>\n",
              "      <td>58</td>\n",
              "      <td>Yes</td>\n",
              "      <td>Yes</td>\n",
              "      <td>Fiber optic</td>\n",
              "      <td>No</td>\n",
              "      <td>No</td>\n",
              "      <td>Yes</td>\n",
              "      <td>No</td>\n",
              "      <td>Yes</td>\n",
              "      <td>Yes</td>\n",
              "      <td>One year</td>\n",
              "      <td>No</td>\n",
              "      <td>Credit card (automatic)</td>\n",
              "      <td>100.35</td>\n",
              "      <td>5681.1</td>\n",
              "      <td>No</td>\n",
              "    </tr>\n",
              "    <tr>\n",
              "      <th>13</th>\n",
              "      <td>0280-XJGEX</td>\n",
              "      <td>Male</td>\n",
              "      <td>0</td>\n",
              "      <td>No</td>\n",
              "      <td>No</td>\n",
              "      <td>49</td>\n",
              "      <td>Yes</td>\n",
              "      <td>Yes</td>\n",
              "      <td>Fiber optic</td>\n",
              "      <td>No</td>\n",
              "      <td>Yes</td>\n",
              "      <td>Yes</td>\n",
              "      <td>No</td>\n",
              "      <td>Yes</td>\n",
              "      <td>Yes</td>\n",
              "      <td>Month-to-month</td>\n",
              "      <td>Yes</td>\n",
              "      <td>Bank transfer (automatic)</td>\n",
              "      <td>103.70</td>\n",
              "      <td>5036.3</td>\n",
              "      <td>Yes</td>\n",
              "    </tr>\n",
              "    <tr>\n",
              "      <th>14</th>\n",
              "      <td>5129-JLPIS</td>\n",
              "      <td>Male</td>\n",
              "      <td>0</td>\n",
              "      <td>No</td>\n",
              "      <td>No</td>\n",
              "      <td>25</td>\n",
              "      <td>Yes</td>\n",
              "      <td>No</td>\n",
              "      <td>Fiber optic</td>\n",
              "      <td>Yes</td>\n",
              "      <td>No</td>\n",
              "      <td>Yes</td>\n",
              "      <td>Yes</td>\n",
              "      <td>Yes</td>\n",
              "      <td>Yes</td>\n",
              "      <td>Month-to-month</td>\n",
              "      <td>Yes</td>\n",
              "      <td>Electronic check</td>\n",
              "      <td>105.50</td>\n",
              "      <td>2686.05</td>\n",
              "      <td>No</td>\n",
              "    </tr>\n",
              "    <tr>\n",
              "      <th>15</th>\n",
              "      <td>3655-SNQYZ</td>\n",
              "      <td>Female</td>\n",
              "      <td>0</td>\n",
              "      <td>Yes</td>\n",
              "      <td>Yes</td>\n",
              "      <td>69</td>\n",
              "      <td>Yes</td>\n",
              "      <td>Yes</td>\n",
              "      <td>Fiber optic</td>\n",
              "      <td>Yes</td>\n",
              "      <td>Yes</td>\n",
              "      <td>Yes</td>\n",
              "      <td>Yes</td>\n",
              "      <td>Yes</td>\n",
              "      <td>Yes</td>\n",
              "      <td>Two year</td>\n",
              "      <td>No</td>\n",
              "      <td>Credit card (automatic)</td>\n",
              "      <td>113.25</td>\n",
              "      <td>7895.15</td>\n",
              "      <td>No</td>\n",
              "    </tr>\n",
              "    <tr>\n",
              "      <th>16</th>\n",
              "      <td>8191-XWSZG</td>\n",
              "      <td>Female</td>\n",
              "      <td>0</td>\n",
              "      <td>No</td>\n",
              "      <td>No</td>\n",
              "      <td>52</td>\n",
              "      <td>Yes</td>\n",
              "      <td>No</td>\n",
              "      <td>No</td>\n",
              "      <td>No internet service</td>\n",
              "      <td>No internet service</td>\n",
              "      <td>No internet service</td>\n",
              "      <td>No internet service</td>\n",
              "      <td>No internet service</td>\n",
              "      <td>No internet service</td>\n",
              "      <td>One year</td>\n",
              "      <td>No</td>\n",
              "      <td>Mailed check</td>\n",
              "      <td>20.65</td>\n",
              "      <td>1022.95</td>\n",
              "      <td>No</td>\n",
              "    </tr>\n",
              "    <tr>\n",
              "      <th>17</th>\n",
              "      <td>9959-WOFKT</td>\n",
              "      <td>Male</td>\n",
              "      <td>0</td>\n",
              "      <td>No</td>\n",
              "      <td>Yes</td>\n",
              "      <td>71</td>\n",
              "      <td>Yes</td>\n",
              "      <td>Yes</td>\n",
              "      <td>Fiber optic</td>\n",
              "      <td>Yes</td>\n",
              "      <td>No</td>\n",
              "      <td>Yes</td>\n",
              "      <td>No</td>\n",
              "      <td>Yes</td>\n",
              "      <td>Yes</td>\n",
              "      <td>Two year</td>\n",
              "      <td>No</td>\n",
              "      <td>Bank transfer (automatic)</td>\n",
              "      <td>106.70</td>\n",
              "      <td>7382.25</td>\n",
              "      <td>No</td>\n",
              "    </tr>\n",
              "    <tr>\n",
              "      <th>18</th>\n",
              "      <td>4190-MFLUW</td>\n",
              "      <td>Female</td>\n",
              "      <td>0</td>\n",
              "      <td>Yes</td>\n",
              "      <td>Yes</td>\n",
              "      <td>10</td>\n",
              "      <td>Yes</td>\n",
              "      <td>No</td>\n",
              "      <td>DSL</td>\n",
              "      <td>No</td>\n",
              "      <td>No</td>\n",
              "      <td>Yes</td>\n",
              "      <td>Yes</td>\n",
              "      <td>No</td>\n",
              "      <td>No</td>\n",
              "      <td>Month-to-month</td>\n",
              "      <td>No</td>\n",
              "      <td>Credit card (automatic)</td>\n",
              "      <td>55.20</td>\n",
              "      <td>528.35</td>\n",
              "      <td>Yes</td>\n",
              "    </tr>\n",
              "    <tr>\n",
              "      <th>19</th>\n",
              "      <td>4183-MYFRB</td>\n",
              "      <td>Female</td>\n",
              "      <td>0</td>\n",
              "      <td>No</td>\n",
              "      <td>No</td>\n",
              "      <td>21</td>\n",
              "      <td>Yes</td>\n",
              "      <td>No</td>\n",
              "      <td>Fiber optic</td>\n",
              "      <td>No</td>\n",
              "      <td>Yes</td>\n",
              "      <td>Yes</td>\n",
              "      <td>No</td>\n",
              "      <td>No</td>\n",
              "      <td>Yes</td>\n",
              "      <td>Month-to-month</td>\n",
              "      <td>Yes</td>\n",
              "      <td>Electronic check</td>\n",
              "      <td>90.05</td>\n",
              "      <td>1862.9</td>\n",
              "      <td>No</td>\n",
              "    </tr>\n",
              "    <tr>\n",
              "      <th>20</th>\n",
              "      <td>8779-QRDMV</td>\n",
              "      <td>Male</td>\n",
              "      <td>1</td>\n",
              "      <td>No</td>\n",
              "      <td>No</td>\n",
              "      <td>1</td>\n",
              "      <td>No</td>\n",
              "      <td>No phone service</td>\n",
              "      <td>DSL</td>\n",
              "      <td>No</td>\n",
              "      <td>No</td>\n",
              "      <td>Yes</td>\n",
              "      <td>No</td>\n",
              "      <td>No</td>\n",
              "      <td>Yes</td>\n",
              "      <td>Month-to-month</td>\n",
              "      <td>Yes</td>\n",
              "      <td>Electronic check</td>\n",
              "      <td>39.65</td>\n",
              "      <td>39.65</td>\n",
              "      <td>Yes</td>\n",
              "    </tr>\n",
              "    <tr>\n",
              "      <th>21</th>\n",
              "      <td>1680-VDCWW</td>\n",
              "      <td>Male</td>\n",
              "      <td>0</td>\n",
              "      <td>Yes</td>\n",
              "      <td>No</td>\n",
              "      <td>12</td>\n",
              "      <td>Yes</td>\n",
              "      <td>No</td>\n",
              "      <td>No</td>\n",
              "      <td>No internet service</td>\n",
              "      <td>No internet service</td>\n",
              "      <td>No internet service</td>\n",
              "      <td>No internet service</td>\n",
              "      <td>No internet service</td>\n",
              "      <td>No internet service</td>\n",
              "      <td>One year</td>\n",
              "      <td>No</td>\n",
              "      <td>Bank transfer (automatic)</td>\n",
              "      <td>19.80</td>\n",
              "      <td>202.25</td>\n",
              "      <td>No</td>\n",
              "    </tr>\n",
              "    <tr>\n",
              "      <th>22</th>\n",
              "      <td>1066-JKSGK</td>\n",
              "      <td>Male</td>\n",
              "      <td>0</td>\n",
              "      <td>No</td>\n",
              "      <td>No</td>\n",
              "      <td>1</td>\n",
              "      <td>Yes</td>\n",
              "      <td>No</td>\n",
              "      <td>No</td>\n",
              "      <td>No internet service</td>\n",
              "      <td>No internet service</td>\n",
              "      <td>No internet service</td>\n",
              "      <td>No internet service</td>\n",
              "      <td>No internet service</td>\n",
              "      <td>No internet service</td>\n",
              "      <td>Month-to-month</td>\n",
              "      <td>No</td>\n",
              "      <td>Mailed check</td>\n",
              "      <td>20.15</td>\n",
              "      <td>20.15</td>\n",
              "      <td>Yes</td>\n",
              "    </tr>\n",
              "    <tr>\n",
              "      <th>23</th>\n",
              "      <td>3638-WEABW</td>\n",
              "      <td>Female</td>\n",
              "      <td>0</td>\n",
              "      <td>Yes</td>\n",
              "      <td>No</td>\n",
              "      <td>58</td>\n",
              "      <td>Yes</td>\n",
              "      <td>Yes</td>\n",
              "      <td>DSL</td>\n",
              "      <td>No</td>\n",
              "      <td>Yes</td>\n",
              "      <td>No</td>\n",
              "      <td>Yes</td>\n",
              "      <td>No</td>\n",
              "      <td>No</td>\n",
              "      <td>Two year</td>\n",
              "      <td>Yes</td>\n",
              "      <td>Credit card (automatic)</td>\n",
              "      <td>59.90</td>\n",
              "      <td>3505.1</td>\n",
              "      <td>No</td>\n",
              "    </tr>\n",
              "    <tr>\n",
              "      <th>24</th>\n",
              "      <td>6322-HRPFA</td>\n",
              "      <td>Male</td>\n",
              "      <td>0</td>\n",
              "      <td>Yes</td>\n",
              "      <td>Yes</td>\n",
              "      <td>49</td>\n",
              "      <td>Yes</td>\n",
              "      <td>No</td>\n",
              "      <td>DSL</td>\n",
              "      <td>Yes</td>\n",
              "      <td>Yes</td>\n",
              "      <td>No</td>\n",
              "      <td>Yes</td>\n",
              "      <td>No</td>\n",
              "      <td>No</td>\n",
              "      <td>Month-to-month</td>\n",
              "      <td>No</td>\n",
              "      <td>Credit card (automatic)</td>\n",
              "      <td>59.60</td>\n",
              "      <td>2970.3</td>\n",
              "      <td>No</td>\n",
              "    </tr>\n",
              "    <tr>\n",
              "      <th>25</th>\n",
              "      <td>6865-JZNKO</td>\n",
              "      <td>Female</td>\n",
              "      <td>0</td>\n",
              "      <td>No</td>\n",
              "      <td>No</td>\n",
              "      <td>30</td>\n",
              "      <td>Yes</td>\n",
              "      <td>No</td>\n",
              "      <td>DSL</td>\n",
              "      <td>Yes</td>\n",
              "      <td>Yes</td>\n",
              "      <td>No</td>\n",
              "      <td>No</td>\n",
              "      <td>No</td>\n",
              "      <td>No</td>\n",
              "      <td>Month-to-month</td>\n",
              "      <td>Yes</td>\n",
              "      <td>Bank transfer (automatic)</td>\n",
              "      <td>55.30</td>\n",
              "      <td>1530.6</td>\n",
              "      <td>No</td>\n",
              "    </tr>\n",
              "    <tr>\n",
              "      <th>26</th>\n",
              "      <td>6467-CHFZW</td>\n",
              "      <td>Male</td>\n",
              "      <td>0</td>\n",
              "      <td>Yes</td>\n",
              "      <td>Yes</td>\n",
              "      <td>47</td>\n",
              "      <td>Yes</td>\n",
              "      <td>Yes</td>\n",
              "      <td>Fiber optic</td>\n",
              "      <td>No</td>\n",
              "      <td>Yes</td>\n",
              "      <td>No</td>\n",
              "      <td>No</td>\n",
              "      <td>Yes</td>\n",
              "      <td>Yes</td>\n",
              "      <td>Month-to-month</td>\n",
              "      <td>Yes</td>\n",
              "      <td>Electronic check</td>\n",
              "      <td>99.35</td>\n",
              "      <td>4749.15</td>\n",
              "      <td>Yes</td>\n",
              "    </tr>\n",
              "    <tr>\n",
              "      <th>27</th>\n",
              "      <td>8665-UTDHZ</td>\n",
              "      <td>Male</td>\n",
              "      <td>0</td>\n",
              "      <td>Yes</td>\n",
              "      <td>Yes</td>\n",
              "      <td>1</td>\n",
              "      <td>No</td>\n",
              "      <td>No phone service</td>\n",
              "      <td>DSL</td>\n",
              "      <td>No</td>\n",
              "      <td>Yes</td>\n",
              "      <td>No</td>\n",
              "      <td>No</td>\n",
              "      <td>No</td>\n",
              "      <td>No</td>\n",
              "      <td>Month-to-month</td>\n",
              "      <td>No</td>\n",
              "      <td>Electronic check</td>\n",
              "      <td>30.20</td>\n",
              "      <td>30.2</td>\n",
              "      <td>Yes</td>\n",
              "    </tr>\n",
              "    <tr>\n",
              "      <th>28</th>\n",
              "      <td>5248-YGIJN</td>\n",
              "      <td>Male</td>\n",
              "      <td>0</td>\n",
              "      <td>Yes</td>\n",
              "      <td>No</td>\n",
              "      <td>72</td>\n",
              "      <td>Yes</td>\n",
              "      <td>Yes</td>\n",
              "      <td>DSL</td>\n",
              "      <td>Yes</td>\n",
              "      <td>Yes</td>\n",
              "      <td>Yes</td>\n",
              "      <td>Yes</td>\n",
              "      <td>Yes</td>\n",
              "      <td>Yes</td>\n",
              "      <td>Two year</td>\n",
              "      <td>Yes</td>\n",
              "      <td>Credit card (automatic)</td>\n",
              "      <td>90.25</td>\n",
              "      <td>6369.45</td>\n",
              "      <td>No</td>\n",
              "    </tr>\n",
              "    <tr>\n",
              "      <th>29</th>\n",
              "      <td>8773-HHUOZ</td>\n",
              "      <td>Female</td>\n",
              "      <td>0</td>\n",
              "      <td>No</td>\n",
              "      <td>Yes</td>\n",
              "      <td>17</td>\n",
              "      <td>Yes</td>\n",
              "      <td>No</td>\n",
              "      <td>DSL</td>\n",
              "      <td>No</td>\n",
              "      <td>No</td>\n",
              "      <td>No</td>\n",
              "      <td>No</td>\n",
              "      <td>Yes</td>\n",
              "      <td>Yes</td>\n",
              "      <td>Month-to-month</td>\n",
              "      <td>Yes</td>\n",
              "      <td>Mailed check</td>\n",
              "      <td>64.70</td>\n",
              "      <td>1093.1</td>\n",
              "      <td>Yes</td>\n",
              "    </tr>\n",
              "    <tr>\n",
              "      <th>...</th>\n",
              "      <td>...</td>\n",
              "      <td>...</td>\n",
              "      <td>...</td>\n",
              "      <td>...</td>\n",
              "      <td>...</td>\n",
              "      <td>...</td>\n",
              "      <td>...</td>\n",
              "      <td>...</td>\n",
              "      <td>...</td>\n",
              "      <td>...</td>\n",
              "      <td>...</td>\n",
              "      <td>...</td>\n",
              "      <td>...</td>\n",
              "      <td>...</td>\n",
              "      <td>...</td>\n",
              "      <td>...</td>\n",
              "      <td>...</td>\n",
              "      <td>...</td>\n",
              "      <td>...</td>\n",
              "      <td>...</td>\n",
              "      <td>...</td>\n",
              "    </tr>\n",
              "    <tr>\n",
              "      <th>7013</th>\n",
              "      <td>1685-BQULA</td>\n",
              "      <td>Female</td>\n",
              "      <td>0</td>\n",
              "      <td>No</td>\n",
              "      <td>No</td>\n",
              "      <td>40</td>\n",
              "      <td>Yes</td>\n",
              "      <td>Yes</td>\n",
              "      <td>Fiber optic</td>\n",
              "      <td>No</td>\n",
              "      <td>Yes</td>\n",
              "      <td>Yes</td>\n",
              "      <td>No</td>\n",
              "      <td>Yes</td>\n",
              "      <td>No</td>\n",
              "      <td>Month-to-month</td>\n",
              "      <td>Yes</td>\n",
              "      <td>Bank transfer (automatic)</td>\n",
              "      <td>93.40</td>\n",
              "      <td>3756.4</td>\n",
              "      <td>No</td>\n",
              "    </tr>\n",
              "    <tr>\n",
              "      <th>7014</th>\n",
              "      <td>9053-EJUNL</td>\n",
              "      <td>Male</td>\n",
              "      <td>0</td>\n",
              "      <td>No</td>\n",
              "      <td>No</td>\n",
              "      <td>41</td>\n",
              "      <td>Yes</td>\n",
              "      <td>Yes</td>\n",
              "      <td>Fiber optic</td>\n",
              "      <td>No</td>\n",
              "      <td>Yes</td>\n",
              "      <td>No</td>\n",
              "      <td>No</td>\n",
              "      <td>Yes</td>\n",
              "      <td>No</td>\n",
              "      <td>Month-to-month</td>\n",
              "      <td>Yes</td>\n",
              "      <td>Electronic check</td>\n",
              "      <td>89.20</td>\n",
              "      <td>3645.75</td>\n",
              "      <td>No</td>\n",
              "    </tr>\n",
              "    <tr>\n",
              "      <th>7015</th>\n",
              "      <td>0666-UXTJO</td>\n",
              "      <td>Male</td>\n",
              "      <td>1</td>\n",
              "      <td>Yes</td>\n",
              "      <td>No</td>\n",
              "      <td>34</td>\n",
              "      <td>Yes</td>\n",
              "      <td>No</td>\n",
              "      <td>Fiber optic</td>\n",
              "      <td>No</td>\n",
              "      <td>No</td>\n",
              "      <td>Yes</td>\n",
              "      <td>No</td>\n",
              "      <td>Yes</td>\n",
              "      <td>No</td>\n",
              "      <td>Month-to-month</td>\n",
              "      <td>Yes</td>\n",
              "      <td>Credit card (automatic)</td>\n",
              "      <td>85.20</td>\n",
              "      <td>2874.45</td>\n",
              "      <td>No</td>\n",
              "    </tr>\n",
              "    <tr>\n",
              "      <th>7016</th>\n",
              "      <td>1471-GIQKQ</td>\n",
              "      <td>Female</td>\n",
              "      <td>0</td>\n",
              "      <td>No</td>\n",
              "      <td>No</td>\n",
              "      <td>1</td>\n",
              "      <td>Yes</td>\n",
              "      <td>No</td>\n",
              "      <td>DSL</td>\n",
              "      <td>No</td>\n",
              "      <td>Yes</td>\n",
              "      <td>No</td>\n",
              "      <td>No</td>\n",
              "      <td>No</td>\n",
              "      <td>No</td>\n",
              "      <td>Month-to-month</td>\n",
              "      <td>No</td>\n",
              "      <td>Electronic check</td>\n",
              "      <td>49.95</td>\n",
              "      <td>49.95</td>\n",
              "      <td>No</td>\n",
              "    </tr>\n",
              "    <tr>\n",
              "      <th>7017</th>\n",
              "      <td>4807-IZYOZ</td>\n",
              "      <td>Female</td>\n",
              "      <td>0</td>\n",
              "      <td>No</td>\n",
              "      <td>No</td>\n",
              "      <td>51</td>\n",
              "      <td>Yes</td>\n",
              "      <td>No</td>\n",
              "      <td>No</td>\n",
              "      <td>No internet service</td>\n",
              "      <td>No internet service</td>\n",
              "      <td>No internet service</td>\n",
              "      <td>No internet service</td>\n",
              "      <td>No internet service</td>\n",
              "      <td>No internet service</td>\n",
              "      <td>Two year</td>\n",
              "      <td>No</td>\n",
              "      <td>Bank transfer (automatic)</td>\n",
              "      <td>20.65</td>\n",
              "      <td>1020.75</td>\n",
              "      <td>No</td>\n",
              "    </tr>\n",
              "    <tr>\n",
              "      <th>7018</th>\n",
              "      <td>1122-JWTJW</td>\n",
              "      <td>Male</td>\n",
              "      <td>0</td>\n",
              "      <td>Yes</td>\n",
              "      <td>Yes</td>\n",
              "      <td>1</td>\n",
              "      <td>Yes</td>\n",
              "      <td>No</td>\n",
              "      <td>Fiber optic</td>\n",
              "      <td>No</td>\n",
              "      <td>No</td>\n",
              "      <td>No</td>\n",
              "      <td>No</td>\n",
              "      <td>No</td>\n",
              "      <td>No</td>\n",
              "      <td>Month-to-month</td>\n",
              "      <td>Yes</td>\n",
              "      <td>Mailed check</td>\n",
              "      <td>70.65</td>\n",
              "      <td>70.65</td>\n",
              "      <td>Yes</td>\n",
              "    </tr>\n",
              "    <tr>\n",
              "      <th>7019</th>\n",
              "      <td>9710-NJERN</td>\n",
              "      <td>Female</td>\n",
              "      <td>0</td>\n",
              "      <td>No</td>\n",
              "      <td>No</td>\n",
              "      <td>39</td>\n",
              "      <td>Yes</td>\n",
              "      <td>No</td>\n",
              "      <td>No</td>\n",
              "      <td>No internet service</td>\n",
              "      <td>No internet service</td>\n",
              "      <td>No internet service</td>\n",
              "      <td>No internet service</td>\n",
              "      <td>No internet service</td>\n",
              "      <td>No internet service</td>\n",
              "      <td>Two year</td>\n",
              "      <td>No</td>\n",
              "      <td>Mailed check</td>\n",
              "      <td>20.15</td>\n",
              "      <td>826</td>\n",
              "      <td>No</td>\n",
              "    </tr>\n",
              "    <tr>\n",
              "      <th>7020</th>\n",
              "      <td>9837-FWLCH</td>\n",
              "      <td>Male</td>\n",
              "      <td>0</td>\n",
              "      <td>Yes</td>\n",
              "      <td>Yes</td>\n",
              "      <td>12</td>\n",
              "      <td>Yes</td>\n",
              "      <td>No</td>\n",
              "      <td>No</td>\n",
              "      <td>No internet service</td>\n",
              "      <td>No internet service</td>\n",
              "      <td>No internet service</td>\n",
              "      <td>No internet service</td>\n",
              "      <td>No internet service</td>\n",
              "      <td>No internet service</td>\n",
              "      <td>Month-to-month</td>\n",
              "      <td>Yes</td>\n",
              "      <td>Electronic check</td>\n",
              "      <td>19.20</td>\n",
              "      <td>239</td>\n",
              "      <td>No</td>\n",
              "    </tr>\n",
              "    <tr>\n",
              "      <th>7021</th>\n",
              "      <td>1699-HPSBG</td>\n",
              "      <td>Male</td>\n",
              "      <td>0</td>\n",
              "      <td>No</td>\n",
              "      <td>No</td>\n",
              "      <td>12</td>\n",
              "      <td>Yes</td>\n",
              "      <td>No</td>\n",
              "      <td>DSL</td>\n",
              "      <td>No</td>\n",
              "      <td>No</td>\n",
              "      <td>No</td>\n",
              "      <td>Yes</td>\n",
              "      <td>Yes</td>\n",
              "      <td>No</td>\n",
              "      <td>One year</td>\n",
              "      <td>Yes</td>\n",
              "      <td>Electronic check</td>\n",
              "      <td>59.80</td>\n",
              "      <td>727.8</td>\n",
              "      <td>Yes</td>\n",
              "    </tr>\n",
              "    <tr>\n",
              "      <th>7022</th>\n",
              "      <td>7203-OYKCT</td>\n",
              "      <td>Male</td>\n",
              "      <td>0</td>\n",
              "      <td>No</td>\n",
              "      <td>No</td>\n",
              "      <td>72</td>\n",
              "      <td>Yes</td>\n",
              "      <td>Yes</td>\n",
              "      <td>Fiber optic</td>\n",
              "      <td>No</td>\n",
              "      <td>Yes</td>\n",
              "      <td>Yes</td>\n",
              "      <td>No</td>\n",
              "      <td>Yes</td>\n",
              "      <td>Yes</td>\n",
              "      <td>One year</td>\n",
              "      <td>Yes</td>\n",
              "      <td>Electronic check</td>\n",
              "      <td>104.95</td>\n",
              "      <td>7544.3</td>\n",
              "      <td>No</td>\n",
              "    </tr>\n",
              "    <tr>\n",
              "      <th>7023</th>\n",
              "      <td>1035-IPQPU</td>\n",
              "      <td>Female</td>\n",
              "      <td>1</td>\n",
              "      <td>Yes</td>\n",
              "      <td>No</td>\n",
              "      <td>63</td>\n",
              "      <td>Yes</td>\n",
              "      <td>Yes</td>\n",
              "      <td>Fiber optic</td>\n",
              "      <td>No</td>\n",
              "      <td>Yes</td>\n",
              "      <td>Yes</td>\n",
              "      <td>No</td>\n",
              "      <td>Yes</td>\n",
              "      <td>Yes</td>\n",
              "      <td>Month-to-month</td>\n",
              "      <td>Yes</td>\n",
              "      <td>Electronic check</td>\n",
              "      <td>103.50</td>\n",
              "      <td>6479.4</td>\n",
              "      <td>No</td>\n",
              "    </tr>\n",
              "    <tr>\n",
              "      <th>7024</th>\n",
              "      <td>7398-LXGYX</td>\n",
              "      <td>Male</td>\n",
              "      <td>0</td>\n",
              "      <td>Yes</td>\n",
              "      <td>No</td>\n",
              "      <td>44</td>\n",
              "      <td>Yes</td>\n",
              "      <td>Yes</td>\n",
              "      <td>Fiber optic</td>\n",
              "      <td>Yes</td>\n",
              "      <td>No</td>\n",
              "      <td>Yes</td>\n",
              "      <td>No</td>\n",
              "      <td>No</td>\n",
              "      <td>No</td>\n",
              "      <td>Month-to-month</td>\n",
              "      <td>Yes</td>\n",
              "      <td>Credit card (automatic)</td>\n",
              "      <td>84.80</td>\n",
              "      <td>3626.35</td>\n",
              "      <td>No</td>\n",
              "    </tr>\n",
              "    <tr>\n",
              "      <th>7025</th>\n",
              "      <td>2823-LKABH</td>\n",
              "      <td>Female</td>\n",
              "      <td>0</td>\n",
              "      <td>No</td>\n",
              "      <td>No</td>\n",
              "      <td>18</td>\n",
              "      <td>Yes</td>\n",
              "      <td>Yes</td>\n",
              "      <td>Fiber optic</td>\n",
              "      <td>No</td>\n",
              "      <td>No</td>\n",
              "      <td>Yes</td>\n",
              "      <td>Yes</td>\n",
              "      <td>No</td>\n",
              "      <td>Yes</td>\n",
              "      <td>Month-to-month</td>\n",
              "      <td>Yes</td>\n",
              "      <td>Bank transfer (automatic)</td>\n",
              "      <td>95.05</td>\n",
              "      <td>1679.4</td>\n",
              "      <td>No</td>\n",
              "    </tr>\n",
              "    <tr>\n",
              "      <th>7026</th>\n",
              "      <td>8775-CEBBJ</td>\n",
              "      <td>Female</td>\n",
              "      <td>0</td>\n",
              "      <td>No</td>\n",
              "      <td>No</td>\n",
              "      <td>9</td>\n",
              "      <td>Yes</td>\n",
              "      <td>No</td>\n",
              "      <td>DSL</td>\n",
              "      <td>No</td>\n",
              "      <td>No</td>\n",
              "      <td>No</td>\n",
              "      <td>No</td>\n",
              "      <td>No</td>\n",
              "      <td>No</td>\n",
              "      <td>Month-to-month</td>\n",
              "      <td>Yes</td>\n",
              "      <td>Bank transfer (automatic)</td>\n",
              "      <td>44.20</td>\n",
              "      <td>403.35</td>\n",
              "      <td>Yes</td>\n",
              "    </tr>\n",
              "    <tr>\n",
              "      <th>7027</th>\n",
              "      <td>0550-DCXLH</td>\n",
              "      <td>Male</td>\n",
              "      <td>0</td>\n",
              "      <td>No</td>\n",
              "      <td>No</td>\n",
              "      <td>13</td>\n",
              "      <td>Yes</td>\n",
              "      <td>No</td>\n",
              "      <td>DSL</td>\n",
              "      <td>No</td>\n",
              "      <td>Yes</td>\n",
              "      <td>No</td>\n",
              "      <td>Yes</td>\n",
              "      <td>Yes</td>\n",
              "      <td>Yes</td>\n",
              "      <td>Month-to-month</td>\n",
              "      <td>No</td>\n",
              "      <td>Mailed check</td>\n",
              "      <td>73.35</td>\n",
              "      <td>931.55</td>\n",
              "      <td>No</td>\n",
              "    </tr>\n",
              "    <tr>\n",
              "      <th>7028</th>\n",
              "      <td>9281-CEDRU</td>\n",
              "      <td>Female</td>\n",
              "      <td>0</td>\n",
              "      <td>Yes</td>\n",
              "      <td>No</td>\n",
              "      <td>68</td>\n",
              "      <td>Yes</td>\n",
              "      <td>No</td>\n",
              "      <td>DSL</td>\n",
              "      <td>No</td>\n",
              "      <td>Yes</td>\n",
              "      <td>No</td>\n",
              "      <td>Yes</td>\n",
              "      <td>Yes</td>\n",
              "      <td>No</td>\n",
              "      <td>Two year</td>\n",
              "      <td>No</td>\n",
              "      <td>Bank transfer (automatic)</td>\n",
              "      <td>64.10</td>\n",
              "      <td>4326.25</td>\n",
              "      <td>No</td>\n",
              "    </tr>\n",
              "    <tr>\n",
              "      <th>7029</th>\n",
              "      <td>2235-DWLJU</td>\n",
              "      <td>Female</td>\n",
              "      <td>1</td>\n",
              "      <td>No</td>\n",
              "      <td>No</td>\n",
              "      <td>6</td>\n",
              "      <td>No</td>\n",
              "      <td>No phone service</td>\n",
              "      <td>DSL</td>\n",
              "      <td>No</td>\n",
              "      <td>No</td>\n",
              "      <td>No</td>\n",
              "      <td>No</td>\n",
              "      <td>Yes</td>\n",
              "      <td>Yes</td>\n",
              "      <td>Month-to-month</td>\n",
              "      <td>Yes</td>\n",
              "      <td>Electronic check</td>\n",
              "      <td>44.40</td>\n",
              "      <td>263.05</td>\n",
              "      <td>No</td>\n",
              "    </tr>\n",
              "    <tr>\n",
              "      <th>7030</th>\n",
              "      <td>0871-OPBXW</td>\n",
              "      <td>Female</td>\n",
              "      <td>0</td>\n",
              "      <td>No</td>\n",
              "      <td>No</td>\n",
              "      <td>2</td>\n",
              "      <td>Yes</td>\n",
              "      <td>No</td>\n",
              "      <td>No</td>\n",
              "      <td>No internet service</td>\n",
              "      <td>No internet service</td>\n",
              "      <td>No internet service</td>\n",
              "      <td>No internet service</td>\n",
              "      <td>No internet service</td>\n",
              "      <td>No internet service</td>\n",
              "      <td>Month-to-month</td>\n",
              "      <td>Yes</td>\n",
              "      <td>Mailed check</td>\n",
              "      <td>20.05</td>\n",
              "      <td>39.25</td>\n",
              "      <td>No</td>\n",
              "    </tr>\n",
              "    <tr>\n",
              "      <th>7031</th>\n",
              "      <td>3605-JISKB</td>\n",
              "      <td>Male</td>\n",
              "      <td>1</td>\n",
              "      <td>Yes</td>\n",
              "      <td>No</td>\n",
              "      <td>55</td>\n",
              "      <td>Yes</td>\n",
              "      <td>Yes</td>\n",
              "      <td>DSL</td>\n",
              "      <td>Yes</td>\n",
              "      <td>Yes</td>\n",
              "      <td>No</td>\n",
              "      <td>No</td>\n",
              "      <td>No</td>\n",
              "      <td>No</td>\n",
              "      <td>One year</td>\n",
              "      <td>No</td>\n",
              "      <td>Credit card (automatic)</td>\n",
              "      <td>60.00</td>\n",
              "      <td>3316.1</td>\n",
              "      <td>No</td>\n",
              "    </tr>\n",
              "    <tr>\n",
              "      <th>7032</th>\n",
              "      <td>6894-LFHLY</td>\n",
              "      <td>Male</td>\n",
              "      <td>1</td>\n",
              "      <td>No</td>\n",
              "      <td>No</td>\n",
              "      <td>1</td>\n",
              "      <td>Yes</td>\n",
              "      <td>Yes</td>\n",
              "      <td>Fiber optic</td>\n",
              "      <td>No</td>\n",
              "      <td>No</td>\n",
              "      <td>No</td>\n",
              "      <td>No</td>\n",
              "      <td>No</td>\n",
              "      <td>No</td>\n",
              "      <td>Month-to-month</td>\n",
              "      <td>Yes</td>\n",
              "      <td>Electronic check</td>\n",
              "      <td>75.75</td>\n",
              "      <td>75.75</td>\n",
              "      <td>Yes</td>\n",
              "    </tr>\n",
              "    <tr>\n",
              "      <th>7033</th>\n",
              "      <td>9767-FFLEM</td>\n",
              "      <td>Male</td>\n",
              "      <td>0</td>\n",
              "      <td>No</td>\n",
              "      <td>No</td>\n",
              "      <td>38</td>\n",
              "      <td>Yes</td>\n",
              "      <td>No</td>\n",
              "      <td>Fiber optic</td>\n",
              "      <td>No</td>\n",
              "      <td>No</td>\n",
              "      <td>No</td>\n",
              "      <td>No</td>\n",
              "      <td>No</td>\n",
              "      <td>No</td>\n",
              "      <td>Month-to-month</td>\n",
              "      <td>Yes</td>\n",
              "      <td>Credit card (automatic)</td>\n",
              "      <td>69.50</td>\n",
              "      <td>2625.25</td>\n",
              "      <td>No</td>\n",
              "    </tr>\n",
              "    <tr>\n",
              "      <th>7034</th>\n",
              "      <td>0639-TSIQW</td>\n",
              "      <td>Female</td>\n",
              "      <td>0</td>\n",
              "      <td>No</td>\n",
              "      <td>No</td>\n",
              "      <td>67</td>\n",
              "      <td>Yes</td>\n",
              "      <td>Yes</td>\n",
              "      <td>Fiber optic</td>\n",
              "      <td>Yes</td>\n",
              "      <td>Yes</td>\n",
              "      <td>Yes</td>\n",
              "      <td>No</td>\n",
              "      <td>Yes</td>\n",
              "      <td>No</td>\n",
              "      <td>Month-to-month</td>\n",
              "      <td>Yes</td>\n",
              "      <td>Credit card (automatic)</td>\n",
              "      <td>102.95</td>\n",
              "      <td>6886.25</td>\n",
              "      <td>Yes</td>\n",
              "    </tr>\n",
              "    <tr>\n",
              "      <th>7035</th>\n",
              "      <td>8456-QDAVC</td>\n",
              "      <td>Male</td>\n",
              "      <td>0</td>\n",
              "      <td>No</td>\n",
              "      <td>No</td>\n",
              "      <td>19</td>\n",
              "      <td>Yes</td>\n",
              "      <td>No</td>\n",
              "      <td>Fiber optic</td>\n",
              "      <td>No</td>\n",
              "      <td>No</td>\n",
              "      <td>No</td>\n",
              "      <td>No</td>\n",
              "      <td>Yes</td>\n",
              "      <td>No</td>\n",
              "      <td>Month-to-month</td>\n",
              "      <td>Yes</td>\n",
              "      <td>Bank transfer (automatic)</td>\n",
              "      <td>78.70</td>\n",
              "      <td>1495.1</td>\n",
              "      <td>No</td>\n",
              "    </tr>\n",
              "    <tr>\n",
              "      <th>7036</th>\n",
              "      <td>7750-EYXWZ</td>\n",
              "      <td>Female</td>\n",
              "      <td>0</td>\n",
              "      <td>No</td>\n",
              "      <td>No</td>\n",
              "      <td>12</td>\n",
              "      <td>No</td>\n",
              "      <td>No phone service</td>\n",
              "      <td>DSL</td>\n",
              "      <td>No</td>\n",
              "      <td>Yes</td>\n",
              "      <td>Yes</td>\n",
              "      <td>Yes</td>\n",
              "      <td>Yes</td>\n",
              "      <td>Yes</td>\n",
              "      <td>One year</td>\n",
              "      <td>No</td>\n",
              "      <td>Electronic check</td>\n",
              "      <td>60.65</td>\n",
              "      <td>743.3</td>\n",
              "      <td>No</td>\n",
              "    </tr>\n",
              "    <tr>\n",
              "      <th>7037</th>\n",
              "      <td>2569-WGERO</td>\n",
              "      <td>Female</td>\n",
              "      <td>0</td>\n",
              "      <td>No</td>\n",
              "      <td>No</td>\n",
              "      <td>72</td>\n",
              "      <td>Yes</td>\n",
              "      <td>No</td>\n",
              "      <td>No</td>\n",
              "      <td>No internet service</td>\n",
              "      <td>No internet service</td>\n",
              "      <td>No internet service</td>\n",
              "      <td>No internet service</td>\n",
              "      <td>No internet service</td>\n",
              "      <td>No internet service</td>\n",
              "      <td>Two year</td>\n",
              "      <td>Yes</td>\n",
              "      <td>Bank transfer (automatic)</td>\n",
              "      <td>21.15</td>\n",
              "      <td>1419.4</td>\n",
              "      <td>No</td>\n",
              "    </tr>\n",
              "    <tr>\n",
              "      <th>7038</th>\n",
              "      <td>6840-RESVB</td>\n",
              "      <td>Male</td>\n",
              "      <td>0</td>\n",
              "      <td>Yes</td>\n",
              "      <td>Yes</td>\n",
              "      <td>24</td>\n",
              "      <td>Yes</td>\n",
              "      <td>Yes</td>\n",
              "      <td>DSL</td>\n",
              "      <td>Yes</td>\n",
              "      <td>No</td>\n",
              "      <td>Yes</td>\n",
              "      <td>Yes</td>\n",
              "      <td>Yes</td>\n",
              "      <td>Yes</td>\n",
              "      <td>One year</td>\n",
              "      <td>Yes</td>\n",
              "      <td>Mailed check</td>\n",
              "      <td>84.80</td>\n",
              "      <td>1990.5</td>\n",
              "      <td>No</td>\n",
              "    </tr>\n",
              "    <tr>\n",
              "      <th>7039</th>\n",
              "      <td>2234-XADUH</td>\n",
              "      <td>Female</td>\n",
              "      <td>0</td>\n",
              "      <td>Yes</td>\n",
              "      <td>Yes</td>\n",
              "      <td>72</td>\n",
              "      <td>Yes</td>\n",
              "      <td>Yes</td>\n",
              "      <td>Fiber optic</td>\n",
              "      <td>No</td>\n",
              "      <td>Yes</td>\n",
              "      <td>Yes</td>\n",
              "      <td>No</td>\n",
              "      <td>Yes</td>\n",
              "      <td>Yes</td>\n",
              "      <td>One year</td>\n",
              "      <td>Yes</td>\n",
              "      <td>Credit card (automatic)</td>\n",
              "      <td>103.20</td>\n",
              "      <td>7362.9</td>\n",
              "      <td>No</td>\n",
              "    </tr>\n",
              "    <tr>\n",
              "      <th>7040</th>\n",
              "      <td>4801-JZAZL</td>\n",
              "      <td>Female</td>\n",
              "      <td>0</td>\n",
              "      <td>Yes</td>\n",
              "      <td>Yes</td>\n",
              "      <td>11</td>\n",
              "      <td>No</td>\n",
              "      <td>No phone service</td>\n",
              "      <td>DSL</td>\n",
              "      <td>Yes</td>\n",
              "      <td>No</td>\n",
              "      <td>No</td>\n",
              "      <td>No</td>\n",
              "      <td>No</td>\n",
              "      <td>No</td>\n",
              "      <td>Month-to-month</td>\n",
              "      <td>Yes</td>\n",
              "      <td>Electronic check</td>\n",
              "      <td>29.60</td>\n",
              "      <td>346.45</td>\n",
              "      <td>No</td>\n",
              "    </tr>\n",
              "    <tr>\n",
              "      <th>7041</th>\n",
              "      <td>8361-LTMKD</td>\n",
              "      <td>Male</td>\n",
              "      <td>1</td>\n",
              "      <td>Yes</td>\n",
              "      <td>No</td>\n",
              "      <td>4</td>\n",
              "      <td>Yes</td>\n",
              "      <td>Yes</td>\n",
              "      <td>Fiber optic</td>\n",
              "      <td>No</td>\n",
              "      <td>No</td>\n",
              "      <td>No</td>\n",
              "      <td>No</td>\n",
              "      <td>No</td>\n",
              "      <td>No</td>\n",
              "      <td>Month-to-month</td>\n",
              "      <td>Yes</td>\n",
              "      <td>Mailed check</td>\n",
              "      <td>74.40</td>\n",
              "      <td>306.6</td>\n",
              "      <td>Yes</td>\n",
              "    </tr>\n",
              "    <tr>\n",
              "      <th>7042</th>\n",
              "      <td>3186-AJIEK</td>\n",
              "      <td>Male</td>\n",
              "      <td>0</td>\n",
              "      <td>No</td>\n",
              "      <td>No</td>\n",
              "      <td>66</td>\n",
              "      <td>Yes</td>\n",
              "      <td>No</td>\n",
              "      <td>Fiber optic</td>\n",
              "      <td>Yes</td>\n",
              "      <td>No</td>\n",
              "      <td>Yes</td>\n",
              "      <td>Yes</td>\n",
              "      <td>Yes</td>\n",
              "      <td>Yes</td>\n",
              "      <td>Two year</td>\n",
              "      <td>Yes</td>\n",
              "      <td>Bank transfer (automatic)</td>\n",
              "      <td>105.65</td>\n",
              "      <td>6844.5</td>\n",
              "      <td>No</td>\n",
              "    </tr>\n",
              "  </tbody>\n",
              "</table>\n",
              "<p>7043 rows × 21 columns</p>\n",
              "</div>"
            ],
            "text/plain": [
              "      customerID  gender  SeniorCitizen Partner Dependents  tenure  \\\n",
              "0     7590-VHVEG  Female              0     Yes         No       1   \n",
              "1     5575-GNVDE    Male              0      No         No      34   \n",
              "2     3668-QPYBK    Male              0      No         No       2   \n",
              "3     7795-CFOCW    Male              0      No         No      45   \n",
              "4     9237-HQITU  Female              0      No         No       2   \n",
              "5     9305-CDSKC  Female              0      No         No       8   \n",
              "6     1452-KIOVK    Male              0      No        Yes      22   \n",
              "7     6713-OKOMC  Female              0      No         No      10   \n",
              "8     7892-POOKP  Female              0     Yes         No      28   \n",
              "9     6388-TABGU    Male              0      No        Yes      62   \n",
              "10    9763-GRSKD    Male              0     Yes        Yes      13   \n",
              "11    7469-LKBCI    Male              0      No         No      16   \n",
              "12    8091-TTVAX    Male              0     Yes         No      58   \n",
              "13    0280-XJGEX    Male              0      No         No      49   \n",
              "14    5129-JLPIS    Male              0      No         No      25   \n",
              "15    3655-SNQYZ  Female              0     Yes        Yes      69   \n",
              "16    8191-XWSZG  Female              0      No         No      52   \n",
              "17    9959-WOFKT    Male              0      No        Yes      71   \n",
              "18    4190-MFLUW  Female              0     Yes        Yes      10   \n",
              "19    4183-MYFRB  Female              0      No         No      21   \n",
              "20    8779-QRDMV    Male              1      No         No       1   \n",
              "21    1680-VDCWW    Male              0     Yes         No      12   \n",
              "22    1066-JKSGK    Male              0      No         No       1   \n",
              "23    3638-WEABW  Female              0     Yes         No      58   \n",
              "24    6322-HRPFA    Male              0     Yes        Yes      49   \n",
              "25    6865-JZNKO  Female              0      No         No      30   \n",
              "26    6467-CHFZW    Male              0     Yes        Yes      47   \n",
              "27    8665-UTDHZ    Male              0     Yes        Yes       1   \n",
              "28    5248-YGIJN    Male              0     Yes         No      72   \n",
              "29    8773-HHUOZ  Female              0      No        Yes      17   \n",
              "...          ...     ...            ...     ...        ...     ...   \n",
              "7013  1685-BQULA  Female              0      No         No      40   \n",
              "7014  9053-EJUNL    Male              0      No         No      41   \n",
              "7015  0666-UXTJO    Male              1     Yes         No      34   \n",
              "7016  1471-GIQKQ  Female              0      No         No       1   \n",
              "7017  4807-IZYOZ  Female              0      No         No      51   \n",
              "7018  1122-JWTJW    Male              0     Yes        Yes       1   \n",
              "7019  9710-NJERN  Female              0      No         No      39   \n",
              "7020  9837-FWLCH    Male              0     Yes        Yes      12   \n",
              "7021  1699-HPSBG    Male              0      No         No      12   \n",
              "7022  7203-OYKCT    Male              0      No         No      72   \n",
              "7023  1035-IPQPU  Female              1     Yes         No      63   \n",
              "7024  7398-LXGYX    Male              0     Yes         No      44   \n",
              "7025  2823-LKABH  Female              0      No         No      18   \n",
              "7026  8775-CEBBJ  Female              0      No         No       9   \n",
              "7027  0550-DCXLH    Male              0      No         No      13   \n",
              "7028  9281-CEDRU  Female              0     Yes         No      68   \n",
              "7029  2235-DWLJU  Female              1      No         No       6   \n",
              "7030  0871-OPBXW  Female              0      No         No       2   \n",
              "7031  3605-JISKB    Male              1     Yes         No      55   \n",
              "7032  6894-LFHLY    Male              1      No         No       1   \n",
              "7033  9767-FFLEM    Male              0      No         No      38   \n",
              "7034  0639-TSIQW  Female              0      No         No      67   \n",
              "7035  8456-QDAVC    Male              0      No         No      19   \n",
              "7036  7750-EYXWZ  Female              0      No         No      12   \n",
              "7037  2569-WGERO  Female              0      No         No      72   \n",
              "7038  6840-RESVB    Male              0     Yes        Yes      24   \n",
              "7039  2234-XADUH  Female              0     Yes        Yes      72   \n",
              "7040  4801-JZAZL  Female              0     Yes        Yes      11   \n",
              "7041  8361-LTMKD    Male              1     Yes         No       4   \n",
              "7042  3186-AJIEK    Male              0      No         No      66   \n",
              "\n",
              "     PhoneService     MultipleLines InternetService       OnlineSecurity  \\\n",
              "0              No  No phone service             DSL                   No   \n",
              "1             Yes                No             DSL                  Yes   \n",
              "2             Yes                No             DSL                  Yes   \n",
              "3              No  No phone service             DSL                  Yes   \n",
              "4             Yes                No     Fiber optic                   No   \n",
              "5             Yes               Yes     Fiber optic                   No   \n",
              "6             Yes               Yes     Fiber optic                   No   \n",
              "7              No  No phone service             DSL                  Yes   \n",
              "8             Yes               Yes     Fiber optic                   No   \n",
              "9             Yes                No             DSL                  Yes   \n",
              "10            Yes                No             DSL                  Yes   \n",
              "11            Yes                No              No  No internet service   \n",
              "12            Yes               Yes     Fiber optic                   No   \n",
              "13            Yes               Yes     Fiber optic                   No   \n",
              "14            Yes                No     Fiber optic                  Yes   \n",
              "15            Yes               Yes     Fiber optic                  Yes   \n",
              "16            Yes                No              No  No internet service   \n",
              "17            Yes               Yes     Fiber optic                  Yes   \n",
              "18            Yes                No             DSL                   No   \n",
              "19            Yes                No     Fiber optic                   No   \n",
              "20             No  No phone service             DSL                   No   \n",
              "21            Yes                No              No  No internet service   \n",
              "22            Yes                No              No  No internet service   \n",
              "23            Yes               Yes             DSL                   No   \n",
              "24            Yes                No             DSL                  Yes   \n",
              "25            Yes                No             DSL                  Yes   \n",
              "26            Yes               Yes     Fiber optic                   No   \n",
              "27             No  No phone service             DSL                   No   \n",
              "28            Yes               Yes             DSL                  Yes   \n",
              "29            Yes                No             DSL                   No   \n",
              "...           ...               ...             ...                  ...   \n",
              "7013          Yes               Yes     Fiber optic                   No   \n",
              "7014          Yes               Yes     Fiber optic                   No   \n",
              "7015          Yes                No     Fiber optic                   No   \n",
              "7016          Yes                No             DSL                   No   \n",
              "7017          Yes                No              No  No internet service   \n",
              "7018          Yes                No     Fiber optic                   No   \n",
              "7019          Yes                No              No  No internet service   \n",
              "7020          Yes                No              No  No internet service   \n",
              "7021          Yes                No             DSL                   No   \n",
              "7022          Yes               Yes     Fiber optic                   No   \n",
              "7023          Yes               Yes     Fiber optic                   No   \n",
              "7024          Yes               Yes     Fiber optic                  Yes   \n",
              "7025          Yes               Yes     Fiber optic                   No   \n",
              "7026          Yes                No             DSL                   No   \n",
              "7027          Yes                No             DSL                   No   \n",
              "7028          Yes                No             DSL                   No   \n",
              "7029           No  No phone service             DSL                   No   \n",
              "7030          Yes                No              No  No internet service   \n",
              "7031          Yes               Yes             DSL                  Yes   \n",
              "7032          Yes               Yes     Fiber optic                   No   \n",
              "7033          Yes                No     Fiber optic                   No   \n",
              "7034          Yes               Yes     Fiber optic                  Yes   \n",
              "7035          Yes                No     Fiber optic                   No   \n",
              "7036           No  No phone service             DSL                   No   \n",
              "7037          Yes                No              No  No internet service   \n",
              "7038          Yes               Yes             DSL                  Yes   \n",
              "7039          Yes               Yes     Fiber optic                   No   \n",
              "7040           No  No phone service             DSL                  Yes   \n",
              "7041          Yes               Yes     Fiber optic                   No   \n",
              "7042          Yes                No     Fiber optic                  Yes   \n",
              "\n",
              "             OnlineBackup     DeviceProtection          TechSupport  \\\n",
              "0                     Yes                   No                   No   \n",
              "1                      No                  Yes                   No   \n",
              "2                     Yes                   No                   No   \n",
              "3                      No                  Yes                  Yes   \n",
              "4                      No                   No                   No   \n",
              "5                      No                  Yes                   No   \n",
              "6                     Yes                   No                   No   \n",
              "7                      No                   No                   No   \n",
              "8                      No                  Yes                  Yes   \n",
              "9                     Yes                   No                   No   \n",
              "10                     No                   No                   No   \n",
              "11    No internet service  No internet service  No internet service   \n",
              "12                     No                  Yes                   No   \n",
              "13                    Yes                  Yes                   No   \n",
              "14                     No                  Yes                  Yes   \n",
              "15                    Yes                  Yes                  Yes   \n",
              "16    No internet service  No internet service  No internet service   \n",
              "17                     No                  Yes                   No   \n",
              "18                     No                  Yes                  Yes   \n",
              "19                    Yes                  Yes                   No   \n",
              "20                     No                  Yes                   No   \n",
              "21    No internet service  No internet service  No internet service   \n",
              "22    No internet service  No internet service  No internet service   \n",
              "23                    Yes                   No                  Yes   \n",
              "24                    Yes                   No                  Yes   \n",
              "25                    Yes                   No                   No   \n",
              "26                    Yes                   No                   No   \n",
              "27                    Yes                   No                   No   \n",
              "28                    Yes                  Yes                  Yes   \n",
              "29                     No                   No                   No   \n",
              "...                   ...                  ...                  ...   \n",
              "7013                  Yes                  Yes                   No   \n",
              "7014                  Yes                   No                   No   \n",
              "7015                   No                  Yes                   No   \n",
              "7016                  Yes                   No                   No   \n",
              "7017  No internet service  No internet service  No internet service   \n",
              "7018                   No                   No                   No   \n",
              "7019  No internet service  No internet service  No internet service   \n",
              "7020  No internet service  No internet service  No internet service   \n",
              "7021                   No                   No                  Yes   \n",
              "7022                  Yes                  Yes                   No   \n",
              "7023                  Yes                  Yes                   No   \n",
              "7024                   No                  Yes                   No   \n",
              "7025                   No                  Yes                  Yes   \n",
              "7026                   No                   No                   No   \n",
              "7027                  Yes                   No                  Yes   \n",
              "7028                  Yes                   No                  Yes   \n",
              "7029                   No                   No                   No   \n",
              "7030  No internet service  No internet service  No internet service   \n",
              "7031                  Yes                   No                   No   \n",
              "7032                   No                   No                   No   \n",
              "7033                   No                   No                   No   \n",
              "7034                  Yes                  Yes                   No   \n",
              "7035                   No                   No                   No   \n",
              "7036                  Yes                  Yes                  Yes   \n",
              "7037  No internet service  No internet service  No internet service   \n",
              "7038                   No                  Yes                  Yes   \n",
              "7039                  Yes                  Yes                   No   \n",
              "7040                   No                   No                   No   \n",
              "7041                   No                   No                   No   \n",
              "7042                   No                  Yes                  Yes   \n",
              "\n",
              "              StreamingTV      StreamingMovies        Contract  \\\n",
              "0                      No                   No  Month-to-month   \n",
              "1                      No                   No        One year   \n",
              "2                      No                   No  Month-to-month   \n",
              "3                      No                   No        One year   \n",
              "4                      No                   No  Month-to-month   \n",
              "5                     Yes                  Yes  Month-to-month   \n",
              "6                     Yes                   No  Month-to-month   \n",
              "7                      No                   No  Month-to-month   \n",
              "8                     Yes                  Yes  Month-to-month   \n",
              "9                      No                   No        One year   \n",
              "10                     No                   No  Month-to-month   \n",
              "11    No internet service  No internet service        Two year   \n",
              "12                    Yes                  Yes        One year   \n",
              "13                    Yes                  Yes  Month-to-month   \n",
              "14                    Yes                  Yes  Month-to-month   \n",
              "15                    Yes                  Yes        Two year   \n",
              "16    No internet service  No internet service        One year   \n",
              "17                    Yes                  Yes        Two year   \n",
              "18                     No                   No  Month-to-month   \n",
              "19                     No                  Yes  Month-to-month   \n",
              "20                     No                  Yes  Month-to-month   \n",
              "21    No internet service  No internet service        One year   \n",
              "22    No internet service  No internet service  Month-to-month   \n",
              "23                     No                   No        Two year   \n",
              "24                     No                   No  Month-to-month   \n",
              "25                     No                   No  Month-to-month   \n",
              "26                    Yes                  Yes  Month-to-month   \n",
              "27                     No                   No  Month-to-month   \n",
              "28                    Yes                  Yes        Two year   \n",
              "29                    Yes                  Yes  Month-to-month   \n",
              "...                   ...                  ...             ...   \n",
              "7013                  Yes                   No  Month-to-month   \n",
              "7014                  Yes                   No  Month-to-month   \n",
              "7015                  Yes                   No  Month-to-month   \n",
              "7016                   No                   No  Month-to-month   \n",
              "7017  No internet service  No internet service        Two year   \n",
              "7018                   No                   No  Month-to-month   \n",
              "7019  No internet service  No internet service        Two year   \n",
              "7020  No internet service  No internet service  Month-to-month   \n",
              "7021                  Yes                   No        One year   \n",
              "7022                  Yes                  Yes        One year   \n",
              "7023                  Yes                  Yes  Month-to-month   \n",
              "7024                   No                   No  Month-to-month   \n",
              "7025                   No                  Yes  Month-to-month   \n",
              "7026                   No                   No  Month-to-month   \n",
              "7027                  Yes                  Yes  Month-to-month   \n",
              "7028                  Yes                   No        Two year   \n",
              "7029                  Yes                  Yes  Month-to-month   \n",
              "7030  No internet service  No internet service  Month-to-month   \n",
              "7031                   No                   No        One year   \n",
              "7032                   No                   No  Month-to-month   \n",
              "7033                   No                   No  Month-to-month   \n",
              "7034                  Yes                   No  Month-to-month   \n",
              "7035                  Yes                   No  Month-to-month   \n",
              "7036                  Yes                  Yes        One year   \n",
              "7037  No internet service  No internet service        Two year   \n",
              "7038                  Yes                  Yes        One year   \n",
              "7039                  Yes                  Yes        One year   \n",
              "7040                   No                   No  Month-to-month   \n",
              "7041                   No                   No  Month-to-month   \n",
              "7042                  Yes                  Yes        Two year   \n",
              "\n",
              "     PaperlessBilling              PaymentMethod  MonthlyCharges TotalCharges  \\\n",
              "0                 Yes           Electronic check           29.85        29.85   \n",
              "1                  No               Mailed check           56.95       1889.5   \n",
              "2                 Yes               Mailed check           53.85       108.15   \n",
              "3                  No  Bank transfer (automatic)           42.30      1840.75   \n",
              "4                 Yes           Electronic check           70.70       151.65   \n",
              "5                 Yes           Electronic check           99.65        820.5   \n",
              "6                 Yes    Credit card (automatic)           89.10       1949.4   \n",
              "7                  No               Mailed check           29.75        301.9   \n",
              "8                 Yes           Electronic check          104.80      3046.05   \n",
              "9                  No  Bank transfer (automatic)           56.15      3487.95   \n",
              "10                Yes               Mailed check           49.95       587.45   \n",
              "11                 No    Credit card (automatic)           18.95        326.8   \n",
              "12                 No    Credit card (automatic)          100.35       5681.1   \n",
              "13                Yes  Bank transfer (automatic)          103.70       5036.3   \n",
              "14                Yes           Electronic check          105.50      2686.05   \n",
              "15                 No    Credit card (automatic)          113.25      7895.15   \n",
              "16                 No               Mailed check           20.65      1022.95   \n",
              "17                 No  Bank transfer (automatic)          106.70      7382.25   \n",
              "18                 No    Credit card (automatic)           55.20       528.35   \n",
              "19                Yes           Electronic check           90.05       1862.9   \n",
              "20                Yes           Electronic check           39.65        39.65   \n",
              "21                 No  Bank transfer (automatic)           19.80       202.25   \n",
              "22                 No               Mailed check           20.15        20.15   \n",
              "23                Yes    Credit card (automatic)           59.90       3505.1   \n",
              "24                 No    Credit card (automatic)           59.60       2970.3   \n",
              "25                Yes  Bank transfer (automatic)           55.30       1530.6   \n",
              "26                Yes           Electronic check           99.35      4749.15   \n",
              "27                 No           Electronic check           30.20         30.2   \n",
              "28                Yes    Credit card (automatic)           90.25      6369.45   \n",
              "29                Yes               Mailed check           64.70       1093.1   \n",
              "...               ...                        ...             ...          ...   \n",
              "7013              Yes  Bank transfer (automatic)           93.40       3756.4   \n",
              "7014              Yes           Electronic check           89.20      3645.75   \n",
              "7015              Yes    Credit card (automatic)           85.20      2874.45   \n",
              "7016               No           Electronic check           49.95        49.95   \n",
              "7017               No  Bank transfer (automatic)           20.65      1020.75   \n",
              "7018              Yes               Mailed check           70.65        70.65   \n",
              "7019               No               Mailed check           20.15          826   \n",
              "7020              Yes           Electronic check           19.20          239   \n",
              "7021              Yes           Electronic check           59.80        727.8   \n",
              "7022              Yes           Electronic check          104.95       7544.3   \n",
              "7023              Yes           Electronic check          103.50       6479.4   \n",
              "7024              Yes    Credit card (automatic)           84.80      3626.35   \n",
              "7025              Yes  Bank transfer (automatic)           95.05       1679.4   \n",
              "7026              Yes  Bank transfer (automatic)           44.20       403.35   \n",
              "7027               No               Mailed check           73.35       931.55   \n",
              "7028               No  Bank transfer (automatic)           64.10      4326.25   \n",
              "7029              Yes           Electronic check           44.40       263.05   \n",
              "7030              Yes               Mailed check           20.05        39.25   \n",
              "7031               No    Credit card (automatic)           60.00       3316.1   \n",
              "7032              Yes           Electronic check           75.75        75.75   \n",
              "7033              Yes    Credit card (automatic)           69.50      2625.25   \n",
              "7034              Yes    Credit card (automatic)          102.95      6886.25   \n",
              "7035              Yes  Bank transfer (automatic)           78.70       1495.1   \n",
              "7036               No           Electronic check           60.65        743.3   \n",
              "7037              Yes  Bank transfer (automatic)           21.15       1419.4   \n",
              "7038              Yes               Mailed check           84.80       1990.5   \n",
              "7039              Yes    Credit card (automatic)          103.20       7362.9   \n",
              "7040              Yes           Electronic check           29.60       346.45   \n",
              "7041              Yes               Mailed check           74.40        306.6   \n",
              "7042              Yes  Bank transfer (automatic)          105.65       6844.5   \n",
              "\n",
              "     Churn  \n",
              "0       No  \n",
              "1       No  \n",
              "2      Yes  \n",
              "3       No  \n",
              "4      Yes  \n",
              "5      Yes  \n",
              "6       No  \n",
              "7       No  \n",
              "8      Yes  \n",
              "9       No  \n",
              "10      No  \n",
              "11      No  \n",
              "12      No  \n",
              "13     Yes  \n",
              "14      No  \n",
              "15      No  \n",
              "16      No  \n",
              "17      No  \n",
              "18     Yes  \n",
              "19      No  \n",
              "20     Yes  \n",
              "21      No  \n",
              "22     Yes  \n",
              "23      No  \n",
              "24      No  \n",
              "25      No  \n",
              "26     Yes  \n",
              "27     Yes  \n",
              "28      No  \n",
              "29     Yes  \n",
              "...    ...  \n",
              "7013    No  \n",
              "7014    No  \n",
              "7015    No  \n",
              "7016    No  \n",
              "7017    No  \n",
              "7018   Yes  \n",
              "7019    No  \n",
              "7020    No  \n",
              "7021   Yes  \n",
              "7022    No  \n",
              "7023    No  \n",
              "7024    No  \n",
              "7025    No  \n",
              "7026   Yes  \n",
              "7027    No  \n",
              "7028    No  \n",
              "7029    No  \n",
              "7030    No  \n",
              "7031    No  \n",
              "7032   Yes  \n",
              "7033    No  \n",
              "7034   Yes  \n",
              "7035    No  \n",
              "7036    No  \n",
              "7037    No  \n",
              "7038    No  \n",
              "7039    No  \n",
              "7040    No  \n",
              "7041   Yes  \n",
              "7042    No  \n",
              "\n",
              "[7043 rows x 21 columns]"
            ]
          },
          "metadata": {
            "tags": []
          },
          "execution_count": 3
        }
      ]
    },
    {
      "cell_type": "code",
      "metadata": {
        "id": "zSwqmQLOvHbe",
        "colab_type": "code",
        "outputId": "92b3e035-a1ac-475a-8f26-aca325a1ae0e",
        "colab": {
          "base_uri": "https://localhost:8080/",
          "height": 121
        }
      },
      "source": [
        "# see column names\n",
        "df.columns"
      ],
      "execution_count": 0,
      "outputs": [
        {
          "output_type": "execute_result",
          "data": {
            "text/plain": [
              "Index(['customerID', 'gender', 'SeniorCitizen', 'Partner', 'Dependents',\n",
              "       'tenure', 'PhoneService', 'MultipleLines', 'InternetService',\n",
              "       'OnlineSecurity', 'OnlineBackup', 'DeviceProtection', 'TechSupport',\n",
              "       'StreamingTV', 'StreamingMovies', 'Contract', 'PaperlessBilling',\n",
              "       'PaymentMethod', 'MonthlyCharges', 'TotalCharges', 'Churn'],\n",
              "      dtype='object')"
            ]
          },
          "metadata": {
            "tags": []
          },
          "execution_count": 4
        }
      ]
    },
    {
      "cell_type": "code",
      "metadata": {
        "id": "ta0JxyRNvHbl",
        "colab_type": "code",
        "outputId": "4cc99b77-1dfd-497c-ecd5-4cfeef27a3f0",
        "colab": {
          "base_uri": "https://localhost:8080/",
          "height": 397
        }
      },
      "source": [
        "df.dtypes"
      ],
      "execution_count": 0,
      "outputs": [
        {
          "output_type": "execute_result",
          "data": {
            "text/plain": [
              "customerID           object\n",
              "gender               object\n",
              "SeniorCitizen         int64\n",
              "Partner              object\n",
              "Dependents           object\n",
              "tenure                int64\n",
              "PhoneService         object\n",
              "MultipleLines        object\n",
              "InternetService      object\n",
              "OnlineSecurity       object\n",
              "OnlineBackup         object\n",
              "DeviceProtection     object\n",
              "TechSupport          object\n",
              "StreamingTV          object\n",
              "StreamingMovies      object\n",
              "Contract             object\n",
              "PaperlessBilling     object\n",
              "PaymentMethod        object\n",
              "MonthlyCharges      float64\n",
              "TotalCharges         object\n",
              "Churn                object\n",
              "dtype: object"
            ]
          },
          "metadata": {
            "tags": []
          },
          "execution_count": 5
        }
      ]
    },
    {
      "cell_type": "code",
      "metadata": {
        "id": "dtG4UTScvHbu",
        "colab_type": "code",
        "outputId": "64c00cb4-8ce2-4179-efe0-7d15981bd8db",
        "colab": {
          "base_uri": "https://localhost:8080/",
          "height": 89
        }
      },
      "source": [
        "# fot some reason, `TotalCharges` is defined as object data type, so it needs to \n",
        "# be converted into float data type \n",
        "\n",
        "df['TotalCharges'] = df['TotalCharges'].convert_objects(convert_numeric=True)"
      ],
      "execution_count": 0,
      "outputs": [
        {
          "output_type": "stream",
          "text": [
            "/usr/local/lib/python3.6/dist-packages/ipykernel_launcher.py:2: FutureWarning: convert_objects is deprecated.  To re-infer data dtypes for object columns, use Series.infer_objects()\n",
            "For all other conversions use the data-type specific converters pd.to_datetime, pd.to_timedelta and pd.to_numeric.\n",
            "  \n"
          ],
          "name": "stderr"
        }
      ]
    },
    {
      "cell_type": "markdown",
      "metadata": {
        "id": "oMhAgJzyvHcc",
        "colab_type": "text"
      },
      "source": [
        "**Definition of features (from Kaggle: https://www.kaggle.com/blastchar/telco-customer-churn)**\n",
        "- **`CustomerID`**: Customer ID\n",
        "- **`Gender`**: Whether the customer is a male or a female\n",
        "- **`SeniorCitizen`**: Whether the customer is a senior citizen or not (1, 0)\n",
        "- **`Partner`**: Whether the customer has a partner or not (Yes, No)\n",
        "- **`Dependents`**: Whether the customer has dependents or not (Yes, No)\n",
        "- **`Tenure`**: Number of months the customer has stayed with the company\n",
        "- **`PhoneService`**: Whether the customer has a phone service or not (Yes, No)\n",
        "- **`MultipleLines`**: Whether the customer has multiple lines or not (Yes, No, No phone service)\n",
        "- **`InternetService`**: Customer’s internet service provider (DSL, Fiber optic, No)\n",
        "- **`OnlineSecurity`**: Whether the customer has online security or not (Yes, No, No internet service)\n",
        "- **`OnlineBackup`**: Whether the customer has online backup or not (Yes, No, No internet service)\n",
        "- **`DeviceProtection`**: Whether the customer has device protection or not (Yes, No, No internet service)\n",
        "- **`TechSupport`**: Whether the customer has tech support or not (Yes, No, No internet service)\n",
        "- **`StreamingTV`**: Whether the customer has streaming TV or not (Yes, No, No internet service)\n",
        "- **`StreamingMovies`**: Whether the customer has streaming movies or not (Yes, No, No internet service)\n",
        "- **`Contract`**: The contract term of the customer (Month-to-month, One year, Two year)\n",
        "- **`PaperlessBilling`**: Whether the customer has paperless billing or not (Yes, No)\n",
        "- **`PaymentMethod`**: The customer’s payment method (Electronic check, Mailed check, Bank transfer (automatic), Credit card (automatic))\n",
        "- **`MonthlyCharges`**: The amount charged to the customer monthly\n",
        "- **`TotalCharges`**: The total amount charged to the customer\n",
        "- **`Churn`**: Whether the customer churned or not (Yes or No)"
      ]
    },
    {
      "cell_type": "markdown",
      "metadata": {
        "id": "uWq7OCfKvHcd",
        "colab_type": "text"
      },
      "source": [
        "## 3. data exploration  & visualization"
      ]
    },
    {
      "cell_type": "markdown",
      "metadata": {
        "id": "QSETc9rGvHcg",
        "colab_type": "text"
      },
      "source": [
        "### 3.1 check missing values"
      ]
    },
    {
      "cell_type": "code",
      "metadata": {
        "id": "UFFLdt4XvHci",
        "colab_type": "code",
        "outputId": "1c78f85e-9750-448d-8607-7012b7d103c9",
        "colab": {
          "base_uri": "https://localhost:8080/",
          "height": 35
        }
      },
      "source": [
        "# check duplicate data \n",
        "df = df.drop_duplicates()\n",
        "df.shape # (7043, 21), no duplicate rows"
      ],
      "execution_count": 0,
      "outputs": [
        {
          "output_type": "execute_result",
          "data": {
            "text/plain": [
              "(7043, 21)"
            ]
          },
          "metadata": {
            "tags": []
          },
          "execution_count": 7
        }
      ]
    },
    {
      "cell_type": "code",
      "metadata": {
        "id": "_T6hgRJtvHcr",
        "colab_type": "code",
        "outputId": "8c20bf20-5dcb-44d0-a81c-457879c44629",
        "colab": {
          "base_uri": "https://localhost:8080/",
          "height": 364
        }
      },
      "source": [
        "# check missing values via heatmap\n",
        "sns.heatmap(df.isnull(), cbar=False) #  data viz shows there are a few missing values in `TotalCharges` column "
      ],
      "execution_count": 0,
      "outputs": [
        {
          "output_type": "execute_result",
          "data": {
            "text/plain": [
              "<matplotlib.axes._subplots.AxesSubplot at 0x7ff48c80c438>"
            ]
          },
          "metadata": {
            "tags": []
          },
          "execution_count": 8
        },
        {
          "output_type": "display_data",
          "data": {
            "image/png": "[encoded data removed]",
            "text/plain": [
              "<Figure size 432x288 with 1 Axes>"
            ]
          },
          "metadata": {
            "tags": []
          }
        }
      ]
    },
    {
      "cell_type": "code",
      "metadata": {
        "id": "NuAl6C0mvHcv",
        "colab_type": "code",
        "outputId": "b2894aa8-fa18-4c7c-e764-8cbe7fb44a38",
        "colab": {
          "base_uri": "https://localhost:8080/",
          "height": 397
        }
      },
      "source": [
        "# verify via numeric summary\n",
        "df.isnull().sum() # 11 missing values in the `TotalCharges` column"
      ],
      "execution_count": 0,
      "outputs": [
        {
          "output_type": "execute_result",
          "data": {
            "text/plain": [
              "customerID           0\n",
              "gender               0\n",
              "SeniorCitizen        0\n",
              "Partner              0\n",
              "Dependents           0\n",
              "tenure               0\n",
              "PhoneService         0\n",
              "MultipleLines        0\n",
              "InternetService      0\n",
              "OnlineSecurity       0\n",
              "OnlineBackup         0\n",
              "DeviceProtection     0\n",
              "TechSupport          0\n",
              "StreamingTV          0\n",
              "StreamingMovies      0\n",
              "Contract             0\n",
              "PaperlessBilling     0\n",
              "PaymentMethod        0\n",
              "MonthlyCharges       0\n",
              "TotalCharges        11\n",
              "Churn                0\n",
              "dtype: int64"
            ]
          },
          "metadata": {
            "tags": []
          },
          "execution_count": 9
        }
      ]
    },
    {
      "cell_type": "code",
      "metadata": {
        "id": "XIaw2L3BvHcz",
        "colab_type": "code",
        "outputId": "49ed47ae-68e4-44d9-d1f3-ba279b90ab0e",
        "colab": {
          "base_uri": "https://localhost:8080/",
          "height": 35
        }
      },
      "source": [
        "# remove missing values from dataset\n",
        "df.dropna(inplace=True)\n",
        "df.shape "
      ],
      "execution_count": 0,
      "outputs": [
        {
          "output_type": "execute_result",
          "data": {
            "text/plain": [
              "(7032, 21)"
            ]
          },
          "metadata": {
            "tags": []
          },
          "execution_count": 10
        }
      ]
    },
    {
      "cell_type": "markdown",
      "metadata": {
        "id": "XVWWV7RnvHc5",
        "colab_type": "text"
      },
      "source": [
        "### 3.2 Compare cutomer churn between genders"
      ]
    },
    {
      "cell_type": "code",
      "metadata": {
        "id": "RFoERYRkvHc5",
        "colab_type": "code",
        "outputId": "f2246921-36d7-4832-f41c-6ff638c3afab",
        "colab": {
          "base_uri": "https://localhost:8080/",
          "height": 297
        }
      },
      "source": [
        "g = sns.catplot(x=\"gender\", col=\"Churn\",\n",
        "                data=df, kind=\"count\", \n",
        "                 height=4, aspect=.7)\n",
        "\n",
        "# no significant difference between genders with regard to churns"
      ],
      "execution_count": 0,
      "outputs": [
        {
          "output_type": "display_data",
          "data": {
            "image/png": "[encoded data removed]",
            "text/plain": [
              "<Figure size 403.2x288 with 2 Axes>"
            ]
          },
          "metadata": {
            "tags": []
          }
        }
      ]
    },
    {
      "cell_type": "markdown",
      "metadata": {
        "id": "ZAtJBcwVvHc9",
        "colab_type": "text"
      },
      "source": [
        "### 3.3  Check the relation between having a partner & churn "
      ]
    },
    {
      "cell_type": "code",
      "metadata": {
        "id": "6tX31z4TvHc_",
        "colab_type": "code",
        "outputId": "eaa9e469-2d69-454e-e5d3-3b2c57231621",
        "colab": {
          "base_uri": "https://localhost:8080/",
          "height": 297
        }
      },
      "source": [
        "g = sns.catplot(x=\"Partner\", col=\"Churn\",\n",
        "                data=df, kind=\"count\", \n",
        "                 height=4, aspect=.7);\n",
        "\n",
        "# There different patterns in the churn and not churn group. The plot shows that not having \n",
        "# a partner may tend to lead to a churn\n"
      ],
      "execution_count": 0,
      "outputs": [
        {
          "output_type": "display_data",
          "data": {
            "image/png": "[encoded data removed]",
            "text/plain": [
              "<Figure size 403.2x288 with 2 Axes>"
            ]
          },
          "metadata": {
            "tags": []
          }
        }
      ]
    },
    {
      "cell_type": "markdown",
      "metadata": {
        "id": "3LRQP6zVvHdC",
        "colab_type": "text"
      },
      "source": [
        "### 3.4  Check the relation between having dependents & churn "
      ]
    },
    {
      "cell_type": "code",
      "metadata": {
        "id": "oK_crQ0qvHdE",
        "colab_type": "code",
        "outputId": "cf24961b-3cd7-4529-ddda-d24f33d04f71",
        "colab": {
          "base_uri": "https://localhost:8080/",
          "height": 297
        }
      },
      "source": [
        "g = sns.catplot(x=\"Dependents\", col=\"Churn\",\n",
        "                data=df, kind=\"count\", \n",
        "                 height=4, aspect=.7);\n",
        "\n",
        "# The pattern in the chrun and no churn group is similar; Therefore having dependents may not be a \n",
        "# effective feature"
      ],
      "execution_count": 0,
      "outputs": [
        {
          "output_type": "display_data",
          "data": {
            "image/png": "[encoded data removed]",
            "text/plain": [
              "<Figure size 403.2x288 with 2 Axes>"
            ]
          },
          "metadata": {
            "tags": []
          }
        }
      ]
    },
    {
      "cell_type": "markdown",
      "metadata": {
        "id": "8B881UjQvHdL",
        "colab_type": "text"
      },
      "source": [
        "### 3.5 Check the relation between using phone service & churn"
      ]
    },
    {
      "cell_type": "code",
      "metadata": {
        "id": "WMSK_ou3vHdM",
        "colab_type": "code",
        "outputId": "59c9b75f-687d-42f1-a2c2-f1e56c26cd5f",
        "colab": {
          "base_uri": "https://localhost:8080/",
          "height": 297
        }
      },
      "source": [
        "g = sns.catplot(x=\"PhoneService\", col=\"Churn\",\n",
        "                data=df, kind=\"count\", \n",
        "                 height=4, aspect=.7);\n",
        "\n",
        "# Once again, the pattern is similar between the two groups, suggesting having phone service \n",
        "# may not be an effective feature. Churn or no churn, there are just more people subscribing to \n",
        "# phone service"
      ],
      "execution_count": 0,
      "outputs": [
        {
          "output_type": "display_data",
          "data": {
            "image/png": "[encoded data removed]",
            "text/plain": [
              "<Figure size 403.2x288 with 2 Axes>"
            ]
          },
          "metadata": {
            "tags": []
          }
        }
      ]
    },
    {
      "cell_type": "markdown",
      "metadata": {
        "id": "7R3TM6GavHdQ",
        "colab_type": "text"
      },
      "source": [
        "### 3.6 Check use multiple lines & churn"
      ]
    },
    {
      "cell_type": "code",
      "metadata": {
        "id": "ZBHqfvI3vHdR",
        "colab_type": "code",
        "outputId": "d1892efa-65c3-4ad2-a2d4-1bf84a51e558",
        "colab": {
          "base_uri": "https://localhost:8080/",
          "height": 385
        }
      },
      "source": [
        "g = sns.catplot(x=\"MultipleLines\", col=\"Churn\",\n",
        "                data=df, kind=\"count\", \n",
        "                 height=4, aspect=.7)\n",
        "\n",
        "g.set_xticklabels(rotation=60)\n",
        "\n",
        "# No significant difference though using multiple lines seems to yield more no churn"
      ],
      "execution_count": 0,
      "outputs": [
        {
          "output_type": "execute_result",
          "data": {
            "text/plain": [
              "<seaborn.axisgrid.FacetGrid at 0x7ff488cacba8>"
            ]
          },
          "metadata": {
            "tags": []
          },
          "execution_count": 15
        },
        {
          "output_type": "display_data",
          "data": {
            "image/png": "[encoded data removed]",
            "text/plain": [
              "<Figure size 403.2x288 with 2 Axes>"
            ]
          },
          "metadata": {
            "tags": []
          }
        }
      ]
    },
    {
      "cell_type": "markdown",
      "metadata": {
        "id": "cTfejJbQvHdb",
        "colab_type": "text"
      },
      "source": [
        "### 3.7 Check use fiber optic & churn"
      ]
    },
    {
      "cell_type": "code",
      "metadata": {
        "id": "AyHVqJs4vHdd",
        "colab_type": "code",
        "outputId": "9f22a328-7f7d-41f4-bce6-601fa966d89c",
        "colab": {
          "base_uri": "https://localhost:8080/",
          "height": 297
        }
      },
      "source": [
        "g = sns.catplot(x=\"InternetService\", col=\"Churn\",\n",
        "                data=df, kind=\"count\", \n",
        "                 height=4, aspect=.7);\n",
        "\n",
        "# it is obvious that use of fiber optic leads to higher churn compared to DSL"
      ],
      "execution_count": 0,
      "outputs": [
        {
          "output_type": "display_data",
          "data": {
            "image/png": "[encoded data removed]",
            "text/plain": [
              "<Figure size 403.2x288 with 2 Axes>"
            ]
          },
          "metadata": {
            "tags": []
          }
        }
      ]
    },
    {
      "cell_type": "markdown",
      "metadata": {
        "id": "gx7eZdO7vHdl",
        "colab_type": "text"
      },
      "source": [
        "### 3.8 Check use of internet online security & churn"
      ]
    },
    {
      "cell_type": "code",
      "metadata": {
        "id": "btdjXlDNvHd1",
        "colab_type": "code",
        "outputId": "9d53293e-46bd-4001-dae5-2b1032b231fd",
        "colab": {
          "base_uri": "https://localhost:8080/",
          "height": 392
        }
      },
      "source": [
        "g = sns.catplot(x=\"OnlineSecurity\", col=\"Churn\",\n",
        "                data=df, kind=\"count\", \n",
        "                 height=4, aspect=.7)\n",
        "\n",
        "g.set_xticklabels(rotation=60)\n",
        "\n",
        "# No significant difference"
      ],
      "execution_count": 0,
      "outputs": [
        {
          "output_type": "execute_result",
          "data": {
            "text/plain": [
              "<seaborn.axisgrid.FacetGrid at 0x7ff488a4bf98>"
            ]
          },
          "metadata": {
            "tags": []
          },
          "execution_count": 17
        },
        {
          "output_type": "display_data",
          "data": {
            "image/png": "[encoded data removed]",
            "text/plain": [
              "<Figure size 403.2x288 with 2 Axes>"
            ]
          },
          "metadata": {
            "tags": []
          }
        }
      ]
    },
    {
      "cell_type": "markdown",
      "metadata": {
        "id": "dwkbk_9jvHek",
        "colab_type": "text"
      },
      "source": [
        "### 3.9 Check use of online backup service & churn"
      ]
    },
    {
      "cell_type": "code",
      "metadata": {
        "id": "o_0YSCQTvHew",
        "colab_type": "code",
        "outputId": "0f5fd52e-aa8b-4fcb-c5a0-b6f8a100cc0d",
        "colab": {
          "base_uri": "https://localhost:8080/",
          "height": 392
        }
      },
      "source": [
        "g = sns.catplot(x=\"OnlineBackup\", col=\"Churn\",\n",
        "                data=df, kind=\"count\", \n",
        "                 height=4, aspect=.7)\n",
        "\n",
        "g.set_xticklabels(rotation=60)\n",
        "\n",
        "# it seems not use online backup yields higher churn. However, not using it does not lead to \n",
        "# prticularly higher retenton either. This may suggest that some specific users encountered some problem\n",
        "# when not using this service"
      ],
      "execution_count": 0,
      "outputs": [
        {
          "output_type": "execute_result",
          "data": {
            "text/plain": [
              "<seaborn.axisgrid.FacetGrid at 0x7ff488774940>"
            ]
          },
          "metadata": {
            "tags": []
          },
          "execution_count": 18
        },
        {
          "output_type": "display_data",
          "data": {
            "image/png": "[encoded data removed]",
            "text/plain": [
              "<Figure size 403.2x288 with 2 Axes>"
            ]
          },
          "metadata": {
            "tags": []
          }
        }
      ]
    },
    {
      "cell_type": "markdown",
      "metadata": {
        "id": "TxXqImVXvHfX",
        "colab_type": "text"
      },
      "source": [
        "### 3.10 Check the use of device protection & churn"
      ]
    },
    {
      "cell_type": "code",
      "metadata": {
        "id": "TueOvPsCvHfa",
        "colab_type": "code",
        "outputId": "7ed2b381-37ea-4f45-dac5-9f27c392441f",
        "colab": {
          "base_uri": "https://localhost:8080/",
          "height": 392
        }
      },
      "source": [
        "g = sns.catplot(x=\"DeviceProtection\", col=\"Churn\",\n",
        "                data=df, kind=\"count\", \n",
        "                 height=4, aspect=.7)\n",
        "\n",
        "g.set_xticklabels(rotation=60)\n",
        "\n",
        "# while use and not use this service lead to similar no churn, not using this service \n",
        "# seems to lead higher churn"
      ],
      "execution_count": 0,
      "outputs": [
        {
          "output_type": "execute_result",
          "data": {
            "text/plain": [
              "<seaborn.axisgrid.FacetGrid at 0x7ff488ce6128>"
            ]
          },
          "metadata": {
            "tags": []
          },
          "execution_count": 19
        },
        {
          "output_type": "display_data",
          "data": {
            "image/png": "[encoded data removed]",
            "text/plain": [
              "<Figure size 403.2x288 with 2 Axes>"
            ]
          },
          "metadata": {
            "tags": []
          }
        }
      ]
    },
    {
      "cell_type": "markdown",
      "metadata": {
        "id": "x340svadvHgG",
        "colab_type": "text"
      },
      "source": [
        "### 3.11 Check use of tech support & churn "
      ]
    },
    {
      "cell_type": "code",
      "metadata": {
        "id": "u2z1qgW_vHgJ",
        "colab_type": "code",
        "outputId": "0e695877-e158-4753-d957-bc442993c06b",
        "colab": {
          "base_uri": "https://localhost:8080/",
          "height": 392
        }
      },
      "source": [
        "g = sns.catplot(x=\"TechSupport\", col=\"Churn\",\n",
        "                data=df, kind=\"count\", \n",
        "                 height=4, aspect=.7)\n",
        "\n",
        "g.set_xticklabels(rotation=60)\n",
        "\n",
        "# the pattern across three sub-groups is consistant, it shows that users may have a mixed \n",
        "# experience of using this service as use this service also doesn't lead to more no churn"
      ],
      "execution_count": 0,
      "outputs": [
        {
          "output_type": "execute_result",
          "data": {
            "text/plain": [
              "<seaborn.axisgrid.FacetGrid at 0x7ff488a384e0>"
            ]
          },
          "metadata": {
            "tags": []
          },
          "execution_count": 20
        },
        {
          "output_type": "display_data",
          "data": {
            "image/png": "[encoded data removed]",
            "text/plain": [
              "<Figure size 403.2x288 with 2 Axes>"
            ]
          },
          "metadata": {
            "tags": []
          }
        }
      ]
    },
    {
      "cell_type": "markdown",
      "metadata": {
        "id": "6DahLtSIvHgW",
        "colab_type": "text"
      },
      "source": [
        "### 3.12 Check use of streaming TC service & churn"
      ]
    },
    {
      "cell_type": "code",
      "metadata": {
        "id": "-r4PgV13vHgZ",
        "colab_type": "code",
        "outputId": "94453857-6a89-4d03-f832-dba135f45b18",
        "colab": {
          "base_uri": "https://localhost:8080/",
          "height": 392
        }
      },
      "source": [
        "g = sns.catplot(x=\"StreamingTV\", col=\"Churn\",\n",
        "                data=df, kind=\"count\", \n",
        "                 height=4, aspect=.7);\n",
        "\n",
        "g.set_xticklabels(rotation=60)\n",
        "\n",
        "# not use streaming TV service may lead to higher churn "
      ],
      "execution_count": 0,
      "outputs": [
        {
          "output_type": "execute_result",
          "data": {
            "text/plain": [
              "<seaborn.axisgrid.FacetGrid at 0x7ff48894df60>"
            ]
          },
          "metadata": {
            "tags": []
          },
          "execution_count": 21
        },
        {
          "output_type": "display_data",
          "data": {
            "image/png": "[encoded data removed]",
            "text/plain": [
              "<Figure size 403.2x288 with 2 Axes>"
            ]
          },
          "metadata": {
            "tags": []
          }
        }
      ]
    },
    {
      "cell_type": "markdown",
      "metadata": {
        "id": "yi1w56SIvHgq",
        "colab_type": "text"
      },
      "source": [
        "### 3.13 Check the use of streaming movies & churn "
      ]
    },
    {
      "cell_type": "code",
      "metadata": {
        "id": "VXZ2k9mxvHgs",
        "colab_type": "code",
        "outputId": "10ea56ca-0e78-4eb0-a568-6368dbfb00e1",
        "colab": {
          "base_uri": "https://localhost:8080/",
          "height": 392
        }
      },
      "source": [
        "g = sns.catplot(x=\"StreamingMovies\", col=\"Churn\",\n",
        "                data=df, kind=\"count\", \n",
        "                 height=4, aspect=.7)\n",
        "\n",
        "g.set_xticklabels(rotation=60)\n",
        "\n",
        "# not using streaming movies may lead to higher churn"
      ],
      "execution_count": 0,
      "outputs": [
        {
          "output_type": "execute_result",
          "data": {
            "text/plain": [
              "<seaborn.axisgrid.FacetGrid at 0x7ff488bd6be0>"
            ]
          },
          "metadata": {
            "tags": []
          },
          "execution_count": 22
        },
        {
          "output_type": "display_data",
          "data": {
            "image/png": "[encoded data removed]",
            "text/plain": [
              "<Figure size 403.2x288 with 2 Axes>"
            ]
          },
          "metadata": {
            "tags": []
          }
        }
      ]
    },
    {
      "cell_type": "markdown",
      "metadata": {
        "id": "3mxUPrKyvHg2",
        "colab_type": "text"
      },
      "source": [
        "### 3.14 Relation between contract length & churn "
      ]
    },
    {
      "cell_type": "code",
      "metadata": {
        "id": "UiOFuy0TvHg7",
        "colab_type": "code",
        "outputId": "7b7f479c-7217-4def-83bd-3edffae6d0d3",
        "colab": {
          "base_uri": "https://localhost:8080/",
          "height": 385
        }
      },
      "source": [
        "g = sns.catplot(x=\"Contract\", col=\"Churn\",\n",
        "                data=df, kind=\"count\", \n",
        "                 height=4, aspect=.7)\n",
        "\n",
        "g.set_xticklabels(rotation=90)\n",
        "\n",
        "# Comparatively, 2-year contract yields lowest churn, while monthly contract has a mixed result of high \n",
        "# churn and no churn. This may just reflects that nature of monthly contract users, who tend to drop the \n",
        "# service faster since they may just be using the service temporarily"
      ],
      "execution_count": 0,
      "outputs": [
        {
          "output_type": "execute_result",
          "data": {
            "text/plain": [
              "<seaborn.axisgrid.FacetGrid at 0x7ff488cbde48>"
            ]
          },
          "metadata": {
            "tags": []
          },
          "execution_count": 23
        },
        {
          "output_type": "display_data",
          "data": {
            "image/png": "[encoded data removed]",
            "text/plain": [
              "<Figure size 403.2x288 with 2 Axes>"
            ]
          },
          "metadata": {
            "tags": []
          }
        }
      ]
    },
    {
      "cell_type": "markdown",
      "metadata": {
        "id": "oLcFmUBgvHhB",
        "colab_type": "text"
      },
      "source": [
        "### 3.15 Use of paperless bills & churn "
      ]
    },
    {
      "cell_type": "code",
      "metadata": {
        "id": "DRbpU3lgvHhD",
        "colab_type": "code",
        "outputId": "7c64f2df-c97d-409d-cbde-77b2889679b1",
        "colab": {
          "base_uri": "https://localhost:8080/",
          "height": 297
        }
      },
      "source": [
        "g = sns.catplot(x=\"PaperlessBilling\", col=\"Churn\",\n",
        "                data=df, kind=\"count\", \n",
        "                 height=4, aspect=.7);\n",
        "\n",
        "# no significant effect of using paperless bills"
      ],
      "execution_count": 0,
      "outputs": [
        {
          "output_type": "display_data",
          "data": {
            "image/png": "[encoded data removed]",
            "text/plain": [
              "<Figure size 403.2x288 with 2 Axes>"
            ]
          },
          "metadata": {
            "tags": []
          }
        }
      ]
    },
    {
      "cell_type": "markdown",
      "metadata": {
        "id": "fPnKmXa3vHhI",
        "colab_type": "text"
      },
      "source": [
        "### 3.16 Payment method & churn "
      ]
    },
    {
      "cell_type": "code",
      "metadata": {
        "id": "29aIeyvvvHhL",
        "colab_type": "code",
        "outputId": "f3a5048f-53fb-441f-9c71-47bd017d08cc",
        "colab": {
          "base_uri": "https://localhost:8080/",
          "height": 434
        }
      },
      "source": [
        "g = sns.catplot(x=\"PaymentMethod\", col=\"Churn\",\n",
        "                data=df, kind=\"count\", \n",
        "                 height=4, aspect=.7)\n",
        "g.set_xticklabels(rotation=90)\n",
        "\n",
        "# It looks like eletronic check is not in favor of customer retention, while other\n",
        "# payment methods are don't particularly lead to high churn"
      ],
      "execution_count": 0,
      "outputs": [
        {
          "output_type": "execute_result",
          "data": {
            "text/plain": [
              "<seaborn.axisgrid.FacetGrid at 0x7ff488ab08d0>"
            ]
          },
          "metadata": {
            "tags": []
          },
          "execution_count": 25
        },
        {
          "output_type": "display_data",
          "data": {
            "image/png": "[encoded data removed]",
            "text/plain": [
              "<Figure size 403.2x288 with 2 Axes>"
            ]
          },
          "metadata": {
            "tags": []
          }
        }
      ]
    },
    {
      "cell_type": "markdown",
      "metadata": {
        "id": "WRyAf6ywvHhd",
        "colab_type": "text"
      },
      "source": [
        "### 3.17 Check the relaton between senior customer with churn"
      ]
    },
    {
      "cell_type": "code",
      "metadata": {
        "id": "jYmR5js8vHhe",
        "colab_type": "code",
        "outputId": "9b4f3db3-0dba-4b0d-89a7-96c09190c281",
        "colab": {
          "base_uri": "https://localhost:8080/",
          "height": 297
        }
      },
      "source": [
        "# recode column variable\n",
        "mapping = {0: 'not senior', 1: 'senior'}\n",
        "df.replace({'SeniorCitizen': mapping})\n",
        "\n",
        "g = sns.catplot(x=\"SeniorCitizen\", col=\"Churn\",\n",
        "                data=df, kind=\"count\", \n",
        "                 height=4, aspect=.7);\n",
        "\n",
        "# senior user account for the minority of users, and there is no significant effect\n",
        "# on the churn\n"
      ],
      "execution_count": 0,
      "outputs": [
        {
          "output_type": "display_data",
          "data": {
            "image/png": "[encoded data removed]",
            "text/plain": [
              "<Figure size 403.2x288 with 2 Axes>"
            ]
          },
          "metadata": {
            "tags": []
          }
        }
      ]
    },
    {
      "cell_type": "markdown",
      "metadata": {
        "id": "xwkd-2mMvHh0",
        "colab_type": "text"
      },
      "source": [
        "### 3.18 Check relaton between continuous features & churn "
      ]
    },
    {
      "cell_type": "code",
      "metadata": {
        "scrolled": true,
        "id": "CcTq_KtXvHh1",
        "colab_type": "code",
        "colab": {}
      },
      "source": [
        "# subset dataframe to get continuous features\n",
        "df_cont = df[['tenure', 'MonthlyCharges', 'TotalCharges', 'Churn']]\n",
        "# recode `Churn` column \n",
        "mapping = {'No': 0, 'Yes': 1}\n",
        "df_cont = df_cont.replace({'Churn': mapping})"
      ],
      "execution_count": 0,
      "outputs": []
    },
    {
      "cell_type": "code",
      "metadata": {
        "scrolled": false,
        "id": "ni7YtrbcvHh4",
        "colab_type": "code",
        "outputId": "332a8684-61d4-4c9b-a7da-7e1f5e07fb72",
        "colab": {
          "base_uri": "https://localhost:8080/",
          "height": 553
        }
      },
      "source": [
        "display(df.corr())\n",
        "pd.plotting.scatter_matrix(df_cont, figsize=(6, 6))\n",
        "plt.show()\n"
      ],
      "execution_count": 0,
      "outputs": [
        {
          "output_type": "display_data",
          "data": {
            "text/html": [
              "<div>\n",
              "<style scoped>\n",
              "    .dataframe tbody tr th:only-of-type {\n",
              "        vertical-align: middle;\n",
              "    }\n",
              "\n",
              "    .dataframe tbody tr th {\n",
              "        vertical-align: top;\n",
              "    }\n",
              "\n",
              "    .dataframe thead th {\n",
              "        text-align: right;\n",
              "    }\n",
              "</style>\n",
              "<table border=\"1\" class=\"dataframe\">\n",
              "  <thead>\n",
              "    <tr style=\"text-align: right;\">\n",
              "      <th></th>\n",
              "      <th>SeniorCitizen</th>\n",
              "      <th>tenure</th>\n",
              "      <th>MonthlyCharges</th>\n",
              "      <th>TotalCharges</th>\n",
              "    </tr>\n",
              "  </thead>\n",
              "  <tbody>\n",
              "    <tr>\n",
              "      <th>SeniorCitizen</th>\n",
              "      <td>1.000000</td>\n",
              "      <td>0.015683</td>\n",
              "      <td>0.219874</td>\n",
              "      <td>0.102411</td>\n",
              "    </tr>\n",
              "    <tr>\n",
              "      <th>tenure</th>\n",
              "      <td>0.015683</td>\n",
              "      <td>1.000000</td>\n",
              "      <td>0.246862</td>\n",
              "      <td>0.825880</td>\n",
              "    </tr>\n",
              "    <tr>\n",
              "      <th>MonthlyCharges</th>\n",
              "      <td>0.219874</td>\n",
              "      <td>0.246862</td>\n",
              "      <td>1.000000</td>\n",
              "      <td>0.651065</td>\n",
              "    </tr>\n",
              "    <tr>\n",
              "      <th>TotalCharges</th>\n",
              "      <td>0.102411</td>\n",
              "      <td>0.825880</td>\n",
              "      <td>0.651065</td>\n",
              "      <td>1.000000</td>\n",
              "    </tr>\n",
              "  </tbody>\n",
              "</table>\n",
              "</div>"
            ],
            "text/plain": [
              "                SeniorCitizen    tenure  MonthlyCharges  TotalCharges\n",
              "SeniorCitizen        1.000000  0.015683        0.219874      0.102411\n",
              "tenure               0.015683  1.000000        0.246862      0.825880\n",
              "MonthlyCharges       0.219874  0.246862        1.000000      0.651065\n",
              "TotalCharges         0.102411  0.825880        0.651065      1.000000"
            ]
          },
          "metadata": {
            "tags": []
          }
        },
        {
          "output_type": "display_data",
          "data": {
            "image/png": "[encoded data removed]",
            "text/plain": [
              "<Figure size 432x432 with 16 Axes>"
            ]
          },
          "metadata": {
            "tags": []
          }
        }
      ]
    },
    {
      "cell_type": "markdown",
      "metadata": {
        "id": "tahrgHbeHvUM",
        "colab_type": "text"
      },
      "source": [
        "### Data distribution summry:\n",
        "- 1. tenure: there is an concentration in the head and tail. While the a large number of short-tenure users make intuitive sense, it is worth checking if there is abnormal outliers among the long-tenure users\n",
        "- 2.  Monthly Charges' distribution makes sense\n",
        "- 3. In general, there churn is about half the number of no churn\n",
        "\n",
        "### Data correlaton:\n",
        "- The only obvious correlation is between tenure and total charge, also, month charge and total charge. This makes intuitive sense as the longer you stay in the company's service, the more in total you spend"
      ]
    },
    {
      "cell_type": "markdown",
      "metadata": {
        "id": "m04bxUcGvHiA",
        "colab_type": "text"
      },
      "source": [
        "### 3.19  Check outliers (continuous features) "
      ]
    },
    {
      "cell_type": "code",
      "metadata": {
        "id": "NkTKHlEMvHiB",
        "colab_type": "code",
        "outputId": "290f7765-e808-47dd-94b9-74e2edf48af1",
        "colab": {
          "base_uri": "https://localhost:8080/",
          "height": 288
        }
      },
      "source": [
        "# Compare mean, median, and max values to examine outliers\n",
        "df_cont.loc[:, df_cont.columns != 'Churn'].describe()\n",
        "# summary: For both continuous features, no upper bound outliers are detected (no big gap \n",
        "# between their mean and median, nor are their the max values too abnormal)\n"
      ],
      "execution_count": 0,
      "outputs": [
        {
          "output_type": "execute_result",
          "data": {
            "text/html": [
              "<div>\n",
              "<style scoped>\n",
              "    .dataframe tbody tr th:only-of-type {\n",
              "        vertical-align: middle;\n",
              "    }\n",
              "\n",
              "    .dataframe tbody tr th {\n",
              "        vertical-align: top;\n",
              "    }\n",
              "\n",
              "    .dataframe thead th {\n",
              "        text-align: right;\n",
              "    }\n",
              "</style>\n",
              "<table border=\"1\" class=\"dataframe\">\n",
              "  <thead>\n",
              "    <tr style=\"text-align: right;\">\n",
              "      <th></th>\n",
              "      <th>tenure</th>\n",
              "      <th>MonthlyCharges</th>\n",
              "      <th>TotalCharges</th>\n",
              "    </tr>\n",
              "  </thead>\n",
              "  <tbody>\n",
              "    <tr>\n",
              "      <th>count</th>\n",
              "      <td>7032.000000</td>\n",
              "      <td>7032.000000</td>\n",
              "      <td>7032.000000</td>\n",
              "    </tr>\n",
              "    <tr>\n",
              "      <th>mean</th>\n",
              "      <td>32.421786</td>\n",
              "      <td>64.798208</td>\n",
              "      <td>2283.300441</td>\n",
              "    </tr>\n",
              "    <tr>\n",
              "      <th>std</th>\n",
              "      <td>24.545260</td>\n",
              "      <td>30.085974</td>\n",
              "      <td>2266.771362</td>\n",
              "    </tr>\n",
              "    <tr>\n",
              "      <th>min</th>\n",
              "      <td>1.000000</td>\n",
              "      <td>18.250000</td>\n",
              "      <td>18.800000</td>\n",
              "    </tr>\n",
              "    <tr>\n",
              "      <th>25%</th>\n",
              "      <td>9.000000</td>\n",
              "      <td>35.587500</td>\n",
              "      <td>401.450000</td>\n",
              "    </tr>\n",
              "    <tr>\n",
              "      <th>50%</th>\n",
              "      <td>29.000000</td>\n",
              "      <td>70.350000</td>\n",
              "      <td>1397.475000</td>\n",
              "    </tr>\n",
              "    <tr>\n",
              "      <th>75%</th>\n",
              "      <td>55.000000</td>\n",
              "      <td>89.862500</td>\n",
              "      <td>3794.737500</td>\n",
              "    </tr>\n",
              "    <tr>\n",
              "      <th>max</th>\n",
              "      <td>72.000000</td>\n",
              "      <td>118.750000</td>\n",
              "      <td>8684.800000</td>\n",
              "    </tr>\n",
              "  </tbody>\n",
              "</table>\n",
              "</div>"
            ],
            "text/plain": [
              "            tenure  MonthlyCharges  TotalCharges\n",
              "count  7032.000000     7032.000000   7032.000000\n",
              "mean     32.421786       64.798208   2283.300441\n",
              "std      24.545260       30.085974   2266.771362\n",
              "min       1.000000       18.250000     18.800000\n",
              "25%       9.000000       35.587500    401.450000\n",
              "50%      29.000000       70.350000   1397.475000\n",
              "75%      55.000000       89.862500   3794.737500\n",
              "max      72.000000      118.750000   8684.800000"
            ]
          },
          "metadata": {
            "tags": []
          },
          "execution_count": 29
        }
      ]
    },
    {
      "cell_type": "markdown",
      "metadata": {
        "id": "txTbLZKVvHiF",
        "colab_type": "text"
      },
      "source": [
        "### Quick summary:\n",
        "* 1. Most of the features are categorical\n",
        "* 2. 11 missing values in the TotalCharges column\n",
        "* 3. Features that potentially impact churn include:\n",
        "    * having a partner\n",
        "    * use of fiber optic \n",
        "    * online backup \n",
        "    * device protection \n",
        "    * streaming TV service \n",
        "    * streaming movie service\n",
        "* 4. Month charges correlates with total charges, so does tenure with total charges\n",
        "* 5. No dramatic outliers in the continuous variables\n"
      ]
    },
    {
      "cell_type": "markdown",
      "metadata": {
        "id": "KtgGrvc2vHiG",
        "colab_type": "text"
      },
      "source": [
        "### 4. Predict churn with various models"
      ]
    },
    {
      "cell_type": "code",
      "metadata": {
        "id": "gjm7l8BVvHiN",
        "colab_type": "code",
        "outputId": "7290ae2a-7103-4dd7-cb7a-92768fe30a74",
        "colab": {
          "base_uri": "https://localhost:8080/",
          "height": 397
        }
      },
      "source": [
        "# recode and reshape dataframe for modeling\n",
        "\n",
        "# recode the `SeniorCitizen` column\n",
        "mapping = {0: 'No', 1: 'Yes'}\n",
        "df = df.replace({'SeniorCitizen': mapping})\n",
        "df.columns = df.columns.str.capitalize()\n",
        "df.dtypes "
      ],
      "execution_count": 0,
      "outputs": [
        {
          "output_type": "execute_result",
          "data": {
            "text/plain": [
              "Customerid           object\n",
              "Gender               object\n",
              "Seniorcitizen        object\n",
              "Partner              object\n",
              "Dependents           object\n",
              "Tenure                int64\n",
              "Phoneservice         object\n",
              "Multiplelines        object\n",
              "Internetservice      object\n",
              "Onlinesecurity       object\n",
              "Onlinebackup         object\n",
              "Deviceprotection     object\n",
              "Techsupport          object\n",
              "Streamingtv          object\n",
              "Streamingmovies      object\n",
              "Contract             object\n",
              "Paperlessbilling     object\n",
              "Paymentmethod        object\n",
              "Monthlycharges      float64\n",
              "Totalcharges        float64\n",
              "Churn                object\n",
              "dtype: object"
            ]
          },
          "metadata": {
            "tags": []
          },
          "execution_count": 30
        }
      ]
    },
    {
      "cell_type": "markdown",
      "metadata": {
        "id": "TULK2EA5vHiU",
        "colab_type": "text"
      },
      "source": [
        "### 4.1 Split data into train, validaton, test (60%, 20%,  20%)"
      ]
    },
    {
      "cell_type": "code",
      "metadata": {
        "id": "9_eV-LYSvHiV",
        "colab_type": "code",
        "colab": {}
      },
      "source": [
        "y = df.pop('Churn').to_frame()\n",
        "X = df"
      ],
      "execution_count": 0,
      "outputs": []
    },
    {
      "cell_type": "code",
      "metadata": {
        "id": "5cmNH_A4vHiZ",
        "colab_type": "code",
        "colab": {}
      },
      "source": [
        "X_train, X_test, y_train, y_test = train_test_split(\n",
        "        X, y,stratify=y, test_size=0.4, random_state=1)\n",
        "\n",
        "X_test, X_val, y_test, y_val = train_test_split(\n",
        "        X_test, y_test, stratify=y_test, test_size=0.5, random_state=1)\n",
        "# X_train.shape (4225, 19); X_val.shape (1409, 19); X_test.shape(1409, 19)"
      ],
      "execution_count": 0,
      "outputs": []
    },
    {
      "cell_type": "code",
      "metadata": {
        "id": "KOgEirpHvHib",
        "colab_type": "code",
        "colab": {}
      },
      "source": [
        "# also, recode y (target feature) into numeric binary values\n",
        "mapping = {'No': 0, 'Yes': 1}\n",
        "y_train = y_train.replace({'Churn': mapping})\n",
        "y_val = y_val.replace({'Churn': mapping})\n",
        "y_test = y_test.replace({'Churn': mapping})"
      ],
      "execution_count": 0,
      "outputs": []
    },
    {
      "cell_type": "code",
      "metadata": {
        "id": "qEDn7HhOvHie",
        "colab_type": "code",
        "outputId": "f14a0298-f9c8-48db-ed4d-343f8e721e1e",
        "colab": {
          "base_uri": "https://localhost:8080/",
          "height": 69
        }
      },
      "source": [
        "y_train['Churn'].value_counts() "
      ],
      "execution_count": 0,
      "outputs": [
        {
          "output_type": "execute_result",
          "data": {
            "text/plain": [
              "0    3098\n",
              "1    1121\n",
              "Name: Churn, dtype: int64"
            ]
          },
          "metadata": {
            "tags": []
          },
          "execution_count": 34
        }
      ]
    },
    {
      "cell_type": "code",
      "metadata": {
        "id": "XubXDJ8tvHii",
        "colab_type": "code",
        "outputId": "de57cab4-3634-418b-c48b-ef071254dbe9",
        "colab": {
          "base_uri": "https://localhost:8080/",
          "height": 69
        }
      },
      "source": [
        "y_val['Churn'].value_counts()"
      ],
      "execution_count": 0,
      "outputs": [
        {
          "output_type": "execute_result",
          "data": {
            "text/plain": [
              "0    1033\n",
              "1     374\n",
              "Name: Churn, dtype: int64"
            ]
          },
          "metadata": {
            "tags": []
          },
          "execution_count": 35
        }
      ]
    },
    {
      "cell_type": "code",
      "metadata": {
        "id": "eppnh1vFvHim",
        "colab_type": "code",
        "outputId": "f6db6b41-c7dc-42f4-a028-743850fe27ca",
        "colab": {
          "base_uri": "https://localhost:8080/",
          "height": 69
        }
      },
      "source": [
        "y_test['Churn'].value_counts() "
      ],
      "execution_count": 0,
      "outputs": [
        {
          "output_type": "execute_result",
          "data": {
            "text/plain": [
              "0    1032\n",
              "1     374\n",
              "Name: Churn, dtype: int64"
            ]
          },
          "metadata": {
            "tags": []
          },
          "execution_count": 36
        }
      ]
    },
    {
      "cell_type": "markdown",
      "metadata": {
        "id": "uva866mevHix",
        "colab_type": "text"
      },
      "source": [
        "**Ratio of the churn v.s no churn is verified across train, validaton, test set (about 1:3)**"
      ]
    },
    {
      "cell_type": "markdown",
      "metadata": {
        "id": "6hSP0fEYvHiz",
        "colab_type": "text"
      },
      "source": [
        "### 4.2 Logistic regression"
      ]
    },
    {
      "cell_type": "code",
      "metadata": {
        "id": "w3ejnRsnvHi0",
        "colab_type": "code",
        "colab": {}
      },
      "source": [
        "# change X_ dataframe to fit logistic regression\n",
        "dummies_col = ['Gender', 'Seniorcitizen', 'Partner', 'Dependents',\n",
        "       'Phoneservice', 'Multiplelines', 'Internetservice', 'Onlinesecurity',\n",
        "       'Onlinebackup', 'Deviceprotection', 'Techsupport', 'Streamingtv',\n",
        "       'Streamingmovies', 'Contract', 'Paperlessbilling', 'Paymentmethod']\n",
        "dummies = pd.get_dummies(X_train[dummies_col])\n",
        "X_train_logit = X_train[['Tenure', 'Monthlycharges', 'Totalcharges']].join(dummies)\n",
        "\n",
        "dummies2 = pd.get_dummies(X_val[dummies_col])\n",
        "X_val_logit = X_val[['Tenure', 'Monthlycharges', 'Totalcharges']].join(dummies2)\n",
        "\n",
        "dummies3 = pd.get_dummies(X_test[dummies_col])\n",
        "X_test_logit = X_test[['Tenure', 'Monthlycharges', 'Totalcharges']].join(dummies3)"
      ],
      "execution_count": 0,
      "outputs": []
    },
    {
      "cell_type": "code",
      "metadata": {
        "scrolled": true,
        "id": "T_EVKxi4vHi3",
        "colab_type": "code",
        "colab": {}
      },
      "source": [
        "# fit 1st logistic model and check accuracy\n",
        "\n",
        "from sklearn.linear_model import LogisticRegressionCV\n",
        "from sklearn.metrics import accuracy_score\n",
        "\n",
        "Logistic_model = LogisticRegressionCV(solver='lbfgs', cv=10, random_state=1)\n",
        "Logistic_model.fit(X_train_logit, y_train)\n",
        "predict_val = Logistic_model.predict(X_val_logit)\n",
        "accuracy_val = accuracy_score(y_val,predict_val)\n",
        "print('accuracy_score on validation dataset : ', accuracy_val)\n",
        "\n",
        "# 0.80 accuracy rate (but using lbfgs fails to converge, this show there may be collinearity between features)"
      ],
      "execution_count": 0,
      "outputs": []
    },
    {
      "cell_type": "code",
      "metadata": {
        "id": "jMye4-toxdV2",
        "colab_type": "code",
        "outputId": "6f0ee99a-9dd5-4bc8-85cf-e68bdf4495f3",
        "colab": {
          "base_uri": "https://localhost:8080/",
          "height": 193
        }
      },
      "source": [
        "# fit 2nd logistic model by using SMOTE upsampling, recursive feature elimination (RFE) to improve accuracy\n",
        "\n",
        "from imblearn.over_sampling import SMOTE\n",
        "os = SMOTE(random_state=0)\n",
        "columns = X_train_logit.columns\n",
        "os_data_X,os_data_y = os.fit_sample(X_train_logit, y_train)\n",
        "os_data_X = pd.DataFrame(data=os_data_X,columns=columns )\n",
        "os_data_y= pd.DataFrame(data=os_data_y,columns=['Churn'])\n",
        "# we can Check the numbers of our data\n",
        "print(\"length of oversampled data is \",len(os_data_X)) #6196, compared to original 4225 in original 6196\n",
        "print(\"Number of NOT churn in oversampled data: \",len(os_data_y[os_data_y['Churn']==0])) #3098\n",
        "print(\"Number of churn in oversampled data: \",len(os_data_y[os_data_y['Churn']==1])) #3098\n",
        "print(\"Proportion of NOT churn in oversampled data: \",len(os_data_y[os_data_y['Churn']==0])/len(os_data_X)) #0.5\n",
        "print(\"Proportion of churn in oversampled data: \",len(os_data_y[os_data_y['Churn']==1])/len(os_data_X)) #0.5"
      ],
      "execution_count": 0,
      "outputs": [
        {
          "output_type": "stream",
          "text": [
            "length of oversampled data is  6196\n",
            "Number of NOT churn in oversampled data:  3098\n",
            "Number of churn in oversampled data:  3098\n",
            "Proportion of NOT churn in oversampled data:  0.5\n",
            "Proportion of churn in oversampled data:  0.5\n"
          ],
          "name": "stdout"
        },
        {
          "output_type": "stream",
          "text": [
            "/usr/local/lib/python3.6/dist-packages/sklearn/externals/six.py:31: DeprecationWarning: The module is deprecated in version 0.21 and will be removed in version 0.23 since we've dropped support for Python 2.7. Please rely on the official version of six (https://pypi.org/project/six/).\n",
            "  \"(https://pypi.org/project/six/).\", DeprecationWarning)\n",
            "/usr/local/lib/python3.6/dist-packages/sklearn/utils/validation.py:724: DataConversionWarning: A column-vector y was passed when a 1d array was expected. Please change the shape of y to (n_samples, ), for example using ravel().\n",
            "  y = column_or_1d(y, warn=True)\n"
          ],
          "name": "stderr"
        }
      ]
    },
    {
      "cell_type": "code",
      "metadata": {
        "id": "G_rv13uI5DIs",
        "colab_type": "code",
        "colab": {}
      },
      "source": [
        "# use recursive feature elimination (RFE) filter in most useful features\n",
        "\n",
        "from sklearn.feature_selection import RFE\n",
        "from sklearn.linear_model import LogisticRegression\n",
        "\n",
        "Logistic_model2 = LogisticRegressionCV(solver='lbfgs', cv=10, random_state=1)\n",
        "rfe = RFE(Logistic_model2, 10) # note: the designation of 10 features is an arbitrary choice \n",
        "rfe = rfe.fit(os_data_X, os_data_y.values.ravel())\n",
        "print(rfe.support_)\n",
        "print(rfe.ranking_)"
      ],
      "execution_count": 0,
      "outputs": []
    },
    {
      "cell_type": "code",
      "metadata": {
        "id": "nwQ-24sS3SIc",
        "colab_type": "code",
        "outputId": "e24bb48f-8673-4c36-8f74-408e336c188a",
        "colab": {
          "base_uri": "https://localhost:8080/",
          "height": 35
        }
      },
      "source": [
        "# get selected column indexes\n",
        "\n",
        "index = [False, False, False, False, False, False, False, False, False, False, True, False,\n",
        " False, False, False, False, True, True, False, True, False, False, True, False,\n",
        " False, False, False, False, True, False, False, False, False, False, False, False,\n",
        " False, True, False, True, False, True, False, False, True, False]\n",
        "\n",
        "select_col = []\n",
        "for i in range(len(index)):\n",
        "  if index[i] == True:\n",
        "    select_col.append(i)\n",
        "    \n",
        "print(select_col) # index for selected columns after RFE"
      ],
      "execution_count": 0,
      "outputs": [
        {
          "output_type": "stream",
          "text": [
            "[10, 16, 17, 19, 22, 28, 37, 39, 41, 44]\n"
          ],
          "name": "stdout"
        }
      ]
    },
    {
      "cell_type": "code",
      "metadata": {
        "id": "Gx7u68mV9eMS",
        "colab_type": "code",
        "outputId": "f187a9a4-933b-4eeb-a725-867ff0be637d",
        "colab": {
          "base_uri": "https://localhost:8080/",
          "height": 35
        }
      },
      "source": [
        "# fit 2nd logistic model and check accuracy on validaton set\n",
        "X_train_logit_rfe = os_data_X.iloc[:, select_col]\n",
        "y_train_rfe = os_data_y['Churn']\n",
        "\n",
        "Logistic_model2 = LogisticRegressionCV(solver='lbfgs', cv=10, random_state=1)\n",
        "Logistic_model2.fit(X_train_logit_rfe, y_train_rfe)\n",
        "\n",
        "# filter columns for X_val set (from original 46 features to 10 features, same as X_train )\n",
        "X_val_logit_rfe = X_val_logit.iloc[:, select_col]\n",
        "predict_val = Logistic_model2.predict(X_val_logit_rfe)\n",
        "accuracy_val = accuracy_score(y_val,predict_val)\n",
        "print(\"logistic regression model2's accuracy score on validation dataset: \", accuracy_val)\n",
        "\n",
        "# 0.72 accuracy (model was able to converge, but using upsampling and RFE results in worse accuracy)"
      ],
      "execution_count": 0,
      "outputs": [
        {
          "output_type": "stream",
          "text": [
            "logistic regression model2's accuracy score on validation dataset:  0.7228144989339019\n"
          ],
          "name": "stdout"
        }
      ]
    },
    {
      "cell_type": "markdown",
      "metadata": {
        "id": "T99wLr4TD1S1",
        "colab_type": "text"
      },
      "source": [
        "### Quick summary:\n",
        "- After applying upsampling to address imbalanced data, and recursive feature elimination (RFE)\n",
        "to auto-select useful features, the overall accuracy for logistic regression model has not improved. (.73) \n",
        "- However, the benefits of applying the two techniques did lead the model to converge, and the features selected \n",
        "with RFE mostly correspond to the findings from previous data visualizaton and exploration "
      ]
    },
    {
      "cell_type": "markdown",
      "metadata": {
        "id": "b4VcajJSvHi5",
        "colab_type": "text"
      },
      "source": [
        "### 4.3 XGBoost"
      ]
    },
    {
      "cell_type": "code",
      "metadata": {
        "id": "7S3O5-__vHjA",
        "colab_type": "code",
        "outputId": "5ee575e9-7edb-4a6b-de09-9566a6eebe71",
        "colab": {
          "base_uri": "https://localhost:8080/",
          "height": 124
        }
      },
      "source": [
        "import xgboost as xgb\n",
        "from xgboost import XGBClassifier\n",
        "\n",
        "\n",
        "# recycle dataframe from logistic regression to fit XGBoos\n",
        "X_train_XGB = X_train_logit\n",
        "X_val_XGB = X_val_logit\n",
        "X_test_XGB = X_test_logit\n",
        "\n",
        "# fit the model with the training data\n",
        "XGB_model = XGBClassifier()\n",
        "XGB_model.fit(X_train_XGB,y_train)\n",
        "\n",
        "\n",
        "# predict the target on the validation dataset\n",
        "predict_val = XGB_model.predict(X_val_XGB)\n",
        "accuracy_val = accuracy_score(y_val,predict_val)\n",
        "print(\"XGBoost model accuracy score on validation dataset: \", accuracy_val)\n",
        "\n",
        "# 0.81 initial accuracy without tuning parameters (slightly better than logistic regression)\n"
      ],
      "execution_count": 0,
      "outputs": [
        {
          "output_type": "stream",
          "text": [
            "/usr/local/lib/python3.6/dist-packages/sklearn/preprocessing/label.py:219: DataConversionWarning: A column-vector y was passed when a 1d array was expected. Please change the shape of y to (n_samples, ), for example using ravel().\n",
            "  y = column_or_1d(y, warn=True)\n",
            "/usr/local/lib/python3.6/dist-packages/sklearn/preprocessing/label.py:252: DataConversionWarning: A column-vector y was passed when a 1d array was expected. Please change the shape of y to (n_samples, ), for example using ravel().\n",
            "  y = column_or_1d(y, warn=True)\n"
          ],
          "name": "stderr"
        },
        {
          "output_type": "stream",
          "text": [
            "XGBoost model accuracy score on validation dataset:  0.806680881307747\n"
          ],
          "name": "stdout"
        }
      ]
    },
    {
      "cell_type": "markdown",
      "metadata": {
        "id": "TC_5v3Tn4Nso",
        "colab_type": "text"
      },
      "source": [
        "### 4.3.1 Setting initial parameters before tuning XGBoost"
      ]
    },
    {
      "cell_type": "code",
      "metadata": {
        "id": "rKsaeQEF_NQP",
        "colab_type": "code",
        "colab": {}
      },
      "source": [
        "# use a ad-hoc functon to wrap this tuning process (reference: https://www.analyticsvidhya.com/blog/2016/03/complete-guide-parameter-tuning-xgboost-with-codes-python/)\n",
        "\n",
        "\n",
        "def XGBmodelfit(alg, dtrain, y, predictors,useTrainCV=True, cv_folds=10, early_stopping_rounds=50):\n",
        "    \n",
        "    if useTrainCV:\n",
        "        xgb_param = alg.get_xgb_params()\n",
        "        xgtrain = xgb.DMatrix(dtrain[predictors].values, label=y.values)\n",
        "        cvresult = xgb.cv(xgb_param, xgtrain, num_boost_round=alg.get_params()['n_estimators'], nfold=cv_folds, metrics='auc', early_stopping_rounds=early_stopping_rounds)\n",
        "        alg.set_params(n_estimators=cvresult.shape[0])\n",
        "    \n",
        "    #Fit the algorithm on the data\n",
        "    alg.fit(dtrain[predictors], y['Churn'],eval_metric='auc')\n",
        "        \n",
        "    #Predict training set:\n",
        "    dtrain_predictions = alg.predict(dtrain[predictors])\n",
        "    dtrain_predprob = alg.predict_proba(dtrain[predictors])[:,1]\n",
        "        \n",
        "    #Print model report:\n",
        "    print (\"\\nModel Report\")\n",
        "    print (\"Accuracy : %.4g\" % metrics.accuracy_score(y['Churn'].values, dtrain_predictions))\n",
        "    print (\"AUC Score (Train): %f\" % metrics.roc_auc_score(y['Churn'], dtrain_predprob))\n",
        "                    \n",
        "    feat_imp = pd.Series(alg.get_booster().get_fscore()).sort_values(ascending=False)\n",
        "    feat_imp.plot(kind='bar', title='Feature Importances')\n",
        "    plt.ylabel('Feature Importance Score')"
      ],
      "execution_count": 0,
      "outputs": []
    },
    {
      "cell_type": "code",
      "metadata": {
        "id": "S9UEtyJU6WmI",
        "colab_type": "code",
        "colab": {}
      },
      "source": [
        "# set up initial parameters to be tuned\n",
        "\n",
        "xgb1 = XGBClassifier(\n",
        " learning_rate =0.1,\n",
        " n_estimators=1000,\n",
        " max_depth=5,\n",
        " min_child_weight=1,\n",
        " gamma=0,\n",
        " subsample=0.8,\n",
        " colsample_bytree=0.8,\n",
        " objective= 'binary:logistic',\n",
        " nthread=4,\n",
        " scale_pos_weight=1,\n",
        " seed=1234)\n",
        "\n",
        "features = [f for f in X_train_XGB.columns]\n"
      ],
      "execution_count": 0,
      "outputs": []
    },
    {
      "cell_type": "code",
      "metadata": {
        "id": "gThkljeG7RK3",
        "colab_type": "code",
        "outputId": "bff16f55-3166-40e5-bff5-e51f4e197943",
        "colab": {
          "base_uri": "https://localhost:8080/",
          "height": 557
        }
      },
      "source": [
        "# fit XGBoost modle initial random parameter as baseline\n",
        "import pandas as pd\n",
        "import numpy as np\n",
        "import xgboost as xgb\n",
        "from xgboost.sklearn import XGBClassifier\n",
        "from sklearn import metrics \n",
        "from sklearn.model_selection import cross_validate\n",
        "from sklearn.model_selection import GridSearchCV  \n",
        "import matplotlib.pylab as plt\n",
        "%matplotlib inline\n",
        "from matplotlib.pylab import rcParams\n",
        "rcParams['figure.figsize'] = 12, 4\n",
        "\n",
        "\n",
        "XGBmodelfit(xgb1, X_train_XGB, y_train, features)\n",
        "\n",
        "# accuracy has improve to .83(from .81); auc= .89\n",
        "# monthly payment, total charges, and tenure are the most import features"
      ],
      "execution_count": 0,
      "outputs": [
        {
          "output_type": "stream",
          "text": [
            "\n",
            "Model Report\n",
            "Accuracy : 0.8293\n",
            "AUC Score (Train): 0.894469\n"
          ],
          "name": "stdout"
        },
        {
          "output_type": "display_data",
          "data": {
            "image/png": "[encoded data removed]",
            "text/plain": [
              "<Figure size 864x288 with 1 Axes>"
            ]
          },
          "metadata": {
            "tags": []
          }
        }
      ]
    },
    {
      "cell_type": "markdown",
      "metadata": {
        "id": "4Q6Y4pEFM3DJ",
        "colab_type": "text"
      },
      "source": [
        "### 4.3.2 Tune max_depth and min_child_weight"
      ]
    },
    {
      "cell_type": "code",
      "metadata": {
        "id": "EKKEQTMQCrhk",
        "colab_type": "code",
        "outputId": "e4a010a4-7bc8-4cef-81d5-22cbf4fda614",
        "colab": {
          "base_uri": "https://localhost:8080/",
          "height": 1000
        }
      },
      "source": [
        "# begin with an arbitrary parameters for max_depth and min_child_weight\n",
        "\n",
        "param_test1 = {\n",
        " 'max_depth':range(3,10,2),\n",
        " 'min_child_weight':range(1,6,2)\n",
        "}\n",
        "\n",
        "gsearch1 = GridSearchCV(estimator = XGBClassifier(learning_rate =0.1, n_estimators=140, max_depth=5,\n",
        " min_child_weight=1, gamma=0, subsample=0.8, colsample_bytree=0.8,\n",
        " objective= 'binary:logistic', nthread=4, scale_pos_weight=1, seed=27), \n",
        " param_grid = param_test1, scoring='roc_auc',n_jobs=4,iid=False, cv=5)\n",
        "\n",
        "gsearch1.fit(X_train_XGB,y_train)\n",
        "gsearch1.cv_results_, gsearch1.best_params_, gsearch1.best_score_\n",
        "\n",
        "\n",
        "# max_depth =3, min_child_weight = 3, new accuracy score after tuning = .84 (improved from .83)"
      ],
      "execution_count": 0,
      "outputs": [
        {
          "output_type": "stream",
          "text": [
            "/usr/local/lib/python3.6/dist-packages/sklearn/preprocessing/label.py:219: DataConversionWarning: A column-vector y was passed when a 1d array was expected. Please change the shape of y to (n_samples, ), for example using ravel().\n",
            "  y = column_or_1d(y, warn=True)\n",
            "/usr/local/lib/python3.6/dist-packages/sklearn/preprocessing/label.py:252: DataConversionWarning: A column-vector y was passed when a 1d array was expected. Please change the shape of y to (n_samples, ), for example using ravel().\n",
            "  y = column_or_1d(y, warn=True)\n"
          ],
          "name": "stderr"
        },
        {
          "output_type": "execute_result",
          "data": {
            "text/plain": [
              "({'mean_fit_time': array([2.20636125, 1.99762816, 1.9945256 , 3.24902942, 3.17813494,\n",
              "         3.17446625, 4.56749651, 4.35445998, 4.36622007, 5.93000183,\n",
              "         5.66619484, 4.96998456]),\n",
              "  'mean_score_time': array([0.03523109, 0.02137668, 0.01778853, 0.02200208, 0.02449052,\n",
              "         0.02546129, 0.02840605, 0.02724044, 0.02742863, 0.03314519,\n",
              "         0.03289561, 0.02432761]),\n",
              "  'mean_test_score': array([0.84089661, 0.84107871, 0.84050906, 0.82949117, 0.83057837,\n",
              "         0.83133656, 0.82168349, 0.82406962, 0.82629608, 0.8185085 ,\n",
              "         0.81930323, 0.82535519]),\n",
              "  'param_max_depth': masked_array(data=[3, 3, 3, 5, 5, 5, 7, 7, 7, 9, 9, 9],\n",
              "               mask=[False, False, False, False, False, False, False, False,\n",
              "                     False, False, False, False],\n",
              "         fill_value='?',\n",
              "              dtype=object),\n",
              "  'param_min_child_weight': masked_array(data=[1, 3, 5, 1, 3, 5, 1, 3, 5, 1, 3, 5],\n",
              "               mask=[False, False, False, False, False, False, False, False,\n",
              "                     False, False, False, False],\n",
              "         fill_value='?',\n",
              "              dtype=object),\n",
              "  'params': [{'max_depth': 3, 'min_child_weight': 1},\n",
              "   {'max_depth': 3, 'min_child_weight': 3},\n",
              "   {'max_depth': 3, 'min_child_weight': 5},\n",
              "   {'max_depth': 5, 'min_child_weight': 1},\n",
              "   {'max_depth': 5, 'min_child_weight': 3},\n",
              "   {'max_depth': 5, 'min_child_weight': 5},\n",
              "   {'max_depth': 7, 'min_child_weight': 1},\n",
              "   {'max_depth': 7, 'min_child_weight': 3},\n",
              "   {'max_depth': 7, 'min_child_weight': 5},\n",
              "   {'max_depth': 9, 'min_child_weight': 1},\n",
              "   {'max_depth': 9, 'min_child_weight': 3},\n",
              "   {'max_depth': 9, 'min_child_weight': 5}],\n",
              "  'rank_test_score': array([ 2,  1,  3,  6,  5,  4, 10,  9,  7, 12, 11,  8], dtype=int32),\n",
              "  'split0_test_score': array([0.8460177 , 0.8467171 , 0.84469027, 0.83825293, 0.83442763,\n",
              "         0.83685413, 0.82235227, 0.83185841, 0.82483585, 0.81001998,\n",
              "         0.82643448, 0.83277191]),\n",
              "  'split1_test_score': array([0.85360023, 0.8546227 , 0.85381624, 0.83761521, 0.84291475,\n",
              "         0.8453053 , 0.81915323, 0.83580069, 0.83640553, 0.82393433,\n",
              "         0.82059332, 0.83110599]),\n",
              "  'split2_test_score': array([0.81540899, 0.81396889, 0.81183756, 0.80377304, 0.80578917,\n",
              "         0.80604839, 0.79112903, 0.79668779, 0.79631336, 0.80486751,\n",
              "         0.78983295, 0.79585253]),\n",
              "  'split3_test_score': array([0.81836118, 0.81854839, 0.81775634, 0.80529954, 0.80642281,\n",
              "         0.80506912, 0.80057604, 0.79158986, 0.80187212, 0.79645737,\n",
              "         0.7921947 , 0.79974078]),\n",
              "  'split4_test_score': array([0.81468894, 0.81618664, 0.81670507, 0.81157834, 0.815553  ,\n",
              "         0.80685484, 0.81287442, 0.81235599, 0.81195276, 0.80100806,\n",
              "         0.80731567, 0.80841014]),\n",
              "  'split5_test_score': array([0.81209677, 0.81535138, 0.81658986, 0.79009217, 0.79282834,\n",
              "         0.79700461, 0.77404954, 0.78499424, 0.78770161, 0.7765265 ,\n",
              "         0.77332949, 0.78582949]),\n",
              "  'split6_test_score': array([0.84664459, 0.84673099, 0.84719182, 0.83816244, 0.84266993,\n",
              "         0.84498848, 0.83650634, 0.83938652, 0.84444124, 0.83807604,\n",
              "         0.84341878, 0.84402362]),\n",
              "  'split7_test_score': array([0.86491935, 0.86195276, 0.85901498, 0.85414747, 0.85103687,\n",
              "         0.85267857, 0.85538594, 0.8484735 , 0.84783986, 0.84441244,\n",
              "         0.84547811, 0.85063364]),\n",
              "  'split8_test_score': array([0.87135922, 0.86979889, 0.8709258 , 0.86526237, 0.86737171,\n",
              "         0.86803629, 0.8627485 , 0.860957  , 0.86555132, 0.85575589,\n",
              "         0.85763407, 0.86529126]),\n",
              "  'split9_test_score': array([0.86586916, 0.86690939, 0.86656264, 0.85072816, 0.84676953,\n",
              "         0.85052589, 0.84205964, 0.83859223, 0.84604716, 0.83402681,\n",
              "         0.83680074, 0.83989251]),\n",
              "  'std_fit_time': array([0.31069369, 0.16052241, 0.11094842, 0.55129259, 0.32225953,\n",
              "         0.21819911, 0.60543553, 0.3347003 , 0.38840888, 0.85385267,\n",
              "         0.91837435, 0.87511577]),\n",
              "  'std_score_time': array([0.01889152, 0.00606497, 0.00555447, 0.01433995, 0.00939307,\n",
              "         0.00800595, 0.00736531, 0.00791973, 0.00796827, 0.01237577,\n",
              "         0.01241652, 0.00704372]),\n",
              "  'std_test_score': array([0.02241222, 0.02167728, 0.02159666, 0.02382496, 0.0227958 ,\n",
              "         0.02385379, 0.0268135 , 0.02463497, 0.02453477, 0.02350461,\n",
              "         0.02637286, 0.02501546])},\n",
              " {'max_depth': 3, 'min_child_weight': 3},\n",
              " 0.8410787126324191)"
            ]
          },
          "metadata": {
            "tags": []
          },
          "execution_count": 105
        }
      ]
    },
    {
      "cell_type": "code",
      "metadata": {
        "id": "QL6VXa1qCsH0",
        "colab_type": "code",
        "outputId": "9e11c9e9-fbd1-4ad8-f1c4-e05742795b0d",
        "colab": {
          "base_uri": "https://localhost:8080/",
          "height": 504
        }
      },
      "source": [
        "# validate max_depth and min_child_weight with a range of optimal parameters\n",
        "\n",
        "param_test2 = {\n",
        " 'max_depth':range(2,3,4),\n",
        " 'min_child_weight':range(2,3,4)\n",
        "}\n",
        "\n",
        "gsearch2 = GridSearchCV(estimator = XGBClassifier(learning_rate =0.1, n_estimators=140, max_depth=5,\n",
        " min_child_weight=1, gamma=0, subsample=0.8, colsample_bytree=0.8,\n",
        " objective= 'binary:logistic', nthread=4, scale_pos_weight=1, seed=27), \n",
        " param_grid = param_test2, scoring='roc_auc',n_jobs=4,iid=False, cv=)\n",
        "\n",
        "gsearch2.fit(X_train_XGB,y_train)\n",
        "gsearch2.cv_results_, gsearch2.best_params_, gsearch2.best_score_\n",
        "\n",
        "# max_depth =2, min_child_weight = 2, new accuracy score after tuning = .85 (improved from .84)"
      ],
      "execution_count": 0,
      "outputs": [
        {
          "output_type": "stream",
          "text": [
            "/usr/local/lib/python3.6/dist-packages/sklearn/preprocessing/label.py:219: DataConversionWarning: A column-vector y was passed when a 1d array was expected. Please change the shape of y to (n_samples, ), for example using ravel().\n",
            "  y = column_or_1d(y, warn=True)\n",
            "/usr/local/lib/python3.6/dist-packages/sklearn/preprocessing/label.py:252: DataConversionWarning: A column-vector y was passed when a 1d array was expected. Please change the shape of y to (n_samples, ), for example using ravel().\n",
            "  y = column_or_1d(y, warn=True)\n"
          ],
          "name": "stderr"
        },
        {
          "output_type": "execute_result",
          "data": {
            "text/plain": [
              "({'mean_fit_time': array([1.16821895]),\n",
              "  'mean_score_time': array([0.01952801]),\n",
              "  'mean_test_score': array([0.84572256]),\n",
              "  'param_max_depth': masked_array(data=[2],\n",
              "               mask=[False],\n",
              "         fill_value='?',\n",
              "              dtype=object),\n",
              "  'param_min_child_weight': masked_array(data=[2],\n",
              "               mask=[False],\n",
              "         fill_value='?',\n",
              "              dtype=object),\n",
              "  'params': [{'max_depth': 2, 'min_child_weight': 2}],\n",
              "  'rank_test_score': array([1], dtype=int32),\n",
              "  'split0_test_score': array([0.85452688]),\n",
              "  'split1_test_score': array([0.82039891]),\n",
              "  'split2_test_score': array([0.82353471]),\n",
              "  'split3_test_score': array([0.85762967]),\n",
              "  'split4_test_score': array([0.87252265]),\n",
              "  'std_fit_time': array([0.35702103]),\n",
              "  'std_score_time': array([0.01057274]),\n",
              "  'std_test_score': array([0.02035253])},\n",
              " {'max_depth': 2, 'min_child_weight': 2},\n",
              " 0.8457225625761534)"
            ]
          },
          "metadata": {
            "tags": []
          },
          "execution_count": 94
        }
      ]
    },
    {
      "cell_type": "code",
      "metadata": {
        "id": "s_YYTnlzMQ7B",
        "colab_type": "code",
        "outputId": "ac71d93b-635a-4fe7-bec2-d3fefe44d7bb",
        "colab": {
          "base_uri": "https://localhost:8080/",
          "height": 504
        }
      },
      "source": [
        "# validate max_depth and min_child_weight again with varing values \n",
        "\n",
        "param_test3 = {\n",
        " 'max_depth':range(1,2,3),\n",
        " 'min_child_weight':range(1,2,3)\n",
        "}\n",
        "\n",
        "gsearch3 = GridSearchCV(estimator = XGBClassifier(learning_rate =0.1, n_estimators=140, max_depth=5,\n",
        " min_child_weight=1, gamma=0, subsample=0.8, colsample_bytree=0.8,\n",
        " objective= 'binary:logistic', nthread=4, scale_pos_weight=1, seed=27), \n",
        " param_grid = param_test3, scoring='roc_auc',n_jobs=4,iid=False, cv=5)\n",
        "\n",
        "gsearch3.fit(X_train_XGB,y_train)\n",
        "gsearch3.cv_results_, gsearch3.best_params_, gsearch3.best_score_\n",
        "\n",
        "# max_depth =1, min_child_weight = 1 show slightly better accuracy = .847 (compared to .845)"
      ],
      "execution_count": 0,
      "outputs": [
        {
          "output_type": "stream",
          "text": [
            "/usr/local/lib/python3.6/dist-packages/sklearn/preprocessing/label.py:219: DataConversionWarning: A column-vector y was passed when a 1d array was expected. Please change the shape of y to (n_samples, ), for example using ravel().\n",
            "  y = column_or_1d(y, warn=True)\n",
            "/usr/local/lib/python3.6/dist-packages/sklearn/preprocessing/label.py:252: DataConversionWarning: A column-vector y was passed when a 1d array was expected. Please change the shape of y to (n_samples, ), for example using ravel().\n",
            "  y = column_or_1d(y, warn=True)\n"
          ],
          "name": "stderr"
        },
        {
          "output_type": "execute_result",
          "data": {
            "text/plain": [
              "({'mean_fit_time': array([0.77679472]),\n",
              "  'mean_score_time': array([0.01513591]),\n",
              "  'mean_test_score': array([0.84718001]),\n",
              "  'param_max_depth': masked_array(data=[1],\n",
              "               mask=[False],\n",
              "         fill_value='?',\n",
              "              dtype=object),\n",
              "  'param_min_child_weight': masked_array(data=[1],\n",
              "               mask=[False],\n",
              "         fill_value='?',\n",
              "              dtype=object),\n",
              "  'params': [{'max_depth': 1, 'min_child_weight': 1}],\n",
              "  'rank_test_score': array([1], dtype=int32),\n",
              "  'split0_test_score': array([0.85589247]),\n",
              "  'split1_test_score': array([0.82833741]),\n",
              "  'split2_test_score': array([0.82642209]),\n",
              "  'split3_test_score': array([0.85723301]),\n",
              "  'split4_test_score': array([0.86801509]),\n",
              "  'std_fit_time': array([0.18824304]),\n",
              "  'std_score_time': array([0.00817846]),\n",
              "  'std_test_score': array([0.01671529])},\n",
              " {'max_depth': 1, 'min_child_weight': 1},\n",
              " 0.847180014746792)"
            ]
          },
          "metadata": {
            "tags": []
          },
          "execution_count": 95
        }
      ]
    },
    {
      "cell_type": "code",
      "metadata": {
        "id": "jmnL-sbXQg2y",
        "colab_type": "code",
        "outputId": "c48f1405-5820-45ec-b6f5-0768879e539d",
        "colab": {
          "base_uri": "https://localhost:8080/",
          "height": 504
        }
      },
      "source": [
        "param_test4 = {\n",
        " 'max_depth':range(0,1,2),\n",
        " 'min_child_weight':range(0,1,2)\n",
        "}\n",
        "\n",
        "gsearch4 = GridSearchCV(estimator = XGBClassifier(learning_rate =0.1, n_estimators=140, max_depth=5,\n",
        " min_child_weight=1, gamma=0, subsample=0.8, colsample_bytree=0.8,\n",
        " objective= 'binary:logistic', nthread=4, scale_pos_weight=1, seed=27), \n",
        " param_grid = param_test4, scoring='roc_auc',n_jobs=4,iid=False, cv=5)\n",
        "\n",
        "gsearch4.fit(X_train_XGB,y_train)\n",
        "gsearch4.cv_results_, gsearch4.best_params_, gsearch4.best_score_\n",
        "\n",
        "# result shows max_depth =2, min_child_weight = 2 is still a better setting with accuracy = .85)"
      ],
      "execution_count": 0,
      "outputs": [
        {
          "output_type": "stream",
          "text": [
            "/usr/local/lib/python3.6/dist-packages/sklearn/preprocessing/label.py:219: DataConversionWarning: A column-vector y was passed when a 1d array was expected. Please change the shape of y to (n_samples, ), for example using ravel().\n",
            "  y = column_or_1d(y, warn=True)\n",
            "/usr/local/lib/python3.6/dist-packages/sklearn/preprocessing/label.py:252: DataConversionWarning: A column-vector y was passed when a 1d array was expected. Please change the shape of y to (n_samples, ), for example using ravel().\n",
            "  y = column_or_1d(y, warn=True)\n"
          ],
          "name": "stderr"
        },
        {
          "output_type": "execute_result",
          "data": {
            "text/plain": [
              "({'mean_fit_time': array([0.40873456]),\n",
              "  'mean_score_time': array([0.01412935]),\n",
              "  'mean_test_score': array([0.5]),\n",
              "  'param_max_depth': masked_array(data=[0],\n",
              "               mask=[False],\n",
              "         fill_value='?',\n",
              "              dtype=object),\n",
              "  'param_min_child_weight': masked_array(data=[0],\n",
              "               mask=[False],\n",
              "         fill_value='?',\n",
              "              dtype=object),\n",
              "  'params': [{'max_depth': 0, 'min_child_weight': 0}],\n",
              "  'rank_test_score': array([1], dtype=int32),\n",
              "  'split0_test_score': array([0.5]),\n",
              "  'split1_test_score': array([0.5]),\n",
              "  'split2_test_score': array([0.5]),\n",
              "  'split3_test_score': array([0.5]),\n",
              "  'split4_test_score': array([0.5]),\n",
              "  'std_fit_time': array([0.12572587]),\n",
              "  'std_score_time': array([0.00654993]),\n",
              "  'std_test_score': array([0.])},\n",
              " {'max_depth': 0, 'min_child_weight': 0},\n",
              " 0.5)"
            ]
          },
          "metadata": {
            "tags": []
          },
          "execution_count": 96
        }
      ]
    },
    {
      "cell_type": "markdown",
      "metadata": {
        "id": "DuZa86QaNTHQ",
        "colab_type": "text"
      },
      "source": [
        "### 4.3.3 Tune gamma"
      ]
    },
    {
      "cell_type": "code",
      "metadata": {
        "id": "3ueOjOY3NSVw",
        "colab_type": "code",
        "outputId": "3f3d94cc-fc54-4405-ebcb-6a1df740e3ed",
        "colab": {
          "base_uri": "https://localhost:8080/",
          "height": 504
        }
      },
      "source": [
        "param_test5 = {\n",
        " 'gamma':[i/10.0 for i in range(0,5)]\n",
        "}\n",
        "gsearch5 = GridSearchCV(estimator = XGBClassifier(learning_rate =0.1, n_estimators=140, max_depth=2,\n",
        " min_child_weight=2, gamma=0, subsample=0.8, colsample_bytree=0.8,\n",
        " objective= 'binary:logistic', nthread=4, scale_pos_weight=1,seed=27), \n",
        " param_grid = param_test5, scoring='roc_auc',n_jobs=4,iid=False, cv=5)\n",
        "\n",
        "gsearch5.fit(X_train_XGB,y_train)\n",
        "gsearch5.cv_results_, gsearch5.best_params_, gsearch5.best_score_\n",
        "\n",
        "# gamma = .4 yields the best accuracy, though it does not help with accuracy rate significantly"
      ],
      "execution_count": 0,
      "outputs": [
        {
          "output_type": "stream",
          "text": [
            "/usr/local/lib/python3.6/dist-packages/sklearn/preprocessing/label.py:219: DataConversionWarning: A column-vector y was passed when a 1d array was expected. Please change the shape of y to (n_samples, ), for example using ravel().\n",
            "  y = column_or_1d(y, warn=True)\n",
            "/usr/local/lib/python3.6/dist-packages/sklearn/preprocessing/label.py:252: DataConversionWarning: A column-vector y was passed when a 1d array was expected. Please change the shape of y to (n_samples, ), for example using ravel().\n",
            "  y = column_or_1d(y, warn=True)\n"
          ],
          "name": "stderr"
        },
        {
          "output_type": "execute_result",
          "data": {
            "text/plain": [
              "({'mean_fit_time': array([1.36342463, 1.48805027, 1.26046405, 1.46022034, 1.11922107]),\n",
              "  'mean_score_time': array([0.02183142, 0.02232575, 0.03653393, 0.02300248, 0.02044673]),\n",
              "  'mean_test_score': array([0.84572256, 0.84591167, 0.84583822, 0.84586481, 0.84594933]),\n",
              "  'param_gamma': masked_array(data=[0.0, 0.1, 0.2, 0.3, 0.4],\n",
              "               mask=[False, False, False, False, False],\n",
              "         fill_value='?',\n",
              "              dtype=object),\n",
              "  'params': [{'gamma': 0.0},\n",
              "   {'gamma': 0.1},\n",
              "   {'gamma': 0.2},\n",
              "   {'gamma': 0.3},\n",
              "   {'gamma': 0.4}],\n",
              "  'rank_test_score': array([5, 2, 4, 3, 1], dtype=int32),\n",
              "  'split0_test_score': array([0.85452688, 0.85438351, 0.85438351, 0.85443728, 0.85495341]),\n",
              "  'split1_test_score': array([0.82039891, 0.82046371, 0.82042771, 0.82042771, 0.82042771]),\n",
              "  'split2_test_score': array([0.82353471, 0.82353471, 0.82323229, 0.82333309, 0.82318188]),\n",
              "  'split3_test_score': array([0.85762967, 0.85860331, 0.85857446, 0.85857446, 0.85860331]),\n",
              "  'split4_test_score': array([0.87252265, 0.87257313, 0.87257313, 0.87255149, 0.87258034]),\n",
              "  'std_fit_time': array([0.1495096 , 0.10145624, 0.08284331, 0.14405477, 0.19685739]),\n",
              "  'std_score_time': array([0.00751934, 0.00739663, 0.01586598, 0.01068919, 0.00982842]),\n",
              "  'std_test_score': array([0.02035253, 0.02045488, 0.02052662, 0.0205033 , 0.02059183])},\n",
              " {'gamma': 0.4},\n",
              " 0.8459493289547915)"
            ]
          },
          "metadata": {
            "tags": []
          },
          "execution_count": 97
        }
      ]
    },
    {
      "cell_type": "markdown",
      "metadata": {
        "id": "_qxMuM9nR8cc",
        "colab_type": "text"
      },
      "source": [
        "### 4.3.4 Tune subsample and colsample_bytree"
      ]
    },
    {
      "cell_type": "code",
      "metadata": {
        "id": "TB_W76_9Ryr2",
        "colab_type": "code",
        "outputId": "f61998ce-8414-458c-bf8e-72bb1c9403fd",
        "colab": {
          "base_uri": "https://localhost:8080/",
          "height": 866
        }
      },
      "source": [
        "param_test6 = {\n",
        " 'subsample':[i/100.0 for i in range(75,90,5)],\n",
        " 'colsample_bytree':[i/100.0 for i in range(75,90,5)]\n",
        "}\n",
        "gsearch6 = GridSearchCV(estimator = XGBClassifier(learning_rate =0.1, n_estimators=140, max_depth=2,\n",
        " min_child_weight=2, gamma=0.4, subsample=0.8, colsample_bytree=0.8,\n",
        " objective= 'binary:logistic', nthread=4, scale_pos_weight=1,seed=27), \n",
        " param_grid = param_test6, scoring='roc_auc',n_jobs=4,iid=False, cv=5)\n",
        "\n",
        "gsearch6.fit(X_train_XGB,y_train)\n",
        "gsearch6.cv_results_, gsearch6.best_params_, gsearch6.best_score_\n",
        "\n",
        "# subsample=0.8, colsample_bytree=0.8 remains optimal parameters without significant improvement in accuracy"
      ],
      "execution_count": 0,
      "outputs": [
        {
          "output_type": "stream",
          "text": [
            "/usr/local/lib/python3.6/dist-packages/sklearn/preprocessing/label.py:219: DataConversionWarning: A column-vector y was passed when a 1d array was expected. Please change the shape of y to (n_samples, ), for example using ravel().\n",
            "  y = column_or_1d(y, warn=True)\n",
            "/usr/local/lib/python3.6/dist-packages/sklearn/preprocessing/label.py:252: DataConversionWarning: A column-vector y was passed when a 1d array was expected. Please change the shape of y to (n_samples, ), for example using ravel().\n",
            "  y = column_or_1d(y, warn=True)\n"
          ],
          "name": "stderr"
        },
        {
          "output_type": "execute_result",
          "data": {
            "text/plain": [
              "({'mean_fit_time': array([1.33926167, 1.37097282, 1.27250094, 1.48737574, 1.2979147 ,\n",
              "         1.37693167, 1.45002499, 1.53200297, 1.20415354]),\n",
              "  'mean_score_time': array([0.03581705, 0.02945294, 0.02501068, 0.02493391, 0.02583323,\n",
              "         0.02082558, 0.02721558, 0.0291256 , 0.0236249 ]),\n",
              "  'mean_test_score': array([0.84543379, 0.84538216, 0.84528716, 0.84538057, 0.84594933,\n",
              "         0.84533321, 0.84510511, 0.8450828 , 0.84501001]),\n",
              "  'param_colsample_bytree': masked_array(data=[0.75, 0.75, 0.75, 0.8, 0.8, 0.8, 0.85, 0.85, 0.85],\n",
              "               mask=[False, False, False, False, False, False, False, False,\n",
              "                     False],\n",
              "         fill_value='?',\n",
              "              dtype=object),\n",
              "  'param_subsample': masked_array(data=[0.75, 0.8, 0.85, 0.75, 0.8, 0.85, 0.75, 0.8, 0.85],\n",
              "               mask=[False, False, False, False, False, False, False, False,\n",
              "                     False],\n",
              "         fill_value='?',\n",
              "              dtype=object),\n",
              "  'params': [{'colsample_bytree': 0.75, 'subsample': 0.75},\n",
              "   {'colsample_bytree': 0.75, 'subsample': 0.8},\n",
              "   {'colsample_bytree': 0.75, 'subsample': 0.85},\n",
              "   {'colsample_bytree': 0.8, 'subsample': 0.75},\n",
              "   {'colsample_bytree': 0.8, 'subsample': 0.8},\n",
              "   {'colsample_bytree': 0.8, 'subsample': 0.85},\n",
              "   {'colsample_bytree': 0.85, 'subsample': 0.75},\n",
              "   {'colsample_bytree': 0.85, 'subsample': 0.8},\n",
              "   {'colsample_bytree': 0.85, 'subsample': 0.85}],\n",
              "  'rank_test_score': array([2, 3, 6, 4, 1, 5, 7, 8, 9], dtype=int32),\n",
              "  'split0_test_score': array([0.85268459, 0.85397849, 0.85316487, 0.85332975, 0.85495341,\n",
              "         0.85179928, 0.85190681, 0.8533871 , 0.85291756]),\n",
              "  'split1_test_score': array([0.82215582, 0.82072653, 0.82129896, 0.82069412, 0.82042771,\n",
              "         0.82118736, 0.81934044, 0.81854479, 0.81993808]),\n",
              "  'split2_test_score': array([0.82516201, 0.82300907, 0.82489559, 0.82371112, 0.82318188,\n",
              "         0.82379752, 0.82360311, 0.82313148, 0.82334749]),\n",
              "  'split3_test_score': array([0.8573448 , 0.8574674 , 0.85737725, 0.8568724 , 0.85860331,\n",
              "         0.85747822, 0.85784604, 0.85606104, 0.85799028]),\n",
              "  'split4_test_score': array([0.86982172, 0.87172932, 0.86969911, 0.87229547, 0.87258034,\n",
              "         0.87240365, 0.87282916, 0.87428961, 0.87085665]),\n",
              "  'std_fit_time': array([0.07266445, 0.09786765, 0.086237  , 0.2870822 , 0.0907823 ,\n",
              "         0.09330885, 0.19488862, 0.23044512, 0.28323734]),\n",
              "  'std_score_time': array([0.01111985, 0.01272384, 0.00837066, 0.00993975, 0.0050887 ,\n",
              "         0.00795577, 0.0076304 , 0.00426975, 0.01657443]),\n",
              "  'std_test_score': array([0.01866562, 0.02011257, 0.01894952, 0.01999324, 0.02059183,\n",
              "         0.01984403, 0.02051035, 0.02111231, 0.01998465])},\n",
              " {'colsample_bytree': 0.8, 'subsample': 0.8},\n",
              " 0.8459493289547915)"
            ]
          },
          "metadata": {
            "tags": []
          },
          "execution_count": 98
        }
      ]
    },
    {
      "cell_type": "markdown",
      "metadata": {
        "id": "byk5BgEXSyb-",
        "colab_type": "text"
      },
      "source": [
        "### 4.3.5 Tune regularization parameters"
      ]
    },
    {
      "cell_type": "code",
      "metadata": {
        "id": "7voLkKN_Sxq0",
        "colab_type": "code",
        "outputId": "d0f802ae-5a85-43a2-c02b-11abbc72c621",
        "colab": {
          "base_uri": "https://localhost:8080/",
          "height": 504
        }
      },
      "source": [
        "param_test7 = {\n",
        " 'reg_alpha':[1e-5, 1e-2, 0.1, 1, 100]\n",
        "}\n",
        "gsearch7 = GridSearchCV(estimator = XGBClassifier(learning_rate =0.1, n_estimators=140, max_depth=2,\n",
        " min_child_weight=2, gamma=0.4, subsample=0.8, colsample_bytree=0.8,\n",
        " objective= 'binary:logistic', nthread=4, scale_pos_weight=1,seed=27), \n",
        " param_grid = param_test7, scoring='roc_auc',n_jobs=4,iid=False, cv=5)\n",
        "\n",
        "gsearch7.fit(X_train_XGB,y_train)\n",
        "gsearch7.cv_results_, gsearch7.best_params_, gsearch7.best_score_\n",
        "\n",
        "# reg_alpha= 1 is the optimal setting, but no significant improvement in accuracy"
      ],
      "execution_count": 0,
      "outputs": [
        {
          "output_type": "stream",
          "text": [
            "/usr/local/lib/python3.6/dist-packages/sklearn/preprocessing/label.py:219: DataConversionWarning: A column-vector y was passed when a 1d array was expected. Please change the shape of y to (n_samples, ), for example using ravel().\n",
            "  y = column_or_1d(y, warn=True)\n",
            "/usr/local/lib/python3.6/dist-packages/sklearn/preprocessing/label.py:252: DataConversionWarning: A column-vector y was passed when a 1d array was expected. Please change the shape of y to (n_samples, ), for example using ravel().\n",
            "  y = column_or_1d(y, warn=True)\n"
          ],
          "name": "stderr"
        },
        {
          "output_type": "execute_result",
          "data": {
            "text/plain": [
              "({'mean_fit_time': array([1.36190972, 1.3421144 , 1.33687391, 1.34599814, 1.03733253]),\n",
              "  'mean_score_time': array([0.02803187, 0.03730874, 0.03709917, 0.03146873, 0.01967425]),\n",
              "  'mean_test_score': array([0.84594933, 0.84612965, 0.84542815, 0.84617159, 0.83484373]),\n",
              "  'param_reg_alpha': masked_array(data=[1e-05, 0.01, 0.1, 1, 100],\n",
              "               mask=[False, False, False, False, False],\n",
              "         fill_value='?',\n",
              "              dtype=object),\n",
              "  'params': [{'reg_alpha': 1e-05},\n",
              "   {'reg_alpha': 0.01},\n",
              "   {'reg_alpha': 0.1},\n",
              "   {'reg_alpha': 1},\n",
              "   {'reg_alpha': 100}],\n",
              "  'rank_test_score': array([3, 2, 4, 1, 5], dtype=int32),\n",
              "  'split0_test_score': array([0.85495341, 0.85467742, 0.85392473, 0.85539785, 0.84374194]),\n",
              "  'split1_test_score': array([0.82042771, 0.82049251, 0.82150778, 0.82255184, 0.82236823]),\n",
              "  'split2_test_score': array([0.82318188, 0.82409274, 0.82295507, 0.8234519 , 0.82012169]),\n",
              "  'split3_test_score': array([0.85860331, 0.85881967, 0.85845906, 0.85829319, 0.83554264]),\n",
              "  'split4_test_score': array([0.87258034, 0.87256592, 0.87029411, 0.87116317, 0.85244418]),\n",
              "  'std_fit_time': array([0.07078975, 0.02185636, 0.0149014 , 0.01265181, 0.28746904]),\n",
              "  'std_score_time': array([0.00494424, 0.01362721, 0.01028104, 0.00448697, 0.01053198]),\n",
              "  'std_test_score': array([0.02059183, 0.0203758 , 0.0196852 , 0.01965051, 0.01234357])},\n",
              " {'reg_alpha': 1},\n",
              " 0.8461715892227442)"
            ]
          },
          "metadata": {
            "tags": []
          },
          "execution_count": 99
        }
      ]
    },
    {
      "cell_type": "markdown",
      "metadata": {
        "id": "fyCeqmiCUT7L",
        "colab_type": "text"
      },
      "source": [
        "### 4.3.6 Conclude tuned parameters with more trees & lower learning rate"
      ]
    },
    {
      "cell_type": "code",
      "metadata": {
        "id": "B3f0MjMqUMl8",
        "colab_type": "code",
        "outputId": "8b029515-a634-4a13-919d-08b606f63449",
        "colab": {
          "base_uri": "https://localhost:8080/",
          "height": 557
        }
      },
      "source": [
        "xgb2 = XGBClassifier(\n",
        " learning_rate =0.01,\n",
        " n_estimators=5000,\n",
        " max_depth=2,\n",
        " min_child_weight=2,\n",
        " gamma=0.4,\n",
        " subsample=0.8,\n",
        " colsample_bytree=0.8,\n",
        " reg_alpha=1,\n",
        " objective= 'binary:logistic',\n",
        " nthread=4,\n",
        " scale_pos_weight=1,\n",
        " seed=27)\n",
        "\n",
        "# fit XGBoost model again with optimized parameters\n",
        "XGBmodelfit(xgb2, X_train_XGB, y_train, features)\n",
        "\n",
        "# accuracy .81, auc .86 (compared to xgb1(before tuning).83(from .81); auc= .89)\n",
        "# result shows that optimized parameters do not yield better result \n",
        "\n"
      ],
      "execution_count": 0,
      "outputs": [
        {
          "output_type": "stream",
          "text": [
            "\n",
            "Model Report\n",
            "Accuracy : 0.8111\n",
            "AUC Score (Train): 0.861672\n"
          ],
          "name": "stdout"
        },
        {
          "output_type": "display_data",
          "data": {
            "image/png": "[encoded data removed]",
            "text/plain": [
              "<Figure size 864x288 with 1 Axes>"
            ]
          },
          "metadata": {
            "tags": []
          }
        }
      ]
    },
    {
      "cell_type": "markdown",
      "metadata": {
        "id": "pU2u50p1WlDs",
        "colab_type": "text"
      },
      "source": [
        "### 4.4 Fit xgb1 and xgb2 (parameters tuned) on validation data"
      ]
    },
    {
      "cell_type": "code",
      "metadata": {
        "id": "4ZQx153oWkW0",
        "colab_type": "code",
        "outputId": "22f151d9-4ddc-4958-85e2-58c6ed37d44b",
        "colab": {
          "base_uri": "https://localhost:8080/",
          "height": 557
        }
      },
      "source": [
        "XGBmodelfit(xgb1, X_val_XGB, y_val, features)\n",
        "# accuracy: .87, auc .94"
      ],
      "execution_count": 0,
      "outputs": [
        {
          "output_type": "stream",
          "text": [
            "\n",
            "Model Report\n",
            "Accuracy : 0.8664\n",
            "AUC Score (Train): 0.935781\n"
          ],
          "name": "stdout"
        },
        {
          "output_type": "display_data",
          "data": {
            "image/png": "[encoded data removed]",
            "text/plain": [
              "<Figure size 864x288 with 1 Axes>"
            ]
          },
          "metadata": {
            "tags": []
          }
        }
      ]
    },
    {
      "cell_type": "code",
      "metadata": {
        "id": "bjbUuGavW30k",
        "colab_type": "code",
        "outputId": "a742f2a5-757f-4796-d384-b3ff30155c6b",
        "colab": {
          "base_uri": "https://localhost:8080/",
          "height": 510
        }
      },
      "source": [
        "XGBmodelfit(xgb2, X_val_XGB, y_val, features)\n",
        "# accuracy: .81, auc .85"
      ],
      "execution_count": 0,
      "outputs": [
        {
          "output_type": "stream",
          "text": [
            "\n",
            "Model Report\n",
            "Accuracy : 0.8102\n",
            "AUC Score (Train): 0.852311\n"
          ],
          "name": "stdout"
        },
        {
          "output_type": "display_data",
          "data": {
            "image/png": "[encoded data removed]",
            "text/plain": [
              "<Figure size 864x288 with 1 Axes>"
            ]
          },
          "metadata": {
            "tags": []
          }
        }
      ]
    },
    {
      "cell_type": "markdown",
      "metadata": {
        "id": "ESBEvOEGX8IX",
        "colab_type": "text"
      },
      "source": [
        "### Summary: \n",
        "  - Tunned parameters actually tields a worse accuracy result on the validation set\n",
        "  - This suggests that tuning process is perhaps subject to overfitting the train data\n",
        "  - However, the optimized with tuned parameters also exhibits a satisfactory performance, and it also gives good insights in important features other than just payment amount regarding churn prediction. For instance, **monthly contract, use of online security**, and **tech support** can be valuable information to take business action on to prevent churn \n",
        "  - To examine the robustness of current **xgb1** model, we can see its perfomance on another hold-out test set and compared to the tuned model **xgb2**"
      ]
    },
    {
      "cell_type": "markdown",
      "metadata": {
        "id": "q6iM-74YYlGQ",
        "colab_type": "text"
      },
      "source": [
        "### Predict on completely hold-out test set"
      ]
    },
    {
      "cell_type": "code",
      "metadata": {
        "id": "mwI3p17JdOI1",
        "colab_type": "code",
        "outputId": "612bc095-f98a-4b2f-add2-b268b3287e29",
        "colab": {
          "base_uri": "https://localhost:8080/",
          "height": 35
        }
      },
      "source": [
        "X_test.shape # 1406 data points in this hold-out test set"
      ],
      "execution_count": 0,
      "outputs": [
        {
          "output_type": "execute_result",
          "data": {
            "text/plain": [
              "(1406, 20)"
            ]
          },
          "metadata": {
            "tags": []
          },
          "execution_count": 108
        }
      ]
    },
    {
      "cell_type": "code",
      "metadata": {
        "id": "ib8b52yYc796",
        "colab_type": "code",
        "outputId": "d427d56a-0ffa-4226-db2f-8abfe466df7c",
        "colab": {
          "base_uri": "https://localhost:8080/",
          "height": 557
        }
      },
      "source": [
        "XGBmodelfit(xgb1, X_test_XGB, y_test, features)\n",
        "# accuracy: .89, auc .94\n",
        "# xgb1 model performance show stability and robustness "
      ],
      "execution_count": 0,
      "outputs": [
        {
          "output_type": "stream",
          "text": [
            "\n",
            "Model Report\n",
            "Accuracy : 0.8848\n",
            "AUC Score (Train): 0.944549\n"
          ],
          "name": "stdout"
        },
        {
          "output_type": "display_data",
          "data": {
            "image/png": "[encoded data removed]",
            "text/plain": [
              "<Figure size 864x288 with 1 Axes>"
            ]
          },
          "metadata": {
            "tags": []
          }
        }
      ]
    },
    {
      "cell_type": "code",
      "metadata": {
        "id": "NFwK4BB0dBqB",
        "colab_type": "code",
        "outputId": "2e8df3d9-5a90-43a4-90a2-797b4fdc7fc0",
        "colab": {
          "base_uri": "https://localhost:8080/",
          "height": 557
        }
      },
      "source": [
        "XGBmodelfit(xgb2, X_test_XGB, y_test, features)\n",
        "\n",
        "# althout general performance of this tuned xgb2 model is not as good as xgb1, the result shows that monthly charge,\n",
        "# month-to-month contract, and use of tech support remain as important predictive features across dataset for customer churn"
      ],
      "execution_count": 0,
      "outputs": [
        {
          "output_type": "stream",
          "text": [
            "\n",
            "Model Report\n",
            "Accuracy : 0.8215\n",
            "AUC Score (Train): 0.869562\n"
          ],
          "name": "stdout"
        },
        {
          "output_type": "display_data",
          "data": {
            "image/png": "[encoded data removed]",
            "text/plain": [
              "<Figure size 864x288 with 1 Axes>"
            ]
          },
          "metadata": {
            "tags": []
          }
        }
      ]
    },
    {
      "cell_type": "markdown",
      "metadata": {
        "colab_type": "text",
        "id": "jMIQyUZNLT12"
      },
      "source": [
        "### 5. Final Summary\n",
        "\n",
        "- Important features regarding predicting customer churn include: tenure, month charge, use of monthly contract, fiber optic, and tech support (useful reference for marketing and CRM) \n",
        "- XGBoost performs better than logistic regression on predicting customer churn in this current dataset\n",
        "- Setup of optimal parameters is as follows:\n",
        "\n",
        "\n",
        "---\n",
        "\n",
        "\n",
        "\n",
        "\n",
        "```\n",
        "# optimal parameters beow:\n",
        "\n",
        "xgb1 = XGBClassifier(\n",
        " learning_rate =0.1,\n",
        " n_estimators=1000,\n",
        " max_depth=5,\n",
        " min_child_weight=1,\n",
        " gamma=0,\n",
        " subsample=0.8,\n",
        " colsample_bytree=0.8,\n",
        " objective= 'binary:logistic',\n",
        " nthread=4,\n",
        " scale_pos_weight=1)\n",
        "```\n",
        "\n"
      ]
    },
    {
      "cell_type": "markdown",
      "metadata": {
        "id": "3EfDySL-LWL-",
        "colab_type": "text"
      },
      "source": [
        "## END OF THIS PROJECT NOTEBOOK"
      ]
    }
  ]
}