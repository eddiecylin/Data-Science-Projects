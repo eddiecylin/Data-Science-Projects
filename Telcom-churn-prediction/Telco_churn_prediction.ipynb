{
  "nbformat": 4,
  "nbformat_minor": 0,
  "metadata": {
    "kernelspec": {
      "display_name": "conda_python3",
      "language": "python",
      "name": "conda_python3"
    },
    "language_info": {
      "codemirror_mode": {
        "name": "ipython",
        "version": 3
      },
      "file_extension": ".py",
      "mimetype": "text/x-python",
      "name": "python",
      "nbconvert_exporter": "python",
      "pygments_lexer": "ipython3",
      "version": "3.6.5"
    },
    "colab": {
      "name": "Telco_churn_prediction.ipynb",
      "provenance": [],
      "collapsed_sections": [
        "txTbLZKVvHiF"
      ]
    },
    "accelerator": "GPU"
  },
  "cells": [
    {
      "cell_type": "markdown",
      "metadata": {
        "id": "zq15X1nr0T9M",
        "colab_type": "text"
      },
      "source": [
        "## Project goals:\n",
        "### 1. Train a classification model that can efficiently predict customer churn\n",
        "### 2. Identify important features that affect customer churn/retention"
      ]
    },
    {
      "cell_type": "markdown",
      "metadata": {
        "id": "0nTy2jscvHbE",
        "colab_type": "text"
      },
      "source": [
        "## 1. Set up the basics"
      ]
    },
    {
      "cell_type": "code",
      "metadata": {
        "id": "IP1O1Ly_vHbM",
        "colab_type": "code",
        "colab": {}
      },
      "source": [
        "# import libraries\n",
        "\n",
        "import pandas as pd\n",
        "import numpy as np\n",
        "import seaborn as sns\n",
        "import matplotlib.pyplot as plt\n",
        "import io\n",
        "import os\n",
        "import sys\n",
        "import time\n",
        "import json\n",
        "from IPython.display import display\n",
        "from time import strftime, gmtime\n",
        "from sklearn.model_selection import train_test_split\n",
        "from sklearn import preprocessing"
      ],
      "execution_count": 0,
      "outputs": []
    },
    {
      "cell_type": "markdown",
      "metadata": {
        "id": "ny2eO7YovHbV",
        "colab_type": "text"
      },
      "source": [
        "## 2. Import data "
      ]
    },
    {
      "cell_type": "code",
      "metadata": {
        "id": "BIo71DCuvHbX",
        "colab_type": "code",
        "outputId": "dde97f39-90a6-469c-fdff-209d3ca65a3c",
        "colab": {
          "base_uri": "https://localhost:8080/",
          "height": 541
        }
      },
      "source": [
        "df = pd.read_csv('Telco-Customer-Churn.csv')\n",
        "pd.set_option('display.max_columns', 100)\n",
        "df.head(10) # 7043 row x 21 columns"
      ],
      "execution_count": 56,
      "outputs": [
        {
          "output_type": "execute_result",
          "data": {
            "text/html": [
              "<div>\n",
              "<style scoped>\n",
              "    .dataframe tbody tr th:only-of-type {\n",
              "        vertical-align: middle;\n",
              "    }\n",
              "\n",
              "    .dataframe tbody tr th {\n",
              "        vertical-align: top;\n",
              "    }\n",
              "\n",
              "    .dataframe thead th {\n",
              "        text-align: right;\n",
              "    }\n",
              "</style>\n",
              "<table border=\"1\" class=\"dataframe\">\n",
              "  <thead>\n",
              "    <tr style=\"text-align: right;\">\n",
              "      <th></th>\n",
              "      <th>customerID</th>\n",
              "      <th>gender</th>\n",
              "      <th>SeniorCitizen</th>\n",
              "      <th>Partner</th>\n",
              "      <th>Dependents</th>\n",
              "      <th>tenure</th>\n",
              "      <th>PhoneService</th>\n",
              "      <th>MultipleLines</th>\n",
              "      <th>InternetService</th>\n",
              "      <th>OnlineSecurity</th>\n",
              "      <th>OnlineBackup</th>\n",
              "      <th>DeviceProtection</th>\n",
              "      <th>TechSupport</th>\n",
              "      <th>StreamingTV</th>\n",
              "      <th>StreamingMovies</th>\n",
              "      <th>Contract</th>\n",
              "      <th>PaperlessBilling</th>\n",
              "      <th>PaymentMethod</th>\n",
              "      <th>MonthlyCharges</th>\n",
              "      <th>TotalCharges</th>\n",
              "      <th>Churn</th>\n",
              "    </tr>\n",
              "  </thead>\n",
              "  <tbody>\n",
              "    <tr>\n",
              "      <th>0</th>\n",
              "      <td>7590-VHVEG</td>\n",
              "      <td>Female</td>\n",
              "      <td>0</td>\n",
              "      <td>Yes</td>\n",
              "      <td>No</td>\n",
              "      <td>1</td>\n",
              "      <td>No</td>\n",
              "      <td>No phone service</td>\n",
              "      <td>DSL</td>\n",
              "      <td>No</td>\n",
              "      <td>Yes</td>\n",
              "      <td>No</td>\n",
              "      <td>No</td>\n",
              "      <td>No</td>\n",
              "      <td>No</td>\n",
              "      <td>Month-to-month</td>\n",
              "      <td>Yes</td>\n",
              "      <td>Electronic check</td>\n",
              "      <td>29.85</td>\n",
              "      <td>29.85</td>\n",
              "      <td>No</td>\n",
              "    </tr>\n",
              "    <tr>\n",
              "      <th>1</th>\n",
              "      <td>5575-GNVDE</td>\n",
              "      <td>Male</td>\n",
              "      <td>0</td>\n",
              "      <td>No</td>\n",
              "      <td>No</td>\n",
              "      <td>34</td>\n",
              "      <td>Yes</td>\n",
              "      <td>No</td>\n",
              "      <td>DSL</td>\n",
              "      <td>Yes</td>\n",
              "      <td>No</td>\n",
              "      <td>Yes</td>\n",
              "      <td>No</td>\n",
              "      <td>No</td>\n",
              "      <td>No</td>\n",
              "      <td>One year</td>\n",
              "      <td>No</td>\n",
              "      <td>Mailed check</td>\n",
              "      <td>56.95</td>\n",
              "      <td>1889.5</td>\n",
              "      <td>No</td>\n",
              "    </tr>\n",
              "    <tr>\n",
              "      <th>2</th>\n",
              "      <td>3668-QPYBK</td>\n",
              "      <td>Male</td>\n",
              "      <td>0</td>\n",
              "      <td>No</td>\n",
              "      <td>No</td>\n",
              "      <td>2</td>\n",
              "      <td>Yes</td>\n",
              "      <td>No</td>\n",
              "      <td>DSL</td>\n",
              "      <td>Yes</td>\n",
              "      <td>Yes</td>\n",
              "      <td>No</td>\n",
              "      <td>No</td>\n",
              "      <td>No</td>\n",
              "      <td>No</td>\n",
              "      <td>Month-to-month</td>\n",
              "      <td>Yes</td>\n",
              "      <td>Mailed check</td>\n",
              "      <td>53.85</td>\n",
              "      <td>108.15</td>\n",
              "      <td>Yes</td>\n",
              "    </tr>\n",
              "    <tr>\n",
              "      <th>3</th>\n",
              "      <td>7795-CFOCW</td>\n",
              "      <td>Male</td>\n",
              "      <td>0</td>\n",
              "      <td>No</td>\n",
              "      <td>No</td>\n",
              "      <td>45</td>\n",
              "      <td>No</td>\n",
              "      <td>No phone service</td>\n",
              "      <td>DSL</td>\n",
              "      <td>Yes</td>\n",
              "      <td>No</td>\n",
              "      <td>Yes</td>\n",
              "      <td>Yes</td>\n",
              "      <td>No</td>\n",
              "      <td>No</td>\n",
              "      <td>One year</td>\n",
              "      <td>No</td>\n",
              "      <td>Bank transfer (automatic)</td>\n",
              "      <td>42.30</td>\n",
              "      <td>1840.75</td>\n",
              "      <td>No</td>\n",
              "    </tr>\n",
              "    <tr>\n",
              "      <th>4</th>\n",
              "      <td>9237-HQITU</td>\n",
              "      <td>Female</td>\n",
              "      <td>0</td>\n",
              "      <td>No</td>\n",
              "      <td>No</td>\n",
              "      <td>2</td>\n",
              "      <td>Yes</td>\n",
              "      <td>No</td>\n",
              "      <td>Fiber optic</td>\n",
              "      <td>No</td>\n",
              "      <td>No</td>\n",
              "      <td>No</td>\n",
              "      <td>No</td>\n",
              "      <td>No</td>\n",
              "      <td>No</td>\n",
              "      <td>Month-to-month</td>\n",
              "      <td>Yes</td>\n",
              "      <td>Electronic check</td>\n",
              "      <td>70.70</td>\n",
              "      <td>151.65</td>\n",
              "      <td>Yes</td>\n",
              "    </tr>\n",
              "    <tr>\n",
              "      <th>5</th>\n",
              "      <td>9305-CDSKC</td>\n",
              "      <td>Female</td>\n",
              "      <td>0</td>\n",
              "      <td>No</td>\n",
              "      <td>No</td>\n",
              "      <td>8</td>\n",
              "      <td>Yes</td>\n",
              "      <td>Yes</td>\n",
              "      <td>Fiber optic</td>\n",
              "      <td>No</td>\n",
              "      <td>No</td>\n",
              "      <td>Yes</td>\n",
              "      <td>No</td>\n",
              "      <td>Yes</td>\n",
              "      <td>Yes</td>\n",
              "      <td>Month-to-month</td>\n",
              "      <td>Yes</td>\n",
              "      <td>Electronic check</td>\n",
              "      <td>99.65</td>\n",
              "      <td>820.5</td>\n",
              "      <td>Yes</td>\n",
              "    </tr>\n",
              "    <tr>\n",
              "      <th>6</th>\n",
              "      <td>1452-KIOVK</td>\n",
              "      <td>Male</td>\n",
              "      <td>0</td>\n",
              "      <td>No</td>\n",
              "      <td>Yes</td>\n",
              "      <td>22</td>\n",
              "      <td>Yes</td>\n",
              "      <td>Yes</td>\n",
              "      <td>Fiber optic</td>\n",
              "      <td>No</td>\n",
              "      <td>Yes</td>\n",
              "      <td>No</td>\n",
              "      <td>No</td>\n",
              "      <td>Yes</td>\n",
              "      <td>No</td>\n",
              "      <td>Month-to-month</td>\n",
              "      <td>Yes</td>\n",
              "      <td>Credit card (automatic)</td>\n",
              "      <td>89.10</td>\n",
              "      <td>1949.4</td>\n",
              "      <td>No</td>\n",
              "    </tr>\n",
              "    <tr>\n",
              "      <th>7</th>\n",
              "      <td>6713-OKOMC</td>\n",
              "      <td>Female</td>\n",
              "      <td>0</td>\n",
              "      <td>No</td>\n",
              "      <td>No</td>\n",
              "      <td>10</td>\n",
              "      <td>No</td>\n",
              "      <td>No phone service</td>\n",
              "      <td>DSL</td>\n",
              "      <td>Yes</td>\n",
              "      <td>No</td>\n",
              "      <td>No</td>\n",
              "      <td>No</td>\n",
              "      <td>No</td>\n",
              "      <td>No</td>\n",
              "      <td>Month-to-month</td>\n",
              "      <td>No</td>\n",
              "      <td>Mailed check</td>\n",
              "      <td>29.75</td>\n",
              "      <td>301.9</td>\n",
              "      <td>No</td>\n",
              "    </tr>\n",
              "    <tr>\n",
              "      <th>8</th>\n",
              "      <td>7892-POOKP</td>\n",
              "      <td>Female</td>\n",
              "      <td>0</td>\n",
              "      <td>Yes</td>\n",
              "      <td>No</td>\n",
              "      <td>28</td>\n",
              "      <td>Yes</td>\n",
              "      <td>Yes</td>\n",
              "      <td>Fiber optic</td>\n",
              "      <td>No</td>\n",
              "      <td>No</td>\n",
              "      <td>Yes</td>\n",
              "      <td>Yes</td>\n",
              "      <td>Yes</td>\n",
              "      <td>Yes</td>\n",
              "      <td>Month-to-month</td>\n",
              "      <td>Yes</td>\n",
              "      <td>Electronic check</td>\n",
              "      <td>104.80</td>\n",
              "      <td>3046.05</td>\n",
              "      <td>Yes</td>\n",
              "    </tr>\n",
              "    <tr>\n",
              "      <th>9</th>\n",
              "      <td>6388-TABGU</td>\n",
              "      <td>Male</td>\n",
              "      <td>0</td>\n",
              "      <td>No</td>\n",
              "      <td>Yes</td>\n",
              "      <td>62</td>\n",
              "      <td>Yes</td>\n",
              "      <td>No</td>\n",
              "      <td>DSL</td>\n",
              "      <td>Yes</td>\n",
              "      <td>Yes</td>\n",
              "      <td>No</td>\n",
              "      <td>No</td>\n",
              "      <td>No</td>\n",
              "      <td>No</td>\n",
              "      <td>One year</td>\n",
              "      <td>No</td>\n",
              "      <td>Bank transfer (automatic)</td>\n",
              "      <td>56.15</td>\n",
              "      <td>3487.95</td>\n",
              "      <td>No</td>\n",
              "    </tr>\n",
              "  </tbody>\n",
              "</table>\n",
              "</div>"
            ],
            "text/plain": [
              "   customerID  gender  SeniorCitizen Partner Dependents  tenure PhoneService  \\\n",
              "0  7590-VHVEG  Female              0     Yes         No       1           No   \n",
              "1  5575-GNVDE    Male              0      No         No      34          Yes   \n",
              "2  3668-QPYBK    Male              0      No         No       2          Yes   \n",
              "3  7795-CFOCW    Male              0      No         No      45           No   \n",
              "4  9237-HQITU  Female              0      No         No       2          Yes   \n",
              "5  9305-CDSKC  Female              0      No         No       8          Yes   \n",
              "6  1452-KIOVK    Male              0      No        Yes      22          Yes   \n",
              "7  6713-OKOMC  Female              0      No         No      10           No   \n",
              "8  7892-POOKP  Female              0     Yes         No      28          Yes   \n",
              "9  6388-TABGU    Male              0      No        Yes      62          Yes   \n",
              "\n",
              "      MultipleLines InternetService OnlineSecurity OnlineBackup  \\\n",
              "0  No phone service             DSL             No          Yes   \n",
              "1                No             DSL            Yes           No   \n",
              "2                No             DSL            Yes          Yes   \n",
              "3  No phone service             DSL            Yes           No   \n",
              "4                No     Fiber optic             No           No   \n",
              "5               Yes     Fiber optic             No           No   \n",
              "6               Yes     Fiber optic             No          Yes   \n",
              "7  No phone service             DSL            Yes           No   \n",
              "8               Yes     Fiber optic             No           No   \n",
              "9                No             DSL            Yes          Yes   \n",
              "\n",
              "  DeviceProtection TechSupport StreamingTV StreamingMovies        Contract  \\\n",
              "0               No          No          No              No  Month-to-month   \n",
              "1              Yes          No          No              No        One year   \n",
              "2               No          No          No              No  Month-to-month   \n",
              "3              Yes         Yes          No              No        One year   \n",
              "4               No          No          No              No  Month-to-month   \n",
              "5              Yes          No         Yes             Yes  Month-to-month   \n",
              "6               No          No         Yes              No  Month-to-month   \n",
              "7               No          No          No              No  Month-to-month   \n",
              "8              Yes         Yes         Yes             Yes  Month-to-month   \n",
              "9               No          No          No              No        One year   \n",
              "\n",
              "  PaperlessBilling              PaymentMethod  MonthlyCharges TotalCharges  \\\n",
              "0              Yes           Electronic check           29.85        29.85   \n",
              "1               No               Mailed check           56.95       1889.5   \n",
              "2              Yes               Mailed check           53.85       108.15   \n",
              "3               No  Bank transfer (automatic)           42.30      1840.75   \n",
              "4              Yes           Electronic check           70.70       151.65   \n",
              "5              Yes           Electronic check           99.65        820.5   \n",
              "6              Yes    Credit card (automatic)           89.10       1949.4   \n",
              "7               No               Mailed check           29.75        301.9   \n",
              "8              Yes           Electronic check          104.80      3046.05   \n",
              "9               No  Bank transfer (automatic)           56.15      3487.95   \n",
              "\n",
              "  Churn  \n",
              "0    No  \n",
              "1    No  \n",
              "2   Yes  \n",
              "3    No  \n",
              "4   Yes  \n",
              "5   Yes  \n",
              "6    No  \n",
              "7    No  \n",
              "8   Yes  \n",
              "9    No  "
            ]
          },
          "metadata": {
            "tags": []
          },
          "execution_count": 56
        }
      ]
    },
    {
      "cell_type": "code",
      "metadata": {
        "id": "zSwqmQLOvHbe",
        "colab_type": "code",
        "outputId": "ecd7762f-3aa3-4db2-a038-2a101caa041b",
        "colab": {
          "base_uri": "https://localhost:8080/",
          "height": 121
        }
      },
      "source": [
        "# see column names\n",
        "df.columns"
      ],
      "execution_count": 57,
      "outputs": [
        {
          "output_type": "execute_result",
          "data": {
            "text/plain": [
              "Index(['customerID', 'gender', 'SeniorCitizen', 'Partner', 'Dependents',\n",
              "       'tenure', 'PhoneService', 'MultipleLines', 'InternetService',\n",
              "       'OnlineSecurity', 'OnlineBackup', 'DeviceProtection', 'TechSupport',\n",
              "       'StreamingTV', 'StreamingMovies', 'Contract', 'PaperlessBilling',\n",
              "       'PaymentMethod', 'MonthlyCharges', 'TotalCharges', 'Churn'],\n",
              "      dtype='object')"
            ]
          },
          "metadata": {
            "tags": []
          },
          "execution_count": 57
        }
      ]
    },
    {
      "cell_type": "code",
      "metadata": {
        "id": "ta0JxyRNvHbl",
        "colab_type": "code",
        "outputId": "84423eba-bcfb-4696-8968-4baee23d2abd",
        "colab": {
          "base_uri": "https://localhost:8080/",
          "height": 397
        }
      },
      "source": [
        "df.dtypes"
      ],
      "execution_count": 58,
      "outputs": [
        {
          "output_type": "execute_result",
          "data": {
            "text/plain": [
              "customerID           object\n",
              "gender               object\n",
              "SeniorCitizen         int64\n",
              "Partner              object\n",
              "Dependents           object\n",
              "tenure                int64\n",
              "PhoneService         object\n",
              "MultipleLines        object\n",
              "InternetService      object\n",
              "OnlineSecurity       object\n",
              "OnlineBackup         object\n",
              "DeviceProtection     object\n",
              "TechSupport          object\n",
              "StreamingTV          object\n",
              "StreamingMovies      object\n",
              "Contract             object\n",
              "PaperlessBilling     object\n",
              "PaymentMethod        object\n",
              "MonthlyCharges      float64\n",
              "TotalCharges         object\n",
              "Churn                object\n",
              "dtype: object"
            ]
          },
          "metadata": {
            "tags": []
          },
          "execution_count": 58
        }
      ]
    },
    {
      "cell_type": "code",
      "metadata": {
        "id": "dtG4UTScvHbu",
        "colab_type": "code",
        "outputId": "0f05a6ce-965c-4505-829f-b804843b2027",
        "colab": {
          "base_uri": "https://localhost:8080/",
          "height": 89
        }
      },
      "source": [
        "# fot some reason, `TotalCharges` is defined as object data type, so it needs to \n",
        "# be converted into float data type \n",
        "\n",
        "df['TotalCharges'] = df['TotalCharges'].convert_objects(convert_numeric=True)"
      ],
      "execution_count": 59,
      "outputs": [
        {
          "output_type": "stream",
          "text": [
            "/usr/local/lib/python3.6/dist-packages/ipykernel_launcher.py:2: FutureWarning: convert_objects is deprecated.  To re-infer data dtypes for object columns, use Series.infer_objects()\n",
            "For all other conversions use the data-type specific converters pd.to_datetime, pd.to_timedelta and pd.to_numeric.\n",
            "  \n"
          ],
          "name": "stderr"
        }
      ]
    },
    {
      "cell_type": "markdown",
      "metadata": {
        "id": "oMhAgJzyvHcc",
        "colab_type": "text"
      },
      "source": [
        "**Definition of features (from Kaggle: https://www.kaggle.com/blastchar/telco-customer-churn)**\n",
        "- **`CustomerID`**: Customer ID\n",
        "- **`Gender`**: Whether the customer is a male or a female\n",
        "- **`SeniorCitizen`**: Whether the customer is a senior citizen or not (1, 0)\n",
        "- **`Partner`**: Whether the customer has a partner or not (Yes, No)\n",
        "- **`Dependents`**: Whether the customer has dependents or not (Yes, No)\n",
        "- **`Tenure`**: Number of months the customer has stayed with the company\n",
        "- **`PhoneService`**: Whether the customer has a phone service or not (Yes, No)\n",
        "- **`MultipleLines`**: Whether the customer has multiple lines or not (Yes, No, No phone service)\n",
        "- **`InternetService`**: Customer’s internet service provider (DSL, Fiber optic, No)\n",
        "- **`OnlineSecurity`**: Whether the customer has online security or not (Yes, No, No internet service)\n",
        "- **`OnlineBackup`**: Whether the customer has online backup or not (Yes, No, No internet service)\n",
        "- **`DeviceProtection`**: Whether the customer has device protection or not (Yes, No, No internet service)\n",
        "- **`TechSupport`**: Whether the customer has tech support or not (Yes, No, No internet service)\n",
        "- **`StreamingTV`**: Whether the customer has streaming TV or not (Yes, No, No internet service)\n",
        "- **`StreamingMovies`**: Whether the customer has streaming movies or not (Yes, No, No internet service)\n",
        "- **`Contract`**: The contract term of the customer (Month-to-month, One year, Two year)\n",
        "- **`PaperlessBilling`**: Whether the customer has paperless billing or not (Yes, No)\n",
        "- **`PaymentMethod`**: The customer’s payment method (Electronic check, Mailed check, Bank transfer (automatic), Credit card (automatic))\n",
        "- **`MonthlyCharges`**: The amount charged to the customer monthly\n",
        "- **`TotalCharges`**: The total amount charged to the customer\n",
        "- **`Churn`**: Whether the customer churned or not (Yes or No)"
      ]
    },
    {
      "cell_type": "markdown",
      "metadata": {
        "id": "uWq7OCfKvHcd",
        "colab_type": "text"
      },
      "source": [
        "## 3. data exploration  & visualization"
      ]
    },
    {
      "cell_type": "markdown",
      "metadata": {
        "id": "QSETc9rGvHcg",
        "colab_type": "text"
      },
      "source": [
        "### 3.1 check missing values"
      ]
    },
    {
      "cell_type": "code",
      "metadata": {
        "id": "UFFLdt4XvHci",
        "colab_type": "code",
        "outputId": "688bc953-2777-4069-bf2e-79b3dea12cd2",
        "colab": {
          "base_uri": "https://localhost:8080/",
          "height": 35
        }
      },
      "source": [
        "# check duplicate data \n",
        "df = df.drop_duplicates()\n",
        "df.shape # (7043, 21), no duplicate rows"
      ],
      "execution_count": 60,
      "outputs": [
        {
          "output_type": "execute_result",
          "data": {
            "text/plain": [
              "(7043, 21)"
            ]
          },
          "metadata": {
            "tags": []
          },
          "execution_count": 60
        }
      ]
    },
    {
      "cell_type": "code",
      "metadata": {
        "id": "_T6hgRJtvHcr",
        "colab_type": "code",
        "outputId": "70f19a35-c742-4640-a2d9-2671dee767a7",
        "colab": {
          "base_uri": "https://localhost:8080/",
          "height": 364
        }
      },
      "source": [
        "# check missing values via heatmap\n",
        "sns.heatmap(df.isnull(), cbar=False) #  data viz shows there are a few missing values in `TotalCharges` column "
      ],
      "execution_count": 61,
      "outputs": [
        {
          "output_type": "execute_result",
          "data": {
            "text/plain": [
              "<matplotlib.axes._subplots.AxesSubplot at 0x7f8eccd6bb00>"
            ]
          },
          "metadata": {
            "tags": []
          },
          "execution_count": 61
        },
        {
          "output_type": "display_data",
          "data": {
            "image/png": "[encoded data removed]",
            "text/plain": [
              "<Figure size 432x288 with 1 Axes>"
            ]
          },
          "metadata": {
            "tags": []
          }
        }
      ]
    },
    {
      "cell_type": "code",
      "metadata": {
        "id": "NuAl6C0mvHcv",
        "colab_type": "code",
        "outputId": "dfc2ac94-6842-49a0-9dab-6316598d6fd3",
        "colab": {
          "base_uri": "https://localhost:8080/",
          "height": 397
        }
      },
      "source": [
        "# verify via numeric summary\n",
        "df.isnull().sum() # 11 missing values in the `TotalCharges` column"
      ],
      "execution_count": 62,
      "outputs": [
        {
          "output_type": "execute_result",
          "data": {
            "text/plain": [
              "customerID           0\n",
              "gender               0\n",
              "SeniorCitizen        0\n",
              "Partner              0\n",
              "Dependents           0\n",
              "tenure               0\n",
              "PhoneService         0\n",
              "MultipleLines        0\n",
              "InternetService      0\n",
              "OnlineSecurity       0\n",
              "OnlineBackup         0\n",
              "DeviceProtection     0\n",
              "TechSupport          0\n",
              "StreamingTV          0\n",
              "StreamingMovies      0\n",
              "Contract             0\n",
              "PaperlessBilling     0\n",
              "PaymentMethod        0\n",
              "MonthlyCharges       0\n",
              "TotalCharges        11\n",
              "Churn                0\n",
              "dtype: int64"
            ]
          },
          "metadata": {
            "tags": []
          },
          "execution_count": 62
        }
      ]
    },
    {
      "cell_type": "code",
      "metadata": {
        "id": "XIaw2L3BvHcz",
        "colab_type": "code",
        "outputId": "49508f71-1ac4-423f-a704-7ef9ef402ab1",
        "colab": {
          "base_uri": "https://localhost:8080/",
          "height": 35
        }
      },
      "source": [
        "# remove missing values from dataset\n",
        "df.dropna(inplace=True)\n",
        "df.shape "
      ],
      "execution_count": 63,
      "outputs": [
        {
          "output_type": "execute_result",
          "data": {
            "text/plain": [
              "(7032, 21)"
            ]
          },
          "metadata": {
            "tags": []
          },
          "execution_count": 63
        }
      ]
    },
    {
      "cell_type": "markdown",
      "metadata": {
        "id": "XVWWV7RnvHc5",
        "colab_type": "text"
      },
      "source": [
        "### 3.2 Compare cutomer churn between genders"
      ]
    },
    {
      "cell_type": "code",
      "metadata": {
        "id": "RFoERYRkvHc5",
        "colab_type": "code",
        "outputId": "7c8894af-a38f-4196-c05e-22df2535f23c",
        "colab": {
          "base_uri": "https://localhost:8080/",
          "height": 297
        }
      },
      "source": [
        "g = sns.catplot(x=\"gender\", col=\"Churn\",\n",
        "                data=df, kind=\"count\", \n",
        "                 height=4, aspect=.7)\n",
        "\n",
        "# no significant difference between genders with regard to churns"
      ],
      "execution_count": 64,
      "outputs": [
        {
          "output_type": "display_data",
          "data": {
            "image/png": "[encoded data removed]",
            "text/plain": [
              "<Figure size 403.2x288 with 2 Axes>"
            ]
          },
          "metadata": {
            "tags": []
          }
        }
      ]
    },
    {
      "cell_type": "markdown",
      "metadata": {
        "id": "ZAtJBcwVvHc9",
        "colab_type": "text"
      },
      "source": [
        "### 3.3  Check the relation between having a partner & churn "
      ]
    },
    {
      "cell_type": "code",
      "metadata": {
        "id": "6tX31z4TvHc_",
        "colab_type": "code",
        "outputId": "224b8860-e2e3-45ce-f287-388110444573",
        "colab": {
          "base_uri": "https://localhost:8080/",
          "height": 297
        }
      },
      "source": [
        "g = sns.catplot(x=\"Partner\", col=\"Churn\",\n",
        "                data=df, kind=\"count\", \n",
        "                 height=4, aspect=.7);\n",
        "\n",
        "# There different patterns in the churn and not churn group. The plot shows that not having \n",
        "# a partner may tend to lead to a churn\n"
      ],
      "execution_count": 65,
      "outputs": [
        {
          "output_type": "display_data",
          "data": {
            "image/png": "[encoded data removed]",
            "text/plain": [
              "<Figure size 403.2x288 with 2 Axes>"
            ]
          },
          "metadata": {
            "tags": []
          }
        }
      ]
    },
    {
      "cell_type": "markdown",
      "metadata": {
        "id": "3LRQP6zVvHdC",
        "colab_type": "text"
      },
      "source": [
        "### 3.4  Check the relation between having dependents & churn "
      ]
    },
    {
      "cell_type": "code",
      "metadata": {
        "id": "oK_crQ0qvHdE",
        "colab_type": "code",
        "outputId": "5b2ccc3c-0f44-4429-e476-ad681d5a9d83",
        "colab": {
          "base_uri": "https://localhost:8080/",
          "height": 297
        }
      },
      "source": [
        "g = sns.catplot(x=\"Dependents\", col=\"Churn\",\n",
        "                data=df, kind=\"count\", \n",
        "                 height=4, aspect=.7);\n",
        "\n",
        "# The pattern in the chrun and no churn group is similar; Therefore having dependents may not be a \n",
        "# effective feature"
      ],
      "execution_count": 66,
      "outputs": [
        {
          "output_type": "display_data",
          "data": {
            "image/png": "[encoded data removed]",
            "text/plain": [
              "<Figure size 403.2x288 with 2 Axes>"
            ]
          },
          "metadata": {
            "tags": []
          }
        }
      ]
    },
    {
      "cell_type": "markdown",
      "metadata": {
        "id": "8B881UjQvHdL",
        "colab_type": "text"
      },
      "source": [
        "### 3.5 Check the relation between using phone service & churn"
      ]
    },
    {
      "cell_type": "code",
      "metadata": {
        "id": "WMSK_ou3vHdM",
        "colab_type": "code",
        "outputId": "d3b05405-d51d-45be-d9e7-961f2fd5b874",
        "colab": {
          "base_uri": "https://localhost:8080/",
          "height": 297
        }
      },
      "source": [
        "g = sns.catplot(x=\"PhoneService\", col=\"Churn\",\n",
        "                data=df, kind=\"count\", \n",
        "                 height=4, aspect=.7);\n",
        "\n",
        "# Once again, the pattern is similar between the two groups, suggesting having phone service \n",
        "# may not be an effective feature. Churn or no churn, there are just more people subscribing to \n",
        "# phone service"
      ],
      "execution_count": 67,
      "outputs": [
        {
          "output_type": "display_data",
          "data": {
            "image/png": "[encoded data removed]",
            "text/plain": [
              "<Figure size 403.2x288 with 2 Axes>"
            ]
          },
          "metadata": {
            "tags": []
          }
        }
      ]
    },
    {
      "cell_type": "markdown",
      "metadata": {
        "id": "7R3TM6GavHdQ",
        "colab_type": "text"
      },
      "source": [
        "### 3.6 Check use multiple lines & churn"
      ]
    },
    {
      "cell_type": "code",
      "metadata": {
        "id": "ZBHqfvI3vHdR",
        "colab_type": "code",
        "outputId": "2f4dfb7f-9b05-4ef4-a9bf-4a64d09a919b",
        "colab": {
          "base_uri": "https://localhost:8080/",
          "height": 385
        }
      },
      "source": [
        "g = sns.catplot(x=\"MultipleLines\", col=\"Churn\",\n",
        "                data=df, kind=\"count\", \n",
        "                 height=4, aspect=.7)\n",
        "\n",
        "g.set_xticklabels(rotation=60)\n",
        "\n",
        "# No significant difference though using multiple lines seems to yield more no churn"
      ],
      "execution_count": 68,
      "outputs": [
        {
          "output_type": "execute_result",
          "data": {
            "text/plain": [
              "<seaborn.axisgrid.FacetGrid at 0x7f8ed09742b0>"
            ]
          },
          "metadata": {
            "tags": []
          },
          "execution_count": 68
        },
        {
          "output_type": "display_data",
          "data": {
            "image/png": "[encoded data removed]",
            "text/plain": [
              "<Figure size 403.2x288 with 2 Axes>"
            ]
          },
          "metadata": {
            "tags": []
          }
        }
      ]
    },
    {
      "cell_type": "markdown",
      "metadata": {
        "id": "cTfejJbQvHdb",
        "colab_type": "text"
      },
      "source": [
        "### 3.7 Check use fiber optic & churn"
      ]
    },
    {
      "cell_type": "code",
      "metadata": {
        "id": "AyHVqJs4vHdd",
        "colab_type": "code",
        "outputId": "89a2498c-c494-4cc8-c178-e1db06c1861c",
        "colab": {
          "base_uri": "https://localhost:8080/",
          "height": 297
        }
      },
      "source": [
        "g = sns.catplot(x=\"InternetService\", col=\"Churn\",\n",
        "                data=df, kind=\"count\", \n",
        "                 height=4, aspect=.7);\n",
        "\n",
        "# it is obvious that use of fiber optic leads to higher churn compared to DSL"
      ],
      "execution_count": 69,
      "outputs": [
        {
          "output_type": "display_data",
          "data": {
            "image/png": "[encoded data removed]",
            "text/plain": [
              "<Figure size 403.2x288 with 2 Axes>"
            ]
          },
          "metadata": {
            "tags": []
          }
        }
      ]
    },
    {
      "cell_type": "markdown",
      "metadata": {
        "id": "gx7eZdO7vHdl",
        "colab_type": "text"
      },
      "source": [
        "### 3.8 Check use of internet online security & churn"
      ]
    },
    {
      "cell_type": "code",
      "metadata": {
        "id": "btdjXlDNvHd1",
        "colab_type": "code",
        "outputId": "e0a6953d-8adf-4100-ec25-22a0a63878ca",
        "colab": {
          "base_uri": "https://localhost:8080/",
          "height": 392
        }
      },
      "source": [
        "g = sns.catplot(x=\"OnlineSecurity\", col=\"Churn\",\n",
        "                data=df, kind=\"count\", \n",
        "                 height=4, aspect=.7)\n",
        "\n",
        "g.set_xticklabels(rotation=60)\n",
        "\n",
        "# No significant difference"
      ],
      "execution_count": 70,
      "outputs": [
        {
          "output_type": "execute_result",
          "data": {
            "text/plain": [
              "<seaborn.axisgrid.FacetGrid at 0x7f8ecffdf128>"
            ]
          },
          "metadata": {
            "tags": []
          },
          "execution_count": 70
        },
        {
          "output_type": "display_data",
          "data": {
            "image/png": "[encoded data removed]",
            "text/plain": [
              "<Figure size 403.2x288 with 2 Axes>"
            ]
          },
          "metadata": {
            "tags": []
          }
        }
      ]
    },
    {
      "cell_type": "markdown",
      "metadata": {
        "id": "dwkbk_9jvHek",
        "colab_type": "text"
      },
      "source": [
        "### 3.9 Check use of online backup service & churn"
      ]
    },
    {
      "cell_type": "code",
      "metadata": {
        "id": "o_0YSCQTvHew",
        "colab_type": "code",
        "outputId": "aca3de58-8129-4457-debe-93245745ce8b",
        "colab": {
          "base_uri": "https://localhost:8080/",
          "height": 392
        }
      },
      "source": [
        "g = sns.catplot(x=\"OnlineBackup\", col=\"Churn\",\n",
        "                data=df, kind=\"count\", \n",
        "                 height=4, aspect=.7)\n",
        "\n",
        "g.set_xticklabels(rotation=60)\n",
        "\n",
        "# it seems not use online backup yields higher churn. However, not using it does not lead to \n",
        "# prticularly higher retenton either. This may suggest that some specific users encountered some problem\n",
        "# when not using this service"
      ],
      "execution_count": 71,
      "outputs": [
        {
          "output_type": "execute_result",
          "data": {
            "text/plain": [
              "<seaborn.axisgrid.FacetGrid at 0x7f8ed0033470>"
            ]
          },
          "metadata": {
            "tags": []
          },
          "execution_count": 71
        },
        {
          "output_type": "display_data",
          "data": {
            "image/png": "[encoded data removed]",
            "text/plain": [
              "<Figure size 403.2x288 with 2 Axes>"
            ]
          },
          "metadata": {
            "tags": []
          }
        }
      ]
    },
    {
      "cell_type": "markdown",
      "metadata": {
        "id": "TxXqImVXvHfX",
        "colab_type": "text"
      },
      "source": [
        "### 3.10 Check the use of device protection & churn"
      ]
    },
    {
      "cell_type": "code",
      "metadata": {
        "id": "TueOvPsCvHfa",
        "colab_type": "code",
        "outputId": "7eae275b-6256-4a62-b579-b660f1b196a6",
        "colab": {
          "base_uri": "https://localhost:8080/",
          "height": 392
        }
      },
      "source": [
        "g = sns.catplot(x=\"DeviceProtection\", col=\"Churn\",\n",
        "                data=df, kind=\"count\", \n",
        "                 height=4, aspect=.7)\n",
        "\n",
        "g.set_xticklabels(rotation=60)\n",
        "\n",
        "# while use and not use this service lead to similar no churn, not using this service \n",
        "# seems to lead higher churn"
      ],
      "execution_count": 72,
      "outputs": [
        {
          "output_type": "execute_result",
          "data": {
            "text/plain": [
              "<seaborn.axisgrid.FacetGrid at 0x7f8ed00ca400>"
            ]
          },
          "metadata": {
            "tags": []
          },
          "execution_count": 72
        },
        {
          "output_type": "display_data",
          "data": {
            "image/png": "[encoded data removed]",
            "text/plain": [
              "<Figure size 403.2x288 with 2 Axes>"
            ]
          },
          "metadata": {
            "tags": []
          }
        }
      ]
    },
    {
      "cell_type": "markdown",
      "metadata": {
        "id": "x340svadvHgG",
        "colab_type": "text"
      },
      "source": [
        "### 3.11 Check use of tech support & churn "
      ]
    },
    {
      "cell_type": "code",
      "metadata": {
        "id": "u2z1qgW_vHgJ",
        "colab_type": "code",
        "outputId": "0cf07f26-79fa-4301-b9eb-b928c58ec719",
        "colab": {
          "base_uri": "https://localhost:8080/",
          "height": 392
        }
      },
      "source": [
        "g = sns.catplot(x=\"TechSupport\", col=\"Churn\",\n",
        "                data=df, kind=\"count\", \n",
        "                 height=4, aspect=.7)\n",
        "\n",
        "g.set_xticklabels(rotation=60)\n",
        "\n",
        "# the pattern across three sub-groups is consistant, it shows that users may have a mixed \n",
        "# experience of using this service as use this service also doesn't lead to more no churn"
      ],
      "execution_count": 73,
      "outputs": [
        {
          "output_type": "execute_result",
          "data": {
            "text/plain": [
              "<seaborn.axisgrid.FacetGrid at 0x7f8eccb82898>"
            ]
          },
          "metadata": {
            "tags": []
          },
          "execution_count": 73
        },
        {
          "output_type": "display_data",
          "data": {
            "image/png": "[encoded data removed]",
            "text/plain": [
              "<Figure size 403.2x288 with 2 Axes>"
            ]
          },
          "metadata": {
            "tags": []
          }
        }
      ]
    },
    {
      "cell_type": "markdown",
      "metadata": {
        "id": "6DahLtSIvHgW",
        "colab_type": "text"
      },
      "source": [
        "### 3.12 Check use of streaming TC service & churn"
      ]
    },
    {
      "cell_type": "code",
      "metadata": {
        "id": "-r4PgV13vHgZ",
        "colab_type": "code",
        "outputId": "4887cab1-faef-4bac-be37-51f8dd9f14ba",
        "colab": {
          "base_uri": "https://localhost:8080/",
          "height": 392
        }
      },
      "source": [
        "g = sns.catplot(x=\"StreamingTV\", col=\"Churn\",\n",
        "                data=df, kind=\"count\", \n",
        "                 height=4, aspect=.7);\n",
        "\n",
        "g.set_xticklabels(rotation=60)\n",
        "\n",
        "# not use streaming TV service may lead to higher churn "
      ],
      "execution_count": 74,
      "outputs": [
        {
          "output_type": "execute_result",
          "data": {
            "text/plain": [
              "<seaborn.axisgrid.FacetGrid at 0x7f8eccbe8f28>"
            ]
          },
          "metadata": {
            "tags": []
          },
          "execution_count": 74
        },
        {
          "output_type": "display_data",
          "data": {
            "image/png": "[encoded data removed]",
            "text/plain": [
              "<Figure size 403.2x288 with 2 Axes>"
            ]
          },
          "metadata": {
            "tags": []
          }
        }
      ]
    },
    {
      "cell_type": "markdown",
      "metadata": {
        "id": "yi1w56SIvHgq",
        "colab_type": "text"
      },
      "source": [
        "### 3.13 Check the use of streaming movies & churn "
      ]
    },
    {
      "cell_type": "code",
      "metadata": {
        "id": "VXZ2k9mxvHgs",
        "colab_type": "code",
        "outputId": "ffce7e3d-9a68-469a-a036-6af343255f04",
        "colab": {
          "base_uri": "https://localhost:8080/",
          "height": 392
        }
      },
      "source": [
        "g = sns.catplot(x=\"StreamingMovies\", col=\"Churn\",\n",
        "                data=df, kind=\"count\", \n",
        "                 height=4, aspect=.7)\n",
        "\n",
        "g.set_xticklabels(rotation=60)\n",
        "\n",
        "# not using streaming movies may lead to higher churn"
      ],
      "execution_count": 75,
      "outputs": [
        {
          "output_type": "execute_result",
          "data": {
            "text/plain": [
              "<seaborn.axisgrid.FacetGrid at 0x7f8eccb7b908>"
            ]
          },
          "metadata": {
            "tags": []
          },
          "execution_count": 75
        },
        {
          "output_type": "display_data",
          "data": {
            "image/png": "[encoded data removed]",
            "text/plain": [
              "<Figure size 403.2x288 with 2 Axes>"
            ]
          },
          "metadata": {
            "tags": []
          }
        }
      ]
    },
    {
      "cell_type": "markdown",
      "metadata": {
        "id": "3mxUPrKyvHg2",
        "colab_type": "text"
      },
      "source": [
        "### 3.14 Relation between contract length & churn "
      ]
    },
    {
      "cell_type": "code",
      "metadata": {
        "id": "UiOFuy0TvHg7",
        "colab_type": "code",
        "outputId": "4832c608-3ffc-4383-c475-fc759e7a9bde",
        "colab": {
          "base_uri": "https://localhost:8080/",
          "height": 385
        }
      },
      "source": [
        "g = sns.catplot(x=\"Contract\", col=\"Churn\",\n",
        "                data=df, kind=\"count\", \n",
        "                 height=4, aspect=.7)\n",
        "\n",
        "g.set_xticklabels(rotation=90)\n",
        "\n",
        "# Comparatively, 2-year contract yields lowest churn, while monthly contract has a mixed result of high \n",
        "# churn and no churn. This may just reflects that nature of monthly contract users, who tend to drop the \n",
        "# service faster since they may just be using the service temporarily"
      ],
      "execution_count": 76,
      "outputs": [
        {
          "output_type": "execute_result",
          "data": {
            "text/plain": [
              "<seaborn.axisgrid.FacetGrid at 0x7f8ecc995f28>"
            ]
          },
          "metadata": {
            "tags": []
          },
          "execution_count": 76
        },
        {
          "output_type": "display_data",
          "data": {
            "image/png": "[encoded data removed]",
            "text/plain": [
              "<Figure size 403.2x288 with 2 Axes>"
            ]
          },
          "metadata": {
            "tags": []
          }
        }
      ]
    },
    {
      "cell_type": "markdown",
      "metadata": {
        "id": "oLcFmUBgvHhB",
        "colab_type": "text"
      },
      "source": [
        "### 3.15 Use of paperless bills & churn "
      ]
    },
    {
      "cell_type": "code",
      "metadata": {
        "id": "DRbpU3lgvHhD",
        "colab_type": "code",
        "outputId": "a1af6826-9e42-4bb2-cbc6-b57e3f1c4885",
        "colab": {
          "base_uri": "https://localhost:8080/",
          "height": 297
        }
      },
      "source": [
        "g = sns.catplot(x=\"PaperlessBilling\", col=\"Churn\",\n",
        "                data=df, kind=\"count\", \n",
        "                 height=4, aspect=.7);\n",
        "\n",
        "# no significant effect of using paperless bills"
      ],
      "execution_count": 77,
      "outputs": [
        {
          "output_type": "display_data",
          "data": {
            "image/png": "[encoded data removed]",
            "text/plain": [
              "<Figure size 403.2x288 with 2 Axes>"
            ]
          },
          "metadata": {
            "tags": []
          }
        }
      ]
    },
    {
      "cell_type": "markdown",
      "metadata": {
        "id": "fPnKmXa3vHhI",
        "colab_type": "text"
      },
      "source": [
        "### 3.16 Payment method & churn "
      ]
    },
    {
      "cell_type": "code",
      "metadata": {
        "id": "29aIeyvvvHhL",
        "colab_type": "code",
        "outputId": "acd29911-a1b6-49b7-a346-98aebdebd92f",
        "colab": {
          "base_uri": "https://localhost:8080/",
          "height": 434
        }
      },
      "source": [
        "g = sns.catplot(x=\"PaymentMethod\", col=\"Churn\",\n",
        "                data=df, kind=\"count\", \n",
        "                 height=4, aspect=.7)\n",
        "g.set_xticklabels(rotation=90)\n",
        "\n",
        "# It looks like eletronic check is not in favor of customer retention, while other\n",
        "# payment methods are don't particularly lead to high churn"
      ],
      "execution_count": 78,
      "outputs": [
        {
          "output_type": "execute_result",
          "data": {
            "text/plain": [
              "<seaborn.axisgrid.FacetGrid at 0x7f8ed0887b70>"
            ]
          },
          "metadata": {
            "tags": []
          },
          "execution_count": 78
        },
        {
          "output_type": "display_data",
          "data": {
            "image/png": "[encoded data removed]",
            "text/plain": [
              "<Figure size 403.2x288 with 2 Axes>"
            ]
          },
          "metadata": {
            "tags": []
          }
        }
      ]
    },
    {
      "cell_type": "markdown",
      "metadata": {
        "id": "WRyAf6ywvHhd",
        "colab_type": "text"
      },
      "source": [
        "### 3.17 Check the relaton between senior customer with churn"
      ]
    },
    {
      "cell_type": "code",
      "metadata": {
        "id": "jYmR5js8vHhe",
        "colab_type": "code",
        "outputId": "4ad242bb-4eaf-49e0-fb78-07e7274b658c",
        "colab": {
          "base_uri": "https://localhost:8080/",
          "height": 297
        }
      },
      "source": [
        "# recode column variable\n",
        "mapping = {0: 'not senior', 1: 'senior'}\n",
        "df.replace({'SeniorCitizen': mapping})\n",
        "\n",
        "g = sns.catplot(x=\"SeniorCitizen\", col=\"Churn\",\n",
        "                data=df, kind=\"count\", \n",
        "                 height=4, aspect=.7);\n",
        "\n",
        "# senior user account for the minority of users, and there is no significant effect\n",
        "# on the churn\n"
      ],
      "execution_count": 79,
      "outputs": [
        {
          "output_type": "display_data",
          "data": {
            "image/png": "[encoded data removed]",
            "text/plain": [
              "<Figure size 403.2x288 with 2 Axes>"
            ]
          },
          "metadata": {
            "tags": []
          }
        }
      ]
    },
    {
      "cell_type": "markdown",
      "metadata": {
        "id": "xwkd-2mMvHh0",
        "colab_type": "text"
      },
      "source": [
        "### 3.18 Check relaton between continuous features & churn "
      ]
    },
    {
      "cell_type": "code",
      "metadata": {
        "scrolled": true,
        "id": "CcTq_KtXvHh1",
        "colab_type": "code",
        "colab": {}
      },
      "source": [
        "# subset dataframe to get continuous features\n",
        "df_cont = df[['tenure', 'MonthlyCharges', 'TotalCharges', 'Churn']]\n",
        "# recode `Churn` column \n",
        "mapping = {'No': 0, 'Yes': 1}\n",
        "df_cont = df_cont.replace({'Churn': mapping})"
      ],
      "execution_count": 0,
      "outputs": []
    },
    {
      "cell_type": "code",
      "metadata": {
        "scrolled": false,
        "id": "ni7YtrbcvHh4",
        "colab_type": "code",
        "outputId": "f659b968-4561-401c-a2df-101be425a241",
        "colab": {
          "base_uri": "https://localhost:8080/",
          "height": 553
        }
      },
      "source": [
        "display(df.corr())\n",
        "pd.plotting.scatter_matrix(df_cont, figsize=(6, 6))\n",
        "plt.show()\n"
      ],
      "execution_count": 81,
      "outputs": [
        {
          "output_type": "display_data",
          "data": {
            "text/html": [
              "<div>\n",
              "<style scoped>\n",
              "    .dataframe tbody tr th:only-of-type {\n",
              "        vertical-align: middle;\n",
              "    }\n",
              "\n",
              "    .dataframe tbody tr th {\n",
              "        vertical-align: top;\n",
              "    }\n",
              "\n",
              "    .dataframe thead th {\n",
              "        text-align: right;\n",
              "    }\n",
              "</style>\n",
              "<table border=\"1\" class=\"dataframe\">\n",
              "  <thead>\n",
              "    <tr style=\"text-align: right;\">\n",
              "      <th></th>\n",
              "      <th>SeniorCitizen</th>\n",
              "      <th>tenure</th>\n",
              "      <th>MonthlyCharges</th>\n",
              "      <th>TotalCharges</th>\n",
              "    </tr>\n",
              "  </thead>\n",
              "  <tbody>\n",
              "    <tr>\n",
              "      <th>SeniorCitizen</th>\n",
              "      <td>1.000000</td>\n",
              "      <td>0.015683</td>\n",
              "      <td>0.219874</td>\n",
              "      <td>0.102411</td>\n",
              "    </tr>\n",
              "    <tr>\n",
              "      <th>tenure</th>\n",
              "      <td>0.015683</td>\n",
              "      <td>1.000000</td>\n",
              "      <td>0.246862</td>\n",
              "      <td>0.825880</td>\n",
              "    </tr>\n",
              "    <tr>\n",
              "      <th>MonthlyCharges</th>\n",
              "      <td>0.219874</td>\n",
              "      <td>0.246862</td>\n",
              "      <td>1.000000</td>\n",
              "      <td>0.651065</td>\n",
              "    </tr>\n",
              "    <tr>\n",
              "      <th>TotalCharges</th>\n",
              "      <td>0.102411</td>\n",
              "      <td>0.825880</td>\n",
              "      <td>0.651065</td>\n",
              "      <td>1.000000</td>\n",
              "    </tr>\n",
              "  </tbody>\n",
              "</table>\n",
              "</div>"
            ],
            "text/plain": [
              "                SeniorCitizen    tenure  MonthlyCharges  TotalCharges\n",
              "SeniorCitizen        1.000000  0.015683        0.219874      0.102411\n",
              "tenure               0.015683  1.000000        0.246862      0.825880\n",
              "MonthlyCharges       0.219874  0.246862        1.000000      0.651065\n",
              "TotalCharges         0.102411  0.825880        0.651065      1.000000"
            ]
          },
          "metadata": {
            "tags": []
          }
        },
        {
          "output_type": "display_data",
          "data": {
            "image/png": "[encoded data removed]",
            "text/plain": [
              "<Figure size 432x432 with 16 Axes>"
            ]
          },
          "metadata": {
            "tags": []
          }
        }
      ]
    },
    {
      "cell_type": "markdown",
      "metadata": {
        "id": "tahrgHbeHvUM",
        "colab_type": "text"
      },
      "source": [
        "### Data distribution summry:\n",
        "-  Tenure: there is an concentration in the head and tail. While the a large number of short-tenure users make intuitive sense, it is worth checking if there is abnormal outliers among the long-tenure users\n",
        "- Monthly Charges' distribution makes sense\n",
        "- In general, there churn is about half the number of no churn\n",
        "\n",
        "### Data correlaton:\n",
        "- The only obvious correlation is between tenure and total charge. This makes intuitive sense as the longer you stay in the company's service, the more in total you spend. What's of note is that monthly charge and total charge are modestly correlated (r=.65). This suggests that for long tenture customers, their monthly payment may not be high although it is possible."
      ]
    },
    {
      "cell_type": "markdown",
      "metadata": {
        "id": "m04bxUcGvHiA",
        "colab_type": "text"
      },
      "source": [
        "### 3.19  Check outliers (continuous features) "
      ]
    },
    {
      "cell_type": "code",
      "metadata": {
        "id": "NkTKHlEMvHiB",
        "colab_type": "code",
        "outputId": "08c99e04-2853-4712-bdd7-25465a9c7a04",
        "colab": {
          "base_uri": "https://localhost:8080/",
          "height": 288
        }
      },
      "source": [
        "# Compare mean, median, and max values to examine outliers\n",
        "df_cont.loc[:, df_cont.columns != 'Churn'].describe()\n",
        "# summary: For both continuous features, no upper bound outliers are detected (no big gap \n",
        "# between their mean and median, nor are their the max values too abnormal)\n"
      ],
      "execution_count": 82,
      "outputs": [
        {
          "output_type": "execute_result",
          "data": {
            "text/html": [
              "<div>\n",
              "<style scoped>\n",
              "    .dataframe tbody tr th:only-of-type {\n",
              "        vertical-align: middle;\n",
              "    }\n",
              "\n",
              "    .dataframe tbody tr th {\n",
              "        vertical-align: top;\n",
              "    }\n",
              "\n",
              "    .dataframe thead th {\n",
              "        text-align: right;\n",
              "    }\n",
              "</style>\n",
              "<table border=\"1\" class=\"dataframe\">\n",
              "  <thead>\n",
              "    <tr style=\"text-align: right;\">\n",
              "      <th></th>\n",
              "      <th>tenure</th>\n",
              "      <th>MonthlyCharges</th>\n",
              "      <th>TotalCharges</th>\n",
              "    </tr>\n",
              "  </thead>\n",
              "  <tbody>\n",
              "    <tr>\n",
              "      <th>count</th>\n",
              "      <td>7032.000000</td>\n",
              "      <td>7032.000000</td>\n",
              "      <td>7032.000000</td>\n",
              "    </tr>\n",
              "    <tr>\n",
              "      <th>mean</th>\n",
              "      <td>32.421786</td>\n",
              "      <td>64.798208</td>\n",
              "      <td>2283.300441</td>\n",
              "    </tr>\n",
              "    <tr>\n",
              "      <th>std</th>\n",
              "      <td>24.545260</td>\n",
              "      <td>30.085974</td>\n",
              "      <td>2266.771362</td>\n",
              "    </tr>\n",
              "    <tr>\n",
              "      <th>min</th>\n",
              "      <td>1.000000</td>\n",
              "      <td>18.250000</td>\n",
              "      <td>18.800000</td>\n",
              "    </tr>\n",
              "    <tr>\n",
              "      <th>25%</th>\n",
              "      <td>9.000000</td>\n",
              "      <td>35.587500</td>\n",
              "      <td>401.450000</td>\n",
              "    </tr>\n",
              "    <tr>\n",
              "      <th>50%</th>\n",
              "      <td>29.000000</td>\n",
              "      <td>70.350000</td>\n",
              "      <td>1397.475000</td>\n",
              "    </tr>\n",
              "    <tr>\n",
              "      <th>75%</th>\n",
              "      <td>55.000000</td>\n",
              "      <td>89.862500</td>\n",
              "      <td>3794.737500</td>\n",
              "    </tr>\n",
              "    <tr>\n",
              "      <th>max</th>\n",
              "      <td>72.000000</td>\n",
              "      <td>118.750000</td>\n",
              "      <td>8684.800000</td>\n",
              "    </tr>\n",
              "  </tbody>\n",
              "</table>\n",
              "</div>"
            ],
            "text/plain": [
              "            tenure  MonthlyCharges  TotalCharges\n",
              "count  7032.000000     7032.000000   7032.000000\n",
              "mean     32.421786       64.798208   2283.300441\n",
              "std      24.545260       30.085974   2266.771362\n",
              "min       1.000000       18.250000     18.800000\n",
              "25%       9.000000       35.587500    401.450000\n",
              "50%      29.000000       70.350000   1397.475000\n",
              "75%      55.000000       89.862500   3794.737500\n",
              "max      72.000000      118.750000   8684.800000"
            ]
          },
          "metadata": {
            "tags": []
          },
          "execution_count": 82
        }
      ]
    },
    {
      "cell_type": "markdown",
      "metadata": {
        "id": "txTbLZKVvHiF",
        "colab_type": "text"
      },
      "source": [
        "### Quick summary:\n",
        "*  Most of the features are categorical\n",
        "* 11 missing values in the TotalCharges column\n",
        "*  Features that potentially impact churn include:\n",
        "    * having a partner\n",
        "    * use of fiber optic \n",
        "    * online backup \n",
        "    * device protection \n",
        "    * streaming TV service \n",
        "    * streaming movie service\n",
        "*  Month charges correlates with total charges, so does tenure with total charges\n",
        "*  No dramatic outliers in the continuous variables\n"
      ]
    },
    {
      "cell_type": "markdown",
      "metadata": {
        "id": "KtgGrvc2vHiG",
        "colab_type": "text"
      },
      "source": [
        "### 4. Predict churn with various models"
      ]
    },
    {
      "cell_type": "code",
      "metadata": {
        "id": "gjm7l8BVvHiN",
        "colab_type": "code",
        "outputId": "c0ad11c5-fa29-4500-a00c-7c631a7c5005",
        "colab": {
          "base_uri": "https://localhost:8080/",
          "height": 397
        }
      },
      "source": [
        "# recode and reshape dataframe for modeling\n",
        "\n",
        "# recode the `SeniorCitizen` column\n",
        "mapping = {0: 'No', 1: 'Yes'}\n",
        "df = df.replace({'SeniorCitizen': mapping})\n",
        "df.columns = df.columns.str.capitalize()\n",
        "df.dtypes "
      ],
      "execution_count": 83,
      "outputs": [
        {
          "output_type": "execute_result",
          "data": {
            "text/plain": [
              "Customerid           object\n",
              "Gender               object\n",
              "Seniorcitizen        object\n",
              "Partner              object\n",
              "Dependents           object\n",
              "Tenure                int64\n",
              "Phoneservice         object\n",
              "Multiplelines        object\n",
              "Internetservice      object\n",
              "Onlinesecurity       object\n",
              "Onlinebackup         object\n",
              "Deviceprotection     object\n",
              "Techsupport          object\n",
              "Streamingtv          object\n",
              "Streamingmovies      object\n",
              "Contract             object\n",
              "Paperlessbilling     object\n",
              "Paymentmethod        object\n",
              "Monthlycharges      float64\n",
              "Totalcharges        float64\n",
              "Churn                object\n",
              "dtype: object"
            ]
          },
          "metadata": {
            "tags": []
          },
          "execution_count": 83
        }
      ]
    },
    {
      "cell_type": "markdown",
      "metadata": {
        "id": "TULK2EA5vHiU",
        "colab_type": "text"
      },
      "source": [
        "### 4.1 Split data into train, validaton, test (60%, 20%,  20%)"
      ]
    },
    {
      "cell_type": "code",
      "metadata": {
        "id": "9_eV-LYSvHiV",
        "colab_type": "code",
        "colab": {}
      },
      "source": [
        "y = df.pop('Churn').to_frame()\n",
        "X = df"
      ],
      "execution_count": 0,
      "outputs": []
    },
    {
      "cell_type": "code",
      "metadata": {
        "id": "5cmNH_A4vHiZ",
        "colab_type": "code",
        "colab": {}
      },
      "source": [
        "X_train, X_test, y_train, y_test = train_test_split(\n",
        "        X, y,stratify=y, test_size=0.4, random_state=1)\n",
        "\n",
        "X_test, X_val, y_test, y_val = train_test_split(\n",
        "        X_test, y_test, stratify=y_test, test_size=0.5, random_state=1)\n",
        "# X_train.shape (4225, 19); X_val.shape (1409, 19); X_test.shape(1409, 19)"
      ],
      "execution_count": 0,
      "outputs": []
    },
    {
      "cell_type": "code",
      "metadata": {
        "id": "KOgEirpHvHib",
        "colab_type": "code",
        "colab": {}
      },
      "source": [
        "# also, recode y (target feature) into numeric binary values\n",
        "mapping = {'No': 0, 'Yes': 1}\n",
        "y_train = y_train.replace({'Churn': mapping})\n",
        "y_val = y_val.replace({'Churn': mapping})\n",
        "y_test = y_test.replace({'Churn': mapping})"
      ],
      "execution_count": 0,
      "outputs": []
    },
    {
      "cell_type": "code",
      "metadata": {
        "id": "qEDn7HhOvHie",
        "colab_type": "code",
        "outputId": "4ba52f75-b801-454f-8883-dbf4c7dbe190",
        "colab": {
          "base_uri": "https://localhost:8080/",
          "height": 69
        }
      },
      "source": [
        "y_train['Churn'].value_counts() "
      ],
      "execution_count": 87,
      "outputs": [
        {
          "output_type": "execute_result",
          "data": {
            "text/plain": [
              "0    3098\n",
              "1    1121\n",
              "Name: Churn, dtype: int64"
            ]
          },
          "metadata": {
            "tags": []
          },
          "execution_count": 87
        }
      ]
    },
    {
      "cell_type": "code",
      "metadata": {
        "id": "XubXDJ8tvHii",
        "colab_type": "code",
        "colab": {}
      },
      "source": [
        "y_val['Churn'].value_counts()"
      ],
      "execution_count": 0,
      "outputs": []
    },
    {
      "cell_type": "code",
      "metadata": {
        "id": "eppnh1vFvHim",
        "colab_type": "code",
        "outputId": "6bed4a00-f680-49c3-f2de-d38cb75492d4",
        "colab": {
          "base_uri": "https://localhost:8080/",
          "height": 69
        }
      },
      "source": [
        "y_test['Churn'].value_counts() "
      ],
      "execution_count": 88,
      "outputs": [
        {
          "output_type": "execute_result",
          "data": {
            "text/plain": [
              "0    1032\n",
              "1     374\n",
              "Name: Churn, dtype: int64"
            ]
          },
          "metadata": {
            "tags": []
          },
          "execution_count": 88
        }
      ]
    },
    {
      "cell_type": "markdown",
      "metadata": {
        "id": "uva866mevHix",
        "colab_type": "text"
      },
      "source": [
        "**Ratio of the churn v.s no churn is verified across train, validaton, test set (about 1:3)**"
      ]
    },
    {
      "cell_type": "markdown",
      "metadata": {
        "id": "6hSP0fEYvHiz",
        "colab_type": "text"
      },
      "source": [
        "### 4.2 Logistic regression"
      ]
    },
    {
      "cell_type": "code",
      "metadata": {
        "id": "w3ejnRsnvHi0",
        "colab_type": "code",
        "colab": {}
      },
      "source": [
        "# change X_ dataframe to fit logistic regression\n",
        "dummies_col = ['Gender', 'Seniorcitizen', 'Partner', 'Dependents',\n",
        "       'Phoneservice', 'Multiplelines', 'Internetservice', 'Onlinesecurity',\n",
        "       'Onlinebackup', 'Deviceprotection', 'Techsupport', 'Streamingtv',\n",
        "       'Streamingmovies', 'Contract', 'Paperlessbilling', 'Paymentmethod']\n",
        "dummies = pd.get_dummies(X_train[dummies_col])\n",
        "X_train_logit = X_train[['Tenure', 'Monthlycharges', 'Totalcharges']].join(dummies)\n",
        "\n",
        "dummies2 = pd.get_dummies(X_val[dummies_col])\n",
        "X_val_logit = X_val[['Tenure', 'Monthlycharges', 'Totalcharges']].join(dummies2)\n",
        "\n",
        "dummies3 = pd.get_dummies(X_test[dummies_col])\n",
        "X_test_logit = X_test[['Tenure', 'Monthlycharges', 'Totalcharges']].join(dummies3)"
      ],
      "execution_count": 0,
      "outputs": []
    },
    {
      "cell_type": "code",
      "metadata": {
        "id": "zFGk7ryV9L0D",
        "colab_type": "code",
        "colab": {}
      },
      "source": [
        "# scale continuous features for test, validate, and test data \n",
        "\n",
        "from sklearn.preprocessing import MinMaxScaler\n",
        "scaler = MinMaxScaler()\n",
        "\n",
        "X_train_logit[['Tenure', 'Monthlycharges', 'Totalcharges']] = scaler.fit_transform(X_train_logit[['Tenure', 'Monthlycharges', 'Totalcharges']])\n",
        "\n",
        "X_val_logit[['Tenure', 'Monthlycharges', 'Totalcharges']] = scaler.fit_transform(X_val_logit[['Tenure', 'Monthlycharges', 'Totalcharges']])\n",
        "\n",
        "X_test_logit[['Tenure', 'Monthlycharges', 'Totalcharges']] = scaler.fit_transform(X_test_logit[['Tenure', 'Monthlycharges', 'Totalcharges']])\n",
        "\n"
      ],
      "execution_count": 0,
      "outputs": []
    },
    {
      "cell_type": "code",
      "metadata": {
        "scrolled": true,
        "id": "T_EVKxi4vHi3",
        "colab_type": "code",
        "colab": {
          "base_uri": "https://localhost:8080/",
          "height": 89
        },
        "outputId": "72b3ffe2-dd59-47a3-d9a0-fc697b53cfdf"
      },
      "source": [
        "# fit 1st logistic model and check accuracy\n",
        "\n",
        "from sklearn.linear_model import LogisticRegressionCV\n",
        "from sklearn.metrics import accuracy_score\n",
        "\n",
        "Logistic_model = LogisticRegressionCV(solver='lbfgs', cv=10, random_state=1)\n",
        "Logistic_model.fit(X_train_logit, y_train)\n",
        "predict_val = Logistic_model.predict(X_val_logit)\n",
        "accuracy_val = accuracy_score(y_val,predict_val)\n",
        "print('accuracy_score on validation dataset : ', accuracy_val)\n",
        "\n",
        "# 0.80 accuracy rate"
      ],
      "execution_count": 113,
      "outputs": [
        {
          "output_type": "stream",
          "text": [
            "/usr/local/lib/python3.6/dist-packages/sklearn/utils/validation.py:724: DataConversionWarning: A column-vector y was passed when a 1d array was expected. Please change the shape of y to (n_samples, ), for example using ravel().\n",
            "  y = column_or_1d(y, warn=True)\n"
          ],
          "name": "stderr"
        },
        {
          "output_type": "stream",
          "text": [
            "accuracy_score on validation dataset :  0.7981520966595593\n"
          ],
          "name": "stdout"
        }
      ]
    },
    {
      "cell_type": "code",
      "metadata": {
        "id": "jMye4-toxdV2",
        "colab_type": "code",
        "outputId": "a63eff21-20f5-427a-8430-757b33c88051",
        "colab": {
          "base_uri": "https://localhost:8080/",
          "height": 193
        }
      },
      "source": [
        "# fit 2nd logistic model by using SMOTE upsampling, recursive feature elimination (RFE) to improve accuracy\n",
        "\n",
        "from imblearn.over_sampling import SMOTE\n",
        "os = SMOTE(random_state=0)\n",
        "columns = X_train_logit.columns\n",
        "os_data_X,os_data_y = os.fit_sample(X_train_logit, y_train)\n",
        "os_data_X = pd.DataFrame(data=os_data_X,columns=columns )\n",
        "os_data_y= pd.DataFrame(data=os_data_y,columns=['Churn'])\n",
        "# we can Check the numbers of our data\n",
        "print(\"length of oversampled data is \",len(os_data_X)) #6196, compared to original 4225 in original 6196\n",
        "print(\"Number of NOT churn in oversampled data: \",len(os_data_y[os_data_y['Churn']==0])) #3098\n",
        "print(\"Number of churn in oversampled data: \",len(os_data_y[os_data_y['Churn']==1])) #3098\n",
        "print(\"Proportion of NOT churn in oversampled data: \",len(os_data_y[os_data_y['Churn']==0])/len(os_data_X)) #0.5\n",
        "print(\"Proportion of churn in oversampled data: \",len(os_data_y[os_data_y['Churn']==1])/len(os_data_X)) #0.5"
      ],
      "execution_count": 114,
      "outputs": [
        {
          "output_type": "stream",
          "text": [
            "/usr/local/lib/python3.6/dist-packages/sklearn/externals/six.py:31: DeprecationWarning: The module is deprecated in version 0.21 and will be removed in version 0.23 since we've dropped support for Python 2.7. Please rely on the official version of six (https://pypi.org/project/six/).\n",
            "  \"(https://pypi.org/project/six/).\", DeprecationWarning)\n",
            "/usr/local/lib/python3.6/dist-packages/sklearn/utils/validation.py:724: DataConversionWarning: A column-vector y was passed when a 1d array was expected. Please change the shape of y to (n_samples, ), for example using ravel().\n",
            "  y = column_or_1d(y, warn=True)\n"
          ],
          "name": "stderr"
        },
        {
          "output_type": "stream",
          "text": [
            "length of oversampled data is  6196\n",
            "Number of NOT churn in oversampled data:  3098\n",
            "Number of churn in oversampled data:  3098\n",
            "Proportion of NOT churn in oversampled data:  0.5\n",
            "Proportion of churn in oversampled data:  0.5\n"
          ],
          "name": "stdout"
        }
      ]
    },
    {
      "cell_type": "code",
      "metadata": {
        "id": "G_rv13uI5DIs",
        "colab_type": "code",
        "colab": {}
      },
      "source": [
        "# use recursive feature elimination (RFE) filter in most useful features\n",
        "\n",
        "from sklearn.feature_selection import RFE\n",
        "from sklearn.linear_model import LogisticRegression\n",
        "\n",
        "Logistic_model2 = LogisticRegressionCV(solver='lbfgs', cv=10, random_state=1)\n",
        "rfe = RFE(Logistic_model2, 10) # note: the designation of 10 features is an arbitrary choice \n",
        "rfe = rfe.fit(os_data_X, os_data_y.values.ravel())\n",
        "print(rfe.support_)\n",
        "print(rfe.ranking_)"
      ],
      "execution_count": 0,
      "outputs": []
    },
    {
      "cell_type": "code",
      "metadata": {
        "id": "nwQ-24sS3SIc",
        "colab_type": "code",
        "outputId": "7cab49a4-24af-4ac7-aaac-5e7a6f452c83",
        "colab": {
          "base_uri": "https://localhost:8080/",
          "height": 35
        }
      },
      "source": [
        "# get selected column indexes\n",
        "\n",
        "index = [True, False, True, False, False, False, False, False, False, False, False, False,\n",
        "  True, False, False, False, False, True, False, True, False, False, True, False,\n",
        " False, False, False, False, False, False, False, False, False, False, False, False,\n",
        " False, True, False, True, False, True, False, False, True, False]\n",
        "\n",
        "select_col = []\n",
        "for i in range(len(index)):\n",
        "  if index[i] == True:\n",
        "    select_col.append(i)\n",
        "    \n",
        "print(select_col) # index for selected columns after RFE"
      ],
      "execution_count": 116,
      "outputs": [
        {
          "output_type": "stream",
          "text": [
            "[0, 2, 12, 17, 19, 22, 37, 39, 41, 44]\n"
          ],
          "name": "stdout"
        }
      ]
    },
    {
      "cell_type": "code",
      "metadata": {
        "id": "Gx7u68mV9eMS",
        "colab_type": "code",
        "outputId": "071f1b54-6d59-4f63-89f3-477de80c703a",
        "colab": {
          "base_uri": "https://localhost:8080/",
          "height": 35
        }
      },
      "source": [
        "# fit 2nd logistic model and check accuracy on validaton set\n",
        "X_train_logit_rfe = os_data_X.iloc[:, select_col]\n",
        "y_train_rfe = os_data_y['Churn']\n",
        "\n",
        "Logistic_model2 = LogisticRegressionCV(solver='lbfgs', cv=10, random_state=1)\n",
        "Logistic_model2.fit(X_train_logit_rfe, y_train_rfe)\n",
        "\n",
        "# filter columns for X_val set (from original 46 features to 10 features, same as X_train )\n",
        "X_val_logit_rfe = X_val_logit.iloc[:, select_col]\n",
        "predict_val = Logistic_model2.predict(X_val_logit_rfe)\n",
        "accuracy_val = accuracy_score(y_val,predict_val)\n",
        "print(\"logistic regression model2's accuracy score on validation dataset: \", accuracy_val)\n",
        "\n",
        "# 0.73 accuracy (model was able to converge, but using upsampling and RFE results in worse accuracy)"
      ],
      "execution_count": 117,
      "outputs": [
        {
          "output_type": "stream",
          "text": [
            "logistic regression model2's accuracy score on validation dataset:  0.7341862117981521\n"
          ],
          "name": "stdout"
        }
      ]
    },
    {
      "cell_type": "markdown",
      "metadata": {
        "id": "T99wLr4TD1S1",
        "colab_type": "text"
      },
      "source": [
        "### Quick summary:\n",
        "- After applying upsampling to address imbalanced data, and recursive feature elimination (RFE)\n",
        "to auto-select useful features, the overall accuracy for logistic regression model has not improved. (.73) \n",
        "- However, the benefits of applying the two techniques did lead the model to converge, and the features selected \n",
        "with RFE mostly correspond to the findings from previous data visualizaton and exploration "
      ]
    },
    {
      "cell_type": "markdown",
      "metadata": {
        "id": "b4VcajJSvHi5",
        "colab_type": "text"
      },
      "source": [
        "### 4.3 XGBoost"
      ]
    },
    {
      "cell_type": "code",
      "metadata": {
        "id": "7S3O5-__vHjA",
        "colab_type": "code",
        "outputId": "e423fd96-56b1-4188-a427-fb8c94485550",
        "colab": {
          "base_uri": "https://localhost:8080/",
          "height": 124
        }
      },
      "source": [
        "import xgboost as xgb\n",
        "from xgboost import XGBClassifier\n",
        "\n",
        "\n",
        "# recycle dataframe from logistic regression to fit XGBoos\n",
        "X_train_XGB = X_train_logit\n",
        "X_val_XGB = X_val_logit\n",
        "X_test_XGB = X_test_logit\n",
        "\n",
        "# fit the model with the training data\n",
        "XGB_model = XGBClassifier()\n",
        "XGB_model.fit(X_train_XGB,y_train)\n",
        "\n",
        "\n",
        "# predict the target on the validation dataset\n",
        "predict_val = XGB_model.predict(X_val_XGB)\n",
        "accuracy_val = accuracy_score(y_val,predict_val)\n",
        "print(\"XGBoost model accuracy score on validation dataset: \", accuracy_val)\n",
        "\n",
        "# 0.81 initial accuracy without tuning parameters (slightly better than logistic regression)\n"
      ],
      "execution_count": 123,
      "outputs": [
        {
          "output_type": "stream",
          "text": [
            "/usr/local/lib/python3.6/dist-packages/sklearn/preprocessing/label.py:219: DataConversionWarning: A column-vector y was passed when a 1d array was expected. Please change the shape of y to (n_samples, ), for example using ravel().\n",
            "  y = column_or_1d(y, warn=True)\n",
            "/usr/local/lib/python3.6/dist-packages/sklearn/preprocessing/label.py:252: DataConversionWarning: A column-vector y was passed when a 1d array was expected. Please change the shape of y to (n_samples, ), for example using ravel().\n",
            "  y = column_or_1d(y, warn=True)\n"
          ],
          "name": "stderr"
        },
        {
          "output_type": "stream",
          "text": [
            "XGBoost model accuracy score on validation dataset:  0.8052594171997157\n"
          ],
          "name": "stdout"
        }
      ]
    },
    {
      "cell_type": "markdown",
      "metadata": {
        "id": "TC_5v3Tn4Nso",
        "colab_type": "text"
      },
      "source": [
        "### 4.3.1 Setting initial parameters before tuning XGBoost"
      ]
    },
    {
      "cell_type": "code",
      "metadata": {
        "id": "rKsaeQEF_NQP",
        "colab_type": "code",
        "colab": {}
      },
      "source": [
        "# use a ad-hoc functon to wrap this tuning process (reference: https://www.analyticsvidhya.com/blog/2016/03/complete-guide-parameter-tuning-xgboost-with-codes-python/)\n",
        "\n",
        "\n",
        "def XGBmodelfit(alg, dtrain, y, predictors,useTrainCV=True, cv_folds=10, early_stopping_rounds=50):\n",
        "    \n",
        "    if useTrainCV:\n",
        "        xgb_param = alg.get_xgb_params()\n",
        "        xgtrain = xgb.DMatrix(dtrain[predictors].values, label=y.values)\n",
        "        cvresult = xgb.cv(xgb_param, xgtrain, num_boost_round=alg.get_params()['n_estimators'], nfold=cv_folds, metrics='auc', early_stopping_rounds=early_stopping_rounds)\n",
        "        alg.set_params(n_estimators=cvresult.shape[0])\n",
        "    \n",
        "    #Fit the algorithm on the data\n",
        "    alg.fit(dtrain[predictors], y['Churn'],eval_metric='auc')\n",
        "        \n",
        "    #Predict training set:\n",
        "    dtrain_predictions = alg.predict(dtrain[predictors])\n",
        "    dtrain_predprob = alg.predict_proba(dtrain[predictors])[:,1]\n",
        "        \n",
        "    #Print model report:\n",
        "    print (\"\\nModel Report\")\n",
        "    print (\"Accuracy : %.4g\" % metrics.accuracy_score(y['Churn'].values, dtrain_predictions))\n",
        "    print (\"AUC Score (Train): %f\" % metrics.roc_auc_score(y['Churn'], dtrain_predprob))\n",
        "                    \n",
        "    feat_imp = pd.Series(alg.get_booster().get_fscore()).sort_values(ascending=False)\n",
        "    feat_imp.plot(kind='bar', title='Feature Importances')\n",
        "    plt.ylabel('Feature Importance Score')"
      ],
      "execution_count": 0,
      "outputs": []
    },
    {
      "cell_type": "code",
      "metadata": {
        "id": "S9UEtyJU6WmI",
        "colab_type": "code",
        "colab": {}
      },
      "source": [
        "# set up initial parameters to be tuned\n",
        "\n",
        "xgb1 = XGBClassifier(\n",
        " learning_rate =0.1,\n",
        " n_estimators=1000,\n",
        " max_depth=5,\n",
        " min_child_weight=1,\n",
        " gamma=0,\n",
        " subsample=0.8,\n",
        " colsample_bytree=0.8,\n",
        " objective= 'binary:logistic',\n",
        " nthread=4,\n",
        " scale_pos_weight=1,\n",
        " seed=1234)\n",
        "\n",
        "features = [f for f in X_train_XGB.columns]\n"
      ],
      "execution_count": 0,
      "outputs": []
    },
    {
      "cell_type": "code",
      "metadata": {
        "id": "gThkljeG7RK3",
        "colab_type": "code",
        "outputId": "9e1f6bea-666f-4aa8-90c9-2ba0d99eeca8",
        "colab": {
          "base_uri": "https://localhost:8080/",
          "height": 557
        }
      },
      "source": [
        "# fit XGBoost modle initial random parameter as baseline\n",
        "import pandas as pd\n",
        "import numpy as np\n",
        "import xgboost as xgb\n",
        "from xgboost.sklearn import XGBClassifier\n",
        "from sklearn import metrics \n",
        "from sklearn.model_selection import cross_validate\n",
        "from sklearn.model_selection import GridSearchCV  \n",
        "import matplotlib.pylab as plt\n",
        "%matplotlib inline\n",
        "from matplotlib.pylab import rcParams\n",
        "rcParams['figure.figsize'] = 12, 4\n",
        "\n",
        "\n",
        "XGBmodelfit(xgb1, X_train_XGB, y_train, features)\n",
        "\n",
        "# accuracy has improve to .83(from .81); auc= .89\n",
        "# monthly payment, total charges, and tenure are the most import features"
      ],
      "execution_count": 126,
      "outputs": [
        {
          "output_type": "stream",
          "text": [
            "\n",
            "Model Report\n",
            "Accuracy : 0.8282\n",
            "AUC Score (Train): 0.893730\n"
          ],
          "name": "stdout"
        },
        {
          "output_type": "display_data",
          "data": {
            "image/png": "[encoded data removed]",
            "text/plain": [
              "<Figure size 864x288 with 1 Axes>"
            ]
          },
          "metadata": {
            "tags": []
          }
        }
      ]
    },
    {
      "cell_type": "markdown",
      "metadata": {
        "id": "4Q6Y4pEFM3DJ",
        "colab_type": "text"
      },
      "source": [
        "### 4.3.2 Tune max_depth and min_child_weight"
      ]
    },
    {
      "cell_type": "code",
      "metadata": {
        "id": "EKKEQTMQCrhk",
        "colab_type": "code",
        "outputId": "643a4fa7-471b-4657-df82-c87d93218b92",
        "colab": {
          "base_uri": "https://localhost:8080/",
          "height": 1000
        }
      },
      "source": [
        "# begin with an arbitrary parameters for max_depth and min_child_weight\n",
        "\n",
        "param_test1 = {\n",
        " 'max_depth':range(3,10,2),\n",
        " 'min_child_weight':range(1,6,2)\n",
        "}\n",
        "\n",
        "gsearch1 = GridSearchCV(estimator = XGBClassifier(learning_rate =0.1, n_estimators=140, max_depth=5,\n",
        " min_child_weight=1, gamma=0, subsample=0.8, colsample_bytree=0.8,\n",
        " objective= 'binary:logistic', nthread=4, scale_pos_weight=1, seed=27), \n",
        " param_grid = param_test1, scoring='roc_auc',n_jobs=4,iid=False, cv=5)\n",
        "\n",
        "gsearch1.fit(X_train_XGB,y_train)\n",
        "gsearch1.cv_results_, gsearch1.best_params_, gsearch1.best_score_\n",
        "\n",
        "\n",
        "# max_depth =3, min_child_weight = 3, new accuracy score after tuning = .84 (improved from .83)"
      ],
      "execution_count": 127,
      "outputs": [
        {
          "output_type": "stream",
          "text": [
            "/usr/local/lib/python3.6/dist-packages/sklearn/preprocessing/label.py:219: DataConversionWarning: A column-vector y was passed when a 1d array was expected. Please change the shape of y to (n_samples, ), for example using ravel().\n",
            "  y = column_or_1d(y, warn=True)\n",
            "/usr/local/lib/python3.6/dist-packages/sklearn/preprocessing/label.py:252: DataConversionWarning: A column-vector y was passed when a 1d array was expected. Please change the shape of y to (n_samples, ), for example using ravel().\n",
            "  y = column_or_1d(y, warn=True)\n"
          ],
          "name": "stderr"
        },
        {
          "output_type": "execute_result",
          "data": {
            "text/plain": [
              "({'mean_fit_time': array([2.18289275, 1.74039454, 1.90554466, 2.83292723, 2.86836548,\n",
              "         2.91588955, 4.02667007, 3.95610332, 3.78503451, 5.49166646,\n",
              "         4.77933545, 4.25422211]),\n",
              "  'mean_score_time': array([0.02641649, 0.03318114, 0.04039259, 0.04331594, 0.03871427,\n",
              "         0.03111467, 0.04161019, 0.03695216, 0.03756962, 0.06081295,\n",
              "         0.04062958, 0.03426504]),\n",
              "  'mean_test_score': array([0.84173114, 0.84238274, 0.84231989, 0.83066156, 0.83340849,\n",
              "         0.83296342, 0.82564974, 0.83004926, 0.82909328, 0.82073691,\n",
              "         0.82409796, 0.82648721]),\n",
              "  'param_max_depth': masked_array(data=[3, 3, 3, 5, 5, 5, 7, 7, 7, 9, 9, 9],\n",
              "               mask=[False, False, False, False, False, False, False, False,\n",
              "                     False, False, False, False],\n",
              "         fill_value='?',\n",
              "              dtype=object),\n",
              "  'param_min_child_weight': masked_array(data=[1, 3, 5, 1, 3, 5, 1, 3, 5, 1, 3, 5],\n",
              "               mask=[False, False, False, False, False, False, False, False,\n",
              "                     False, False, False, False],\n",
              "         fill_value='?',\n",
              "              dtype=object),\n",
              "  'params': [{'max_depth': 3, 'min_child_weight': 1},\n",
              "   {'max_depth': 3, 'min_child_weight': 3},\n",
              "   {'max_depth': 3, 'min_child_weight': 5},\n",
              "   {'max_depth': 5, 'min_child_weight': 1},\n",
              "   {'max_depth': 5, 'min_child_weight': 3},\n",
              "   {'max_depth': 5, 'min_child_weight': 5},\n",
              "   {'max_depth': 7, 'min_child_weight': 1},\n",
              "   {'max_depth': 7, 'min_child_weight': 3},\n",
              "   {'max_depth': 7, 'min_child_weight': 5},\n",
              "   {'max_depth': 9, 'min_child_weight': 1},\n",
              "   {'max_depth': 9, 'min_child_weight': 3},\n",
              "   {'max_depth': 9, 'min_child_weight': 5}],\n",
              "  'rank_test_score': array([ 3,  1,  2,  6,  4,  5, 10,  7,  8, 12, 11,  9], dtype=int32),\n",
              "  'split0_test_score': array([0.84983154, 0.84992832, 0.84908602, 0.84161649, 0.84301792,\n",
              "         0.84207168, 0.8332043 , 0.83888889, 0.83882437, 0.82416846,\n",
              "         0.8406595 , 0.83772043]),\n",
              "  'split1_test_score': array([0.81695709, 0.8140229 , 0.8141237 , 0.80476671, 0.80498272,\n",
              "         0.80360383, 0.80486751, 0.80612039, 0.80191172, 0.79868232,\n",
              "         0.79438364, 0.79665179]),\n",
              "  'split2_test_score': array([0.81643505, 0.82015049, 0.81907042, 0.80071645, 0.80687284,\n",
              "         0.80538234, 0.79257272, 0.79624496, 0.79961118, 0.79245032,\n",
              "         0.79201109, 0.79894513]),\n",
              "  'split3_test_score': array([0.85610792, 0.85700943, 0.85696977, 0.84753274, 0.85047888,\n",
              "         0.85128303, 0.84420436, 0.84463348, 0.84665647, 0.8379046 ,\n",
              "         0.83967517, 0.84370673]),\n",
              "  'split4_test_score': array([0.86932408, 0.87080256, 0.87234956, 0.85867543, 0.86169008,\n",
              "         0.8624762 , 0.85339978, 0.86435856, 0.85846267, 0.85047888,\n",
              "         0.85376039, 0.85541195]),\n",
              "  'std_fit_time': array([0.06959963, 0.23219129, 0.30350441, 0.16033296, 0.12567346,\n",
              "         0.26818836, 0.26992731, 0.58698365, 0.23922228, 0.48404903,\n",
              "         0.17683894, 0.64207114]),\n",
              "  'std_score_time': array([0.00902255, 0.01158615, 0.01508691, 0.01466621, 0.01350694,\n",
              "         0.00762296, 0.01468208, 0.01152995, 0.01370572, 0.00790187,\n",
              "         0.01908506, 0.02183406]),\n",
              "  'std_test_score': array([0.02138843, 0.0218042 , 0.02235058, 0.02348053, 0.02321962,\n",
              "         0.0241341 , 0.02322671, 0.02523207, 0.02397396, 0.0222604 ,\n",
              "         0.02572665, 0.02411662])},\n",
              " {'max_depth': 3, 'min_child_weight': 3},\n",
              " 0.8423827395324868)"
            ]
          },
          "metadata": {
            "tags": []
          },
          "execution_count": 127
        }
      ]
    },
    {
      "cell_type": "code",
      "metadata": {
        "id": "QL6VXa1qCsH0",
        "colab_type": "code",
        "outputId": "73a1cff1-8d1e-4553-93f5-3df283323441",
        "colab": {
          "base_uri": "https://localhost:8080/",
          "height": 504
        }
      },
      "source": [
        "# validate max_depth and min_child_weight with a range of optimal parameters\n",
        "\n",
        "param_test2 = {\n",
        " 'max_depth':range(2,3,4),\n",
        " 'min_child_weight':range(2,3,4)\n",
        "}\n",
        "\n",
        "gsearch2 = GridSearchCV(estimator = XGBClassifier(learning_rate =0.1, n_estimators=140, max_depth=5,\n",
        " min_child_weight=1, gamma=0, subsample=0.8, colsample_bytree=0.8,\n",
        " objective= 'binary:logistic', nthread=4, scale_pos_weight=1, seed=27), \n",
        " param_grid = param_test2, scoring='roc_auc',n_jobs=4,iid=False, cv=5)\n",
        "\n",
        "gsearch2.fit(X_train_XGB,y_train)\n",
        "gsearch2.cv_results_, gsearch2.best_params_, gsearch2.best_score_\n",
        "\n",
        "# max_depth =2, min_child_weight = 2, new accuracy score after tuning = .85 (improved from .84)"
      ],
      "execution_count": 129,
      "outputs": [
        {
          "output_type": "stream",
          "text": [
            "/usr/local/lib/python3.6/dist-packages/sklearn/preprocessing/label.py:219: DataConversionWarning: A column-vector y was passed when a 1d array was expected. Please change the shape of y to (n_samples, ), for example using ravel().\n",
            "  y = column_or_1d(y, warn=True)\n",
            "/usr/local/lib/python3.6/dist-packages/sklearn/preprocessing/label.py:252: DataConversionWarning: A column-vector y was passed when a 1d array was expected. Please change the shape of y to (n_samples, ), for example using ravel().\n",
            "  y = column_or_1d(y, warn=True)\n"
          ],
          "name": "stderr"
        },
        {
          "output_type": "execute_result",
          "data": {
            "text/plain": [
              "({'mean_fit_time': array([1.45365591]),\n",
              "  'mean_score_time': array([0.02585702]),\n",
              "  'mean_test_score': array([0.84572545]),\n",
              "  'param_max_depth': masked_array(data=[2],\n",
              "               mask=[False],\n",
              "         fill_value='?',\n",
              "              dtype=object),\n",
              "  'param_min_child_weight': masked_array(data=[2],\n",
              "               mask=[False],\n",
              "         fill_value='?',\n",
              "              dtype=object),\n",
              "  'params': [{'max_depth': 2, 'min_child_weight': 2}],\n",
              "  'rank_test_score': array([1], dtype=int32),\n",
              "  'split0_test_score': array([0.85452688]),\n",
              "  'split1_test_score': array([0.82039891]),\n",
              "  'split2_test_score': array([0.82353471]),\n",
              "  'split3_test_score': array([0.85762967]),\n",
              "  'split4_test_score': array([0.87253707]),\n",
              "  'std_fit_time': array([0.41442045]),\n",
              "  'std_score_time': array([0.01400621]),\n",
              "  'std_test_score': array([0.02035633])},\n",
              " {'max_depth': 2, 'min_child_weight': 2},\n",
              " 0.8457254474134487)"
            ]
          },
          "metadata": {
            "tags": []
          },
          "execution_count": 129
        }
      ]
    },
    {
      "cell_type": "code",
      "metadata": {
        "id": "s_YYTnlzMQ7B",
        "colab_type": "code",
        "outputId": "953ea708-003d-4ae6-89a8-05de2966fb3e",
        "colab": {
          "base_uri": "https://localhost:8080/",
          "height": 504
        }
      },
      "source": [
        "# validate max_depth and min_child_weight again with varing values \n",
        "\n",
        "param_test3 = {\n",
        " 'max_depth':range(1,2,3),\n",
        " 'min_child_weight':range(1,2,3)\n",
        "}\n",
        "\n",
        "gsearch3 = GridSearchCV(estimator = XGBClassifier(learning_rate =0.1, n_estimators=140, max_depth=5,\n",
        " min_child_weight=1, gamma=0, subsample=0.8, colsample_bytree=0.8,\n",
        " objective= 'binary:logistic', nthread=4, scale_pos_weight=1, seed=27), \n",
        " param_grid = param_test3, scoring='roc_auc',n_jobs=4,iid=False, cv=5)\n",
        "\n",
        "gsearch3.fit(X_train_XGB,y_train)\n",
        "gsearch3.cv_results_, gsearch3.best_params_, gsearch3.best_score_\n",
        "\n",
        "# max_depth =1, min_child_weight = 1 show slightly better accuracy = .847 (compared to .845)"
      ],
      "execution_count": 130,
      "outputs": [
        {
          "output_type": "stream",
          "text": [
            "/usr/local/lib/python3.6/dist-packages/sklearn/preprocessing/label.py:219: DataConversionWarning: A column-vector y was passed when a 1d array was expected. Please change the shape of y to (n_samples, ), for example using ravel().\n",
            "  y = column_or_1d(y, warn=True)\n",
            "/usr/local/lib/python3.6/dist-packages/sklearn/preprocessing/label.py:252: DataConversionWarning: A column-vector y was passed when a 1d array was expected. Please change the shape of y to (n_samples, ), for example using ravel().\n",
            "  y = column_or_1d(y, warn=True)\n"
          ],
          "name": "stderr"
        },
        {
          "output_type": "execute_result",
          "data": {
            "text/plain": [
              "({'mean_fit_time': array([1.18434792]),\n",
              "  'mean_score_time': array([0.01564384]),\n",
              "  'mean_test_score': array([0.84718001]),\n",
              "  'param_max_depth': masked_array(data=[1],\n",
              "               mask=[False],\n",
              "         fill_value='?',\n",
              "              dtype=object),\n",
              "  'param_min_child_weight': masked_array(data=[1],\n",
              "               mask=[False],\n",
              "         fill_value='?',\n",
              "              dtype=object),\n",
              "  'params': [{'max_depth': 1, 'min_child_weight': 1}],\n",
              "  'rank_test_score': array([1], dtype=int32),\n",
              "  'split0_test_score': array([0.85589247]),\n",
              "  'split1_test_score': array([0.82833741]),\n",
              "  'split2_test_score': array([0.82642209]),\n",
              "  'split3_test_score': array([0.85723301]),\n",
              "  'split4_test_score': array([0.86801509]),\n",
              "  'std_fit_time': array([0.36045099]),\n",
              "  'std_score_time': array([0.0060302]),\n",
              "  'std_test_score': array([0.01671529])},\n",
              " {'max_depth': 1, 'min_child_weight': 1},\n",
              " 0.847180014746792)"
            ]
          },
          "metadata": {
            "tags": []
          },
          "execution_count": 130
        }
      ]
    },
    {
      "cell_type": "code",
      "metadata": {
        "id": "jmnL-sbXQg2y",
        "colab_type": "code",
        "outputId": "c1f5350d-56d7-46ea-93fd-c22120279698",
        "colab": {
          "base_uri": "https://localhost:8080/",
          "height": 504
        }
      },
      "source": [
        "param_test4 = {\n",
        " 'max_depth':range(1,2,3),\n",
        " 'min_child_weight':range(1,2,3)\n",
        "}\n",
        "\n",
        "gsearch4 = GridSearchCV(estimator = XGBClassifier(learning_rate =0.1, n_estimators=140, max_depth=5,\n",
        " min_child_weight=1, gamma=0, subsample=0.8, colsample_bytree=0.8,\n",
        " objective= 'binary:logistic', nthread=4, scale_pos_weight=1, seed=27), \n",
        " param_grid = param_test4, scoring='roc_auc',n_jobs=4,iid=False, cv=5)\n",
        "\n",
        "gsearch4.fit(X_train_XGB,y_train)\n",
        "gsearch4.cv_results_, gsearch4.best_params_, gsearch4.best_score_\n",
        "\n",
        "# result shows max_depth = 1, min_child_weight = 1 is still a better setting with accuracy = .85)"
      ],
      "execution_count": 134,
      "outputs": [
        {
          "output_type": "stream",
          "text": [
            "/usr/local/lib/python3.6/dist-packages/sklearn/preprocessing/label.py:219: DataConversionWarning: A column-vector y was passed when a 1d array was expected. Please change the shape of y to (n_samples, ), for example using ravel().\n",
            "  y = column_or_1d(y, warn=True)\n",
            "/usr/local/lib/python3.6/dist-packages/sklearn/preprocessing/label.py:252: DataConversionWarning: A column-vector y was passed when a 1d array was expected. Please change the shape of y to (n_samples, ), for example using ravel().\n",
            "  y = column_or_1d(y, warn=True)\n"
          ],
          "name": "stderr"
        },
        {
          "output_type": "execute_result",
          "data": {
            "text/plain": [
              "({'mean_fit_time': array([1.13394966]),\n",
              "  'mean_score_time': array([0.01745157]),\n",
              "  'mean_test_score': array([0.84718001]),\n",
              "  'param_max_depth': masked_array(data=[1],\n",
              "               mask=[False],\n",
              "         fill_value='?',\n",
              "              dtype=object),\n",
              "  'param_min_child_weight': masked_array(data=[1],\n",
              "               mask=[False],\n",
              "         fill_value='?',\n",
              "              dtype=object),\n",
              "  'params': [{'max_depth': 1, 'min_child_weight': 1}],\n",
              "  'rank_test_score': array([1], dtype=int32),\n",
              "  'split0_test_score': array([0.85589247]),\n",
              "  'split1_test_score': array([0.82833741]),\n",
              "  'split2_test_score': array([0.82642209]),\n",
              "  'split3_test_score': array([0.85723301]),\n",
              "  'split4_test_score': array([0.86801509]),\n",
              "  'std_fit_time': array([0.32945238]),\n",
              "  'std_score_time': array([0.01139508]),\n",
              "  'std_test_score': array([0.01671529])},\n",
              " {'max_depth': 1, 'min_child_weight': 1},\n",
              " 0.847180014746792)"
            ]
          },
          "metadata": {
            "tags": []
          },
          "execution_count": 134
        }
      ]
    },
    {
      "cell_type": "markdown",
      "metadata": {
        "id": "DuZa86QaNTHQ",
        "colab_type": "text"
      },
      "source": [
        "### 4.3.3 Tune gamma"
      ]
    },
    {
      "cell_type": "code",
      "metadata": {
        "id": "3ueOjOY3NSVw",
        "colab_type": "code",
        "outputId": "8d25a8b8-e897-47d6-d763-646c2bef2172",
        "colab": {
          "base_uri": "https://localhost:8080/",
          "height": 504
        }
      },
      "source": [
        "param_test5 = {\n",
        " 'gamma':[i/10.0 for i in range(0,5)]\n",
        "}\n",
        "gsearch5 = GridSearchCV(estimator = XGBClassifier(learning_rate =0.1, n_estimators=140, max_depth=2,\n",
        " min_child_weight=2, gamma=0, subsample=0.8, colsample_bytree=0.8,\n",
        " objective= 'binary:logistic', nthread=4, scale_pos_weight=1,seed=27), \n",
        " param_grid = param_test5, scoring='roc_auc',n_jobs=4,iid=False, cv=5)\n",
        "\n",
        "gsearch5.fit(X_train_XGB,y_train)\n",
        "gsearch5.cv_results_, gsearch5.best_params_, gsearch5.best_score_\n",
        "\n",
        "# gamma = .4 yields the best accuracy, though it does not help with accuracy rate significantly"
      ],
      "execution_count": 132,
      "outputs": [
        {
          "output_type": "stream",
          "text": [
            "/usr/local/lib/python3.6/dist-packages/sklearn/preprocessing/label.py:219: DataConversionWarning: A column-vector y was passed when a 1d array was expected. Please change the shape of y to (n_samples, ), for example using ravel().\n",
            "  y = column_or_1d(y, warn=True)\n",
            "/usr/local/lib/python3.6/dist-packages/sklearn/preprocessing/label.py:252: DataConversionWarning: A column-vector y was passed when a 1d array was expected. Please change the shape of y to (n_samples, ), for example using ravel().\n",
            "  y = column_or_1d(y, warn=True)\n"
          ],
          "name": "stderr"
        },
        {
          "output_type": "execute_result",
          "data": {
            "text/plain": [
              "({'mean_fit_time': array([1.7114151 , 1.27931528, 1.40987024, 1.37023354, 1.25835176]),\n",
              "  'mean_score_time': array([0.03152437, 0.02952905, 0.01946454, 0.02833223, 0.01476855]),\n",
              "  'mean_test_score': array([0.84572545, 0.84591456, 0.8458411 , 0.84586769, 0.84595366]),\n",
              "  'param_gamma': masked_array(data=[0.0, 0.1, 0.2, 0.3, 0.4],\n",
              "               mask=[False, False, False, False, False],\n",
              "         fill_value='?',\n",
              "              dtype=object),\n",
              "  'params': [{'gamma': 0.0},\n",
              "   {'gamma': 0.1},\n",
              "   {'gamma': 0.2},\n",
              "   {'gamma': 0.3},\n",
              "   {'gamma': 0.4}],\n",
              "  'rank_test_score': array([5, 2, 4, 3, 1], dtype=int32),\n",
              "  'split0_test_score': array([0.85452688, 0.85438351, 0.85438351, 0.85443728, 0.85495341]),\n",
              "  'split1_test_score': array([0.82039891, 0.82046371, 0.82042771, 0.82042771, 0.82042771]),\n",
              "  'split2_test_score': array([0.82353471, 0.82353471, 0.82323229, 0.82333309, 0.82318188]),\n",
              "  'split3_test_score': array([0.85762967, 0.85860331, 0.85857446, 0.85857446, 0.85860331]),\n",
              "  'split4_test_score': array([0.87253707, 0.87258755, 0.87258755, 0.87256592, 0.87260198]),\n",
              "  'std_fit_time': array([0.22000707, 0.18605333, 0.02350951, 0.09355743, 0.27489952]),\n",
              "  'std_score_time': array([0.01925063, 0.01109492, 0.00330934, 0.01338838, 0.00822297]),\n",
              "  'std_test_score': array([0.02035633, 0.02045864, 0.02053038, 0.02050705, 0.02059743])},\n",
              " {'gamma': 0.4},\n",
              " 0.8459536562107342)"
            ]
          },
          "metadata": {
            "tags": []
          },
          "execution_count": 132
        }
      ]
    },
    {
      "cell_type": "markdown",
      "metadata": {
        "id": "_qxMuM9nR8cc",
        "colab_type": "text"
      },
      "source": [
        "### 4.3.4 Tune subsample and colsample_bytree"
      ]
    },
    {
      "cell_type": "code",
      "metadata": {
        "id": "TB_W76_9Ryr2",
        "colab_type": "code",
        "outputId": "32ba7181-6751-4f26-b791-0843b2ea70f1",
        "colab": {
          "base_uri": "https://localhost:8080/",
          "height": 866
        }
      },
      "source": [
        "param_test6 = {\n",
        " 'subsample':[i/100.0 for i in range(75,90,5)],\n",
        " 'colsample_bytree':[i/100.0 for i in range(75,90,5)]\n",
        "}\n",
        "gsearch6 = GridSearchCV(estimator = XGBClassifier(learning_rate =0.1, n_estimators=140, max_depth=2,\n",
        " min_child_weight=2, gamma=0.4, subsample=0.8, colsample_bytree=0.8,\n",
        " objective= 'binary:logistic', nthread=4, scale_pos_weight=1,seed=27), \n",
        " param_grid = param_test6, scoring='roc_auc',n_jobs=4,iid=False, cv=5)\n",
        "\n",
        "gsearch6.fit(X_train_XGB,y_train)\n",
        "gsearch6.cv_results_, gsearch6.best_params_, gsearch6.best_score_\n",
        "\n",
        "# subsample=0.8, colsample_bytree=0.8 remains optimal parameters without significant improvement in accuracy"
      ],
      "execution_count": 135,
      "outputs": [
        {
          "output_type": "stream",
          "text": [
            "/usr/local/lib/python3.6/dist-packages/sklearn/preprocessing/label.py:219: DataConversionWarning: A column-vector y was passed when a 1d array was expected. Please change the shape of y to (n_samples, ), for example using ravel().\n",
            "  y = column_or_1d(y, warn=True)\n",
            "/usr/local/lib/python3.6/dist-packages/sklearn/preprocessing/label.py:252: DataConversionWarning: A column-vector y was passed when a 1d array was expected. Please change the shape of y to (n_samples, ), for example using ravel().\n",
            "  y = column_or_1d(y, warn=True)\n"
          ],
          "name": "stderr"
        },
        {
          "output_type": "execute_result",
          "data": {
            "text/plain": [
              "({'mean_fit_time': array([1.70482664, 1.34245181, 1.38707614, 1.35925674, 1.37955589,\n",
              "         1.3365149 , 1.42921252, 1.49976482, 1.30950222]),\n",
              "  'mean_score_time': array([0.03096929, 0.02765951, 0.02874532, 0.04073567, 0.03277788,\n",
              "         0.02655964, 0.02630086, 0.02674456, 0.01685658]),\n",
              "  'mean_test_score': array([0.84548498, 0.84554129, 0.8452886 , 0.84540653, 0.84595366,\n",
              "         0.84533825, 0.8453431 , 0.84506548, 0.8450165 ]),\n",
              "  'param_colsample_bytree': masked_array(data=[0.75, 0.75, 0.75, 0.8, 0.8, 0.8, 0.85, 0.85, 0.85],\n",
              "               mask=[False, False, False, False, False, False, False, False,\n",
              "                     False],\n",
              "         fill_value='?',\n",
              "              dtype=object),\n",
              "  'param_subsample': masked_array(data=[0.75, 0.8, 0.85, 0.75, 0.8, 0.85, 0.75, 0.8, 0.85],\n",
              "               mask=[False, False, False, False, False, False, False, False,\n",
              "                     False],\n",
              "         fill_value='?',\n",
              "              dtype=object),\n",
              "  'params': [{'colsample_bytree': 0.75, 'subsample': 0.75},\n",
              "   {'colsample_bytree': 0.75, 'subsample': 0.8},\n",
              "   {'colsample_bytree': 0.75, 'subsample': 0.85},\n",
              "   {'colsample_bytree': 0.8, 'subsample': 0.75},\n",
              "   {'colsample_bytree': 0.8, 'subsample': 0.8},\n",
              "   {'colsample_bytree': 0.8, 'subsample': 0.85},\n",
              "   {'colsample_bytree': 0.85, 'subsample': 0.75},\n",
              "   {'colsample_bytree': 0.85, 'subsample': 0.8},\n",
              "   {'colsample_bytree': 0.85, 'subsample': 0.85}],\n",
              "  'rank_test_score': array([3, 2, 7, 4, 1, 6, 5, 8, 9], dtype=int32),\n",
              "  'split0_test_score': array([0.85268459, 0.85397849, 0.85316487, 0.85332975, 0.85495341,\n",
              "         0.85179928, 0.85190681, 0.8533871 , 0.85291756]),\n",
              "  'split1_test_score': array([0.82215582, 0.82166979, 0.82129896, 0.82069412, 0.82042771,\n",
              "         0.82121256, 0.81934044, 0.81854479, 0.81993448]),\n",
              "  'split2_test_score': array([0.82519081, 0.82286146, 0.82490279, 0.82373272, 0.82318188,\n",
              "         0.82379752, 0.82363191, 0.82318908, 0.82335469]),\n",
              "  'split3_test_score': array([0.8573448 , 0.8574674 , 0.85737725, 0.85698059, 0.85860331,\n",
              "         0.85747822, 0.85809125, 0.85606104, 0.85799028]),\n",
              "  'split4_test_score': array([0.8700489 , 0.87172932, 0.86969911, 0.87229547, 0.87260198,\n",
              "         0.87240365, 0.8737451 , 0.87414537, 0.8708855 ]),\n",
              "  'std_fit_time': array([0.17533107, 0.24204177, 0.18117823, 0.23147767, 0.18725644,\n",
              "         0.16168628, 0.19992175, 0.10990894, 0.13042507]),\n",
              "  'std_score_time': array([0.00512239, 0.01377602, 0.00726922, 0.01750872, 0.00936246,\n",
              "         0.00479746, 0.00872328, 0.01426262, 0.00883127]),\n",
              "  'std_test_score': array([0.01871886, 0.0199171 , 0.01894797, 0.02000104, 0.02059743,\n",
              "         0.0198379 , 0.02078358, 0.02106046, 0.01999146])},\n",
              " {'colsample_bytree': 0.8, 'subsample': 0.8},\n",
              " 0.8459536562107342)"
            ]
          },
          "metadata": {
            "tags": []
          },
          "execution_count": 135
        }
      ]
    },
    {
      "cell_type": "markdown",
      "metadata": {
        "id": "byk5BgEXSyb-",
        "colab_type": "text"
      },
      "source": [
        "### 4.3.5 Tune regularization parameters"
      ]
    },
    {
      "cell_type": "code",
      "metadata": {
        "id": "7voLkKN_Sxq0",
        "colab_type": "code",
        "outputId": "4b696cc5-544b-46fb-a757-4b2cb1149831",
        "colab": {
          "base_uri": "https://localhost:8080/",
          "height": 504
        }
      },
      "source": [
        "param_test7 = {\n",
        " 'reg_alpha':[1e-5, 1e-2, 0.1, 1, 100]\n",
        "}\n",
        "gsearch7 = GridSearchCV(estimator = XGBClassifier(learning_rate =0.1, n_estimators=140, max_depth=2,\n",
        " min_child_weight=2, gamma=0.4, subsample=0.8, colsample_bytree=0.8,\n",
        " objective= 'binary:logistic', nthread=4, scale_pos_weight=1,seed=27), \n",
        " param_grid = param_test7, scoring='roc_auc',n_jobs=4,iid=False, cv=5)\n",
        "\n",
        "gsearch7.fit(X_train_XGB,y_train)\n",
        "gsearch7.cv_results_, gsearch7.best_params_, gsearch7.best_score_\n",
        "\n",
        "# reg_alpha= 1 is the optimal setting, but no significant improvement in accuracy"
      ],
      "execution_count": 136,
      "outputs": [
        {
          "output_type": "stream",
          "text": [
            "/usr/local/lib/python3.6/dist-packages/sklearn/preprocessing/label.py:219: DataConversionWarning: A column-vector y was passed when a 1d array was expected. Please change the shape of y to (n_samples, ), for example using ravel().\n",
            "  y = column_or_1d(y, warn=True)\n",
            "/usr/local/lib/python3.6/dist-packages/sklearn/preprocessing/label.py:252: DataConversionWarning: A column-vector y was passed when a 1d array was expected. Please change the shape of y to (n_samples, ), for example using ravel().\n",
            "  y = column_or_1d(y, warn=True)\n"
          ],
          "name": "stderr"
        },
        {
          "output_type": "execute_result",
          "data": {
            "text/plain": [
              "({'mean_fit_time': array([1.73576145, 1.31683517, 1.35421877, 1.39316387, 1.11504192]),\n",
              "  'mean_score_time': array([0.04115415, 0.03678226, 0.04308209, 0.02826719, 0.01561694]),\n",
              "  'mean_test_score': array([0.84595366, 0.8461743 , 0.84542095, 0.84623711, 0.8348999 ]),\n",
              "  'param_reg_alpha': masked_array(data=[1e-05, 0.01, 0.1, 1, 100],\n",
              "               mask=[False, False, False, False, False],\n",
              "         fill_value='?',\n",
              "              dtype=object),\n",
              "  'params': [{'reg_alpha': 1e-05},\n",
              "   {'reg_alpha': 0.01},\n",
              "   {'reg_alpha': 0.1},\n",
              "   {'reg_alpha': 1},\n",
              "   {'reg_alpha': 100}],\n",
              "  'rank_test_score': array([3, 2, 4, 1, 5], dtype=int32),\n",
              "  'split0_test_score': array([0.85495341, 0.85467742, 0.85392473, 0.85539785, 0.84374194]),\n",
              "  'split1_test_score': array([0.82042771, 0.82049251, 0.82146457, 0.82255184, 0.82236823]),\n",
              "  'split2_test_score': array([0.82318188, 0.82429435, 0.82296227, 0.82377952, 0.82040251]),\n",
              "  'split3_test_score': array([0.85860331, 0.85881967, 0.85845906, 0.85829319, 0.83554264]),\n",
              "  'split4_test_score': array([0.87260198, 0.87258755, 0.87029411, 0.87116317, 0.85244418]),\n",
              "  'std_fit_time': array([0.19677126, 0.24313186, 0.03789293, 0.17276575, 0.2190777 ]),\n",
              "  'std_score_time': array([0.01864792, 0.015553  , 0.02560269, 0.01500423, 0.00733859]),\n",
              "  'std_test_score': array([0.02059743, 0.02033792, 0.01969407, 0.01957504, 0.01227692])},\n",
              " {'reg_alpha': 1},\n",
              " 0.8462371134162925)"
            ]
          },
          "metadata": {
            "tags": []
          },
          "execution_count": 136
        }
      ]
    },
    {
      "cell_type": "markdown",
      "metadata": {
        "id": "fyCeqmiCUT7L",
        "colab_type": "text"
      },
      "source": [
        "### 4.3.6 Conclude tuned parameters with more trees & lower learning rate"
      ]
    },
    {
      "cell_type": "code",
      "metadata": {
        "id": "B3f0MjMqUMl8",
        "colab_type": "code",
        "outputId": "e03fab29-77ea-4f6b-a686-c48ff064cb5c",
        "colab": {
          "base_uri": "https://localhost:8080/",
          "height": 510
        }
      },
      "source": [
        "xgb2 = XGBClassifier(\n",
        " learning_rate =0.01,\n",
        " n_estimators=5000,\n",
        " max_depth=1,\n",
        " min_child_weight=1,\n",
        " gamma=0.4,\n",
        " subsample=0.8,\n",
        " colsample_bytree=0.8,\n",
        " reg_alpha=1,\n",
        " objective= 'binary:logistic',\n",
        " nthread=4,\n",
        " scale_pos_weight=1,\n",
        " seed=27)\n",
        "\n",
        "# fit XGBoost model again with optimized parameters\n",
        "XGBmodelfit(xgb2, X_train_XGB, y_train, features)\n",
        "\n",
        "# accuracy .81, auc .86 (compared to xgb1(before tuning).83(from .81); auc= .89)\n",
        "# result shows that optimized parameters do not yield better result \n",
        "\n"
      ],
      "execution_count": 137,
      "outputs": [
        {
          "output_type": "stream",
          "text": [
            "\n",
            "Model Report\n",
            "Accuracy : 0.8061\n",
            "AUC Score (Train): 0.854469\n"
          ],
          "name": "stdout"
        },
        {
          "output_type": "display_data",
          "data": {
            "image/png": "[encoded data removed]",
            "text/plain": [
              "<Figure size 864x288 with 1 Axes>"
            ]
          },
          "metadata": {
            "tags": []
          }
        }
      ]
    },
    {
      "cell_type": "markdown",
      "metadata": {
        "id": "pU2u50p1WlDs",
        "colab_type": "text"
      },
      "source": [
        "### 4.4 Fit xgb1 and xgb2 (parameters tuned) on validation data"
      ]
    },
    {
      "cell_type": "code",
      "metadata": {
        "id": "4ZQx153oWkW0",
        "colab_type": "code",
        "outputId": "9151f3c7-0035-4275-c1c2-f4753793f802",
        "colab": {
          "base_uri": "https://localhost:8080/",
          "height": 557
        }
      },
      "source": [
        "XGBmodelfit(xgb1, X_val_XGB, y_val, features)\n",
        "# accuracy: .87, auc .93"
      ],
      "execution_count": 138,
      "outputs": [
        {
          "output_type": "stream",
          "text": [
            "\n",
            "Model Report\n",
            "Accuracy : 0.8692\n",
            "AUC Score (Train): 0.933894\n"
          ],
          "name": "stdout"
        },
        {
          "output_type": "display_data",
          "data": {
            "image/png": "[encoded data removed]",
            "text/plain": [
              "<Figure size 864x288 with 1 Axes>"
            ]
          },
          "metadata": {
            "tags": []
          }
        }
      ]
    },
    {
      "cell_type": "code",
      "metadata": {
        "id": "bjbUuGavW30k",
        "colab_type": "code",
        "outputId": "4a591b80-436e-4c62-8b04-d55e7c1135ab",
        "colab": {
          "base_uri": "https://localhost:8080/",
          "height": 510
        }
      },
      "source": [
        "XGBmodelfit(xgb2, X_val_XGB, y_val, features)\n",
        "# accuracy: .79, auc .84"
      ],
      "execution_count": 139,
      "outputs": [
        {
          "output_type": "stream",
          "text": [
            "\n",
            "Model Report\n",
            "Accuracy : 0.7918\n",
            "AUC Score (Train): 0.840804\n"
          ],
          "name": "stdout"
        },
        {
          "output_type": "display_data",
          "data": {
            "image/png": "[encoded data removed]",
            "text/plain": [
              "<Figure size 864x288 with 1 Axes>"
            ]
          },
          "metadata": {
            "tags": []
          }
        }
      ]
    },
    {
      "cell_type": "markdown",
      "metadata": {
        "id": "ESBEvOEGX8IX",
        "colab_type": "text"
      },
      "source": [
        "### Summary: \n",
        "  - Tunned parameters actually tields a worse accuracy result on the validation set\n",
        "  - This suggests that tuning process is perhaps subject to overfitting the train data\n",
        "  - However, the optimized with tuned parameters also exhibits a satisfactory performance, and it also gives good insights in important features other than just payment amount regarding churn prediction. For instance, **monthly contract, use of online security**, and **tech support** can be valuable information to take business action on to prevent churn \n",
        "  - To examine the robustness of current **xgb1** model, we can see its perfomance on another hold-out test set and compared to the tuned model **xgb2**"
      ]
    },
    {
      "cell_type": "markdown",
      "metadata": {
        "id": "q6iM-74YYlGQ",
        "colab_type": "text"
      },
      "source": [
        "### Predict on completely hold-out test set"
      ]
    },
    {
      "cell_type": "code",
      "metadata": {
        "id": "mwI3p17JdOI1",
        "colab_type": "code",
        "outputId": "c331057e-1197-4295-9466-b7169440981f",
        "colab": {
          "base_uri": "https://localhost:8080/",
          "height": 35
        }
      },
      "source": [
        "X_test.shape # 1406 data points in this hold-out test set"
      ],
      "execution_count": 140,
      "outputs": [
        {
          "output_type": "execute_result",
          "data": {
            "text/plain": [
              "(1406, 20)"
            ]
          },
          "metadata": {
            "tags": []
          },
          "execution_count": 140
        }
      ]
    },
    {
      "cell_type": "code",
      "metadata": {
        "id": "ib8b52yYc796",
        "colab_type": "code",
        "outputId": "70d0af9f-05c8-4725-ba85-c455a12bd8c0",
        "colab": {
          "base_uri": "https://localhost:8080/",
          "height": 557
        }
      },
      "source": [
        "XGBmodelfit(xgb1, X_test_XGB, y_test, features)\n",
        "# accuracy: .88, auc .94\n",
        "# xgb1 model performance show stability and robustness "
      ],
      "execution_count": 141,
      "outputs": [
        {
          "output_type": "stream",
          "text": [
            "\n",
            "Model Report\n",
            "Accuracy : 0.8798\n",
            "AUC Score (Train): 0.943510\n"
          ],
          "name": "stdout"
        },
        {
          "output_type": "display_data",
          "data": {
            "image/png": "[encoded data removed]",
            "text/plain": [
              "<Figure size 864x288 with 1 Axes>"
            ]
          },
          "metadata": {
            "tags": []
          }
        }
      ]
    },
    {
      "cell_type": "code",
      "metadata": {
        "id": "NFwK4BB0dBqB",
        "colab_type": "code",
        "outputId": "8bed75a1-b84d-46e4-f400-6f4a8de80be9",
        "colab": {
          "base_uri": "https://localhost:8080/",
          "height": 510
        }
      },
      "source": [
        "XGBmodelfit(xgb2, X_test_XGB, y_test, features)\n",
        "\n",
        "# although general performance of this tuned xgb2 model is not as good as xgb1, the result shows that monthly charge,\n",
        "# month-to-month contract, and use of tech support remain as important predictive features across dataset for customer churn"
      ],
      "execution_count": 142,
      "outputs": [
        {
          "output_type": "stream",
          "text": [
            "\n",
            "Model Report\n",
            "Accuracy : 0.8115\n",
            "AUC Score (Train): 0.858284\n"
          ],
          "name": "stdout"
        },
        {
          "output_type": "display_data",
          "data": {
            "image/png": "[encoded data removed]",
            "text/plain": [
              "<Figure size 864x288 with 1 Axes>"
            ]
          },
          "metadata": {
            "tags": []
          }
        }
      ]
    },
    {
      "cell_type": "markdown",
      "metadata": {
        "colab_type": "text",
        "id": "jMIQyUZNLT12"
      },
      "source": [
        "### 5. Final Summary\n",
        "\n",
        "- Important features regarding predicting customer churn include: tenure, month charge, use of monthly contract, fiber optic, and tech support (useful reference for marketing and CRM) \n",
        "- XGBoost performs better than logistic regression on predicting customer churn in this current dataset\n",
        "- Setup of optimal parameters is as follows:\n",
        "\n",
        "\n",
        "---\n",
        "\n",
        "\n",
        "\n",
        "\n",
        "```\n",
        "# optimal parameters beow:\n",
        "\n",
        "xgb1 = XGBClassifier(\n",
        " learning_rate =0.1,\n",
        " n_estimators=1000,\n",
        " max_depth=5,\n",
        " min_child_weight=1,\n",
        " gamma=0,\n",
        " subsample=0.8,\n",
        " colsample_bytree=0.8,\n",
        " objective= 'binary:logistic',\n",
        " nthread=4,\n",
        " scale_pos_weight=1)\n",
        "```\n",
        "\n"
      ]
    },
    {
      "cell_type": "markdown",
      "metadata": {
        "id": "3EfDySL-LWL-",
        "colab_type": "text"
      },
      "source": [
        "## END OF THIS PROJECT NOTEBOOK"
      ]
    }
  ]
}