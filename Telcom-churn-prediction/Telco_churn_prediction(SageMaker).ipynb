{
  "nbformat": 4,
  "nbformat_minor": 0,
  "metadata": {
    "kernelspec": {
      "display_name": "conda_python3",
      "language": "python",
      "name": "conda_python3"
    },
    "language_info": {
      "codemirror_mode": {
        "name": "ipython",
        "version": 3
      },
      "file_extension": ".py",
      "mimetype": "text/x-python",
      "name": "python",
      "nbconvert_exporter": "python",
      "pygments_lexer": "ipython3",
      "version": "3.6.5"
    },
    "colab": {
      "name": "Telco-churn-prediction(SageMaker).ipynb",
      "provenance": [],
      "collapsed_sections": [
        "txTbLZKVvHiF"
      ]
    },
    "accelerator": "GPU"
  },
  "cells": [
    {
      "cell_type": "markdown",
      "metadata": {
        "id": "0nTy2jscvHbE",
        "colab_type": "text"
      },
      "source": [
        "## 1. Set up the basics"
      ]
    },
    {
      "cell_type": "code",
      "metadata": {
        "id": "4N406DN8vHbG",
        "colab_type": "code",
        "outputId": "27813e43-9e02-449f-fe87-22b06269136b",
        "colab": {
          "base_uri": "https://localhost:8080/",
          "height": 368
        }
      },
      "source": [
        "# set up S3 bucket\n",
        "\n",
        "bucket = 'telco-project'\n",
        "prefix = 'sagemaker/ds'\n",
        "\n",
        "# Define IAM role\n",
        "import boto3\n",
        "import re\n",
        "from sagemaker import get_execution_role\n",
        "\n",
        "role = get_execution_role()"
      ],
      "execution_count": 0,
      "outputs": [
        {
          "output_type": "error",
          "ename": "ModuleNotFoundError",
          "evalue": "ignored",
          "traceback": [
            "\u001b[0;31m---------------------------------------------------------------------------\u001b[0m",
            "\u001b[0;31mModuleNotFoundError\u001b[0m                       Traceback (most recent call last)",
            "\u001b[0;32m<ipython-input-1-7df40eab48ee>\u001b[0m in \u001b[0;36m<module>\u001b[0;34m()\u001b[0m\n\u001b[1;32m      6\u001b[0m \u001b[0;32mimport\u001b[0m \u001b[0mboto3\u001b[0m\u001b[0;34m\u001b[0m\u001b[0;34m\u001b[0m\u001b[0m\n\u001b[1;32m      7\u001b[0m \u001b[0;32mimport\u001b[0m \u001b[0mre\u001b[0m\u001b[0;34m\u001b[0m\u001b[0;34m\u001b[0m\u001b[0m\n\u001b[0;32m----> 8\u001b[0;31m \u001b[0;32mfrom\u001b[0m \u001b[0msagemaker\u001b[0m \u001b[0;32mimport\u001b[0m \u001b[0mget_execution_role\u001b[0m\u001b[0;34m\u001b[0m\u001b[0;34m\u001b[0m\u001b[0m\n\u001b[0m\u001b[1;32m      9\u001b[0m \u001b[0;34m\u001b[0m\u001b[0m\n\u001b[1;32m     10\u001b[0m \u001b[0mrole\u001b[0m \u001b[0;34m=\u001b[0m \u001b[0mget_execution_role\u001b[0m\u001b[0;34m(\u001b[0m\u001b[0;34m)\u001b[0m\u001b[0;34m\u001b[0m\u001b[0;34m\u001b[0m\u001b[0m\n",
            "\u001b[0;31mModuleNotFoundError\u001b[0m: No module named 'sagemaker'",
            "",
            "\u001b[0;31m---------------------------------------------------------------------------\u001b[0;32m\nNOTE: If your import is failing due to a missing package, you can\nmanually install dependencies using either !pip or !apt.\n\nTo view examples of installing some common dependencies, click the\n\"Open Examples\" button below.\n\u001b[0;31m---------------------------------------------------------------------------\u001b[0m\n"
          ]
        }
      ]
    },
    {
      "cell_type": "code",
      "metadata": {
        "id": "IP1O1Ly_vHbM",
        "colab_type": "code",
        "colab": {}
      },
      "source": [
        "# import libraries\n",
        "\n",
        "import pandas as pd\n",
        "import numpy as np\n",
        "import seaborn as sns\n",
        "import matplotlib.pyplot as plt\n",
        "import io\n",
        "import os\n",
        "import sys\n",
        "import time\n",
        "import json\n",
        "from IPython.display import display\n",
        "from time import strftime, gmtime\n",
        "import sagemaker \n",
        "from sagemaker.predictor import csv_serializer \n",
        "from sklearn.model_selection import train_test_split"
      ],
      "execution_count": 0,
      "outputs": []
    },
    {
      "cell_type": "markdown",
      "metadata": {
        "id": "ny2eO7YovHbV",
        "colab_type": "text"
      },
      "source": [
        "## 2. Import data "
      ]
    },
    {
      "cell_type": "code",
      "metadata": {
        "id": "BIo71DCuvHbX",
        "colab_type": "code",
        "outputId": "f5d13a31-0214-40ad-c9d1-c8f2f738ddcd",
        "colab": {
          "base_uri": "https://localhost:8080/",
          "height": 1000
        }
      },
      "source": [
        "df = pd.read_csv('Telco-Customer-Churn.csv')\n",
        "pd.set_option('display.max_columns', 100)\n",
        "df # 7043 row x 21 columns"
      ],
      "execution_count": 0,
      "outputs": [
        {
          "output_type": "execute_result",
          "data": {
            "text/html": [
              "<div>\n",
              "<style scoped>\n",
              "    .dataframe tbody tr th:only-of-type {\n",
              "        vertical-align: middle;\n",
              "    }\n",
              "\n",
              "    .dataframe tbody tr th {\n",
              "        vertical-align: top;\n",
              "    }\n",
              "\n",
              "    .dataframe thead th {\n",
              "        text-align: right;\n",
              "    }\n",
              "</style>\n",
              "<table border=\"1\" class=\"dataframe\">\n",
              "  <thead>\n",
              "    <tr style=\"text-align: right;\">\n",
              "      <th></th>\n",
              "      <th>customerID</th>\n",
              "      <th>gender</th>\n",
              "      <th>SeniorCitizen</th>\n",
              "      <th>Partner</th>\n",
              "      <th>Dependents</th>\n",
              "      <th>tenure</th>\n",
              "      <th>PhoneService</th>\n",
              "      <th>MultipleLines</th>\n",
              "      <th>InternetService</th>\n",
              "      <th>OnlineSecurity</th>\n",
              "      <th>OnlineBackup</th>\n",
              "      <th>DeviceProtection</th>\n",
              "      <th>TechSupport</th>\n",
              "      <th>StreamingTV</th>\n",
              "      <th>StreamingMovies</th>\n",
              "      <th>Contract</th>\n",
              "      <th>PaperlessBilling</th>\n",
              "      <th>PaymentMethod</th>\n",
              "      <th>MonthlyCharges</th>\n",
              "      <th>TotalCharges</th>\n",
              "      <th>Churn</th>\n",
              "    </tr>\n",
              "  </thead>\n",
              "  <tbody>\n",
              "    <tr>\n",
              "      <th>0</th>\n",
              "      <td>7590-VHVEG</td>\n",
              "      <td>Female</td>\n",
              "      <td>0</td>\n",
              "      <td>Yes</td>\n",
              "      <td>No</td>\n",
              "      <td>1</td>\n",
              "      <td>No</td>\n",
              "      <td>No phone service</td>\n",
              "      <td>DSL</td>\n",
              "      <td>No</td>\n",
              "      <td>Yes</td>\n",
              "      <td>No</td>\n",
              "      <td>No</td>\n",
              "      <td>No</td>\n",
              "      <td>No</td>\n",
              "      <td>Month-to-month</td>\n",
              "      <td>Yes</td>\n",
              "      <td>Electronic check</td>\n",
              "      <td>29.85</td>\n",
              "      <td>29.85</td>\n",
              "      <td>No</td>\n",
              "    </tr>\n",
              "    <tr>\n",
              "      <th>1</th>\n",
              "      <td>5575-GNVDE</td>\n",
              "      <td>Male</td>\n",
              "      <td>0</td>\n",
              "      <td>No</td>\n",
              "      <td>No</td>\n",
              "      <td>34</td>\n",
              "      <td>Yes</td>\n",
              "      <td>No</td>\n",
              "      <td>DSL</td>\n",
              "      <td>Yes</td>\n",
              "      <td>No</td>\n",
              "      <td>Yes</td>\n",
              "      <td>No</td>\n",
              "      <td>No</td>\n",
              "      <td>No</td>\n",
              "      <td>One year</td>\n",
              "      <td>No</td>\n",
              "      <td>Mailed check</td>\n",
              "      <td>56.95</td>\n",
              "      <td>1889.5</td>\n",
              "      <td>No</td>\n",
              "    </tr>\n",
              "    <tr>\n",
              "      <th>2</th>\n",
              "      <td>3668-QPYBK</td>\n",
              "      <td>Male</td>\n",
              "      <td>0</td>\n",
              "      <td>No</td>\n",
              "      <td>No</td>\n",
              "      <td>2</td>\n",
              "      <td>Yes</td>\n",
              "      <td>No</td>\n",
              "      <td>DSL</td>\n",
              "      <td>Yes</td>\n",
              "      <td>Yes</td>\n",
              "      <td>No</td>\n",
              "      <td>No</td>\n",
              "      <td>No</td>\n",
              "      <td>No</td>\n",
              "      <td>Month-to-month</td>\n",
              "      <td>Yes</td>\n",
              "      <td>Mailed check</td>\n",
              "      <td>53.85</td>\n",
              "      <td>108.15</td>\n",
              "      <td>Yes</td>\n",
              "    </tr>\n",
              "    <tr>\n",
              "      <th>3</th>\n",
              "      <td>7795-CFOCW</td>\n",
              "      <td>Male</td>\n",
              "      <td>0</td>\n",
              "      <td>No</td>\n",
              "      <td>No</td>\n",
              "      <td>45</td>\n",
              "      <td>No</td>\n",
              "      <td>No phone service</td>\n",
              "      <td>DSL</td>\n",
              "      <td>Yes</td>\n",
              "      <td>No</td>\n",
              "      <td>Yes</td>\n",
              "      <td>Yes</td>\n",
              "      <td>No</td>\n",
              "      <td>No</td>\n",
              "      <td>One year</td>\n",
              "      <td>No</td>\n",
              "      <td>Bank transfer (automatic)</td>\n",
              "      <td>42.30</td>\n",
              "      <td>1840.75</td>\n",
              "      <td>No</td>\n",
              "    </tr>\n",
              "    <tr>\n",
              "      <th>4</th>\n",
              "      <td>9237-HQITU</td>\n",
              "      <td>Female</td>\n",
              "      <td>0</td>\n",
              "      <td>No</td>\n",
              "      <td>No</td>\n",
              "      <td>2</td>\n",
              "      <td>Yes</td>\n",
              "      <td>No</td>\n",
              "      <td>Fiber optic</td>\n",
              "      <td>No</td>\n",
              "      <td>No</td>\n",
              "      <td>No</td>\n",
              "      <td>No</td>\n",
              "      <td>No</td>\n",
              "      <td>No</td>\n",
              "      <td>Month-to-month</td>\n",
              "      <td>Yes</td>\n",
              "      <td>Electronic check</td>\n",
              "      <td>70.70</td>\n",
              "      <td>151.65</td>\n",
              "      <td>Yes</td>\n",
              "    </tr>\n",
              "    <tr>\n",
              "      <th>5</th>\n",
              "      <td>9305-CDSKC</td>\n",
              "      <td>Female</td>\n",
              "      <td>0</td>\n",
              "      <td>No</td>\n",
              "      <td>No</td>\n",
              "      <td>8</td>\n",
              "      <td>Yes</td>\n",
              "      <td>Yes</td>\n",
              "      <td>Fiber optic</td>\n",
              "      <td>No</td>\n",
              "      <td>No</td>\n",
              "      <td>Yes</td>\n",
              "      <td>No</td>\n",
              "      <td>Yes</td>\n",
              "      <td>Yes</td>\n",
              "      <td>Month-to-month</td>\n",
              "      <td>Yes</td>\n",
              "      <td>Electronic check</td>\n",
              "      <td>99.65</td>\n",
              "      <td>820.5</td>\n",
              "      <td>Yes</td>\n",
              "    </tr>\n",
              "    <tr>\n",
              "      <th>6</th>\n",
              "      <td>1452-KIOVK</td>\n",
              "      <td>Male</td>\n",
              "      <td>0</td>\n",
              "      <td>No</td>\n",
              "      <td>Yes</td>\n",
              "      <td>22</td>\n",
              "      <td>Yes</td>\n",
              "      <td>Yes</td>\n",
              "      <td>Fiber optic</td>\n",
              "      <td>No</td>\n",
              "      <td>Yes</td>\n",
              "      <td>No</td>\n",
              "      <td>No</td>\n",
              "      <td>Yes</td>\n",
              "      <td>No</td>\n",
              "      <td>Month-to-month</td>\n",
              "      <td>Yes</td>\n",
              "      <td>Credit card (automatic)</td>\n",
              "      <td>89.10</td>\n",
              "      <td>1949.4</td>\n",
              "      <td>No</td>\n",
              "    </tr>\n",
              "    <tr>\n",
              "      <th>7</th>\n",
              "      <td>6713-OKOMC</td>\n",
              "      <td>Female</td>\n",
              "      <td>0</td>\n",
              "      <td>No</td>\n",
              "      <td>No</td>\n",
              "      <td>10</td>\n",
              "      <td>No</td>\n",
              "      <td>No phone service</td>\n",
              "      <td>DSL</td>\n",
              "      <td>Yes</td>\n",
              "      <td>No</td>\n",
              "      <td>No</td>\n",
              "      <td>No</td>\n",
              "      <td>No</td>\n",
              "      <td>No</td>\n",
              "      <td>Month-to-month</td>\n",
              "      <td>No</td>\n",
              "      <td>Mailed check</td>\n",
              "      <td>29.75</td>\n",
              "      <td>301.9</td>\n",
              "      <td>No</td>\n",
              "    </tr>\n",
              "    <tr>\n",
              "      <th>8</th>\n",
              "      <td>7892-POOKP</td>\n",
              "      <td>Female</td>\n",
              "      <td>0</td>\n",
              "      <td>Yes</td>\n",
              "      <td>No</td>\n",
              "      <td>28</td>\n",
              "      <td>Yes</td>\n",
              "      <td>Yes</td>\n",
              "      <td>Fiber optic</td>\n",
              "      <td>No</td>\n",
              "      <td>No</td>\n",
              "      <td>Yes</td>\n",
              "      <td>Yes</td>\n",
              "      <td>Yes</td>\n",
              "      <td>Yes</td>\n",
              "      <td>Month-to-month</td>\n",
              "      <td>Yes</td>\n",
              "      <td>Electronic check</td>\n",
              "      <td>104.80</td>\n",
              "      <td>3046.05</td>\n",
              "      <td>Yes</td>\n",
              "    </tr>\n",
              "    <tr>\n",
              "      <th>9</th>\n",
              "      <td>6388-TABGU</td>\n",
              "      <td>Male</td>\n",
              "      <td>0</td>\n",
              "      <td>No</td>\n",
              "      <td>Yes</td>\n",
              "      <td>62</td>\n",
              "      <td>Yes</td>\n",
              "      <td>No</td>\n",
              "      <td>DSL</td>\n",
              "      <td>Yes</td>\n",
              "      <td>Yes</td>\n",
              "      <td>No</td>\n",
              "      <td>No</td>\n",
              "      <td>No</td>\n",
              "      <td>No</td>\n",
              "      <td>One year</td>\n",
              "      <td>No</td>\n",
              "      <td>Bank transfer (automatic)</td>\n",
              "      <td>56.15</td>\n",
              "      <td>3487.95</td>\n",
              "      <td>No</td>\n",
              "    </tr>\n",
              "    <tr>\n",
              "      <th>10</th>\n",
              "      <td>9763-GRSKD</td>\n",
              "      <td>Male</td>\n",
              "      <td>0</td>\n",
              "      <td>Yes</td>\n",
              "      <td>Yes</td>\n",
              "      <td>13</td>\n",
              "      <td>Yes</td>\n",
              "      <td>No</td>\n",
              "      <td>DSL</td>\n",
              "      <td>Yes</td>\n",
              "      <td>No</td>\n",
              "      <td>No</td>\n",
              "      <td>No</td>\n",
              "      <td>No</td>\n",
              "      <td>No</td>\n",
              "      <td>Month-to-month</td>\n",
              "      <td>Yes</td>\n",
              "      <td>Mailed check</td>\n",
              "      <td>49.95</td>\n",
              "      <td>587.45</td>\n",
              "      <td>No</td>\n",
              "    </tr>\n",
              "    <tr>\n",
              "      <th>11</th>\n",
              "      <td>7469-LKBCI</td>\n",
              "      <td>Male</td>\n",
              "      <td>0</td>\n",
              "      <td>No</td>\n",
              "      <td>No</td>\n",
              "      <td>16</td>\n",
              "      <td>Yes</td>\n",
              "      <td>No</td>\n",
              "      <td>No</td>\n",
              "      <td>No internet service</td>\n",
              "      <td>No internet service</td>\n",
              "      <td>No internet service</td>\n",
              "      <td>No internet service</td>\n",
              "      <td>No internet service</td>\n",
              "      <td>No internet service</td>\n",
              "      <td>Two year</td>\n",
              "      <td>No</td>\n",
              "      <td>Credit card (automatic)</td>\n",
              "      <td>18.95</td>\n",
              "      <td>326.8</td>\n",
              "      <td>No</td>\n",
              "    </tr>\n",
              "    <tr>\n",
              "      <th>12</th>\n",
              "      <td>8091-TTVAX</td>\n",
              "      <td>Male</td>\n",
              "      <td>0</td>\n",
              "      <td>Yes</td>\n",
              "      <td>No</td>\n",
              "      <td>58</td>\n",
              "      <td>Yes</td>\n",
              "      <td>Yes</td>\n",
              "      <td>Fiber optic</td>\n",
              "      <td>No</td>\n",
              "      <td>No</td>\n",
              "      <td>Yes</td>\n",
              "      <td>No</td>\n",
              "      <td>Yes</td>\n",
              "      <td>Yes</td>\n",
              "      <td>One year</td>\n",
              "      <td>No</td>\n",
              "      <td>Credit card (automatic)</td>\n",
              "      <td>100.35</td>\n",
              "      <td>5681.1</td>\n",
              "      <td>No</td>\n",
              "    </tr>\n",
              "    <tr>\n",
              "      <th>13</th>\n",
              "      <td>0280-XJGEX</td>\n",
              "      <td>Male</td>\n",
              "      <td>0</td>\n",
              "      <td>No</td>\n",
              "      <td>No</td>\n",
              "      <td>49</td>\n",
              "      <td>Yes</td>\n",
              "      <td>Yes</td>\n",
              "      <td>Fiber optic</td>\n",
              "      <td>No</td>\n",
              "      <td>Yes</td>\n",
              "      <td>Yes</td>\n",
              "      <td>No</td>\n",
              "      <td>Yes</td>\n",
              "      <td>Yes</td>\n",
              "      <td>Month-to-month</td>\n",
              "      <td>Yes</td>\n",
              "      <td>Bank transfer (automatic)</td>\n",
              "      <td>103.70</td>\n",
              "      <td>5036.3</td>\n",
              "      <td>Yes</td>\n",
              "    </tr>\n",
              "    <tr>\n",
              "      <th>14</th>\n",
              "      <td>5129-JLPIS</td>\n",
              "      <td>Male</td>\n",
              "      <td>0</td>\n",
              "      <td>No</td>\n",
              "      <td>No</td>\n",
              "      <td>25</td>\n",
              "      <td>Yes</td>\n",
              "      <td>No</td>\n",
              "      <td>Fiber optic</td>\n",
              "      <td>Yes</td>\n",
              "      <td>No</td>\n",
              "      <td>Yes</td>\n",
              "      <td>Yes</td>\n",
              "      <td>Yes</td>\n",
              "      <td>Yes</td>\n",
              "      <td>Month-to-month</td>\n",
              "      <td>Yes</td>\n",
              "      <td>Electronic check</td>\n",
              "      <td>105.50</td>\n",
              "      <td>2686.05</td>\n",
              "      <td>No</td>\n",
              "    </tr>\n",
              "    <tr>\n",
              "      <th>15</th>\n",
              "      <td>3655-SNQYZ</td>\n",
              "      <td>Female</td>\n",
              "      <td>0</td>\n",
              "      <td>Yes</td>\n",
              "      <td>Yes</td>\n",
              "      <td>69</td>\n",
              "      <td>Yes</td>\n",
              "      <td>Yes</td>\n",
              "      <td>Fiber optic</td>\n",
              "      <td>Yes</td>\n",
              "      <td>Yes</td>\n",
              "      <td>Yes</td>\n",
              "      <td>Yes</td>\n",
              "      <td>Yes</td>\n",
              "      <td>Yes</td>\n",
              "      <td>Two year</td>\n",
              "      <td>No</td>\n",
              "      <td>Credit card (automatic)</td>\n",
              "      <td>113.25</td>\n",
              "      <td>7895.15</td>\n",
              "      <td>No</td>\n",
              "    </tr>\n",
              "    <tr>\n",
              "      <th>16</th>\n",
              "      <td>8191-XWSZG</td>\n",
              "      <td>Female</td>\n",
              "      <td>0</td>\n",
              "      <td>No</td>\n",
              "      <td>No</td>\n",
              "      <td>52</td>\n",
              "      <td>Yes</td>\n",
              "      <td>No</td>\n",
              "      <td>No</td>\n",
              "      <td>No internet service</td>\n",
              "      <td>No internet service</td>\n",
              "      <td>No internet service</td>\n",
              "      <td>No internet service</td>\n",
              "      <td>No internet service</td>\n",
              "      <td>No internet service</td>\n",
              "      <td>One year</td>\n",
              "      <td>No</td>\n",
              "      <td>Mailed check</td>\n",
              "      <td>20.65</td>\n",
              "      <td>1022.95</td>\n",
              "      <td>No</td>\n",
              "    </tr>\n",
              "    <tr>\n",
              "      <th>17</th>\n",
              "      <td>9959-WOFKT</td>\n",
              "      <td>Male</td>\n",
              "      <td>0</td>\n",
              "      <td>No</td>\n",
              "      <td>Yes</td>\n",
              "      <td>71</td>\n",
              "      <td>Yes</td>\n",
              "      <td>Yes</td>\n",
              "      <td>Fiber optic</td>\n",
              "      <td>Yes</td>\n",
              "      <td>No</td>\n",
              "      <td>Yes</td>\n",
              "      <td>No</td>\n",
              "      <td>Yes</td>\n",
              "      <td>Yes</td>\n",
              "      <td>Two year</td>\n",
              "      <td>No</td>\n",
              "      <td>Bank transfer (automatic)</td>\n",
              "      <td>106.70</td>\n",
              "      <td>7382.25</td>\n",
              "      <td>No</td>\n",
              "    </tr>\n",
              "    <tr>\n",
              "      <th>18</th>\n",
              "      <td>4190-MFLUW</td>\n",
              "      <td>Female</td>\n",
              "      <td>0</td>\n",
              "      <td>Yes</td>\n",
              "      <td>Yes</td>\n",
              "      <td>10</td>\n",
              "      <td>Yes</td>\n",
              "      <td>No</td>\n",
              "      <td>DSL</td>\n",
              "      <td>No</td>\n",
              "      <td>No</td>\n",
              "      <td>Yes</td>\n",
              "      <td>Yes</td>\n",
              "      <td>No</td>\n",
              "      <td>No</td>\n",
              "      <td>Month-to-month</td>\n",
              "      <td>No</td>\n",
              "      <td>Credit card (automatic)</td>\n",
              "      <td>55.20</td>\n",
              "      <td>528.35</td>\n",
              "      <td>Yes</td>\n",
              "    </tr>\n",
              "    <tr>\n",
              "      <th>19</th>\n",
              "      <td>4183-MYFRB</td>\n",
              "      <td>Female</td>\n",
              "      <td>0</td>\n",
              "      <td>No</td>\n",
              "      <td>No</td>\n",
              "      <td>21</td>\n",
              "      <td>Yes</td>\n",
              "      <td>No</td>\n",
              "      <td>Fiber optic</td>\n",
              "      <td>No</td>\n",
              "      <td>Yes</td>\n",
              "      <td>Yes</td>\n",
              "      <td>No</td>\n",
              "      <td>No</td>\n",
              "      <td>Yes</td>\n",
              "      <td>Month-to-month</td>\n",
              "      <td>Yes</td>\n",
              "      <td>Electronic check</td>\n",
              "      <td>90.05</td>\n",
              "      <td>1862.9</td>\n",
              "      <td>No</td>\n",
              "    </tr>\n",
              "    <tr>\n",
              "      <th>20</th>\n",
              "      <td>8779-QRDMV</td>\n",
              "      <td>Male</td>\n",
              "      <td>1</td>\n",
              "      <td>No</td>\n",
              "      <td>No</td>\n",
              "      <td>1</td>\n",
              "      <td>No</td>\n",
              "      <td>No phone service</td>\n",
              "      <td>DSL</td>\n",
              "      <td>No</td>\n",
              "      <td>No</td>\n",
              "      <td>Yes</td>\n",
              "      <td>No</td>\n",
              "      <td>No</td>\n",
              "      <td>Yes</td>\n",
              "      <td>Month-to-month</td>\n",
              "      <td>Yes</td>\n",
              "      <td>Electronic check</td>\n",
              "      <td>39.65</td>\n",
              "      <td>39.65</td>\n",
              "      <td>Yes</td>\n",
              "    </tr>\n",
              "    <tr>\n",
              "      <th>21</th>\n",
              "      <td>1680-VDCWW</td>\n",
              "      <td>Male</td>\n",
              "      <td>0</td>\n",
              "      <td>Yes</td>\n",
              "      <td>No</td>\n",
              "      <td>12</td>\n",
              "      <td>Yes</td>\n",
              "      <td>No</td>\n",
              "      <td>No</td>\n",
              "      <td>No internet service</td>\n",
              "      <td>No internet service</td>\n",
              "      <td>No internet service</td>\n",
              "      <td>No internet service</td>\n",
              "      <td>No internet service</td>\n",
              "      <td>No internet service</td>\n",
              "      <td>One year</td>\n",
              "      <td>No</td>\n",
              "      <td>Bank transfer (automatic)</td>\n",
              "      <td>19.80</td>\n",
              "      <td>202.25</td>\n",
              "      <td>No</td>\n",
              "    </tr>\n",
              "    <tr>\n",
              "      <th>22</th>\n",
              "      <td>1066-JKSGK</td>\n",
              "      <td>Male</td>\n",
              "      <td>0</td>\n",
              "      <td>No</td>\n",
              "      <td>No</td>\n",
              "      <td>1</td>\n",
              "      <td>Yes</td>\n",
              "      <td>No</td>\n",
              "      <td>No</td>\n",
              "      <td>No internet service</td>\n",
              "      <td>No internet service</td>\n",
              "      <td>No internet service</td>\n",
              "      <td>No internet service</td>\n",
              "      <td>No internet service</td>\n",
              "      <td>No internet service</td>\n",
              "      <td>Month-to-month</td>\n",
              "      <td>No</td>\n",
              "      <td>Mailed check</td>\n",
              "      <td>20.15</td>\n",
              "      <td>20.15</td>\n",
              "      <td>Yes</td>\n",
              "    </tr>\n",
              "    <tr>\n",
              "      <th>23</th>\n",
              "      <td>3638-WEABW</td>\n",
              "      <td>Female</td>\n",
              "      <td>0</td>\n",
              "      <td>Yes</td>\n",
              "      <td>No</td>\n",
              "      <td>58</td>\n",
              "      <td>Yes</td>\n",
              "      <td>Yes</td>\n",
              "      <td>DSL</td>\n",
              "      <td>No</td>\n",
              "      <td>Yes</td>\n",
              "      <td>No</td>\n",
              "      <td>Yes</td>\n",
              "      <td>No</td>\n",
              "      <td>No</td>\n",
              "      <td>Two year</td>\n",
              "      <td>Yes</td>\n",
              "      <td>Credit card (automatic)</td>\n",
              "      <td>59.90</td>\n",
              "      <td>3505.1</td>\n",
              "      <td>No</td>\n",
              "    </tr>\n",
              "    <tr>\n",
              "      <th>24</th>\n",
              "      <td>6322-HRPFA</td>\n",
              "      <td>Male</td>\n",
              "      <td>0</td>\n",
              "      <td>Yes</td>\n",
              "      <td>Yes</td>\n",
              "      <td>49</td>\n",
              "      <td>Yes</td>\n",
              "      <td>No</td>\n",
              "      <td>DSL</td>\n",
              "      <td>Yes</td>\n",
              "      <td>Yes</td>\n",
              "      <td>No</td>\n",
              "      <td>Yes</td>\n",
              "      <td>No</td>\n",
              "      <td>No</td>\n",
              "      <td>Month-to-month</td>\n",
              "      <td>No</td>\n",
              "      <td>Credit card (automatic)</td>\n",
              "      <td>59.60</td>\n",
              "      <td>2970.3</td>\n",
              "      <td>No</td>\n",
              "    </tr>\n",
              "    <tr>\n",
              "      <th>25</th>\n",
              "      <td>6865-JZNKO</td>\n",
              "      <td>Female</td>\n",
              "      <td>0</td>\n",
              "      <td>No</td>\n",
              "      <td>No</td>\n",
              "      <td>30</td>\n",
              "      <td>Yes</td>\n",
              "      <td>No</td>\n",
              "      <td>DSL</td>\n",
              "      <td>Yes</td>\n",
              "      <td>Yes</td>\n",
              "      <td>No</td>\n",
              "      <td>No</td>\n",
              "      <td>No</td>\n",
              "      <td>No</td>\n",
              "      <td>Month-to-month</td>\n",
              "      <td>Yes</td>\n",
              "      <td>Bank transfer (automatic)</td>\n",
              "      <td>55.30</td>\n",
              "      <td>1530.6</td>\n",
              "      <td>No</td>\n",
              "    </tr>\n",
              "    <tr>\n",
              "      <th>26</th>\n",
              "      <td>6467-CHFZW</td>\n",
              "      <td>Male</td>\n",
              "      <td>0</td>\n",
              "      <td>Yes</td>\n",
              "      <td>Yes</td>\n",
              "      <td>47</td>\n",
              "      <td>Yes</td>\n",
              "      <td>Yes</td>\n",
              "      <td>Fiber optic</td>\n",
              "      <td>No</td>\n",
              "      <td>Yes</td>\n",
              "      <td>No</td>\n",
              "      <td>No</td>\n",
              "      <td>Yes</td>\n",
              "      <td>Yes</td>\n",
              "      <td>Month-to-month</td>\n",
              "      <td>Yes</td>\n",
              "      <td>Electronic check</td>\n",
              "      <td>99.35</td>\n",
              "      <td>4749.15</td>\n",
              "      <td>Yes</td>\n",
              "    </tr>\n",
              "    <tr>\n",
              "      <th>27</th>\n",
              "      <td>8665-UTDHZ</td>\n",
              "      <td>Male</td>\n",
              "      <td>0</td>\n",
              "      <td>Yes</td>\n",
              "      <td>Yes</td>\n",
              "      <td>1</td>\n",
              "      <td>No</td>\n",
              "      <td>No phone service</td>\n",
              "      <td>DSL</td>\n",
              "      <td>No</td>\n",
              "      <td>Yes</td>\n",
              "      <td>No</td>\n",
              "      <td>No</td>\n",
              "      <td>No</td>\n",
              "      <td>No</td>\n",
              "      <td>Month-to-month</td>\n",
              "      <td>No</td>\n",
              "      <td>Electronic check</td>\n",
              "      <td>30.20</td>\n",
              "      <td>30.2</td>\n",
              "      <td>Yes</td>\n",
              "    </tr>\n",
              "    <tr>\n",
              "      <th>28</th>\n",
              "      <td>5248-YGIJN</td>\n",
              "      <td>Male</td>\n",
              "      <td>0</td>\n",
              "      <td>Yes</td>\n",
              "      <td>No</td>\n",
              "      <td>72</td>\n",
              "      <td>Yes</td>\n",
              "      <td>Yes</td>\n",
              "      <td>DSL</td>\n",
              "      <td>Yes</td>\n",
              "      <td>Yes</td>\n",
              "      <td>Yes</td>\n",
              "      <td>Yes</td>\n",
              "      <td>Yes</td>\n",
              "      <td>Yes</td>\n",
              "      <td>Two year</td>\n",
              "      <td>Yes</td>\n",
              "      <td>Credit card (automatic)</td>\n",
              "      <td>90.25</td>\n",
              "      <td>6369.45</td>\n",
              "      <td>No</td>\n",
              "    </tr>\n",
              "    <tr>\n",
              "      <th>29</th>\n",
              "      <td>8773-HHUOZ</td>\n",
              "      <td>Female</td>\n",
              "      <td>0</td>\n",
              "      <td>No</td>\n",
              "      <td>Yes</td>\n",
              "      <td>17</td>\n",
              "      <td>Yes</td>\n",
              "      <td>No</td>\n",
              "      <td>DSL</td>\n",
              "      <td>No</td>\n",
              "      <td>No</td>\n",
              "      <td>No</td>\n",
              "      <td>No</td>\n",
              "      <td>Yes</td>\n",
              "      <td>Yes</td>\n",
              "      <td>Month-to-month</td>\n",
              "      <td>Yes</td>\n",
              "      <td>Mailed check</td>\n",
              "      <td>64.70</td>\n",
              "      <td>1093.1</td>\n",
              "      <td>Yes</td>\n",
              "    </tr>\n",
              "    <tr>\n",
              "      <th>...</th>\n",
              "      <td>...</td>\n",
              "      <td>...</td>\n",
              "      <td>...</td>\n",
              "      <td>...</td>\n",
              "      <td>...</td>\n",
              "      <td>...</td>\n",
              "      <td>...</td>\n",
              "      <td>...</td>\n",
              "      <td>...</td>\n",
              "      <td>...</td>\n",
              "      <td>...</td>\n",
              "      <td>...</td>\n",
              "      <td>...</td>\n",
              "      <td>...</td>\n",
              "      <td>...</td>\n",
              "      <td>...</td>\n",
              "      <td>...</td>\n",
              "      <td>...</td>\n",
              "      <td>...</td>\n",
              "      <td>...</td>\n",
              "      <td>...</td>\n",
              "    </tr>\n",
              "    <tr>\n",
              "      <th>7013</th>\n",
              "      <td>1685-BQULA</td>\n",
              "      <td>Female</td>\n",
              "      <td>0</td>\n",
              "      <td>No</td>\n",
              "      <td>No</td>\n",
              "      <td>40</td>\n",
              "      <td>Yes</td>\n",
              "      <td>Yes</td>\n",
              "      <td>Fiber optic</td>\n",
              "      <td>No</td>\n",
              "      <td>Yes</td>\n",
              "      <td>Yes</td>\n",
              "      <td>No</td>\n",
              "      <td>Yes</td>\n",
              "      <td>No</td>\n",
              "      <td>Month-to-month</td>\n",
              "      <td>Yes</td>\n",
              "      <td>Bank transfer (automatic)</td>\n",
              "      <td>93.40</td>\n",
              "      <td>3756.4</td>\n",
              "      <td>No</td>\n",
              "    </tr>\n",
              "    <tr>\n",
              "      <th>7014</th>\n",
              "      <td>9053-EJUNL</td>\n",
              "      <td>Male</td>\n",
              "      <td>0</td>\n",
              "      <td>No</td>\n",
              "      <td>No</td>\n",
              "      <td>41</td>\n",
              "      <td>Yes</td>\n",
              "      <td>Yes</td>\n",
              "      <td>Fiber optic</td>\n",
              "      <td>No</td>\n",
              "      <td>Yes</td>\n",
              "      <td>No</td>\n",
              "      <td>No</td>\n",
              "      <td>Yes</td>\n",
              "      <td>No</td>\n",
              "      <td>Month-to-month</td>\n",
              "      <td>Yes</td>\n",
              "      <td>Electronic check</td>\n",
              "      <td>89.20</td>\n",
              "      <td>3645.75</td>\n",
              "      <td>No</td>\n",
              "    </tr>\n",
              "    <tr>\n",
              "      <th>7015</th>\n",
              "      <td>0666-UXTJO</td>\n",
              "      <td>Male</td>\n",
              "      <td>1</td>\n",
              "      <td>Yes</td>\n",
              "      <td>No</td>\n",
              "      <td>34</td>\n",
              "      <td>Yes</td>\n",
              "      <td>No</td>\n",
              "      <td>Fiber optic</td>\n",
              "      <td>No</td>\n",
              "      <td>No</td>\n",
              "      <td>Yes</td>\n",
              "      <td>No</td>\n",
              "      <td>Yes</td>\n",
              "      <td>No</td>\n",
              "      <td>Month-to-month</td>\n",
              "      <td>Yes</td>\n",
              "      <td>Credit card (automatic)</td>\n",
              "      <td>85.20</td>\n",
              "      <td>2874.45</td>\n",
              "      <td>No</td>\n",
              "    </tr>\n",
              "    <tr>\n",
              "      <th>7016</th>\n",
              "      <td>1471-GIQKQ</td>\n",
              "      <td>Female</td>\n",
              "      <td>0</td>\n",
              "      <td>No</td>\n",
              "      <td>No</td>\n",
              "      <td>1</td>\n",
              "      <td>Yes</td>\n",
              "      <td>No</td>\n",
              "      <td>DSL</td>\n",
              "      <td>No</td>\n",
              "      <td>Yes</td>\n",
              "      <td>No</td>\n",
              "      <td>No</td>\n",
              "      <td>No</td>\n",
              "      <td>No</td>\n",
              "      <td>Month-to-month</td>\n",
              "      <td>No</td>\n",
              "      <td>Electronic check</td>\n",
              "      <td>49.95</td>\n",
              "      <td>49.95</td>\n",
              "      <td>No</td>\n",
              "    </tr>\n",
              "    <tr>\n",
              "      <th>7017</th>\n",
              "      <td>4807-IZYOZ</td>\n",
              "      <td>Female</td>\n",
              "      <td>0</td>\n",
              "      <td>No</td>\n",
              "      <td>No</td>\n",
              "      <td>51</td>\n",
              "      <td>Yes</td>\n",
              "      <td>No</td>\n",
              "      <td>No</td>\n",
              "      <td>No internet service</td>\n",
              "      <td>No internet service</td>\n",
              "      <td>No internet service</td>\n",
              "      <td>No internet service</td>\n",
              "      <td>No internet service</td>\n",
              "      <td>No internet service</td>\n",
              "      <td>Two year</td>\n",
              "      <td>No</td>\n",
              "      <td>Bank transfer (automatic)</td>\n",
              "      <td>20.65</td>\n",
              "      <td>1020.75</td>\n",
              "      <td>No</td>\n",
              "    </tr>\n",
              "    <tr>\n",
              "      <th>7018</th>\n",
              "      <td>1122-JWTJW</td>\n",
              "      <td>Male</td>\n",
              "      <td>0</td>\n",
              "      <td>Yes</td>\n",
              "      <td>Yes</td>\n",
              "      <td>1</td>\n",
              "      <td>Yes</td>\n",
              "      <td>No</td>\n",
              "      <td>Fiber optic</td>\n",
              "      <td>No</td>\n",
              "      <td>No</td>\n",
              "      <td>No</td>\n",
              "      <td>No</td>\n",
              "      <td>No</td>\n",
              "      <td>No</td>\n",
              "      <td>Month-to-month</td>\n",
              "      <td>Yes</td>\n",
              "      <td>Mailed check</td>\n",
              "      <td>70.65</td>\n",
              "      <td>70.65</td>\n",
              "      <td>Yes</td>\n",
              "    </tr>\n",
              "    <tr>\n",
              "      <th>7019</th>\n",
              "      <td>9710-NJERN</td>\n",
              "      <td>Female</td>\n",
              "      <td>0</td>\n",
              "      <td>No</td>\n",
              "      <td>No</td>\n",
              "      <td>39</td>\n",
              "      <td>Yes</td>\n",
              "      <td>No</td>\n",
              "      <td>No</td>\n",
              "      <td>No internet service</td>\n",
              "      <td>No internet service</td>\n",
              "      <td>No internet service</td>\n",
              "      <td>No internet service</td>\n",
              "      <td>No internet service</td>\n",
              "      <td>No internet service</td>\n",
              "      <td>Two year</td>\n",
              "      <td>No</td>\n",
              "      <td>Mailed check</td>\n",
              "      <td>20.15</td>\n",
              "      <td>826</td>\n",
              "      <td>No</td>\n",
              "    </tr>\n",
              "    <tr>\n",
              "      <th>7020</th>\n",
              "      <td>9837-FWLCH</td>\n",
              "      <td>Male</td>\n",
              "      <td>0</td>\n",
              "      <td>Yes</td>\n",
              "      <td>Yes</td>\n",
              "      <td>12</td>\n",
              "      <td>Yes</td>\n",
              "      <td>No</td>\n",
              "      <td>No</td>\n",
              "      <td>No internet service</td>\n",
              "      <td>No internet service</td>\n",
              "      <td>No internet service</td>\n",
              "      <td>No internet service</td>\n",
              "      <td>No internet service</td>\n",
              "      <td>No internet service</td>\n",
              "      <td>Month-to-month</td>\n",
              "      <td>Yes</td>\n",
              "      <td>Electronic check</td>\n",
              "      <td>19.20</td>\n",
              "      <td>239</td>\n",
              "      <td>No</td>\n",
              "    </tr>\n",
              "    <tr>\n",
              "      <th>7021</th>\n",
              "      <td>1699-HPSBG</td>\n",
              "      <td>Male</td>\n",
              "      <td>0</td>\n",
              "      <td>No</td>\n",
              "      <td>No</td>\n",
              "      <td>12</td>\n",
              "      <td>Yes</td>\n",
              "      <td>No</td>\n",
              "      <td>DSL</td>\n",
              "      <td>No</td>\n",
              "      <td>No</td>\n",
              "      <td>No</td>\n",
              "      <td>Yes</td>\n",
              "      <td>Yes</td>\n",
              "      <td>No</td>\n",
              "      <td>One year</td>\n",
              "      <td>Yes</td>\n",
              "      <td>Electronic check</td>\n",
              "      <td>59.80</td>\n",
              "      <td>727.8</td>\n",
              "      <td>Yes</td>\n",
              "    </tr>\n",
              "    <tr>\n",
              "      <th>7022</th>\n",
              "      <td>7203-OYKCT</td>\n",
              "      <td>Male</td>\n",
              "      <td>0</td>\n",
              "      <td>No</td>\n",
              "      <td>No</td>\n",
              "      <td>72</td>\n",
              "      <td>Yes</td>\n",
              "      <td>Yes</td>\n",
              "      <td>Fiber optic</td>\n",
              "      <td>No</td>\n",
              "      <td>Yes</td>\n",
              "      <td>Yes</td>\n",
              "      <td>No</td>\n",
              "      <td>Yes</td>\n",
              "      <td>Yes</td>\n",
              "      <td>One year</td>\n",
              "      <td>Yes</td>\n",
              "      <td>Electronic check</td>\n",
              "      <td>104.95</td>\n",
              "      <td>7544.3</td>\n",
              "      <td>No</td>\n",
              "    </tr>\n",
              "    <tr>\n",
              "      <th>7023</th>\n",
              "      <td>1035-IPQPU</td>\n",
              "      <td>Female</td>\n",
              "      <td>1</td>\n",
              "      <td>Yes</td>\n",
              "      <td>No</td>\n",
              "      <td>63</td>\n",
              "      <td>Yes</td>\n",
              "      <td>Yes</td>\n",
              "      <td>Fiber optic</td>\n",
              "      <td>No</td>\n",
              "      <td>Yes</td>\n",
              "      <td>Yes</td>\n",
              "      <td>No</td>\n",
              "      <td>Yes</td>\n",
              "      <td>Yes</td>\n",
              "      <td>Month-to-month</td>\n",
              "      <td>Yes</td>\n",
              "      <td>Electronic check</td>\n",
              "      <td>103.50</td>\n",
              "      <td>6479.4</td>\n",
              "      <td>No</td>\n",
              "    </tr>\n",
              "    <tr>\n",
              "      <th>7024</th>\n",
              "      <td>7398-LXGYX</td>\n",
              "      <td>Male</td>\n",
              "      <td>0</td>\n",
              "      <td>Yes</td>\n",
              "      <td>No</td>\n",
              "      <td>44</td>\n",
              "      <td>Yes</td>\n",
              "      <td>Yes</td>\n",
              "      <td>Fiber optic</td>\n",
              "      <td>Yes</td>\n",
              "      <td>No</td>\n",
              "      <td>Yes</td>\n",
              "      <td>No</td>\n",
              "      <td>No</td>\n",
              "      <td>No</td>\n",
              "      <td>Month-to-month</td>\n",
              "      <td>Yes</td>\n",
              "      <td>Credit card (automatic)</td>\n",
              "      <td>84.80</td>\n",
              "      <td>3626.35</td>\n",
              "      <td>No</td>\n",
              "    </tr>\n",
              "    <tr>\n",
              "      <th>7025</th>\n",
              "      <td>2823-LKABH</td>\n",
              "      <td>Female</td>\n",
              "      <td>0</td>\n",
              "      <td>No</td>\n",
              "      <td>No</td>\n",
              "      <td>18</td>\n",
              "      <td>Yes</td>\n",
              "      <td>Yes</td>\n",
              "      <td>Fiber optic</td>\n",
              "      <td>No</td>\n",
              "      <td>No</td>\n",
              "      <td>Yes</td>\n",
              "      <td>Yes</td>\n",
              "      <td>No</td>\n",
              "      <td>Yes</td>\n",
              "      <td>Month-to-month</td>\n",
              "      <td>Yes</td>\n",
              "      <td>Bank transfer (automatic)</td>\n",
              "      <td>95.05</td>\n",
              "      <td>1679.4</td>\n",
              "      <td>No</td>\n",
              "    </tr>\n",
              "    <tr>\n",
              "      <th>7026</th>\n",
              "      <td>8775-CEBBJ</td>\n",
              "      <td>Female</td>\n",
              "      <td>0</td>\n",
              "      <td>No</td>\n",
              "      <td>No</td>\n",
              "      <td>9</td>\n",
              "      <td>Yes</td>\n",
              "      <td>No</td>\n",
              "      <td>DSL</td>\n",
              "      <td>No</td>\n",
              "      <td>No</td>\n",
              "      <td>No</td>\n",
              "      <td>No</td>\n",
              "      <td>No</td>\n",
              "      <td>No</td>\n",
              "      <td>Month-to-month</td>\n",
              "      <td>Yes</td>\n",
              "      <td>Bank transfer (automatic)</td>\n",
              "      <td>44.20</td>\n",
              "      <td>403.35</td>\n",
              "      <td>Yes</td>\n",
              "    </tr>\n",
              "    <tr>\n",
              "      <th>7027</th>\n",
              "      <td>0550-DCXLH</td>\n",
              "      <td>Male</td>\n",
              "      <td>0</td>\n",
              "      <td>No</td>\n",
              "      <td>No</td>\n",
              "      <td>13</td>\n",
              "      <td>Yes</td>\n",
              "      <td>No</td>\n",
              "      <td>DSL</td>\n",
              "      <td>No</td>\n",
              "      <td>Yes</td>\n",
              "      <td>No</td>\n",
              "      <td>Yes</td>\n",
              "      <td>Yes</td>\n",
              "      <td>Yes</td>\n",
              "      <td>Month-to-month</td>\n",
              "      <td>No</td>\n",
              "      <td>Mailed check</td>\n",
              "      <td>73.35</td>\n",
              "      <td>931.55</td>\n",
              "      <td>No</td>\n",
              "    </tr>\n",
              "    <tr>\n",
              "      <th>7028</th>\n",
              "      <td>9281-CEDRU</td>\n",
              "      <td>Female</td>\n",
              "      <td>0</td>\n",
              "      <td>Yes</td>\n",
              "      <td>No</td>\n",
              "      <td>68</td>\n",
              "      <td>Yes</td>\n",
              "      <td>No</td>\n",
              "      <td>DSL</td>\n",
              "      <td>No</td>\n",
              "      <td>Yes</td>\n",
              "      <td>No</td>\n",
              "      <td>Yes</td>\n",
              "      <td>Yes</td>\n",
              "      <td>No</td>\n",
              "      <td>Two year</td>\n",
              "      <td>No</td>\n",
              "      <td>Bank transfer (automatic)</td>\n",
              "      <td>64.10</td>\n",
              "      <td>4326.25</td>\n",
              "      <td>No</td>\n",
              "    </tr>\n",
              "    <tr>\n",
              "      <th>7029</th>\n",
              "      <td>2235-DWLJU</td>\n",
              "      <td>Female</td>\n",
              "      <td>1</td>\n",
              "      <td>No</td>\n",
              "      <td>No</td>\n",
              "      <td>6</td>\n",
              "      <td>No</td>\n",
              "      <td>No phone service</td>\n",
              "      <td>DSL</td>\n",
              "      <td>No</td>\n",
              "      <td>No</td>\n",
              "      <td>No</td>\n",
              "      <td>No</td>\n",
              "      <td>Yes</td>\n",
              "      <td>Yes</td>\n",
              "      <td>Month-to-month</td>\n",
              "      <td>Yes</td>\n",
              "      <td>Electronic check</td>\n",
              "      <td>44.40</td>\n",
              "      <td>263.05</td>\n",
              "      <td>No</td>\n",
              "    </tr>\n",
              "    <tr>\n",
              "      <th>7030</th>\n",
              "      <td>0871-OPBXW</td>\n",
              "      <td>Female</td>\n",
              "      <td>0</td>\n",
              "      <td>No</td>\n",
              "      <td>No</td>\n",
              "      <td>2</td>\n",
              "      <td>Yes</td>\n",
              "      <td>No</td>\n",
              "      <td>No</td>\n",
              "      <td>No internet service</td>\n",
              "      <td>No internet service</td>\n",
              "      <td>No internet service</td>\n",
              "      <td>No internet service</td>\n",
              "      <td>No internet service</td>\n",
              "      <td>No internet service</td>\n",
              "      <td>Month-to-month</td>\n",
              "      <td>Yes</td>\n",
              "      <td>Mailed check</td>\n",
              "      <td>20.05</td>\n",
              "      <td>39.25</td>\n",
              "      <td>No</td>\n",
              "    </tr>\n",
              "    <tr>\n",
              "      <th>7031</th>\n",
              "      <td>3605-JISKB</td>\n",
              "      <td>Male</td>\n",
              "      <td>1</td>\n",
              "      <td>Yes</td>\n",
              "      <td>No</td>\n",
              "      <td>55</td>\n",
              "      <td>Yes</td>\n",
              "      <td>Yes</td>\n",
              "      <td>DSL</td>\n",
              "      <td>Yes</td>\n",
              "      <td>Yes</td>\n",
              "      <td>No</td>\n",
              "      <td>No</td>\n",
              "      <td>No</td>\n",
              "      <td>No</td>\n",
              "      <td>One year</td>\n",
              "      <td>No</td>\n",
              "      <td>Credit card (automatic)</td>\n",
              "      <td>60.00</td>\n",
              "      <td>3316.1</td>\n",
              "      <td>No</td>\n",
              "    </tr>\n",
              "    <tr>\n",
              "      <th>7032</th>\n",
              "      <td>6894-LFHLY</td>\n",
              "      <td>Male</td>\n",
              "      <td>1</td>\n",
              "      <td>No</td>\n",
              "      <td>No</td>\n",
              "      <td>1</td>\n",
              "      <td>Yes</td>\n",
              "      <td>Yes</td>\n",
              "      <td>Fiber optic</td>\n",
              "      <td>No</td>\n",
              "      <td>No</td>\n",
              "      <td>No</td>\n",
              "      <td>No</td>\n",
              "      <td>No</td>\n",
              "      <td>No</td>\n",
              "      <td>Month-to-month</td>\n",
              "      <td>Yes</td>\n",
              "      <td>Electronic check</td>\n",
              "      <td>75.75</td>\n",
              "      <td>75.75</td>\n",
              "      <td>Yes</td>\n",
              "    </tr>\n",
              "    <tr>\n",
              "      <th>7033</th>\n",
              "      <td>9767-FFLEM</td>\n",
              "      <td>Male</td>\n",
              "      <td>0</td>\n",
              "      <td>No</td>\n",
              "      <td>No</td>\n",
              "      <td>38</td>\n",
              "      <td>Yes</td>\n",
              "      <td>No</td>\n",
              "      <td>Fiber optic</td>\n",
              "      <td>No</td>\n",
              "      <td>No</td>\n",
              "      <td>No</td>\n",
              "      <td>No</td>\n",
              "      <td>No</td>\n",
              "      <td>No</td>\n",
              "      <td>Month-to-month</td>\n",
              "      <td>Yes</td>\n",
              "      <td>Credit card (automatic)</td>\n",
              "      <td>69.50</td>\n",
              "      <td>2625.25</td>\n",
              "      <td>No</td>\n",
              "    </tr>\n",
              "    <tr>\n",
              "      <th>7034</th>\n",
              "      <td>0639-TSIQW</td>\n",
              "      <td>Female</td>\n",
              "      <td>0</td>\n",
              "      <td>No</td>\n",
              "      <td>No</td>\n",
              "      <td>67</td>\n",
              "      <td>Yes</td>\n",
              "      <td>Yes</td>\n",
              "      <td>Fiber optic</td>\n",
              "      <td>Yes</td>\n",
              "      <td>Yes</td>\n",
              "      <td>Yes</td>\n",
              "      <td>No</td>\n",
              "      <td>Yes</td>\n",
              "      <td>No</td>\n",
              "      <td>Month-to-month</td>\n",
              "      <td>Yes</td>\n",
              "      <td>Credit card (automatic)</td>\n",
              "      <td>102.95</td>\n",
              "      <td>6886.25</td>\n",
              "      <td>Yes</td>\n",
              "    </tr>\n",
              "    <tr>\n",
              "      <th>7035</th>\n",
              "      <td>8456-QDAVC</td>\n",
              "      <td>Male</td>\n",
              "      <td>0</td>\n",
              "      <td>No</td>\n",
              "      <td>No</td>\n",
              "      <td>19</td>\n",
              "      <td>Yes</td>\n",
              "      <td>No</td>\n",
              "      <td>Fiber optic</td>\n",
              "      <td>No</td>\n",
              "      <td>No</td>\n",
              "      <td>No</td>\n",
              "      <td>No</td>\n",
              "      <td>Yes</td>\n",
              "      <td>No</td>\n",
              "      <td>Month-to-month</td>\n",
              "      <td>Yes</td>\n",
              "      <td>Bank transfer (automatic)</td>\n",
              "      <td>78.70</td>\n",
              "      <td>1495.1</td>\n",
              "      <td>No</td>\n",
              "    </tr>\n",
              "    <tr>\n",
              "      <th>7036</th>\n",
              "      <td>7750-EYXWZ</td>\n",
              "      <td>Female</td>\n",
              "      <td>0</td>\n",
              "      <td>No</td>\n",
              "      <td>No</td>\n",
              "      <td>12</td>\n",
              "      <td>No</td>\n",
              "      <td>No phone service</td>\n",
              "      <td>DSL</td>\n",
              "      <td>No</td>\n",
              "      <td>Yes</td>\n",
              "      <td>Yes</td>\n",
              "      <td>Yes</td>\n",
              "      <td>Yes</td>\n",
              "      <td>Yes</td>\n",
              "      <td>One year</td>\n",
              "      <td>No</td>\n",
              "      <td>Electronic check</td>\n",
              "      <td>60.65</td>\n",
              "      <td>743.3</td>\n",
              "      <td>No</td>\n",
              "    </tr>\n",
              "    <tr>\n",
              "      <th>7037</th>\n",
              "      <td>2569-WGERO</td>\n",
              "      <td>Female</td>\n",
              "      <td>0</td>\n",
              "      <td>No</td>\n",
              "      <td>No</td>\n",
              "      <td>72</td>\n",
              "      <td>Yes</td>\n",
              "      <td>No</td>\n",
              "      <td>No</td>\n",
              "      <td>No internet service</td>\n",
              "      <td>No internet service</td>\n",
              "      <td>No internet service</td>\n",
              "      <td>No internet service</td>\n",
              "      <td>No internet service</td>\n",
              "      <td>No internet service</td>\n",
              "      <td>Two year</td>\n",
              "      <td>Yes</td>\n",
              "      <td>Bank transfer (automatic)</td>\n",
              "      <td>21.15</td>\n",
              "      <td>1419.4</td>\n",
              "      <td>No</td>\n",
              "    </tr>\n",
              "    <tr>\n",
              "      <th>7038</th>\n",
              "      <td>6840-RESVB</td>\n",
              "      <td>Male</td>\n",
              "      <td>0</td>\n",
              "      <td>Yes</td>\n",
              "      <td>Yes</td>\n",
              "      <td>24</td>\n",
              "      <td>Yes</td>\n",
              "      <td>Yes</td>\n",
              "      <td>DSL</td>\n",
              "      <td>Yes</td>\n",
              "      <td>No</td>\n",
              "      <td>Yes</td>\n",
              "      <td>Yes</td>\n",
              "      <td>Yes</td>\n",
              "      <td>Yes</td>\n",
              "      <td>One year</td>\n",
              "      <td>Yes</td>\n",
              "      <td>Mailed check</td>\n",
              "      <td>84.80</td>\n",
              "      <td>1990.5</td>\n",
              "      <td>No</td>\n",
              "    </tr>\n",
              "    <tr>\n",
              "      <th>7039</th>\n",
              "      <td>2234-XADUH</td>\n",
              "      <td>Female</td>\n",
              "      <td>0</td>\n",
              "      <td>Yes</td>\n",
              "      <td>Yes</td>\n",
              "      <td>72</td>\n",
              "      <td>Yes</td>\n",
              "      <td>Yes</td>\n",
              "      <td>Fiber optic</td>\n",
              "      <td>No</td>\n",
              "      <td>Yes</td>\n",
              "      <td>Yes</td>\n",
              "      <td>No</td>\n",
              "      <td>Yes</td>\n",
              "      <td>Yes</td>\n",
              "      <td>One year</td>\n",
              "      <td>Yes</td>\n",
              "      <td>Credit card (automatic)</td>\n",
              "      <td>103.20</td>\n",
              "      <td>7362.9</td>\n",
              "      <td>No</td>\n",
              "    </tr>\n",
              "    <tr>\n",
              "      <th>7040</th>\n",
              "      <td>4801-JZAZL</td>\n",
              "      <td>Female</td>\n",
              "      <td>0</td>\n",
              "      <td>Yes</td>\n",
              "      <td>Yes</td>\n",
              "      <td>11</td>\n",
              "      <td>No</td>\n",
              "      <td>No phone service</td>\n",
              "      <td>DSL</td>\n",
              "      <td>Yes</td>\n",
              "      <td>No</td>\n",
              "      <td>No</td>\n",
              "      <td>No</td>\n",
              "      <td>No</td>\n",
              "      <td>No</td>\n",
              "      <td>Month-to-month</td>\n",
              "      <td>Yes</td>\n",
              "      <td>Electronic check</td>\n",
              "      <td>29.60</td>\n",
              "      <td>346.45</td>\n",
              "      <td>No</td>\n",
              "    </tr>\n",
              "    <tr>\n",
              "      <th>7041</th>\n",
              "      <td>8361-LTMKD</td>\n",
              "      <td>Male</td>\n",
              "      <td>1</td>\n",
              "      <td>Yes</td>\n",
              "      <td>No</td>\n",
              "      <td>4</td>\n",
              "      <td>Yes</td>\n",
              "      <td>Yes</td>\n",
              "      <td>Fiber optic</td>\n",
              "      <td>No</td>\n",
              "      <td>No</td>\n",
              "      <td>No</td>\n",
              "      <td>No</td>\n",
              "      <td>No</td>\n",
              "      <td>No</td>\n",
              "      <td>Month-to-month</td>\n",
              "      <td>Yes</td>\n",
              "      <td>Mailed check</td>\n",
              "      <td>74.40</td>\n",
              "      <td>306.6</td>\n",
              "      <td>Yes</td>\n",
              "    </tr>\n",
              "    <tr>\n",
              "      <th>7042</th>\n",
              "      <td>3186-AJIEK</td>\n",
              "      <td>Male</td>\n",
              "      <td>0</td>\n",
              "      <td>No</td>\n",
              "      <td>No</td>\n",
              "      <td>66</td>\n",
              "      <td>Yes</td>\n",
              "      <td>No</td>\n",
              "      <td>Fiber optic</td>\n",
              "      <td>Yes</td>\n",
              "      <td>No</td>\n",
              "      <td>Yes</td>\n",
              "      <td>Yes</td>\n",
              "      <td>Yes</td>\n",
              "      <td>Yes</td>\n",
              "      <td>Two year</td>\n",
              "      <td>Yes</td>\n",
              "      <td>Bank transfer (automatic)</td>\n",
              "      <td>105.65</td>\n",
              "      <td>6844.5</td>\n",
              "      <td>No</td>\n",
              "    </tr>\n",
              "  </tbody>\n",
              "</table>\n",
              "<p>7043 rows × 21 columns</p>\n",
              "</div>"
            ],
            "text/plain": [
              "      customerID  gender  SeniorCitizen Partner Dependents  tenure  \\\n",
              "0     7590-VHVEG  Female              0     Yes         No       1   \n",
              "1     5575-GNVDE    Male              0      No         No      34   \n",
              "2     3668-QPYBK    Male              0      No         No       2   \n",
              "3     7795-CFOCW    Male              0      No         No      45   \n",
              "4     9237-HQITU  Female              0      No         No       2   \n",
              "5     9305-CDSKC  Female              0      No         No       8   \n",
              "6     1452-KIOVK    Male              0      No        Yes      22   \n",
              "7     6713-OKOMC  Female              0      No         No      10   \n",
              "8     7892-POOKP  Female              0     Yes         No      28   \n",
              "9     6388-TABGU    Male              0      No        Yes      62   \n",
              "10    9763-GRSKD    Male              0     Yes        Yes      13   \n",
              "11    7469-LKBCI    Male              0      No         No      16   \n",
              "12    8091-TTVAX    Male              0     Yes         No      58   \n",
              "13    0280-XJGEX    Male              0      No         No      49   \n",
              "14    5129-JLPIS    Male              0      No         No      25   \n",
              "15    3655-SNQYZ  Female              0     Yes        Yes      69   \n",
              "16    8191-XWSZG  Female              0      No         No      52   \n",
              "17    9959-WOFKT    Male              0      No        Yes      71   \n",
              "18    4190-MFLUW  Female              0     Yes        Yes      10   \n",
              "19    4183-MYFRB  Female              0      No         No      21   \n",
              "20    8779-QRDMV    Male              1      No         No       1   \n",
              "21    1680-VDCWW    Male              0     Yes         No      12   \n",
              "22    1066-JKSGK    Male              0      No         No       1   \n",
              "23    3638-WEABW  Female              0     Yes         No      58   \n",
              "24    6322-HRPFA    Male              0     Yes        Yes      49   \n",
              "25    6865-JZNKO  Female              0      No         No      30   \n",
              "26    6467-CHFZW    Male              0     Yes        Yes      47   \n",
              "27    8665-UTDHZ    Male              0     Yes        Yes       1   \n",
              "28    5248-YGIJN    Male              0     Yes         No      72   \n",
              "29    8773-HHUOZ  Female              0      No        Yes      17   \n",
              "...          ...     ...            ...     ...        ...     ...   \n",
              "7013  1685-BQULA  Female              0      No         No      40   \n",
              "7014  9053-EJUNL    Male              0      No         No      41   \n",
              "7015  0666-UXTJO    Male              1     Yes         No      34   \n",
              "7016  1471-GIQKQ  Female              0      No         No       1   \n",
              "7017  4807-IZYOZ  Female              0      No         No      51   \n",
              "7018  1122-JWTJW    Male              0     Yes        Yes       1   \n",
              "7019  9710-NJERN  Female              0      No         No      39   \n",
              "7020  9837-FWLCH    Male              0     Yes        Yes      12   \n",
              "7021  1699-HPSBG    Male              0      No         No      12   \n",
              "7022  7203-OYKCT    Male              0      No         No      72   \n",
              "7023  1035-IPQPU  Female              1     Yes         No      63   \n",
              "7024  7398-LXGYX    Male              0     Yes         No      44   \n",
              "7025  2823-LKABH  Female              0      No         No      18   \n",
              "7026  8775-CEBBJ  Female              0      No         No       9   \n",
              "7027  0550-DCXLH    Male              0      No         No      13   \n",
              "7028  9281-CEDRU  Female              0     Yes         No      68   \n",
              "7029  2235-DWLJU  Female              1      No         No       6   \n",
              "7030  0871-OPBXW  Female              0      No         No       2   \n",
              "7031  3605-JISKB    Male              1     Yes         No      55   \n",
              "7032  6894-LFHLY    Male              1      No         No       1   \n",
              "7033  9767-FFLEM    Male              0      No         No      38   \n",
              "7034  0639-TSIQW  Female              0      No         No      67   \n",
              "7035  8456-QDAVC    Male              0      No         No      19   \n",
              "7036  7750-EYXWZ  Female              0      No         No      12   \n",
              "7037  2569-WGERO  Female              0      No         No      72   \n",
              "7038  6840-RESVB    Male              0     Yes        Yes      24   \n",
              "7039  2234-XADUH  Female              0     Yes        Yes      72   \n",
              "7040  4801-JZAZL  Female              0     Yes        Yes      11   \n",
              "7041  8361-LTMKD    Male              1     Yes         No       4   \n",
              "7042  3186-AJIEK    Male              0      No         No      66   \n",
              "\n",
              "     PhoneService     MultipleLines InternetService       OnlineSecurity  \\\n",
              "0              No  No phone service             DSL                   No   \n",
              "1             Yes                No             DSL                  Yes   \n",
              "2             Yes                No             DSL                  Yes   \n",
              "3              No  No phone service             DSL                  Yes   \n",
              "4             Yes                No     Fiber optic                   No   \n",
              "5             Yes               Yes     Fiber optic                   No   \n",
              "6             Yes               Yes     Fiber optic                   No   \n",
              "7              No  No phone service             DSL                  Yes   \n",
              "8             Yes               Yes     Fiber optic                   No   \n",
              "9             Yes                No             DSL                  Yes   \n",
              "10            Yes                No             DSL                  Yes   \n",
              "11            Yes                No              No  No internet service   \n",
              "12            Yes               Yes     Fiber optic                   No   \n",
              "13            Yes               Yes     Fiber optic                   No   \n",
              "14            Yes                No     Fiber optic                  Yes   \n",
              "15            Yes               Yes     Fiber optic                  Yes   \n",
              "16            Yes                No              No  No internet service   \n",
              "17            Yes               Yes     Fiber optic                  Yes   \n",
              "18            Yes                No             DSL                   No   \n",
              "19            Yes                No     Fiber optic                   No   \n",
              "20             No  No phone service             DSL                   No   \n",
              "21            Yes                No              No  No internet service   \n",
              "22            Yes                No              No  No internet service   \n",
              "23            Yes               Yes             DSL                   No   \n",
              "24            Yes                No             DSL                  Yes   \n",
              "25            Yes                No             DSL                  Yes   \n",
              "26            Yes               Yes     Fiber optic                   No   \n",
              "27             No  No phone service             DSL                   No   \n",
              "28            Yes               Yes             DSL                  Yes   \n",
              "29            Yes                No             DSL                   No   \n",
              "...           ...               ...             ...                  ...   \n",
              "7013          Yes               Yes     Fiber optic                   No   \n",
              "7014          Yes               Yes     Fiber optic                   No   \n",
              "7015          Yes                No     Fiber optic                   No   \n",
              "7016          Yes                No             DSL                   No   \n",
              "7017          Yes                No              No  No internet service   \n",
              "7018          Yes                No     Fiber optic                   No   \n",
              "7019          Yes                No              No  No internet service   \n",
              "7020          Yes                No              No  No internet service   \n",
              "7021          Yes                No             DSL                   No   \n",
              "7022          Yes               Yes     Fiber optic                   No   \n",
              "7023          Yes               Yes     Fiber optic                   No   \n",
              "7024          Yes               Yes     Fiber optic                  Yes   \n",
              "7025          Yes               Yes     Fiber optic                   No   \n",
              "7026          Yes                No             DSL                   No   \n",
              "7027          Yes                No             DSL                   No   \n",
              "7028          Yes                No             DSL                   No   \n",
              "7029           No  No phone service             DSL                   No   \n",
              "7030          Yes                No              No  No internet service   \n",
              "7031          Yes               Yes             DSL                  Yes   \n",
              "7032          Yes               Yes     Fiber optic                   No   \n",
              "7033          Yes                No     Fiber optic                   No   \n",
              "7034          Yes               Yes     Fiber optic                  Yes   \n",
              "7035          Yes                No     Fiber optic                   No   \n",
              "7036           No  No phone service             DSL                   No   \n",
              "7037          Yes                No              No  No internet service   \n",
              "7038          Yes               Yes             DSL                  Yes   \n",
              "7039          Yes               Yes     Fiber optic                   No   \n",
              "7040           No  No phone service             DSL                  Yes   \n",
              "7041          Yes               Yes     Fiber optic                   No   \n",
              "7042          Yes                No     Fiber optic                  Yes   \n",
              "\n",
              "             OnlineBackup     DeviceProtection          TechSupport  \\\n",
              "0                     Yes                   No                   No   \n",
              "1                      No                  Yes                   No   \n",
              "2                     Yes                   No                   No   \n",
              "3                      No                  Yes                  Yes   \n",
              "4                      No                   No                   No   \n",
              "5                      No                  Yes                   No   \n",
              "6                     Yes                   No                   No   \n",
              "7                      No                   No                   No   \n",
              "8                      No                  Yes                  Yes   \n",
              "9                     Yes                   No                   No   \n",
              "10                     No                   No                   No   \n",
              "11    No internet service  No internet service  No internet service   \n",
              "12                     No                  Yes                   No   \n",
              "13                    Yes                  Yes                   No   \n",
              "14                     No                  Yes                  Yes   \n",
              "15                    Yes                  Yes                  Yes   \n",
              "16    No internet service  No internet service  No internet service   \n",
              "17                     No                  Yes                   No   \n",
              "18                     No                  Yes                  Yes   \n",
              "19                    Yes                  Yes                   No   \n",
              "20                     No                  Yes                   No   \n",
              "21    No internet service  No internet service  No internet service   \n",
              "22    No internet service  No internet service  No internet service   \n",
              "23                    Yes                   No                  Yes   \n",
              "24                    Yes                   No                  Yes   \n",
              "25                    Yes                   No                   No   \n",
              "26                    Yes                   No                   No   \n",
              "27                    Yes                   No                   No   \n",
              "28                    Yes                  Yes                  Yes   \n",
              "29                     No                   No                   No   \n",
              "...                   ...                  ...                  ...   \n",
              "7013                  Yes                  Yes                   No   \n",
              "7014                  Yes                   No                   No   \n",
              "7015                   No                  Yes                   No   \n",
              "7016                  Yes                   No                   No   \n",
              "7017  No internet service  No internet service  No internet service   \n",
              "7018                   No                   No                   No   \n",
              "7019  No internet service  No internet service  No internet service   \n",
              "7020  No internet service  No internet service  No internet service   \n",
              "7021                   No                   No                  Yes   \n",
              "7022                  Yes                  Yes                   No   \n",
              "7023                  Yes                  Yes                   No   \n",
              "7024                   No                  Yes                   No   \n",
              "7025                   No                  Yes                  Yes   \n",
              "7026                   No                   No                   No   \n",
              "7027                  Yes                   No                  Yes   \n",
              "7028                  Yes                   No                  Yes   \n",
              "7029                   No                   No                   No   \n",
              "7030  No internet service  No internet service  No internet service   \n",
              "7031                  Yes                   No                   No   \n",
              "7032                   No                   No                   No   \n",
              "7033                   No                   No                   No   \n",
              "7034                  Yes                  Yes                   No   \n",
              "7035                   No                   No                   No   \n",
              "7036                  Yes                  Yes                  Yes   \n",
              "7037  No internet service  No internet service  No internet service   \n",
              "7038                   No                  Yes                  Yes   \n",
              "7039                  Yes                  Yes                   No   \n",
              "7040                   No                   No                   No   \n",
              "7041                   No                   No                   No   \n",
              "7042                   No                  Yes                  Yes   \n",
              "\n",
              "              StreamingTV      StreamingMovies        Contract  \\\n",
              "0                      No                   No  Month-to-month   \n",
              "1                      No                   No        One year   \n",
              "2                      No                   No  Month-to-month   \n",
              "3                      No                   No        One year   \n",
              "4                      No                   No  Month-to-month   \n",
              "5                     Yes                  Yes  Month-to-month   \n",
              "6                     Yes                   No  Month-to-month   \n",
              "7                      No                   No  Month-to-month   \n",
              "8                     Yes                  Yes  Month-to-month   \n",
              "9                      No                   No        One year   \n",
              "10                     No                   No  Month-to-month   \n",
              "11    No internet service  No internet service        Two year   \n",
              "12                    Yes                  Yes        One year   \n",
              "13                    Yes                  Yes  Month-to-month   \n",
              "14                    Yes                  Yes  Month-to-month   \n",
              "15                    Yes                  Yes        Two year   \n",
              "16    No internet service  No internet service        One year   \n",
              "17                    Yes                  Yes        Two year   \n",
              "18                     No                   No  Month-to-month   \n",
              "19                     No                  Yes  Month-to-month   \n",
              "20                     No                  Yes  Month-to-month   \n",
              "21    No internet service  No internet service        One year   \n",
              "22    No internet service  No internet service  Month-to-month   \n",
              "23                     No                   No        Two year   \n",
              "24                     No                   No  Month-to-month   \n",
              "25                     No                   No  Month-to-month   \n",
              "26                    Yes                  Yes  Month-to-month   \n",
              "27                     No                   No  Month-to-month   \n",
              "28                    Yes                  Yes        Two year   \n",
              "29                    Yes                  Yes  Month-to-month   \n",
              "...                   ...                  ...             ...   \n",
              "7013                  Yes                   No  Month-to-month   \n",
              "7014                  Yes                   No  Month-to-month   \n",
              "7015                  Yes                   No  Month-to-month   \n",
              "7016                   No                   No  Month-to-month   \n",
              "7017  No internet service  No internet service        Two year   \n",
              "7018                   No                   No  Month-to-month   \n",
              "7019  No internet service  No internet service        Two year   \n",
              "7020  No internet service  No internet service  Month-to-month   \n",
              "7021                  Yes                   No        One year   \n",
              "7022                  Yes                  Yes        One year   \n",
              "7023                  Yes                  Yes  Month-to-month   \n",
              "7024                   No                   No  Month-to-month   \n",
              "7025                   No                  Yes  Month-to-month   \n",
              "7026                   No                   No  Month-to-month   \n",
              "7027                  Yes                  Yes  Month-to-month   \n",
              "7028                  Yes                   No        Two year   \n",
              "7029                  Yes                  Yes  Month-to-month   \n",
              "7030  No internet service  No internet service  Month-to-month   \n",
              "7031                   No                   No        One year   \n",
              "7032                   No                   No  Month-to-month   \n",
              "7033                   No                   No  Month-to-month   \n",
              "7034                  Yes                   No  Month-to-month   \n",
              "7035                  Yes                   No  Month-to-month   \n",
              "7036                  Yes                  Yes        One year   \n",
              "7037  No internet service  No internet service        Two year   \n",
              "7038                  Yes                  Yes        One year   \n",
              "7039                  Yes                  Yes        One year   \n",
              "7040                   No                   No  Month-to-month   \n",
              "7041                   No                   No  Month-to-month   \n",
              "7042                  Yes                  Yes        Two year   \n",
              "\n",
              "     PaperlessBilling              PaymentMethod  MonthlyCharges TotalCharges  \\\n",
              "0                 Yes           Electronic check           29.85        29.85   \n",
              "1                  No               Mailed check           56.95       1889.5   \n",
              "2                 Yes               Mailed check           53.85       108.15   \n",
              "3                  No  Bank transfer (automatic)           42.30      1840.75   \n",
              "4                 Yes           Electronic check           70.70       151.65   \n",
              "5                 Yes           Electronic check           99.65        820.5   \n",
              "6                 Yes    Credit card (automatic)           89.10       1949.4   \n",
              "7                  No               Mailed check           29.75        301.9   \n",
              "8                 Yes           Electronic check          104.80      3046.05   \n",
              "9                  No  Bank transfer (automatic)           56.15      3487.95   \n",
              "10                Yes               Mailed check           49.95       587.45   \n",
              "11                 No    Credit card (automatic)           18.95        326.8   \n",
              "12                 No    Credit card (automatic)          100.35       5681.1   \n",
              "13                Yes  Bank transfer (automatic)          103.70       5036.3   \n",
              "14                Yes           Electronic check          105.50      2686.05   \n",
              "15                 No    Credit card (automatic)          113.25      7895.15   \n",
              "16                 No               Mailed check           20.65      1022.95   \n",
              "17                 No  Bank transfer (automatic)          106.70      7382.25   \n",
              "18                 No    Credit card (automatic)           55.20       528.35   \n",
              "19                Yes           Electronic check           90.05       1862.9   \n",
              "20                Yes           Electronic check           39.65        39.65   \n",
              "21                 No  Bank transfer (automatic)           19.80       202.25   \n",
              "22                 No               Mailed check           20.15        20.15   \n",
              "23                Yes    Credit card (automatic)           59.90       3505.1   \n",
              "24                 No    Credit card (automatic)           59.60       2970.3   \n",
              "25                Yes  Bank transfer (automatic)           55.30       1530.6   \n",
              "26                Yes           Electronic check           99.35      4749.15   \n",
              "27                 No           Electronic check           30.20         30.2   \n",
              "28                Yes    Credit card (automatic)           90.25      6369.45   \n",
              "29                Yes               Mailed check           64.70       1093.1   \n",
              "...               ...                        ...             ...          ...   \n",
              "7013              Yes  Bank transfer (automatic)           93.40       3756.4   \n",
              "7014              Yes           Electronic check           89.20      3645.75   \n",
              "7015              Yes    Credit card (automatic)           85.20      2874.45   \n",
              "7016               No           Electronic check           49.95        49.95   \n",
              "7017               No  Bank transfer (automatic)           20.65      1020.75   \n",
              "7018              Yes               Mailed check           70.65        70.65   \n",
              "7019               No               Mailed check           20.15          826   \n",
              "7020              Yes           Electronic check           19.20          239   \n",
              "7021              Yes           Electronic check           59.80        727.8   \n",
              "7022              Yes           Electronic check          104.95       7544.3   \n",
              "7023              Yes           Electronic check          103.50       6479.4   \n",
              "7024              Yes    Credit card (automatic)           84.80      3626.35   \n",
              "7025              Yes  Bank transfer (automatic)           95.05       1679.4   \n",
              "7026              Yes  Bank transfer (automatic)           44.20       403.35   \n",
              "7027               No               Mailed check           73.35       931.55   \n",
              "7028               No  Bank transfer (automatic)           64.10      4326.25   \n",
              "7029              Yes           Electronic check           44.40       263.05   \n",
              "7030              Yes               Mailed check           20.05        39.25   \n",
              "7031               No    Credit card (automatic)           60.00       3316.1   \n",
              "7032              Yes           Electronic check           75.75        75.75   \n",
              "7033              Yes    Credit card (automatic)           69.50      2625.25   \n",
              "7034              Yes    Credit card (automatic)          102.95      6886.25   \n",
              "7035              Yes  Bank transfer (automatic)           78.70       1495.1   \n",
              "7036               No           Electronic check           60.65        743.3   \n",
              "7037              Yes  Bank transfer (automatic)           21.15       1419.4   \n",
              "7038              Yes               Mailed check           84.80       1990.5   \n",
              "7039              Yes    Credit card (automatic)          103.20       7362.9   \n",
              "7040              Yes           Electronic check           29.60       346.45   \n",
              "7041              Yes               Mailed check           74.40        306.6   \n",
              "7042              Yes  Bank transfer (automatic)          105.65       6844.5   \n",
              "\n",
              "     Churn  \n",
              "0       No  \n",
              "1       No  \n",
              "2      Yes  \n",
              "3       No  \n",
              "4      Yes  \n",
              "5      Yes  \n",
              "6       No  \n",
              "7       No  \n",
              "8      Yes  \n",
              "9       No  \n",
              "10      No  \n",
              "11      No  \n",
              "12      No  \n",
              "13     Yes  \n",
              "14      No  \n",
              "15      No  \n",
              "16      No  \n",
              "17      No  \n",
              "18     Yes  \n",
              "19      No  \n",
              "20     Yes  \n",
              "21      No  \n",
              "22     Yes  \n",
              "23      No  \n",
              "24      No  \n",
              "25      No  \n",
              "26     Yes  \n",
              "27     Yes  \n",
              "28      No  \n",
              "29     Yes  \n",
              "...    ...  \n",
              "7013    No  \n",
              "7014    No  \n",
              "7015    No  \n",
              "7016    No  \n",
              "7017    No  \n",
              "7018   Yes  \n",
              "7019    No  \n",
              "7020    No  \n",
              "7021   Yes  \n",
              "7022    No  \n",
              "7023    No  \n",
              "7024    No  \n",
              "7025    No  \n",
              "7026   Yes  \n",
              "7027    No  \n",
              "7028    No  \n",
              "7029    No  \n",
              "7030    No  \n",
              "7031    No  \n",
              "7032   Yes  \n",
              "7033    No  \n",
              "7034   Yes  \n",
              "7035    No  \n",
              "7036    No  \n",
              "7037    No  \n",
              "7038    No  \n",
              "7039    No  \n",
              "7040    No  \n",
              "7041   Yes  \n",
              "7042    No  \n",
              "\n",
              "[7043 rows x 21 columns]"
            ]
          },
          "metadata": {
            "tags": []
          },
          "execution_count": 3
        }
      ]
    },
    {
      "cell_type": "code",
      "metadata": {
        "id": "zSwqmQLOvHbe",
        "colab_type": "code",
        "outputId": "92b3e035-a1ac-475a-8f26-aca325a1ae0e",
        "colab": {
          "base_uri": "https://localhost:8080/",
          "height": 119
        }
      },
      "source": [
        "# see column names\n",
        "df.columns"
      ],
      "execution_count": 0,
      "outputs": [
        {
          "output_type": "execute_result",
          "data": {
            "text/plain": [
              "Index(['customerID', 'gender', 'SeniorCitizen', 'Partner', 'Dependents',\n",
              "       'tenure', 'PhoneService', 'MultipleLines', 'InternetService',\n",
              "       'OnlineSecurity', 'OnlineBackup', 'DeviceProtection', 'TechSupport',\n",
              "       'StreamingTV', 'StreamingMovies', 'Contract', 'PaperlessBilling',\n",
              "       'PaymentMethod', 'MonthlyCharges', 'TotalCharges', 'Churn'],\n",
              "      dtype='object')"
            ]
          },
          "metadata": {
            "tags": []
          },
          "execution_count": 4
        }
      ]
    },
    {
      "cell_type": "code",
      "metadata": {
        "id": "ta0JxyRNvHbl",
        "colab_type": "code",
        "outputId": "4cc99b77-1dfd-497c-ecd5-4cfeef27a3f0",
        "colab": {
          "base_uri": "https://localhost:8080/",
          "height": 391
        }
      },
      "source": [
        "df.dtypes"
      ],
      "execution_count": 0,
      "outputs": [
        {
          "output_type": "execute_result",
          "data": {
            "text/plain": [
              "customerID           object\n",
              "gender               object\n",
              "SeniorCitizen         int64\n",
              "Partner              object\n",
              "Dependents           object\n",
              "tenure                int64\n",
              "PhoneService         object\n",
              "MultipleLines        object\n",
              "InternetService      object\n",
              "OnlineSecurity       object\n",
              "OnlineBackup         object\n",
              "DeviceProtection     object\n",
              "TechSupport          object\n",
              "StreamingTV          object\n",
              "StreamingMovies      object\n",
              "Contract             object\n",
              "PaperlessBilling     object\n",
              "PaymentMethod        object\n",
              "MonthlyCharges      float64\n",
              "TotalCharges         object\n",
              "Churn                object\n",
              "dtype: object"
            ]
          },
          "metadata": {
            "tags": []
          },
          "execution_count": 5
        }
      ]
    },
    {
      "cell_type": "code",
      "metadata": {
        "id": "dtG4UTScvHbu",
        "colab_type": "code",
        "outputId": "64c00cb4-8ce2-4179-efe0-7d15981bd8db",
        "colab": {
          "base_uri": "https://localhost:8080/",
          "height": 88
        }
      },
      "source": [
        "# fot some reason, `TotalCharges` is defined as object data type, so it needs to \n",
        "# be converted into float data type \n",
        "\n",
        "df['TotalCharges'] = df['TotalCharges'].convert_objects(convert_numeric=True)"
      ],
      "execution_count": 0,
      "outputs": [
        {
          "output_type": "stream",
          "text": [
            "/usr/local/lib/python3.6/dist-packages/ipykernel_launcher.py:2: FutureWarning: convert_objects is deprecated.  To re-infer data dtypes for object columns, use Series.infer_objects()\n",
            "For all other conversions use the data-type specific converters pd.to_datetime, pd.to_timedelta and pd.to_numeric.\n",
            "  \n"
          ],
          "name": "stderr"
        }
      ]
    },
    {
      "cell_type": "markdown",
      "metadata": {
        "id": "oMhAgJzyvHcc",
        "colab_type": "text"
      },
      "source": [
        "**Definition of features (from Kaggle: https://www.kaggle.com/blastchar/telco-customer-churn)**\n",
        "- **`CustomerID`**: Customer ID\n",
        "- **`Gender`**: Whether the customer is a male or a female\n",
        "- **`SeniorCitizen`**: Whether the customer is a senior citizen or not (1, 0)\n",
        "- **`Partner`**: Whether the customer has a partner or not (Yes, No)\n",
        "- **`Dependents`**: Whether the customer has dependents or not (Yes, No)\n",
        "- **`Tenure`**: Number of months the customer has stayed with the company\n",
        "- **`PhoneService`**: Whether the customer has a phone service or not (Yes, No)\n",
        "- **`MultipleLines`**: Whether the customer has multiple lines or not (Yes, No, No phone service)\n",
        "- **`InternetService`**: Customer’s internet service provider (DSL, Fiber optic, No)\n",
        "- **`OnlineSecurity`**: Whether the customer has online security or not (Yes, No, No internet service)\n",
        "- **`OnlineBackup`**: Whether the customer has online backup or not (Yes, No, No internet service)\n",
        "- **`DeviceProtection`**: Whether the customer has device protection or not (Yes, No, No internet service)\n",
        "- **`TechSupport`**: Whether the customer has tech support or not (Yes, No, No internet service)\n",
        "- **`StreamingTV`**: Whether the customer has streaming TV or not (Yes, No, No internet service)\n",
        "- **`StreamingMovies`**: Whether the customer has streaming movies or not (Yes, No, No internet service)\n",
        "- **`Contract`**: The contract term of the customer (Month-to-month, One year, Two year)\n",
        "- **`PaperlessBilling`**: Whether the customer has paperless billing or not (Yes, No)\n",
        "- **`PaymentMethod`**: The customer’s payment method (Electronic check, Mailed check, Bank transfer (automatic), Credit card (automatic))\n",
        "- **`MonthlyCharges`**: The amount charged to the customer monthly\n",
        "- **`TotalCharges`**: The total amount charged to the customer\n",
        "- **`Churn`**: Whether the customer churned or not (Yes or No)"
      ]
    },
    {
      "cell_type": "markdown",
      "metadata": {
        "id": "uWq7OCfKvHcd",
        "colab_type": "text"
      },
      "source": [
        "## 3. data exploration  & visualization"
      ]
    },
    {
      "cell_type": "markdown",
      "metadata": {
        "id": "QSETc9rGvHcg",
        "colab_type": "text"
      },
      "source": [
        "### 3.1 check missing values"
      ]
    },
    {
      "cell_type": "code",
      "metadata": {
        "id": "UFFLdt4XvHci",
        "colab_type": "code",
        "outputId": "1c78f85e-9750-448d-8607-7012b7d103c9",
        "colab": {
          "base_uri": "https://localhost:8080/",
          "height": 34
        }
      },
      "source": [
        "# check duplicate data \n",
        "df = df.drop_duplicates()\n",
        "df.shape # (7043, 21), no duplicate rows"
      ],
      "execution_count": 0,
      "outputs": [
        {
          "output_type": "execute_result",
          "data": {
            "text/plain": [
              "(7043, 21)"
            ]
          },
          "metadata": {
            "tags": []
          },
          "execution_count": 7
        }
      ]
    },
    {
      "cell_type": "code",
      "metadata": {
        "id": "_T6hgRJtvHcr",
        "colab_type": "code",
        "outputId": "8c20bf20-5dcb-44d0-a81c-457879c44629",
        "colab": {
          "base_uri": "https://localhost:8080/",
          "height": 363
        }
      },
      "source": [
        "# check missing values via heatmap\n",
        "sns.heatmap(df.isnull(), cbar=False) #  data viz shows there are a few missing values in `TotalCharges` column "
      ],
      "execution_count": 0,
      "outputs": [
        {
          "output_type": "execute_result",
          "data": {
            "text/plain": [
              "<matplotlib.axes._subplots.AxesSubplot at 0x7ff48c80c438>"
            ]
          },
          "metadata": {
            "tags": []
          },
          "execution_count": 8
        },
        {
          "output_type": "display_data",
          "data": {
            "image/png": "[encoded data removed]",
            "text/plain": [
              "<Figure size 432x288 with 1 Axes>"
            ]
          },
          "metadata": {
            "tags": []
          }
        }
      ]
    },
    {
      "cell_type": "code",
      "metadata": {
        "id": "NuAl6C0mvHcv",
        "colab_type": "code",
        "outputId": "b2894aa8-fa18-4c7c-e764-8cbe7fb44a38",
        "colab": {
          "base_uri": "https://localhost:8080/",
          "height": 391
        }
      },
      "source": [
        "# verify via numeric summary\n",
        "df.isnull().sum() # 11 missing values in the `TotalCharges` column"
      ],
      "execution_count": 0,
      "outputs": [
        {
          "output_type": "execute_result",
          "data": {
            "text/plain": [
              "customerID           0\n",
              "gender               0\n",
              "SeniorCitizen        0\n",
              "Partner              0\n",
              "Dependents           0\n",
              "tenure               0\n",
              "PhoneService         0\n",
              "MultipleLines        0\n",
              "InternetService      0\n",
              "OnlineSecurity       0\n",
              "OnlineBackup         0\n",
              "DeviceProtection     0\n",
              "TechSupport          0\n",
              "StreamingTV          0\n",
              "StreamingMovies      0\n",
              "Contract             0\n",
              "PaperlessBilling     0\n",
              "PaymentMethod        0\n",
              "MonthlyCharges       0\n",
              "TotalCharges        11\n",
              "Churn                0\n",
              "dtype: int64"
            ]
          },
          "metadata": {
            "tags": []
          },
          "execution_count": 9
        }
      ]
    },
    {
      "cell_type": "code",
      "metadata": {
        "id": "XIaw2L3BvHcz",
        "colab_type": "code",
        "outputId": "49ed47ae-68e4-44d9-d1f3-ba279b90ab0e",
        "colab": {
          "base_uri": "https://localhost:8080/",
          "height": 34
        }
      },
      "source": [
        "# remove missing values from dataset\n",
        "df.dropna(inplace=True)\n",
        "df.shape "
      ],
      "execution_count": 0,
      "outputs": [
        {
          "output_type": "execute_result",
          "data": {
            "text/plain": [
              "(7032, 21)"
            ]
          },
          "metadata": {
            "tags": []
          },
          "execution_count": 10
        }
      ]
    },
    {
      "cell_type": "markdown",
      "metadata": {
        "id": "XVWWV7RnvHc5",
        "colab_type": "text"
      },
      "source": [
        "### 3.2 Compare cutomer churn between genders"
      ]
    },
    {
      "cell_type": "code",
      "metadata": {
        "id": "RFoERYRkvHc5",
        "colab_type": "code",
        "outputId": "f2246921-36d7-4832-f41c-6ff638c3afab",
        "colab": {
          "base_uri": "https://localhost:8080/",
          "height": 297
        }
      },
      "source": [
        "g = sns.catplot(x=\"gender\", col=\"Churn\",\n",
        "                data=df, kind=\"count\", \n",
        "                 height=4, aspect=.7)\n",
        "\n",
        "# no significant difference between genders with regard to churns"
      ],
      "execution_count": 0,
      "outputs": [
        {
          "output_type": "display_data",
          "data": {
            "image/png": "[encoded data removed]",
            "text/plain": [
              "<Figure size 403.2x288 with 2 Axes>"
            ]
          },
          "metadata": {
            "tags": []
          }
        }
      ]
    },
    {
      "cell_type": "markdown",
      "metadata": {
        "id": "ZAtJBcwVvHc9",
        "colab_type": "text"
      },
      "source": [
        "### 3.3  Check the relation between having a partner & churn "
      ]
    },
    {
      "cell_type": "code",
      "metadata": {
        "id": "6tX31z4TvHc_",
        "colab_type": "code",
        "outputId": "eaa9e469-2d69-454e-e5d3-3b2c57231621",
        "colab": {
          "base_uri": "https://localhost:8080/",
          "height": 297
        }
      },
      "source": [
        "g = sns.catplot(x=\"Partner\", col=\"Churn\",\n",
        "                data=df, kind=\"count\", \n",
        "                 height=4, aspect=.7);\n",
        "\n",
        "# There different patterns in the churn and not churn group. The plot shows that having \n",
        "# a partner may tend to lead to a churn\n"
      ],
      "execution_count": 0,
      "outputs": [
        {
          "output_type": "display_data",
          "data": {
            "image/png": "[encoded data removed]",
            "text/plain": [
              "<Figure size 403.2x288 with 2 Axes>"
            ]
          },
          "metadata": {
            "tags": []
          }
        }
      ]
    },
    {
      "cell_type": "markdown",
      "metadata": {
        "id": "3LRQP6zVvHdC",
        "colab_type": "text"
      },
      "source": [
        "### 3.4  Check the relation between having dependents & churn "
      ]
    },
    {
      "cell_type": "code",
      "metadata": {
        "id": "oK_crQ0qvHdE",
        "colab_type": "code",
        "outputId": "cf24961b-3cd7-4529-ddda-d24f33d04f71",
        "colab": {
          "base_uri": "https://localhost:8080/",
          "height": 297
        }
      },
      "source": [
        "g = sns.catplot(x=\"Dependents\", col=\"Churn\",\n",
        "                data=df, kind=\"count\", \n",
        "                 height=4, aspect=.7);\n",
        "\n",
        "# The pattern in the chrun and no churn group is similar; Therefore having dependents may not be a \n",
        "# effective feature"
      ],
      "execution_count": 0,
      "outputs": [
        {
          "output_type": "display_data",
          "data": {
            "image/png": "[encoded data removed]",
            "text/plain": [
              "<Figure size 403.2x288 with 2 Axes>"
            ]
          },
          "metadata": {
            "tags": []
          }
        }
      ]
    },
    {
      "cell_type": "markdown",
      "metadata": {
        "id": "8B881UjQvHdL",
        "colab_type": "text"
      },
      "source": [
        "### 3.5 Check the relation between using phone service & churn"
      ]
    },
    {
      "cell_type": "code",
      "metadata": {
        "id": "WMSK_ou3vHdM",
        "colab_type": "code",
        "outputId": "59c9b75f-687d-42f1-a2c2-f1e56c26cd5f",
        "colab": {
          "base_uri": "https://localhost:8080/",
          "height": 297
        }
      },
      "source": [
        "g = sns.catplot(x=\"PhoneService\", col=\"Churn\",\n",
        "                data=df, kind=\"count\", \n",
        "                 height=4, aspect=.7);\n",
        "\n",
        "# Once again, the pattern is similar between the two groups, suggesting having phone service \n",
        "# may not be an effective feature. Churn or no churn, there are just more people subscribing to \n",
        "# phone service"
      ],
      "execution_count": 0,
      "outputs": [
        {
          "output_type": "display_data",
          "data": {
            "image/png": "[encoded data removed]",
            "text/plain": [
              "<Figure size 403.2x288 with 2 Axes>"
            ]
          },
          "metadata": {
            "tags": []
          }
        }
      ]
    },
    {
      "cell_type": "markdown",
      "metadata": {
        "id": "7R3TM6GavHdQ",
        "colab_type": "text"
      },
      "source": [
        "### 3.6 Check use multiple lines & churn"
      ]
    },
    {
      "cell_type": "code",
      "metadata": {
        "id": "ZBHqfvI3vHdR",
        "colab_type": "code",
        "outputId": "d1892efa-65c3-4ad2-a2d4-1bf84a51e558",
        "colab": {
          "base_uri": "https://localhost:8080/",
          "height": 384
        }
      },
      "source": [
        "g = sns.catplot(x=\"MultipleLines\", col=\"Churn\",\n",
        "                data=df, kind=\"count\", \n",
        "                 height=4, aspect=.7)\n",
        "\n",
        "g.set_xticklabels(rotation=60)\n",
        "\n",
        "# No significant difference though using multiple lines seems to yield more no churn"
      ],
      "execution_count": 0,
      "outputs": [
        {
          "output_type": "execute_result",
          "data": {
            "text/plain": [
              "<seaborn.axisgrid.FacetGrid at 0x7ff488cacba8>"
            ]
          },
          "metadata": {
            "tags": []
          },
          "execution_count": 15
        },
        {
          "output_type": "display_data",
          "data": {
            "image/png": "[encoded data removed]",
            "text/plain": [
              "<Figure size 403.2x288 with 2 Axes>"
            ]
          },
          "metadata": {
            "tags": []
          }
        }
      ]
    },
    {
      "cell_type": "markdown",
      "metadata": {
        "id": "cTfejJbQvHdb",
        "colab_type": "text"
      },
      "source": [
        "### 3.7 Check use fiber optic & churn"
      ]
    },
    {
      "cell_type": "code",
      "metadata": {
        "id": "AyHVqJs4vHdd",
        "colab_type": "code",
        "outputId": "9f22a328-7f7d-41f4-bce6-601fa966d89c",
        "colab": {
          "base_uri": "https://localhost:8080/",
          "height": 297
        }
      },
      "source": [
        "g = sns.catplot(x=\"InternetService\", col=\"Churn\",\n",
        "                data=df, kind=\"count\", \n",
        "                 height=4, aspect=.7);\n",
        "\n",
        "# it is obvious that use of fiber optic leads to higher churn compared to DSL"
      ],
      "execution_count": 0,
      "outputs": [
        {
          "output_type": "display_data",
          "data": {
            "image/png": "[encoded data removed]",
            "text/plain": [
              "<Figure size 403.2x288 with 2 Axes>"
            ]
          },
          "metadata": {
            "tags": []
          }
        }
      ]
    },
    {
      "cell_type": "markdown",
      "metadata": {
        "id": "gx7eZdO7vHdl",
        "colab_type": "text"
      },
      "source": [
        "### 3.8 Check use of internet online security & churn"
      ]
    },
    {
      "cell_type": "code",
      "metadata": {
        "id": "btdjXlDNvHd1",
        "colab_type": "code",
        "outputId": "9d53293e-46bd-4001-dae5-2b1032b231fd",
        "colab": {
          "base_uri": "https://localhost:8080/",
          "height": 392
        }
      },
      "source": [
        "g = sns.catplot(x=\"OnlineSecurity\", col=\"Churn\",\n",
        "                data=df, kind=\"count\", \n",
        "                 height=4, aspect=.7)\n",
        "\n",
        "g.set_xticklabels(rotation=60)\n",
        "\n",
        "# No significant difference"
      ],
      "execution_count": 0,
      "outputs": [
        {
          "output_type": "execute_result",
          "data": {
            "text/plain": [
              "<seaborn.axisgrid.FacetGrid at 0x7ff488a4bf98>"
            ]
          },
          "metadata": {
            "tags": []
          },
          "execution_count": 17
        },
        {
          "output_type": "display_data",
          "data": {
            "image/png": "[encoded data removed]",
            "text/plain": [
              "<Figure size 403.2x288 with 2 Axes>"
            ]
          },
          "metadata": {
            "tags": []
          }
        }
      ]
    },
    {
      "cell_type": "markdown",
      "metadata": {
        "id": "dwkbk_9jvHek",
        "colab_type": "text"
      },
      "source": [
        "### 3.9 Check use of online backup service & churn"
      ]
    },
    {
      "cell_type": "code",
      "metadata": {
        "id": "o_0YSCQTvHew",
        "colab_type": "code",
        "outputId": "0f5fd52e-aa8b-4fcb-c5a0-b6f8a100cc0d",
        "colab": {
          "base_uri": "https://localhost:8080/",
          "height": 392
        }
      },
      "source": [
        "g = sns.catplot(x=\"OnlineBackup\", col=\"Churn\",\n",
        "                data=df, kind=\"count\", \n",
        "                 height=4, aspect=.7)\n",
        "\n",
        "g.set_xticklabels(rotation=60)\n",
        "\n",
        "# it seems not use online backup yields higher churn. However, not using it does not lead to \n",
        "# prticularly higher retenton either. This may suggest that some specific users encountered some problem\n",
        "# when not using this service"
      ],
      "execution_count": 0,
      "outputs": [
        {
          "output_type": "execute_result",
          "data": {
            "text/plain": [
              "<seaborn.axisgrid.FacetGrid at 0x7ff488774940>"
            ]
          },
          "metadata": {
            "tags": []
          },
          "execution_count": 18
        },
        {
          "output_type": "display_data",
          "data": {
            "image/png": "[encoded data removed]",
            "text/plain": [
              "<Figure size 403.2x288 with 2 Axes>"
            ]
          },
          "metadata": {
            "tags": []
          }
        }
      ]
    },
    {
      "cell_type": "markdown",
      "metadata": {
        "id": "TxXqImVXvHfX",
        "colab_type": "text"
      },
      "source": [
        "### 3.10 Check the use of device protection & churn"
      ]
    },
    {
      "cell_type": "code",
      "metadata": {
        "id": "TueOvPsCvHfa",
        "colab_type": "code",
        "outputId": "7ed2b381-37ea-4f45-dac5-9f27c392441f",
        "colab": {
          "base_uri": "https://localhost:8080/",
          "height": 392
        }
      },
      "source": [
        "g = sns.catplot(x=\"DeviceProtection\", col=\"Churn\",\n",
        "                data=df, kind=\"count\", \n",
        "                 height=4, aspect=.7)\n",
        "\n",
        "g.set_xticklabels(rotation=60)\n",
        "\n",
        "# while use and not use this service lead to similar no churn, not using this service \n",
        "# seems to lead higher churn"
      ],
      "execution_count": 0,
      "outputs": [
        {
          "output_type": "execute_result",
          "data": {
            "text/plain": [
              "<seaborn.axisgrid.FacetGrid at 0x7ff488ce6128>"
            ]
          },
          "metadata": {
            "tags": []
          },
          "execution_count": 19
        },
        {
          "output_type": "display_data",
          "data": {
            "image/png": "[encoded data removed]",
            "text/plain": [
              "<Figure size 403.2x288 with 2 Axes>"
            ]
          },
          "metadata": {
            "tags": []
          }
        }
      ]
    },
    {
      "cell_type": "markdown",
      "metadata": {
        "id": "x340svadvHgG",
        "colab_type": "text"
      },
      "source": [
        "### 3.11 Check use of tech support & churn "
      ]
    },
    {
      "cell_type": "code",
      "metadata": {
        "id": "u2z1qgW_vHgJ",
        "colab_type": "code",
        "outputId": "0e695877-e158-4753-d957-bc442993c06b",
        "colab": {
          "base_uri": "https://localhost:8080/",
          "height": 392
        }
      },
      "source": [
        "g = sns.catplot(x=\"TechSupport\", col=\"Churn\",\n",
        "                data=df, kind=\"count\", \n",
        "                 height=4, aspect=.7)\n",
        "\n",
        "g.set_xticklabels(rotation=60)\n",
        "\n",
        "# the pattern across three sub-groups is consistant, it shows that users may have a mixed \n",
        "# experience of using this service as use this service also doesn't lead to more no churn"
      ],
      "execution_count": 0,
      "outputs": [
        {
          "output_type": "execute_result",
          "data": {
            "text/plain": [
              "<seaborn.axisgrid.FacetGrid at 0x7ff488a384e0>"
            ]
          },
          "metadata": {
            "tags": []
          },
          "execution_count": 20
        },
        {
          "output_type": "display_data",
          "data": {
            "image/png": "[encoded data removed]",
            "text/plain": [
              "<Figure size 403.2x288 with 2 Axes>"
            ]
          },
          "metadata": {
            "tags": []
          }
        }
      ]
    },
    {
      "cell_type": "markdown",
      "metadata": {
        "id": "6DahLtSIvHgW",
        "colab_type": "text"
      },
      "source": [
        "### 3.12 Check use of streaming TC service & churn"
      ]
    },
    {
      "cell_type": "code",
      "metadata": {
        "id": "-r4PgV13vHgZ",
        "colab_type": "code",
        "outputId": "94453857-6a89-4d03-f832-dba135f45b18",
        "colab": {
          "base_uri": "https://localhost:8080/",
          "height": 392
        }
      },
      "source": [
        "g = sns.catplot(x=\"StreamingTV\", col=\"Churn\",\n",
        "                data=df, kind=\"count\", \n",
        "                 height=4, aspect=.7);\n",
        "\n",
        "g.set_xticklabels(rotation=60)\n",
        "\n",
        "# not use streaming TV service may lead to higher churn "
      ],
      "execution_count": 0,
      "outputs": [
        {
          "output_type": "execute_result",
          "data": {
            "text/plain": [
              "<seaborn.axisgrid.FacetGrid at 0x7ff48894df60>"
            ]
          },
          "metadata": {
            "tags": []
          },
          "execution_count": 21
        },
        {
          "output_type": "display_data",
          "data": {
            "image/png": "[encoded data removed]",
            "text/plain": [
              "<Figure size 403.2x288 with 2 Axes>"
            ]
          },
          "metadata": {
            "tags": []
          }
        }
      ]
    },
    {
      "cell_type": "markdown",
      "metadata": {
        "id": "yi1w56SIvHgq",
        "colab_type": "text"
      },
      "source": [
        "### 3.13 Check the use of streaming movies & churn "
      ]
    },
    {
      "cell_type": "code",
      "metadata": {
        "id": "VXZ2k9mxvHgs",
        "colab_type": "code",
        "outputId": "10ea56ca-0e78-4eb0-a568-6368dbfb00e1",
        "colab": {
          "base_uri": "https://localhost:8080/"
        }
      },
      "source": [
        "g = sns.catplot(x=\"StreamingMovies\", col=\"Churn\",\n",
        "                data=df, kind=\"count\", \n",
        "                 height=4, aspect=.7)\n",
        "\n",
        "g.set_xticklabels(rotation=60)\n",
        "\n",
        "# not using streaming movies may lead to higher churn"
      ],
      "execution_count": 0,
      "outputs": [
        {
          "output_type": "execute_result",
          "data": {
            "text/plain": [
              "<seaborn.axisgrid.FacetGrid at 0x7ff488bd6be0>"
            ]
          },
          "metadata": {
            "tags": []
          },
          "execution_count": 22
        },
        {
          "output_type": "display_data",
          "data": {
            "image/png": "[encoded data removed]",
            "text/plain": [
              "<Figure size 403.2x288 with 2 Axes>"
            ]
          },
          "metadata": {
            "tags": []
          }
        }
      ]
    },
    {
      "cell_type": "markdown",
      "metadata": {
        "id": "3mxUPrKyvHg2",
        "colab_type": "text"
      },
      "source": [
        "### 3.14 Relation between contract length & churn "
      ]
    },
    {
      "cell_type": "code",
      "metadata": {
        "id": "UiOFuy0TvHg7",
        "colab_type": "code",
        "outputId": "7b7f479c-7217-4def-83bd-3edffae6d0d3",
        "colab": {
          "base_uri": "https://localhost:8080/"
        }
      },
      "source": [
        "g = sns.catplot(x=\"Contract\", col=\"Churn\",\n",
        "                data=df, kind=\"count\", \n",
        "                 height=4, aspect=.7)\n",
        "\n",
        "g.set_xticklabels(rotation=90)\n",
        "\n",
        "# Comparatively, 2-year contract yields lowest churn, while monthly contract has a mixed result of high \n",
        "# churn and no churn. This may just reflects that nature of monthly contract users, who tend to drop the \n",
        "# service faster since they may just be using the service temporarily"
      ],
      "execution_count": 0,
      "outputs": [
        {
          "output_type": "execute_result",
          "data": {
            "text/plain": [
              "<seaborn.axisgrid.FacetGrid at 0x7ff488cbde48>"
            ]
          },
          "metadata": {
            "tags": []
          },
          "execution_count": 23
        },
        {
          "output_type": "display_data",
          "data": {
            "image/png": "[encoded data removed]",
            "text/plain": [
              "<Figure size 403.2x288 with 2 Axes>"
            ]
          },
          "metadata": {
            "tags": []
          }
        }
      ]
    },
    {
      "cell_type": "markdown",
      "metadata": {
        "id": "oLcFmUBgvHhB",
        "colab_type": "text"
      },
      "source": [
        "### 3.15 Use of paperless bills & churn "
      ]
    },
    {
      "cell_type": "code",
      "metadata": {
        "id": "DRbpU3lgvHhD",
        "colab_type": "code",
        "outputId": "7c64f2df-c97d-409d-cbde-77b2889679b1",
        "colab": {
          "base_uri": "https://localhost:8080/",
          "height": 297
        }
      },
      "source": [
        "g = sns.catplot(x=\"PaperlessBilling\", col=\"Churn\",\n",
        "                data=df, kind=\"count\", \n",
        "                 height=4, aspect=.7);\n",
        "\n",
        "# no significant effect of using paperless bills"
      ],
      "execution_count": 0,
      "outputs": [
        {
          "output_type": "display_data",
          "data": {
            "image/png": "[encoded data removed]",
            "text/plain": [
              "<Figure size 403.2x288 with 2 Axes>"
            ]
          },
          "metadata": {
            "tags": []
          }
        }
      ]
    },
    {
      "cell_type": "markdown",
      "metadata": {
        "id": "fPnKmXa3vHhI",
        "colab_type": "text"
      },
      "source": [
        "### 3.16 Payment method & churn "
      ]
    },
    {
      "cell_type": "code",
      "metadata": {
        "id": "29aIeyvvvHhL",
        "colab_type": "code",
        "outputId": "f3a5048f-53fb-441f-9c71-47bd017d08cc",
        "colab": {
          "base_uri": "https://localhost:8080/",
          "height": 433
        }
      },
      "source": [
        "g = sns.catplot(x=\"PaymentMethod\", col=\"Churn\",\n",
        "                data=df, kind=\"count\", \n",
        "                 height=4, aspect=.7)\n",
        "g.set_xticklabels(rotation=90)\n",
        "\n",
        "# It looks like eletronic check is not in favor of customer retention, while other\n",
        "# payment methods are don't particularly lead to high churn"
      ],
      "execution_count": 0,
      "outputs": [
        {
          "output_type": "execute_result",
          "data": {
            "text/plain": [
              "<seaborn.axisgrid.FacetGrid at 0x7ff488ab08d0>"
            ]
          },
          "metadata": {
            "tags": []
          },
          "execution_count": 25
        },
        {
          "output_type": "display_data",
          "data": {
            "image/png": "[encoded data removed]",
            "text/plain": [
              "<Figure size 403.2x288 with 2 Axes>"
            ]
          },
          "metadata": {
            "tags": []
          }
        }
      ]
    },
    {
      "cell_type": "markdown",
      "metadata": {
        "id": "WRyAf6ywvHhd",
        "colab_type": "text"
      },
      "source": [
        "### 3.17 Check the relaton between senior customer with churn"
      ]
    },
    {
      "cell_type": "code",
      "metadata": {
        "id": "jYmR5js8vHhe",
        "colab_type": "code",
        "outputId": "9b4f3db3-0dba-4b0d-89a7-96c09190c281",
        "colab": {
          "base_uri": "https://localhost:8080/",
          "height": 297
        }
      },
      "source": [
        "# recode column variable\n",
        "mapping = {0: 'not senior', 1: 'senior'}\n",
        "df.replace({'SeniorCitizen': mapping})\n",
        "\n",
        "g = sns.catplot(x=\"SeniorCitizen\", col=\"Churn\",\n",
        "                data=df, kind=\"count\", \n",
        "                 height=4, aspect=.7);\n",
        "\n",
        "# senior user account for the minority of users, and there is no significant effect\n",
        "# on the churn\n"
      ],
      "execution_count": 0,
      "outputs": [
        {
          "output_type": "display_data",
          "data": {
            "image/png": "[encoded data removed]",
            "text/plain": [
              "<Figure size 403.2x288 with 2 Axes>"
            ]
          },
          "metadata": {
            "tags": []
          }
        }
      ]
    },
    {
      "cell_type": "markdown",
      "metadata": {
        "id": "xwkd-2mMvHh0",
        "colab_type": "text"
      },
      "source": [
        "### 3.18 Check relaton between continuous features & churn "
      ]
    },
    {
      "cell_type": "code",
      "metadata": {
        "scrolled": true,
        "id": "CcTq_KtXvHh1",
        "colab_type": "code",
        "colab": {}
      },
      "source": [
        "# subset dataframe to get continuous features\n",
        "df_cont = df[['tenure', 'MonthlyCharges', 'TotalCharges', 'Churn']]\n",
        "# recode `Churn` column \n",
        "mapping = {'No': 0, 'Yes': 1}\n",
        "df_cont = df_cont.replace({'Churn': mapping})"
      ],
      "execution_count": 0,
      "outputs": []
    },
    {
      "cell_type": "code",
      "metadata": {
        "scrolled": false,
        "id": "ni7YtrbcvHh4",
        "colab_type": "code",
        "outputId": "332a8684-61d4-4c9b-a7da-7e1f5e07fb72",
        "colab": {
          "base_uri": "https://localhost:8080/"
        }
      },
      "source": [
        "display(df.corr())\n",
        "pd.plotting.scatter_matrix(df_cont, figsize=(6, 6))\n",
        "plt.show()\n",
        "\n",
        "# Data distribution summry:\n",
        "# 1. tenure: there is an concentration in the head and tail. While the a large number of short-tenure users make intuitive\n",
        "# sense, it is worth checking if there is abnormal outliers among the long-tenure users\n",
        "# 2. Monthly Charges' distribution makes sense\n",
        "# 3. In general, there churn is about half the number of no churn\n",
        "# Data correlaton:\n",
        "# ThE only obvious correlation is between tenure and total charge, also, month charge and total charge. This makes\n",
        "# intuitive sense as the longer you stay in the company's service, the more in total you spend\n"
      ],
      "execution_count": 0,
      "outputs": [
        {
          "output_type": "display_data",
          "data": {
            "text/html": [
              "<div>\n",
              "<style scoped>\n",
              "    .dataframe tbody tr th:only-of-type {\n",
              "        vertical-align: middle;\n",
              "    }\n",
              "\n",
              "    .dataframe tbody tr th {\n",
              "        vertical-align: top;\n",
              "    }\n",
              "\n",
              "    .dataframe thead th {\n",
              "        text-align: right;\n",
              "    }\n",
              "</style>\n",
              "<table border=\"1\" class=\"dataframe\">\n",
              "  <thead>\n",
              "    <tr style=\"text-align: right;\">\n",
              "      <th></th>\n",
              "      <th>SeniorCitizen</th>\n",
              "      <th>tenure</th>\n",
              "      <th>MonthlyCharges</th>\n",
              "      <th>TotalCharges</th>\n",
              "    </tr>\n",
              "  </thead>\n",
              "  <tbody>\n",
              "    <tr>\n",
              "      <th>SeniorCitizen</th>\n",
              "      <td>1.000000</td>\n",
              "      <td>0.015683</td>\n",
              "      <td>0.219874</td>\n",
              "      <td>0.102411</td>\n",
              "    </tr>\n",
              "    <tr>\n",
              "      <th>tenure</th>\n",
              "      <td>0.015683</td>\n",
              "      <td>1.000000</td>\n",
              "      <td>0.246862</td>\n",
              "      <td>0.825880</td>\n",
              "    </tr>\n",
              "    <tr>\n",
              "      <th>MonthlyCharges</th>\n",
              "      <td>0.219874</td>\n",
              "      <td>0.246862</td>\n",
              "      <td>1.000000</td>\n",
              "      <td>0.651065</td>\n",
              "    </tr>\n",
              "    <tr>\n",
              "      <th>TotalCharges</th>\n",
              "      <td>0.102411</td>\n",
              "      <td>0.825880</td>\n",
              "      <td>0.651065</td>\n",
              "      <td>1.000000</td>\n",
              "    </tr>\n",
              "  </tbody>\n",
              "</table>\n",
              "</div>"
            ],
            "text/plain": [
              "                SeniorCitizen    tenure  MonthlyCharges  TotalCharges\n",
              "SeniorCitizen        1.000000  0.015683        0.219874      0.102411\n",
              "tenure               0.015683  1.000000        0.246862      0.825880\n",
              "MonthlyCharges       0.219874  0.246862        1.000000      0.651065\n",
              "TotalCharges         0.102411  0.825880        0.651065      1.000000"
            ]
          },
          "metadata": {
            "tags": []
          }
        },
        {
          "output_type": "display_data",
          "data": {
            "image/png": "[encoded data removed]",
            "text/plain": [
              "<Figure size 432x432 with 16 Axes>"
            ]
          },
          "metadata": {
            "tags": []
          }
        }
      ]
    },
    {
      "cell_type": "markdown",
      "metadata": {
        "id": "m04bxUcGvHiA",
        "colab_type": "text"
      },
      "source": [
        "### 3.19  Check outliers (continuous features) "
      ]
    },
    {
      "cell_type": "code",
      "metadata": {
        "id": "NkTKHlEMvHiB",
        "colab_type": "code",
        "outputId": "290f7765-e808-47dd-94b9-74e2edf48af1",
        "colab": {
          "base_uri": "https://localhost:8080/"
        }
      },
      "source": [
        "# Compare mean, median, and max values to examine outliers\n",
        "df_cont.loc[:, df_cont.columns != 'Churn'].describe()\n",
        "# summary: For both continuous features, no upper bound outliers are detected (no big gap \n",
        "# between their mean and median, nor are their the max values too abnormal)\n"
      ],
      "execution_count": 0,
      "outputs": [
        {
          "output_type": "execute_result",
          "data": {
            "text/html": [
              "<div>\n",
              "<style scoped>\n",
              "    .dataframe tbody tr th:only-of-type {\n",
              "        vertical-align: middle;\n",
              "    }\n",
              "\n",
              "    .dataframe tbody tr th {\n",
              "        vertical-align: top;\n",
              "    }\n",
              "\n",
              "    .dataframe thead th {\n",
              "        text-align: right;\n",
              "    }\n",
              "</style>\n",
              "<table border=\"1\" class=\"dataframe\">\n",
              "  <thead>\n",
              "    <tr style=\"text-align: right;\">\n",
              "      <th></th>\n",
              "      <th>tenure</th>\n",
              "      <th>MonthlyCharges</th>\n",
              "      <th>TotalCharges</th>\n",
              "    </tr>\n",
              "  </thead>\n",
              "  <tbody>\n",
              "    <tr>\n",
              "      <th>count</th>\n",
              "      <td>7032.000000</td>\n",
              "      <td>7032.000000</td>\n",
              "      <td>7032.000000</td>\n",
              "    </tr>\n",
              "    <tr>\n",
              "      <th>mean</th>\n",
              "      <td>32.421786</td>\n",
              "      <td>64.798208</td>\n",
              "      <td>2283.300441</td>\n",
              "    </tr>\n",
              "    <tr>\n",
              "      <th>std</th>\n",
              "      <td>24.545260</td>\n",
              "      <td>30.085974</td>\n",
              "      <td>2266.771362</td>\n",
              "    </tr>\n",
              "    <tr>\n",
              "      <th>min</th>\n",
              "      <td>1.000000</td>\n",
              "      <td>18.250000</td>\n",
              "      <td>18.800000</td>\n",
              "    </tr>\n",
              "    <tr>\n",
              "      <th>25%</th>\n",
              "      <td>9.000000</td>\n",
              "      <td>35.587500</td>\n",
              "      <td>401.450000</td>\n",
              "    </tr>\n",
              "    <tr>\n",
              "      <th>50%</th>\n",
              "      <td>29.000000</td>\n",
              "      <td>70.350000</td>\n",
              "      <td>1397.475000</td>\n",
              "    </tr>\n",
              "    <tr>\n",
              "      <th>75%</th>\n",
              "      <td>55.000000</td>\n",
              "      <td>89.862500</td>\n",
              "      <td>3794.737500</td>\n",
              "    </tr>\n",
              "    <tr>\n",
              "      <th>max</th>\n",
              "      <td>72.000000</td>\n",
              "      <td>118.750000</td>\n",
              "      <td>8684.800000</td>\n",
              "    </tr>\n",
              "  </tbody>\n",
              "</table>\n",
              "</div>"
            ],
            "text/plain": [
              "            tenure  MonthlyCharges  TotalCharges\n",
              "count  7032.000000     7032.000000   7032.000000\n",
              "mean     32.421786       64.798208   2283.300441\n",
              "std      24.545260       30.085974   2266.771362\n",
              "min       1.000000       18.250000     18.800000\n",
              "25%       9.000000       35.587500    401.450000\n",
              "50%      29.000000       70.350000   1397.475000\n",
              "75%      55.000000       89.862500   3794.737500\n",
              "max      72.000000      118.750000   8684.800000"
            ]
          },
          "metadata": {
            "tags": []
          },
          "execution_count": 29
        }
      ]
    },
    {
      "cell_type": "markdown",
      "metadata": {
        "id": "txTbLZKVvHiF",
        "colab_type": "text"
      },
      "source": [
        "### Quick summary:\n",
        "* 1. Most of the features are categorical\n",
        "* 2. 11 missing values in the TotalCharges column\n",
        "* 3. Features that potentially impact churn include:\n",
        "    * having a partner\n",
        "    * use of fiber optic \n",
        "    * online backup \n",
        "    * device protection \n",
        "    * streaming TV service \n",
        "    * streaming movie service\n",
        "* 4. Month charges correlates with total charges, so does tenure with total charges\n",
        "* 5. No dramatic outliers in the continuous variables\n"
      ]
    },
    {
      "cell_type": "markdown",
      "metadata": {
        "id": "KtgGrvc2vHiG",
        "colab_type": "text"
      },
      "source": [
        "### 4. Predict churn with various models"
      ]
    },
    {
      "cell_type": "code",
      "metadata": {
        "id": "gjm7l8BVvHiN",
        "colab_type": "code",
        "outputId": "7290ae2a-7103-4dd7-cb7a-92768fe30a74",
        "colab": {
          "base_uri": "https://localhost:8080/"
        }
      },
      "source": [
        "# recode and reshape dataframe for modeling\n",
        "\n",
        "# recode the `SeniorCitizen` column\n",
        "mapping = {0: 'No', 1: 'Yes'}\n",
        "df = df.replace({'SeniorCitizen': mapping})\n",
        "df.columns = df.columns.str.capitalize()\n",
        "df.dtypes "
      ],
      "execution_count": 0,
      "outputs": [
        {
          "output_type": "execute_result",
          "data": {
            "text/plain": [
              "Customerid           object\n",
              "Gender               object\n",
              "Seniorcitizen        object\n",
              "Partner              object\n",
              "Dependents           object\n",
              "Tenure                int64\n",
              "Phoneservice         object\n",
              "Multiplelines        object\n",
              "Internetservice      object\n",
              "Onlinesecurity       object\n",
              "Onlinebackup         object\n",
              "Deviceprotection     object\n",
              "Techsupport          object\n",
              "Streamingtv          object\n",
              "Streamingmovies      object\n",
              "Contract             object\n",
              "Paperlessbilling     object\n",
              "Paymentmethod        object\n",
              "Monthlycharges      float64\n",
              "Totalcharges        float64\n",
              "Churn                object\n",
              "dtype: object"
            ]
          },
          "metadata": {
            "tags": []
          },
          "execution_count": 30
        }
      ]
    },
    {
      "cell_type": "markdown",
      "metadata": {
        "id": "TULK2EA5vHiU",
        "colab_type": "text"
      },
      "source": [
        "### 4.1 Split data into train, validaton, test (60%, 20%,  20%)"
      ]
    },
    {
      "cell_type": "code",
      "metadata": {
        "id": "9_eV-LYSvHiV",
        "colab_type": "code",
        "colab": {}
      },
      "source": [
        "y = df.pop('Churn').to_frame()\n",
        "X = df"
      ],
      "execution_count": 0,
      "outputs": []
    },
    {
      "cell_type": "code",
      "metadata": {
        "id": "5cmNH_A4vHiZ",
        "colab_type": "code",
        "colab": {}
      },
      "source": [
        "X_train, X_test, y_train, y_test = train_test_split(\n",
        "        X, y,stratify=y, test_size=0.4, random_state=1)\n",
        "\n",
        "X_test, X_val, y_test, y_val = train_test_split(\n",
        "        X_test, y_test, stratify=y_test, test_size=0.5, random_state=1)\n",
        "# X_train.shape (4225, 19); X_val.shape (1409, 19); X_test.shape(1409, 19)"
      ],
      "execution_count": 0,
      "outputs": []
    },
    {
      "cell_type": "code",
      "metadata": {
        "id": "KOgEirpHvHib",
        "colab_type": "code",
        "colab": {}
      },
      "source": [
        "# also, recode y (target feature) into numeric binary values\n",
        "mapping = {'No': 0, 'Yes': 1}\n",
        "y_train = y_train.replace({'Churn': mapping})\n",
        "y_val = y_val.replace({'Churn': mapping})\n",
        "y_test = y_test.replace({'Churn': mapping})"
      ],
      "execution_count": 0,
      "outputs": []
    },
    {
      "cell_type": "code",
      "metadata": {
        "id": "qEDn7HhOvHie",
        "colab_type": "code",
        "outputId": "f14a0298-f9c8-48db-ed4d-343f8e721e1e",
        "colab": {
          "base_uri": "https://localhost:8080/",
          "height": 68
        }
      },
      "source": [
        "y_train['Churn'].value_counts() "
      ],
      "execution_count": 0,
      "outputs": [
        {
          "output_type": "execute_result",
          "data": {
            "text/plain": [
              "0    3098\n",
              "1    1121\n",
              "Name: Churn, dtype: int64"
            ]
          },
          "metadata": {
            "tags": []
          },
          "execution_count": 34
        }
      ]
    },
    {
      "cell_type": "code",
      "metadata": {
        "id": "XubXDJ8tvHii",
        "colab_type": "code",
        "outputId": "de57cab4-3634-418b-c48b-ef071254dbe9",
        "colab": {
          "base_uri": "https://localhost:8080/",
          "height": 68
        }
      },
      "source": [
        "y_val['Churn'].value_counts()"
      ],
      "execution_count": 0,
      "outputs": [
        {
          "output_type": "execute_result",
          "data": {
            "text/plain": [
              "0    1033\n",
              "1     374\n",
              "Name: Churn, dtype: int64"
            ]
          },
          "metadata": {
            "tags": []
          },
          "execution_count": 35
        }
      ]
    },
    {
      "cell_type": "code",
      "metadata": {
        "id": "eppnh1vFvHim",
        "colab_type": "code",
        "outputId": "f6db6b41-c7dc-42f4-a028-743850fe27ca",
        "colab": {
          "base_uri": "https://localhost:8080/",
          "height": 68
        }
      },
      "source": [
        "y_test['Churn'].value_counts() "
      ],
      "execution_count": 0,
      "outputs": [
        {
          "output_type": "execute_result",
          "data": {
            "text/plain": [
              "0    1032\n",
              "1     374\n",
              "Name: Churn, dtype: int64"
            ]
          },
          "metadata": {
            "tags": []
          },
          "execution_count": 36
        }
      ]
    },
    {
      "cell_type": "markdown",
      "metadata": {
        "id": "uva866mevHix",
        "colab_type": "text"
      },
      "source": [
        "**Ratio of the churn v.s no churn is verified across train, validaton, test set (about 1:3)**"
      ]
    },
    {
      "cell_type": "markdown",
      "metadata": {
        "id": "20Mt1A_VzS-_",
        "colab_type": "text"
      },
      "source": [
        "### 4.2 Save train, validation, test data & upload to S3"
      ]
    },
    {
      "cell_type": "code",
      "metadata": {
        "id": "SnW1JKBMzlGa",
        "colab_type": "code",
        "colab": {}
      },
      "source": [
        "X_train.to_csv('X_train.csv', header=False, index=False)\n",
        "y_train.to_csv('y_train.csv', header=False, index=False)\n",
        "X_val.to_csv('X_val.csv', header=False, index=False)\n",
        "y_val.to_csv('y_val.csv', header=False, index=False)\n",
        "X_test.to_csv('X_test.csv', header=False, index=False)\n",
        "y_test.to_csv('y_test.csv', header=False, index=False)"
      ],
      "execution_count": 0,
      "outputs": []
    },
    {
      "cell_type": "code",
      "metadata": {
        "id": "BCnHEM-g0rv2",
        "colab_type": "code",
        "colab": {}
      },
      "source": [
        "boto3.Session().resource('s3').Bucket(bucket).Object(os.path.join(prefix, 'train/X_train.csv')).upload_file('X_train.csv')\n",
        "boto3.Session().resource('s3').Bucket(bucket).Object(os.path.join(prefix, 'train/y_train.csv')).upload_file('y_train.csv')\n",
        "boto3.Session().resource('s3').Bucket(bucket).Object(os.path.join(prefix, 'val/X_val.csv')).upload_file('X_val.csv')\n",
        "boto3.Session().resource('s3').Bucket(bucket).Object(os.path.join(prefix, 'val/y_val.csv')).upload_file('y_val.csv')\n",
        "boto3.Session().resource('s3').Bucket(bucket).Object(os.path.join(prefix, 'test/X_test.csv')).upload_file('X_test.csv')\n",
        "boto3.Session().resource('s3').Bucket(bucket).Object(os.path.join(prefix, 'test/y_test.csv')).upload_file('X_test.csv')"
      ],
      "execution_count": 0,
      "outputs": []
    },
    {
      "cell_type": "markdown",
      "metadata": {
        "id": "b4VcajJSvHi5",
        "colab_type": "text"
      },
      "source": [
        "### 4.3 XGBoost model training"
      ]
    },
    {
      "cell_type": "code",
      "metadata": {
        "id": "H9UyvTv2QY0h",
        "colab_type": "code",
        "colab": {}
      },
      "source": [
        "# create a model continer\n",
        "from sagemaker.amazon.amazon_estimator import get_image_uri\n",
        "container = get_image_uri(boto3.Session().region_name, 'xgboost')\n",
        "# create pointers for data \n",
        "s3_input_X_train = sagemaker.s3_input(s3_data='s3://{}/{}/train/X_train'.format(bucket, prefix), content_type='csv')\n",
        "s3_input_y_train = sagemaker.s3_input(s3_data='s3://{}/{}/train/y_train'.format(bucket, prefix), content_type='csv')\n",
        "s3_input_X_val = sagemaker.s3_input(s3_data='s3://{}/{}/val/X_val'.format(bucket, prefix), content_type='csv')\n",
        "s3_input_y_val = sagemaker.s3_input(s3_data='s3://{}/{}/val/y_val'.format(bucket, prefix), content_type='csv')\n",
        "s3_input_X_test = sagemaker.s3_input(s3_data='s3://{}/{}/test/X_test'.format(bucket, prefix), content_type='csv')\n",
        "s3_input_y_test = sagemaker.s3_input(s3_data='s3://{}/{}/test/y_test'.format(bucket, prefix), content_type='csv')\n"
      ],
      "execution_count": 0,
      "outputs": []
    },
    {
      "cell_type": "code",
      "metadata": {
        "id": "qTGD65pCTYJR",
        "colab_type": "code",
        "colab": {}
      },
      "source": [
        "sess = sagemaker.Session()\n",
        "\n",
        "xgb = sagemaker.estimator.Estimator(container,\n",
        "                                    role, \n",
        "                                    train_instance_count=1,\n",
        "                                    train_instance_type='ml.m4.xlarge',\n",
        "                                    output_path='s3://{}/{}/output'.format(bucket, prefix),\n",
        "                                    sagemaker_session=sess)\n",
        "\n",
        "\n",
        "xgb.set_hyperparameters(\n",
        " learning_rate =0.1,\n",
        " n_estimators=1000,\n",
        " max_depth=5,\n",
        " min_child_weight=1,\n",
        " gamma=0,\n",
        " subsample=0.8,\n",
        " colsample_bytree=0.8,\n",
        " objective= 'binary:logistic',\n",
        " nthread=4,\n",
        " scale_pos_weight=1)\n",
        "\n",
        "xgb.fit(s3_input_X_train, s3_input_y_train)\n"
      ],
      "execution_count": 0,
      "outputs": []
    },
    {
      "cell_type": "markdown",
      "metadata": {
        "id": "i4dtNOlpV2eH",
        "colab_type": "text"
      },
      "source": [
        "### Deploy XGBoost model"
      ]
    },
    {
      "cell_type": "code",
      "metadata": {
        "id": "m0JxxKA2Vt8q",
        "colab_type": "code",
        "colab": {}
      },
      "source": [
        "# deploy trained model as endpoint\n",
        "xgb_predictor = xgb.deploy(initial_instance=1, \n",
        "                          instance_type='ml.m4.xlarge')"
      ],
      "execution_count": 0,
      "outputs": []
    },
    {
      "cell_type": "code",
      "metadata": {
        "id": "f_frFJLqXi09",
        "colab_type": "code",
        "colab": {}
      },
      "source": [
        "# see model performance on validation set\n",
        "\n",
        "predicted_y_val = xgb_predictor.predict(s3_input_X_val)\n",
        "pd.crosstab(s3_input_y_val['Churn'], np.round(predicted_y_val))"
      ],
      "execution_count": 0,
      "outputs": []
    }
  ]
}