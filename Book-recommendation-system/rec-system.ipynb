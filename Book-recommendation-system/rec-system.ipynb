{
 "cells": [
  {
   "cell_type": "markdown",
   "metadata": {},
   "source": [
    "### This project uses a book rating dataset and build a mixed recommendation system that gives top recommendatons based on a book input by a reader.\n",
    "\n",
    "Data source: Improving Recommendation Lists Through Topic Diversification,\n",
    "Cai-Nicolas Ziegler, Sean M. McNee, Joseph A. Konstan, Georg Lausen; Proceedings of the 14th International World Wide Web Conference (WWW '05), May 10-14, 2005, Chiba, Japan. To appear."
   ]
  },
  {
   "cell_type": "code",
   "execution_count": 1,
   "metadata": {},
   "outputs": [
    {
     "name": "stderr",
     "output_type": "stream",
     "text": [
      "b'Skipping line 6452: expected 8 fields, saw 9\\nSkipping line 43667: expected 8 fields, saw 10\\nSkipping line 51751: expected 8 fields, saw 9\\n'\n",
      "b'Skipping line 92038: expected 8 fields, saw 9\\nSkipping line 104319: expected 8 fields, saw 9\\nSkipping line 121768: expected 8 fields, saw 9\\n'\n",
      "b'Skipping line 144058: expected 8 fields, saw 9\\nSkipping line 150789: expected 8 fields, saw 9\\nSkipping line 157128: expected 8 fields, saw 9\\nSkipping line 180189: expected 8 fields, saw 9\\nSkipping line 185738: expected 8 fields, saw 9\\n'\n",
      "b'Skipping line 209388: expected 8 fields, saw 9\\nSkipping line 220626: expected 8 fields, saw 9\\nSkipping line 227933: expected 8 fields, saw 11\\nSkipping line 228957: expected 8 fields, saw 10\\nSkipping line 245933: expected 8 fields, saw 9\\nSkipping line 251296: expected 8 fields, saw 9\\nSkipping line 259941: expected 8 fields, saw 9\\nSkipping line 261529: expected 8 fields, saw 9\\n'\n",
      "/anaconda3/lib/python3.7/site-packages/IPython/core/interactiveshell.py:3049: DtypeWarning: Columns (3) have mixed types. Specify dtype option on import or set low_memory=False.\n",
      "  interactivity=interactivity, compiler=compiler, result=result)\n"
     ]
    }
   ],
   "source": [
    "# read in data\n",
    "\n",
    "import pandas as pd\n",
    "import numpy as np\n",
    "import matplotlib.pyplot as plt\n",
    "import seaborn as sns\n",
    "\n",
    "books_df = pd.read_csv('BX-Books.csv', sep=';', error_bad_lines=False, encoding=\"latin-1\")\n",
    "users_df = pd.read_csv('BX-Users.csv', sep=';', error_bad_lines=False, encoding=\"latin-1\")\n",
    "ratings_df = pd.read_csv('BX-Book-Ratings.csv', sep=';', error_bad_lines=False, encoding=\"latin-1\")"
   ]
  },
  {
   "cell_type": "code",
   "execution_count": 2,
   "metadata": {},
   "outputs": [
    {
     "data": {
      "text/html": [
       "<div>\n",
       "<style scoped>\n",
       "    .dataframe tbody tr th:only-of-type {\n",
       "        vertical-align: middle;\n",
       "    }\n",
       "\n",
       "    .dataframe tbody tr th {\n",
       "        vertical-align: top;\n",
       "    }\n",
       "\n",
       "    .dataframe thead th {\n",
       "        text-align: right;\n",
       "    }\n",
       "</style>\n",
       "<table border=\"1\" class=\"dataframe\">\n",
       "  <thead>\n",
       "    <tr style=\"text-align: right;\">\n",
       "      <th></th>\n",
       "      <th>User-ID</th>\n",
       "      <th>ISBN</th>\n",
       "      <th>Book-Rating</th>\n",
       "    </tr>\n",
       "  </thead>\n",
       "  <tbody>\n",
       "    <tr>\n",
       "      <th>0</th>\n",
       "      <td>276725</td>\n",
       "      <td>034545104X</td>\n",
       "      <td>0</td>\n",
       "    </tr>\n",
       "    <tr>\n",
       "      <th>1</th>\n",
       "      <td>276726</td>\n",
       "      <td>0155061224</td>\n",
       "      <td>5</td>\n",
       "    </tr>\n",
       "    <tr>\n",
       "      <th>2</th>\n",
       "      <td>276727</td>\n",
       "      <td>0446520802</td>\n",
       "      <td>0</td>\n",
       "    </tr>\n",
       "    <tr>\n",
       "      <th>3</th>\n",
       "      <td>276729</td>\n",
       "      <td>052165615X</td>\n",
       "      <td>3</td>\n",
       "    </tr>\n",
       "    <tr>\n",
       "      <th>4</th>\n",
       "      <td>276729</td>\n",
       "      <td>0521795028</td>\n",
       "      <td>6</td>\n",
       "    </tr>\n",
       "  </tbody>\n",
       "</table>\n",
       "</div>"
      ],
      "text/plain": [
       "   User-ID        ISBN  Book-Rating\n",
       "0   276725  034545104X            0\n",
       "1   276726  0155061224            5\n",
       "2   276727  0446520802            0\n",
       "3   276729  052165615X            3\n",
       "4   276729  0521795028            6"
      ]
     },
     "execution_count": 2,
     "metadata": {},
     "output_type": "execute_result"
    }
   ],
   "source": [
    "ratings_df.head()"
   ]
  },
  {
   "cell_type": "code",
   "execution_count": 3,
   "metadata": {},
   "outputs": [
    {
     "name": "stdout",
     "output_type": "stream",
     "text": [
      "(271360, 8)\n",
      "(278858, 3)\n",
      "(1149780, 3)\n"
     ]
    }
   ],
   "source": [
    "# check dataframe dimension\n",
    "print(books_df.shape) # 271360 books\n",
    "print(users_df.shape) # 278858, users\n",
    "print(ratings_df.shape) #1149780 ratings"
   ]
  },
  {
   "cell_type": "code",
   "execution_count": 4,
   "metadata": {},
   "outputs": [
    {
     "data": {
      "text/plain": [
       "<matplotlib.axes._subplots.AxesSubplot at 0x1a217d6978>"
      ]
     },
     "execution_count": 4,
     "metadata": {},
     "output_type": "execute_result"
    },
    {
     "data": {
      "image/png": "[encoded data removed]",
      "text/plain": [
       "<Figure size 432x288 with 1 Axes>"
      ]
     },
     "metadata": {
      "needs_background": "light"
     },
     "output_type": "display_data"
    }
   ],
   "source": [
    "# check missing values\n",
    "sns.heatmap(books_df.isnull(), cbar=False)"
   ]
  },
  {
   "cell_type": "code",
   "execution_count": 5,
   "metadata": {},
   "outputs": [
    {
     "data": {
      "text/plain": [
       "<matplotlib.axes._subplots.AxesSubplot at 0x1a21cb7438>"
      ]
     },
     "execution_count": 5,
     "metadata": {},
     "output_type": "execute_result"
    },
    {
     "data": {
      "image/png": "[encoded data removed]",
      "text/plain": [
       "<Figure size 432x288 with 1 Axes>"
      ]
     },
     "metadata": {
      "needs_background": "light"
     },
     "output_type": "display_data"
    }
   ],
   "source": [
    "sns.heatmap(users_df.isnull(), cbar=False) # There are many missing values in the Age feature"
   ]
  },
  {
   "cell_type": "code",
   "execution_count": 6,
   "metadata": {},
   "outputs": [
    {
     "data": {
      "text/plain": [
       "<matplotlib.axes._subplots.AxesSubplot at 0x1a22f2b940>"
      ]
     },
     "execution_count": 6,
     "metadata": {},
     "output_type": "execute_result"
    },
    {
     "data": {
      "image/png": "[encoded data removed]",
      "text/plain": [
       "<Figure size 432x288 with 1 Axes>"
      ]
     },
     "metadata": {
      "needs_background": "light"
     },
     "output_type": "display_data"
    }
   ],
   "source": [
    "sns.heatmap(ratings_df.isnull(), cbar=False) "
   ]
  },
  {
   "cell_type": "code",
   "execution_count": 7,
   "metadata": {
    "scrolled": true
   },
   "outputs": [
    {
     "name": "stdout",
     "output_type": "stream",
     "text": [
      "Misiing values in books_df \n",
      "\n",
      "ISBN                   0\n",
      "Book-Title             0\n",
      "Book-Author            1\n",
      "Year-Of-Publication    0\n",
      "Publisher              2\n",
      "Image-URL-S            0\n",
      "Image-URL-M            0\n",
      "Image-URL-L            3\n",
      "dtype: int64\n",
      "\n",
      "\n",
      "Misiing values in users_df \n",
      "\n",
      "User-ID          0\n",
      "Location         0\n",
      "Age         110762\n",
      "dtype: int64\n",
      "\n",
      "\n",
      "Misiing values in ratings_df \n",
      "\n",
      "User-ID        0\n",
      "ISBN           0\n",
      "Book-Rating    0\n",
      "dtype: int64\n"
     ]
    }
   ],
   "source": [
    "# print out sum of missing values\n",
    "\n",
    "print(\"Misiing values in books_df \\n\")\n",
    "print(books_df.isnull().sum())\n",
    "print(\"\\n\")\n",
    "print(\"Misiing values in users_df \\n\")\n",
    "print(users_df.isnull().sum())\n",
    "print(\"\\n\")\n",
    "print(\"Misiing values in ratings_df \\n\")\n",
    "print(ratings_df.isnull().sum())\n",
    "\n",
    "# Age feature has many missing values, what the features we care about the most (i.e book ratings, book titles, user ID)\n",
    "# are okay (good news!)"
   ]
  },
  {
   "cell_type": "code",
   "execution_count": 8,
   "metadata": {},
   "outputs": [],
   "source": [
    "# select interested columns for books_df\n",
    "books_df = books_df.iloc[:,0:5]"
   ]
  },
  {
   "cell_type": "code",
   "execution_count": 9,
   "metadata": {},
   "outputs": [],
   "source": [
    "# merge datasets\n",
    "\n",
    "merged_df = ratings_df.merge(users_df, left_on = 'User-ID', right_on = 'User-ID', how = 'left')\n",
    "merged_df = merged_df.merge(books_df, left_on = 'ISBN', right_on = 'ISBN', how = 'left')"
   ]
  },
  {
   "cell_type": "code",
   "execution_count": 10,
   "metadata": {},
   "outputs": [
    {
     "data": {
      "text/html": [
       "<div>\n",
       "<style scoped>\n",
       "    .dataframe tbody tr th:only-of-type {\n",
       "        vertical-align: middle;\n",
       "    }\n",
       "\n",
       "    .dataframe tbody tr th {\n",
       "        vertical-align: top;\n",
       "    }\n",
       "\n",
       "    .dataframe thead th {\n",
       "        text-align: right;\n",
       "    }\n",
       "</style>\n",
       "<table border=\"1\" class=\"dataframe\">\n",
       "  <thead>\n",
       "    <tr style=\"text-align: right;\">\n",
       "      <th></th>\n",
       "      <th>ISBN</th>\n",
       "    </tr>\n",
       "    <tr>\n",
       "      <th>Book-Rating</th>\n",
       "      <th></th>\n",
       "    </tr>\n",
       "  </thead>\n",
       "  <tbody>\n",
       "    <tr>\n",
       "      <th>10</th>\n",
       "      <td>78610</td>\n",
       "    </tr>\n",
       "    <tr>\n",
       "      <th>9</th>\n",
       "      <td>67541</td>\n",
       "    </tr>\n",
       "    <tr>\n",
       "      <th>8</th>\n",
       "      <td>103736</td>\n",
       "    </tr>\n",
       "    <tr>\n",
       "      <th>7</th>\n",
       "      <td>76457</td>\n",
       "    </tr>\n",
       "    <tr>\n",
       "      <th>6</th>\n",
       "      <td>36924</td>\n",
       "    </tr>\n",
       "    <tr>\n",
       "      <th>5</th>\n",
       "      <td>50974</td>\n",
       "    </tr>\n",
       "    <tr>\n",
       "      <th>4</th>\n",
       "      <td>8904</td>\n",
       "    </tr>\n",
       "    <tr>\n",
       "      <th>3</th>\n",
       "      <td>5996</td>\n",
       "    </tr>\n",
       "    <tr>\n",
       "      <th>2</th>\n",
       "      <td>2759</td>\n",
       "    </tr>\n",
       "    <tr>\n",
       "      <th>1</th>\n",
       "      <td>1770</td>\n",
       "    </tr>\n",
       "    <tr>\n",
       "      <th>0</th>\n",
       "      <td>716109</td>\n",
       "    </tr>\n",
       "  </tbody>\n",
       "</table>\n",
       "</div>"
      ],
      "text/plain": [
       "               ISBN\n",
       "Book-Rating        \n",
       "10            78610\n",
       "9             67541\n",
       "8            103736\n",
       "7             76457\n",
       "6             36924\n",
       "5             50974\n",
       "4              8904\n",
       "3              5996\n",
       "2              2759\n",
       "1              1770\n",
       "0            716109"
      ]
     },
     "execution_count": 10,
     "metadata": {},
     "output_type": "execute_result"
    }
   ],
   "source": [
    "# After merging dataframes, it is found that there are many 0 values in the Book-Rating column. \n",
    "# The original ratings are on 1-10 scale, while 0 means users didn't give ratings. We will check \n",
    "# how many non-ratings are there\n",
    "\n",
    "ratings_counts = pd.DataFrame(merged_df.groupby('Book-Rating')['ISBN'].count())\n",
    "ratings_counts.sort_values('Book-Rating', ascending=False) \n",
    "\n",
    "# It shows that 62% of the books are not given single rating by any users. While there are several techniques that \n",
    "# we can use to tackle data sparsity, in this project we will drop rows whose ratings are missing \n"
   ]
  },
  {
   "cell_type": "code",
   "execution_count": 11,
   "metadata": {},
   "outputs": [
    {
     "data": {
      "text/html": [
       "<div>\n",
       "<style scoped>\n",
       "    .dataframe tbody tr th:only-of-type {\n",
       "        vertical-align: middle;\n",
       "    }\n",
       "\n",
       "    .dataframe tbody tr th {\n",
       "        vertical-align: top;\n",
       "    }\n",
       "\n",
       "    .dataframe thead th {\n",
       "        text-align: right;\n",
       "    }\n",
       "</style>\n",
       "<table border=\"1\" class=\"dataframe\">\n",
       "  <thead>\n",
       "    <tr style=\"text-align: right;\">\n",
       "      <th></th>\n",
       "      <th>ISBN</th>\n",
       "    </tr>\n",
       "    <tr>\n",
       "      <th>Book-Rating</th>\n",
       "      <th></th>\n",
       "    </tr>\n",
       "  </thead>\n",
       "  <tbody>\n",
       "    <tr>\n",
       "      <th>10</th>\n",
       "      <td>78610</td>\n",
       "    </tr>\n",
       "    <tr>\n",
       "      <th>9</th>\n",
       "      <td>67541</td>\n",
       "    </tr>\n",
       "    <tr>\n",
       "      <th>8</th>\n",
       "      <td>103736</td>\n",
       "    </tr>\n",
       "    <tr>\n",
       "      <th>7</th>\n",
       "      <td>76457</td>\n",
       "    </tr>\n",
       "    <tr>\n",
       "      <th>6</th>\n",
       "      <td>36924</td>\n",
       "    </tr>\n",
       "    <tr>\n",
       "      <th>5</th>\n",
       "      <td>50974</td>\n",
       "    </tr>\n",
       "    <tr>\n",
       "      <th>4</th>\n",
       "      <td>8904</td>\n",
       "    </tr>\n",
       "    <tr>\n",
       "      <th>3</th>\n",
       "      <td>5996</td>\n",
       "    </tr>\n",
       "    <tr>\n",
       "      <th>2</th>\n",
       "      <td>2759</td>\n",
       "    </tr>\n",
       "    <tr>\n",
       "      <th>1</th>\n",
       "      <td>1770</td>\n",
       "    </tr>\n",
       "  </tbody>\n",
       "</table>\n",
       "</div>"
      ],
      "text/plain": [
       "               ISBN\n",
       "Book-Rating        \n",
       "10            78610\n",
       "9             67541\n",
       "8            103736\n",
       "7             76457\n",
       "6             36924\n",
       "5             50974\n",
       "4              8904\n",
       "3              5996\n",
       "2              2759\n",
       "1              1770"
      ]
     },
     "execution_count": 11,
     "metadata": {},
     "output_type": "execute_result"
    }
   ],
   "source": [
    "# keep rows that have ratings data\n",
    "\n",
    "cmplt_df = merged_df[merged_df['Book-Rating'] != 0]\n",
    "\n",
    "# check again \n",
    "\n",
    "t_df = pd.DataFrame(cmplt_df.groupby('Book-Rating')['ISBN'].count())\n",
    "t_df.sort_values('Book-Rating', ascending=False) \n",
    "\n",
    "# len(cmplt_df['User-ID'].unique()) # there are 77805 unique users who have given ratings"
   ]
  },
  {
   "cell_type": "code",
   "execution_count": 12,
   "metadata": {},
   "outputs": [],
   "source": [
    "# get rating count for each book\n",
    "\n",
    "rating_count = pd.DataFrame(cmplt_df[['User-ID', 'ISBN', 'Book-Title']].groupby(['ISBN', 'Book-Title']).agg(['count']))\n",
    "rating_count.reset_index(inplace=True)\n",
    "rating_count.columns = ['ISBN', 'Book-Title', 'Rating-Count']\n",
    "rating_count.sort_values('Rating-Count', ascending = False, inplace = True)\n"
   ]
  },
  {
   "cell_type": "code",
   "execution_count": 13,
   "metadata": {
    "scrolled": true
   },
   "outputs": [],
   "source": [
    "# to make the user ratings as unbiased as possible, we will remove the book whose rating count is fewer than 50\n",
    "\n",
    "rating_count = rating_count[rating_count['Rating-Count'] >= 50]\n",
    "# note: this give us 531 unique books in return; therefore, this is the trade-off between fair ratings & data volumn "
   ]
  },
  {
   "cell_type": "code",
   "execution_count": 14,
   "metadata": {
    "scrolled": true
   },
   "outputs": [],
   "source": [
    "# get average rating for each book\n",
    "\n",
    "avg_rating = pd.DataFrame(cmplt_df[['Book-Rating', 'ISBN', 'Book-Title']].groupby(['ISBN', 'Book-Title']).agg(['mean']))\n",
    "avg_rating.reset_index(inplace=True)\n",
    "avg_rating.columns = ['ISBN', 'Book-Title', 'Average-Rating']\n",
    "avg_rating.sort_values('Average-Rating', ascending = False, inplace = True)\n",
    "\n",
    "# merge average book rating and rating count\n",
    "\n",
    "book_rating_df = pd.merge(rating_count, avg_rating, on= ['ISBN', 'Book-Title'])\n",
    "# book_rating_df.to_csv(\"average_book_rating.csv\") # save average rating for each book as .csv"
   ]
  },
  {
   "cell_type": "code",
   "execution_count": 15,
   "metadata": {
    "scrolled": true
   },
   "outputs": [
    {
     "data": {
      "text/html": [
       "<div>\n",
       "<style scoped>\n",
       "    .dataframe tbody tr th:only-of-type {\n",
       "        vertical-align: middle;\n",
       "    }\n",
       "\n",
       "    .dataframe tbody tr th {\n",
       "        vertical-align: top;\n",
       "    }\n",
       "\n",
       "    .dataframe thead th {\n",
       "        text-align: right;\n",
       "    }\n",
       "</style>\n",
       "<table border=\"1\" class=\"dataframe\">\n",
       "  <thead>\n",
       "    <tr style=\"text-align: right;\">\n",
       "      <th></th>\n",
       "      <th>ISBN</th>\n",
       "      <th>Book-Title</th>\n",
       "      <th>Rating-Count</th>\n",
       "      <th>Average-Rating</th>\n",
       "    </tr>\n",
       "  </thead>\n",
       "  <tbody>\n",
       "    <tr>\n",
       "      <th>0</th>\n",
       "      <td>0316666343</td>\n",
       "      <td>The Lovely Bones: A Novel</td>\n",
       "      <td>707</td>\n",
       "      <td>8.185290</td>\n",
       "    </tr>\n",
       "    <tr>\n",
       "      <th>1</th>\n",
       "      <td>0971880107</td>\n",
       "      <td>Wild Animus</td>\n",
       "      <td>581</td>\n",
       "      <td>4.390706</td>\n",
       "    </tr>\n",
       "    <tr>\n",
       "      <th>2</th>\n",
       "      <td>0385504209</td>\n",
       "      <td>The Da Vinci Code</td>\n",
       "      <td>487</td>\n",
       "      <td>8.435318</td>\n",
       "    </tr>\n",
       "    <tr>\n",
       "      <th>3</th>\n",
       "      <td>0312195516</td>\n",
       "      <td>The Red Tent (Bestselling Backlist)</td>\n",
       "      <td>383</td>\n",
       "      <td>8.182768</td>\n",
       "    </tr>\n",
       "    <tr>\n",
       "      <th>4</th>\n",
       "      <td>0060928336</td>\n",
       "      <td>Divine Secrets of the Ya-Ya Sisterhood: A Novel</td>\n",
       "      <td>320</td>\n",
       "      <td>7.887500</td>\n",
       "    </tr>\n",
       "    <tr>\n",
       "      <th>5</th>\n",
       "      <td>059035342X</td>\n",
       "      <td>Harry Potter and the Sorcerer's Stone (Harry P...</td>\n",
       "      <td>313</td>\n",
       "      <td>8.939297</td>\n",
       "    </tr>\n",
       "    <tr>\n",
       "      <th>6</th>\n",
       "      <td>0142001740</td>\n",
       "      <td>The Secret Life of Bees</td>\n",
       "      <td>307</td>\n",
       "      <td>8.452769</td>\n",
       "    </tr>\n",
       "    <tr>\n",
       "      <th>7</th>\n",
       "      <td>0446672211</td>\n",
       "      <td>Where the Heart Is (Oprah's Book Club (Paperba...</td>\n",
       "      <td>295</td>\n",
       "      <td>8.142373</td>\n",
       "    </tr>\n",
       "    <tr>\n",
       "      <th>8</th>\n",
       "      <td>044023722X</td>\n",
       "      <td>A Painted House</td>\n",
       "      <td>281</td>\n",
       "      <td>7.338078</td>\n",
       "    </tr>\n",
       "    <tr>\n",
       "      <th>9</th>\n",
       "      <td>0452282152</td>\n",
       "      <td>Girl with a Pearl Earring</td>\n",
       "      <td>278</td>\n",
       "      <td>7.982014</td>\n",
       "    </tr>\n",
       "    <tr>\n",
       "      <th>10</th>\n",
       "      <td>0316601950</td>\n",
       "      <td>The Pilot's Wife : A Novel</td>\n",
       "      <td>272</td>\n",
       "      <td>7.503676</td>\n",
       "    </tr>\n",
       "    <tr>\n",
       "      <th>11</th>\n",
       "      <td>0671027360</td>\n",
       "      <td>Angels &amp;amp; Demons</td>\n",
       "      <td>269</td>\n",
       "      <td>8.100372</td>\n",
       "    </tr>\n",
       "    <tr>\n",
       "      <th>12</th>\n",
       "      <td>067976402X</td>\n",
       "      <td>Snow Falling on Cedars</td>\n",
       "      <td>256</td>\n",
       "      <td>7.808594</td>\n",
       "    </tr>\n",
       "    <tr>\n",
       "      <th>13</th>\n",
       "      <td>0316769487</td>\n",
       "      <td>The Catcher in the Rye</td>\n",
       "      <td>243</td>\n",
       "      <td>7.687243</td>\n",
       "    </tr>\n",
       "    <tr>\n",
       "      <th>14</th>\n",
       "      <td>0786868716</td>\n",
       "      <td>The Five People You Meet in Heaven</td>\n",
       "      <td>242</td>\n",
       "      <td>8.016529</td>\n",
       "    </tr>\n",
       "    <tr>\n",
       "      <th>15</th>\n",
       "      <td>0743418174</td>\n",
       "      <td>Good in Bed</td>\n",
       "      <td>236</td>\n",
       "      <td>8.046610</td>\n",
       "    </tr>\n",
       "    <tr>\n",
       "      <th>16</th>\n",
       "      <td>0345337662</td>\n",
       "      <td>Interview with the Vampire</td>\n",
       "      <td>230</td>\n",
       "      <td>7.778261</td>\n",
       "    </tr>\n",
       "    <tr>\n",
       "      <th>17</th>\n",
       "      <td>0375727345</td>\n",
       "      <td>House of Sand and Fog</td>\n",
       "      <td>229</td>\n",
       "      <td>7.327511</td>\n",
       "    </tr>\n",
       "    <tr>\n",
       "      <th>18</th>\n",
       "      <td>0312278586</td>\n",
       "      <td>The Nanny Diaries: A Novel</td>\n",
       "      <td>226</td>\n",
       "      <td>7.544248</td>\n",
       "    </tr>\n",
       "    <tr>\n",
       "      <th>19</th>\n",
       "      <td>0156027321</td>\n",
       "      <td>Life of Pi</td>\n",
       "      <td>226</td>\n",
       "      <td>8.030973</td>\n",
       "    </tr>\n",
       "  </tbody>\n",
       "</table>\n",
       "</div>"
      ],
      "text/plain": [
       "          ISBN                                         Book-Title  \\\n",
       "0   0316666343                          The Lovely Bones: A Novel   \n",
       "1   0971880107                                        Wild Animus   \n",
       "2   0385504209                                  The Da Vinci Code   \n",
       "3   0312195516                The Red Tent (Bestselling Backlist)   \n",
       "4   0060928336    Divine Secrets of the Ya-Ya Sisterhood: A Novel   \n",
       "5   059035342X  Harry Potter and the Sorcerer's Stone (Harry P...   \n",
       "6   0142001740                            The Secret Life of Bees   \n",
       "7   0446672211  Where the Heart Is (Oprah's Book Club (Paperba...   \n",
       "8   044023722X                                    A Painted House   \n",
       "9   0452282152                          Girl with a Pearl Earring   \n",
       "10  0316601950                         The Pilot's Wife : A Novel   \n",
       "11  0671027360                                Angels &amp; Demons   \n",
       "12  067976402X                             Snow Falling on Cedars   \n",
       "13  0316769487                             The Catcher in the Rye   \n",
       "14  0786868716                 The Five People You Meet in Heaven   \n",
       "15  0743418174                                        Good in Bed   \n",
       "16  0345337662                         Interview with the Vampire   \n",
       "17  0375727345                              House of Sand and Fog   \n",
       "18  0312278586                         The Nanny Diaries: A Novel   \n",
       "19  0156027321                                         Life of Pi   \n",
       "\n",
       "    Rating-Count  Average-Rating  \n",
       "0            707        8.185290  \n",
       "1            581        4.390706  \n",
       "2            487        8.435318  \n",
       "3            383        8.182768  \n",
       "4            320        7.887500  \n",
       "5            313        8.939297  \n",
       "6            307        8.452769  \n",
       "7            295        8.142373  \n",
       "8            281        7.338078  \n",
       "9            278        7.982014  \n",
       "10           272        7.503676  \n",
       "11           269        8.100372  \n",
       "12           256        7.808594  \n",
       "13           243        7.687243  \n",
       "14           242        8.016529  \n",
       "15           236        8.046610  \n",
       "16           230        7.778261  \n",
       "17           229        7.327511  \n",
       "18           226        7.544248  \n",
       "19           226        8.030973  "
      ]
     },
     "execution_count": 15,
     "metadata": {},
     "output_type": "execute_result"
    }
   ],
   "source": [
    "book_rating_df.head(20)"
   ]
  },
  {
   "cell_type": "code",
   "execution_count": 16,
   "metadata": {},
   "outputs": [],
   "source": [
    "# initiate a new dataframe for item-based recommendation\n",
    "\n",
    "item_df = pd.DataFrame(cmplt_df[['User-ID', 'ISBN', 'Book-Title', 'Book-Rating']])\n",
    "item_df = item_df.dropna(subset=['Book-Title'])\n",
    "\n",
    "# filter users and books that have > 50 ratings using the book_rating_df we built previously\n",
    "\n",
    "ISBN_over_50_ratings = book_rating_df.ISBN\n",
    "item_df = item_df[item_df['ISBN'].isin(ISBN_over_50_ratings)] \n",
    "# this item_df will serve as the major dataframe for the recommendaton system "
   ]
  },
  {
   "cell_type": "code",
   "execution_count": 17,
   "metadata": {},
   "outputs": [],
   "source": [
    "# method 1: use Pearson correlation to define item similarity \n",
    "\n",
    "def rec_sys_corr(df, book, n_recommendation):\n",
    "    \"\"\"\n",
    "    this function takes the following parameters and gives a designated number of book recommendation (pandas series) based on \n",
    "    Pearson correlation coefficient between book ratings by the users\n",
    "    \n",
    "    df(dataframe):the pre-processed dataframe item_df \n",
    "    book(string): book that we want to get recommendaton for\n",
    "    n_recommendation(integer): number of recommendation we want to get for the book of interest\n",
    "    \n",
    "    \"\"\"\n",
    "    pivot_table = pd.pivot_table(df, index='User-ID', columns=['Book-Title'], values='Book-Rating').fillna(0)\n",
    "    pivot_table = pd.DataFrame(pivot_table.corrwith(pivot_table[book]))\n",
    "    pivot_table.reset_index(level=0, inplace=True)\n",
    "    pivot_table.columns = [\"Book-Title\", \"Correlaiton\"]\n",
    "    rec_books = pivot_table.sort_values(by=\"Correlaiton\", ascending=False)\n",
    "    global book_list_corr\n",
    "    book_list_corr = rec_books['Book-Title'][1:n_recommendation+1].reset_index(drop=True)\n",
    "  \n"
   ]
  },
  {
   "cell_type": "code",
   "execution_count": 22,
   "metadata": {
    "scrolled": true
   },
   "outputs": [],
   "source": [
    "# method 2: use cosine similarity to define item similarity \n",
    "\n",
    "def rec_sys_cosine(df, book, n_recommendation):\n",
    "    \"\"\"\n",
    "    this function takes the following parameters and gives a designated number of book recommendation (pandas series) based on \n",
    "    cosine similarity between book rating vectors\n",
    "    \n",
    "    df(dataframe):the pre-processed dataframe item_df \n",
    "    book(string): book that we want to get recommendaton for\n",
    "    n_recommendation(integer): number of recommendation we want to get for the book of interest\n",
    "    \n",
    "    \"\"\"\n",
    "    import sklearn.metrics.pairwise as pw\n",
    "    from scipy import sparse\n",
    "    pivot_table = pd.pivot_table(df, index='Book-Title', columns=['User-ID'], values='Book-Rating').fillna(0)  \n",
    "    matrix = sparse.csr_matrix(pivot_table.fillna(0))\n",
    "    matrix_cosine = pw.cosine_similarity(matrix)\n",
    "    df_cosine = pd.DataFrame(matrix_cosine, columns=pivot_table.index, index=pivot_table.index)\n",
    "    ## Item Rating Based Cosine Similarity\n",
    "    rec_books = pd.DataFrame(df_cosine[book].sort_values(ascending=False))\n",
    "    rec_books.reset_index(level=0, inplace=True)\n",
    "    rec_books.columns = ['Book-Title','Cosine-Similarity']\n",
    "    global book_list_cosine \n",
    "    book_list_cosine = rec_books[\"Book-Title\"][1:n_recommendation+1].reset_index(drop=True)\n",
    "    \n"
   ]
  },
  {
   "cell_type": "code",
   "execution_count": 23,
   "metadata": {},
   "outputs": [],
   "source": [
    "# method 3: use matrix factorization to define item similarity \n",
    "\n",
    "def rec_sys_mf(df, book, n_recommendation):\n",
    "    \"\"\"\n",
    "    this function takes the following parameters and gives a designated number of book recommendation (pandas series) \n",
    "    using matrix factorization to determine the rating similarity between different books \n",
    "    \n",
    "    \n",
    "    df(dataframe):the pre-processed dataframe item_df \n",
    "    book(string): book that we want to get recommendaton for\n",
    "    n_recommendation(integer): number of recommendation we want to get for the book of interest\n",
    "    \n",
    "    \"\"\"\n",
    "    from sklearn.decomposition import TruncatedSVD\n",
    "    pivot_table = pd.pivot_table(df, index='User-ID', columns=['Book-Title'], values='Book-Rating').fillna(0)  \n",
    "    pivot_table_T = pivot_table.T\n",
    "    SVD_model = TruncatedSVD(n_components = 25, random_state = 135)\n",
    "    SVD_matrix = SVD_model.fit_transform(pivot_table_T)\n",
    "    mf_corr = np.corrcoef(SVD_matrix)\n",
    "    book_title_list= list(pivot_table.columns)\n",
    "    book_index = book_title_list.index(book)\n",
    "    result_corr = mf_corr[book_index]\n",
    "    result_corr_df = pd.DataFrame({\"Book-Title\":pivot_table.columns, \"PearsonR\":result_corr})\n",
    "    rec_books = result_corr_df.sort_values('PearsonR', ascending=False)\n",
    "    global book_list_mf \n",
    "    book_list_mf = rec_books['Book-Title'][1:n_recommendation+1].reset_index(drop=True)\n",
    "\n"
   ]
  },
  {
   "cell_type": "code",
   "execution_count": 24,
   "metadata": {},
   "outputs": [
    {
     "data": {
      "text/html": [
       "<div>\n",
       "<style scoped>\n",
       "    .dataframe tbody tr th:only-of-type {\n",
       "        vertical-align: middle;\n",
       "    }\n",
       "\n",
       "    .dataframe tbody tr th {\n",
       "        vertical-align: top;\n",
       "    }\n",
       "\n",
       "    .dataframe thead th {\n",
       "        text-align: right;\n",
       "    }\n",
       "</style>\n",
       "<table border=\"1\" class=\"dataframe\">\n",
       "  <thead>\n",
       "    <tr style=\"text-align: right;\">\n",
       "      <th></th>\n",
       "      <th>BookList1</th>\n",
       "      <th>BookList2</th>\n",
       "      <th>BookList3</th>\n",
       "    </tr>\n",
       "  </thead>\n",
       "  <tbody>\n",
       "    <tr>\n",
       "      <th>0</th>\n",
       "      <td>The Lost World</td>\n",
       "      <td>The Lost World</td>\n",
       "      <td>Rising Sun</td>\n",
       "    </tr>\n",
       "    <tr>\n",
       "      <th>1</th>\n",
       "      <td>Silence of the Lambs</td>\n",
       "      <td>Silence of the Lambs</td>\n",
       "      <td>Sphere</td>\n",
       "    </tr>\n",
       "    <tr>\n",
       "      <th>2</th>\n",
       "      <td>Rising Sun</td>\n",
       "      <td>Rising Sun</td>\n",
       "      <td>Silence of the Lambs</td>\n",
       "    </tr>\n",
       "    <tr>\n",
       "      <th>3</th>\n",
       "      <td>Sphere</td>\n",
       "      <td>Sphere</td>\n",
       "      <td>The Lost World</td>\n",
       "    </tr>\n",
       "    <tr>\n",
       "      <th>4</th>\n",
       "      <td>Red Dragon</td>\n",
       "      <td>Red Dragon</td>\n",
       "      <td>Airframe</td>\n",
       "    </tr>\n",
       "    <tr>\n",
       "      <th>5</th>\n",
       "      <td>Congo</td>\n",
       "      <td>Congo</td>\n",
       "      <td>The Mummy or Ramses the Damned</td>\n",
       "    </tr>\n",
       "    <tr>\n",
       "      <th>6</th>\n",
       "      <td>Disclosure</td>\n",
       "      <td>Disclosure</td>\n",
       "      <td>Contact</td>\n",
       "    </tr>\n",
       "    <tr>\n",
       "      <th>7</th>\n",
       "      <td>The Hot Zone</td>\n",
       "      <td>Hannibal</td>\n",
       "      <td>Black Notice</td>\n",
       "    </tr>\n",
       "    <tr>\n",
       "      <th>8</th>\n",
       "      <td>Airframe</td>\n",
       "      <td>The Hot Zone</td>\n",
       "      <td>The Gunslinger (The Dark Tower, Book 1)</td>\n",
       "    </tr>\n",
       "    <tr>\n",
       "      <th>9</th>\n",
       "      <td>Postmortem</td>\n",
       "      <td>Airframe</td>\n",
       "      <td>Hannibal</td>\n",
       "    </tr>\n",
       "  </tbody>\n",
       "</table>\n",
       "</div>"
      ],
      "text/plain": [
       "              BookList1             BookList2  \\\n",
       "0        The Lost World        The Lost World   \n",
       "1  Silence of the Lambs  Silence of the Lambs   \n",
       "2            Rising Sun            Rising Sun   \n",
       "3                Sphere                Sphere   \n",
       "4            Red Dragon            Red Dragon   \n",
       "5                 Congo                 Congo   \n",
       "6            Disclosure            Disclosure   \n",
       "7          The Hot Zone              Hannibal   \n",
       "8              Airframe          The Hot Zone   \n",
       "9            Postmortem              Airframe   \n",
       "\n",
       "                                 BookList3  \n",
       "0                               Rising Sun  \n",
       "1                                   Sphere  \n",
       "2                     Silence of the Lambs  \n",
       "3                           The Lost World  \n",
       "4                                 Airframe  \n",
       "5           The Mummy or Ramses the Damned  \n",
       "6                                  Contact  \n",
       "7                             Black Notice  \n",
       "8  The Gunslinger (The Dark Tower, Book 1)  \n",
       "9                                 Hannibal  "
      ]
     },
     "metadata": {},
     "output_type": "display_data"
    }
   ],
   "source": [
    "# put it together. create a function that combine 3 book recommendation lists together\n",
    "\n",
    "def get_book_rec(book, n_recommendation):\n",
    "    df = item_df\n",
    "    rec_sys_corr(df, book, n_recommendation)\n",
    "    rec_sys_cosine(df, book, n_recommendation)\n",
    "    rec_sys_mf(df, book, n_recommendation)\n",
    "    recommended_book_lists = pd.DataFrame({\"BookList1\":book_list_corr, \n",
    "                                           \"BookList2\":book_list_cosine, \n",
    "                                           \"BookList3\":book_list_mf\n",
    "                                          })\n",
    "            \n",
    "    display(recommended_book_lists)\n",
    "    \n",
    "    \n",
    "get_book_rec(\"Jurassic Park\", 10)    \n",
    " \n",
    "# initial test with the book Jurassic Park shows that the recommendatons given by method 1 and 2 (pearson correlaton & cosine similarity)\n",
    "# is pretty similar. Recommendation given by matrix factorization seems to yield similar books but in a different order. "
   ]
  },
  {
   "cell_type": "code",
   "execution_count": 53,
   "metadata": {},
   "outputs": [
    {
     "name": "stdout",
     "output_type": "stream",
     "text": [
      "['The Lost World', 'Silence of the Lambs', 'Rising Sun', 'Sphere', 'Airframe']\n"
     ]
    }
   ],
   "source": [
    "# Rewrite the main function to get an aggregate results and retrieve the top 5 recommendations. This is more like \n",
    "# a result based on a group votes to balance out any biases from single recommendation system\n",
    "\n",
    "\n",
    "def get_book_rec_agg(book):\n",
    "    import collections\n",
    "    from itertools import chain\n",
    "    df = item_df\n",
    "    rec_sys_corr(df, book, 10)\n",
    "    rec_sys_cosine(df, book, 10)\n",
    "    rec_sys_mf(df, book, 10)\n",
    "    recommended_book_list = [book_list_corr.values.tolist(), \n",
    "                             book_list_cosine.values.tolist(), \n",
    "                             book_list_mf.values.tolist()]\n",
    "    recommended_book_list = list(chain.from_iterable(recommended_book_list))\n",
    "    agg_book_list = collections.Counter(recommended_book_list)       \n",
    "    rec_list = [k for k,v in agg_book_list.most_common()][0:5]\n",
    "    \n",
    "    print(rec_list)\n",
    "    \n",
    "    \n",
    "# get_book_rec_agg(\"Jurassic Park\") \n",
    "# top 5 recommendations: ['The Lost World', 'Silence of the Lambs', 'Rising Sun', 'Sphere', 'Airframe']"
   ]
  },
  {
   "cell_type": "markdown",
   "metadata": {},
   "source": [
    "## End of Project"
   ]
  }
 ],
 "metadata": {
  "kernelspec": {
   "display_name": "Python 3",
   "language": "python",
   "name": "python3"
  },
  "language_info": {
   "codemirror_mode": {
    "name": "ipython",
    "version": 3
   },
   "file_extension": ".py",
   "mimetype": "text/x-python",
   "name": "python",
   "nbconvert_exporter": "python",
   "pygments_lexer": "ipython3",
   "version": "3.7.3"
  }
 },
 "nbformat": 4,
 "nbformat_minor": 2
}
